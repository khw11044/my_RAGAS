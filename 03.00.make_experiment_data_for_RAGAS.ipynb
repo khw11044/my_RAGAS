{
 "cells": [
  {
   "cell_type": "markdown",
   "metadata": {},
   "source": [
    "### 만든 실험 데이터셋 불러오기"
   ]
  },
  {
   "cell_type": "code",
   "execution_count": 1,
   "metadata": {},
   "outputs": [],
   "source": [
    "import pandas as pd "
   ]
  },
  {
   "cell_type": "code",
   "execution_count": 2,
   "metadata": {},
   "outputs": [],
   "source": [
    "def get_dataset(path):\n",
    "    # make_qa.py 파일로 만듬 : 질문과 응답 쌍을 만듬 , 어떤 문서가 관련이 있는지 \n",
    "    df = pd.read_parquet(path)\n",
    "\n",
    "    df['retrieval_gt'] = df['retrieval_gt'].apply(lambda x: x[0][0])\n",
    "    df['generation_gt'] = df['generation_gt'].apply(lambda x: x[0])\n",
    "    qa_data = df[['query', 'generation_gt']]\n",
    "    qa_data.columns = ['question', 'ground_truth']\n",
    "    \n",
    "    return qa_data"
   ]
  },
  {
   "cell_type": "markdown",
   "metadata": {},
   "source": [
    "### 1. QA 실험데이터셋 만들기"
   ]
  },
  {
   "cell_type": "code",
   "execution_count": 3,
   "metadata": {},
   "outputs": [
    {
     "data": {
      "text/html": [
       "<div>\n",
       "<style scoped>\n",
       "    .dataframe tbody tr th:only-of-type {\n",
       "        vertical-align: middle;\n",
       "    }\n",
       "\n",
       "    .dataframe tbody tr th {\n",
       "        vertical-align: top;\n",
       "    }\n",
       "\n",
       "    .dataframe thead th {\n",
       "        text-align: right;\n",
       "    }\n",
       "</style>\n",
       "<table border=\"1\" class=\"dataframe\">\n",
       "  <thead>\n",
       "    <tr style=\"text-align: right;\">\n",
       "      <th></th>\n",
       "      <th>question</th>\n",
       "      <th>ground_truth</th>\n",
       "    </tr>\n",
       "  </thead>\n",
       "  <tbody>\n",
       "    <tr>\n",
       "      <th>0</th>\n",
       "      <td>Flipkart는 언제 설립되었으며, 본사는 어디에 위치해 있나요?</td>\n",
       "      <td>Flipkart는 2007년에 설립되었으며, 본사는 벵갈루루에 위치해 있습니다.</td>\n",
       "    </tr>\n",
       "    <tr>\n",
       "      <th>1</th>\n",
       "      <td>인도 재무부의 Notification No. 09/2020-Customs (N.T....</td>\n",
       "      <td>2020년 2월 2일에 발표되었습니다.</td>\n",
       "    </tr>\n",
       "    <tr>\n",
       "      <th>2</th>\n",
       "      <td>카자흐스탄 내에서 한국 차량 브랜드의 시장 점유율은 얼마나 되나요?</td>\n",
       "      <td>카자흐스탄 내 신차 판매에서 한국 차량 브랜드 비중이 약 40%로 1위를 기록하고 ...</td>\n",
       "    </tr>\n",
       "    <tr>\n",
       "      <th>3</th>\n",
       "      <td>한전KPS가 파키스탄에서 운영 대금을 회수하지 못한 이유는 무엇인가요?</td>\n",
       "      <td>한전KPS는 파키스탄 중앙은행(SBP)이 외화 부족 상황을 이유로 운영 대금 해외송...</td>\n",
       "    </tr>\n",
       "    <tr>\n",
       "      <th>4</th>\n",
       "      <td>최근 인도의 수입규제 급증 배경은 무엇인가요?</td>\n",
       "      <td>최근 인도의 수입규제 급증은 인도의 국내 산업보호를 위한 정치적 요구와 당국의 통상...</td>\n",
       "    </tr>\n",
       "  </tbody>\n",
       "</table>\n",
       "</div>"
      ],
      "text/plain": [
       "                                            question  \\\n",
       "0              Flipkart는 언제 설립되었으며, 본사는 어디에 위치해 있나요?   \n",
       "1  인도 재무부의 Notification No. 09/2020-Customs (N.T....   \n",
       "2              카자흐스탄 내에서 한국 차량 브랜드의 시장 점유율은 얼마나 되나요?   \n",
       "3            한전KPS가 파키스탄에서 운영 대금을 회수하지 못한 이유는 무엇인가요?   \n",
       "4                          최근 인도의 수입규제 급증 배경은 무엇인가요?   \n",
       "\n",
       "                                        ground_truth  \n",
       "0       Flipkart는 2007년에 설립되었으며, 본사는 벵갈루루에 위치해 있습니다.  \n",
       "1                              2020년 2월 2일에 발표되었습니다.  \n",
       "2  카자흐스탄 내 신차 판매에서 한국 차량 브랜드 비중이 약 40%로 1위를 기록하고 ...  \n",
       "3  한전KPS는 파키스탄 중앙은행(SBP)이 외화 부족 상황을 이유로 운영 대금 해외송...  \n",
       "4  최근 인도의 수입규제 급증은 인도의 국내 산업보호를 위한 정치적 요구와 당국의 통상...  "
      ]
     },
     "execution_count": 3,
     "metadata": {},
     "output_type": "execute_result"
    }
   ],
   "source": [
    "\n",
    "path = './my_data/qa_india.parquet'\n",
    "\n",
    "df = get_dataset(path)\n",
    "df.head()"
   ]
  },
  {
   "cell_type": "code",
   "execution_count": 4,
   "metadata": {},
   "outputs": [],
   "source": [
    "df.to_excel('./experiment_dataset/qa_data_india.xlsx', index=False)"
   ]
  },
  {
   "cell_type": "markdown",
   "metadata": {},
   "source": [
    "### 2. Title 실험데이터셋 만들기"
   ]
  },
  {
   "cell_type": "code",
   "execution_count": 5,
   "metadata": {},
   "outputs": [
    {
     "data": {
      "text/html": [
       "<div>\n",
       "<style scoped>\n",
       "    .dataframe tbody tr th:only-of-type {\n",
       "        vertical-align: middle;\n",
       "    }\n",
       "\n",
       "    .dataframe tbody tr th {\n",
       "        vertical-align: top;\n",
       "    }\n",
       "\n",
       "    .dataframe thead th {\n",
       "        text-align: right;\n",
       "    }\n",
       "</style>\n",
       "<table border=\"1\" class=\"dataframe\">\n",
       "  <thead>\n",
       "    <tr style=\"text-align: right;\">\n",
       "      <th></th>\n",
       "      <th>question</th>\n",
       "      <th>ground_truth</th>\n",
       "    </tr>\n",
       "  </thead>\n",
       "  <tbody>\n",
       "    <tr>\n",
       "      <th>0</th>\n",
       "      <td>인도 소비 성향</td>\n",
       "      <td>인도 소비자들의 자연친화 제품 선호 경향 및 채식주의 특징</td>\n",
       "    </tr>\n",
       "    <tr>\n",
       "      <th>1</th>\n",
       "      <td>상표 등록 및 브랜드 인지도</td>\n",
       "      <td>상표 등록과 브랜드 인지도의 중요성</td>\n",
       "    </tr>\n",
       "    <tr>\n",
       "      <th>2</th>\n",
       "      <td>인도 프랜차이즈, 자동차 서비스, 글로벌 진출 전략</td>\n",
       "      <td>인도 자동차 서비스 프랜차이즈의 글로벌 진출 전략</td>\n",
       "    </tr>\n",
       "    <tr>\n",
       "      <th>3</th>\n",
       "      <td>인도 은행 계좌 개설</td>\n",
       "      <td>인도에서 은행 계좌 개설 방법 및 주요 은행 소개</td>\n",
       "    </tr>\n",
       "    <tr>\n",
       "      <th>4</th>\n",
       "      <td>인도 디지털 경제와 전자상거래 성장</td>\n",
       "      <td>인도 디지털 경제와 전자상거래 시장 성장 분석</td>\n",
       "    </tr>\n",
       "  </tbody>\n",
       "</table>\n",
       "</div>"
      ],
      "text/plain": [
       "                       question                      ground_truth\n",
       "0                      인도 소비 성향  인도 소비자들의 자연친화 제품 선호 경향 및 채식주의 특징\n",
       "1               상표 등록 및 브랜드 인지도               상표 등록과 브랜드 인지도의 중요성\n",
       "2  인도 프랜차이즈, 자동차 서비스, 글로벌 진출 전략       인도 자동차 서비스 프랜차이즈의 글로벌 진출 전략\n",
       "3                   인도 은행 계좌 개설       인도에서 은행 계좌 개설 방법 및 주요 은행 소개\n",
       "4           인도 디지털 경제와 전자상거래 성장         인도 디지털 경제와 전자상거래 시장 성장 분석"
      ]
     },
     "execution_count": 5,
     "metadata": {},
     "output_type": "execute_result"
    }
   ],
   "source": [
    "\n",
    "path = './my_data/my_title.parquet'\n",
    "\n",
    "df = get_dataset(path)\n",
    "df.head()"
   ]
  },
  {
   "cell_type": "code",
   "execution_count": 6,
   "metadata": {},
   "outputs": [],
   "source": [
    "df.to_excel('./experiment_dataset/title_data.xlsx', index=False)"
   ]
  },
  {
   "cell_type": "markdown",
   "metadata": {},
   "source": [
    "### 3. Post 실험데이터셋 만들기"
   ]
  },
  {
   "cell_type": "code",
   "execution_count": 7,
   "metadata": {},
   "outputs": [
    {
     "data": {
      "text/html": [
       "<div>\n",
       "<style scoped>\n",
       "    .dataframe tbody tr th:only-of-type {\n",
       "        vertical-align: middle;\n",
       "    }\n",
       "\n",
       "    .dataframe tbody tr th {\n",
       "        vertical-align: top;\n",
       "    }\n",
       "\n",
       "    .dataframe thead th {\n",
       "        text-align: right;\n",
       "    }\n",
       "</style>\n",
       "<table border=\"1\" class=\"dataframe\">\n",
       "  <thead>\n",
       "    <tr style=\"text-align: right;\">\n",
       "      <th></th>\n",
       "      <th>question</th>\n",
       "      <th>ground_truth</th>\n",
       "    </tr>\n",
       "  </thead>\n",
       "  <tbody>\n",
       "    <tr>\n",
       "      <th>0</th>\n",
       "      <td>인도 시장에서 자연친화 제품과 채식주의 트렌드의 중요성</td>\n",
       "      <td>### 인도 시장에서 자연친화 제품과 채식주의 트렌드의 중요성\\n\\n인도는 14억 ...</td>\n",
       "    </tr>\n",
       "    <tr>\n",
       "      <th>1</th>\n",
       "      <td>상표 등록의 중요성과 브랜드 인지도 향상 방법</td>\n",
       "      <td>### 1. 상표 등록의 중요성\\n상표 등록은 기업이 자사의 제품과 서비스를 보호하...</td>\n",
       "    </tr>\n",
       "    <tr>\n",
       "      <th>2</th>\n",
       "      <td>인증서 정지 및 취소 절차와 관련된 규정 이해하기</td>\n",
       "      <td>### 1. 인증서 정지 및 취소의 중요성\\n기업이 해외 시장에 진출할 때, 제품의...</td>\n",
       "    </tr>\n",
       "    <tr>\n",
       "      <th>3</th>\n",
       "      <td>제품 적합성 인증서와 불만 처리 절차</td>\n",
       "      <td>### 1. 제품 적합성 인증서의 중요성\\n제품 적합성 인증서는 제품이 특정 기준과...</td>\n",
       "    </tr>\n",
       "    <tr>\n",
       "      <th>4</th>\n",
       "      <td>인도 시장 진출을 위한 자동차 서비스 프랜차이즈 전략</td>\n",
       "      <td>### 인도 시장 진출을 위한 자동차 서비스 프랜차이즈 전략\\n\\n인도는 세계에서 ...</td>\n",
       "    </tr>\n",
       "  </tbody>\n",
       "</table>\n",
       "</div>"
      ],
      "text/plain": [
       "                         question  \\\n",
       "0  인도 시장에서 자연친화 제품과 채식주의 트렌드의 중요성   \n",
       "1       상표 등록의 중요성과 브랜드 인지도 향상 방법   \n",
       "2     인증서 정지 및 취소 절차와 관련된 규정 이해하기   \n",
       "3            제품 적합성 인증서와 불만 처리 절차   \n",
       "4   인도 시장 진출을 위한 자동차 서비스 프랜차이즈 전략   \n",
       "\n",
       "                                        ground_truth  \n",
       "0  ### 인도 시장에서 자연친화 제품과 채식주의 트렌드의 중요성\\n\\n인도는 14억 ...  \n",
       "1  ### 1. 상표 등록의 중요성\\n상표 등록은 기업이 자사의 제품과 서비스를 보호하...  \n",
       "2  ### 1. 인증서 정지 및 취소의 중요성\\n기업이 해외 시장에 진출할 때, 제품의...  \n",
       "3  ### 1. 제품 적합성 인증서의 중요성\\n제품 적합성 인증서는 제품이 특정 기준과...  \n",
       "4  ### 인도 시장 진출을 위한 자동차 서비스 프랜차이즈 전략\\n\\n인도는 세계에서 ...  "
      ]
     },
     "execution_count": 7,
     "metadata": {},
     "output_type": "execute_result"
    }
   ],
   "source": [
    "\n",
    "path = './my_data/my_post.parquet'\n",
    "\n",
    "df = get_dataset(path)\n",
    "df.head()"
   ]
  },
  {
   "cell_type": "code",
   "execution_count": 8,
   "metadata": {},
   "outputs": [],
   "source": [
    "df.to_excel('./experiment_dataset/post_data.xlsx', index=False)"
   ]
  },
  {
   "cell_type": "code",
   "execution_count": null,
   "metadata": {},
   "outputs": [],
   "source": []
  }
 ],
 "metadata": {
  "kernelspec": {
   "display_name": "AUTORAG",
   "language": "python",
   "name": "python3"
  },
  "language_info": {
   "codemirror_mode": {
    "name": "ipython",
    "version": 3
   },
   "file_extension": ".py",
   "mimetype": "text/x-python",
   "name": "python",
   "nbconvert_exporter": "python",
   "pygments_lexer": "ipython3",
   "version": "3.12.4"
  }
 },
 "nbformat": 4,
 "nbformat_minor": 2
}
