{
 "cells": [
  {
   "cell_type": "code",
   "execution_count": 1,
   "metadata": {},
   "outputs": [],
   "source": [
    "import pickle\n",
    "import pandas as pd "
   ]
  },
  {
   "cell_type": "code",
   "execution_count": 2,
   "metadata": {},
   "outputs": [],
   "source": [
    "data = pd.read_pickle('my_data/all_docs.pkl')"
   ]
  },
  {
   "cell_type": "code",
   "execution_count": 4,
   "metadata": {},
   "outputs": [
    {
     "data": {
      "text/html": [
       "<div>\n",
       "<style scoped>\n",
       "    .dataframe tbody tr th:only-of-type {\n",
       "        vertical-align: middle;\n",
       "    }\n",
       "\n",
       "    .dataframe tbody tr th {\n",
       "        vertical-align: top;\n",
       "    }\n",
       "\n",
       "    .dataframe thead th {\n",
       "        text-align: right;\n",
       "    }\n",
       "</style>\n",
       "<table border=\"1\" class=\"dataframe\">\n",
       "  <thead>\n",
       "    <tr style=\"text-align: right;\">\n",
       "      <th></th>\n",
       "      <th>doc_id</th>\n",
       "      <th>contents</th>\n",
       "      <th>metadata</th>\n",
       "    </tr>\n",
       "  </thead>\n",
       "  <tbody>\n",
       "  </tbody>\n",
       "</table>\n",
       "</div>"
      ],
      "text/plain": [
       "Empty DataFrame\n",
       "Columns: [doc_id, contents, metadata]\n",
       "Index: []"
      ]
     },
     "execution_count": 4,
     "metadata": {},
     "output_type": "execute_result"
    }
   ],
   "source": [
    "df = pd.DataFrame(columns=[\"doc_id\", \"contents\", \"metadata\"])\n",
    "\n",
    "df"
   ]
  },
  {
   "cell_type": "code",
   "execution_count": 5,
   "metadata": {},
   "outputs": [
    {
     "data": {
      "text/plain": [
       "4566"
      ]
     },
     "execution_count": 5,
     "metadata": {},
     "output_type": "execute_result"
    }
   ],
   "source": [
    "len(data)"
   ]
  },
  {
   "cell_type": "code",
   "execution_count": 6,
   "metadata": {},
   "outputs": [
    {
     "data": {
      "text/plain": [
       "Document(page_content='Trade Unit\\nTrade in livestock and livestock products are regulated as per the Foreign Trade\\nPolicyExport Import Policy EXIM of Government of India which is implemented by\\nDepartment of Commerce\\nHowever to prevent ingress of Exotic Diseases through import of livestock and', metadata={'filename': 'data/PDF_without_contents\\\\1. 법률 및 규제\\\\[법률][Sanitary Import Permit System for Livestock Products][2024]Function of Trade Unit(인도의 가축 및 가축 제품의 수입 절차와 관련된 정책 및 법률).pdf', 'chunk': 0, 'keyword': '키워드: 무역, 가축, 가축 제품, 규제, 수출, 수입, 인도 정부, 상업부, 이국적 질병, 수입.'})"
      ]
     },
     "execution_count": 6,
     "metadata": {},
     "output_type": "execute_result"
    }
   ],
   "source": [
    "data[0]"
   ]
  },
  {
   "cell_type": "code",
   "execution_count": 7,
   "metadata": {},
   "outputs": [],
   "source": [
    "doc_id_list = []\n",
    "for i in range(len(data)):\n",
    "    meta = data[i].metadata\n",
    "    contents = data[i].page_content\n",
    "    \n",
    "    meta_keys = list(meta.keys())\n",
    "    filename = meta['filename']\n",
    "    \n",
    "    if 'chunk' in meta_keys:\n",
    "        page = meta['chunk']\n",
    "    else:\n",
    "        page = meta['page_no']\n",
    "    \n",
    "    filename = ' / '.join(filename.split('/')[1:])\n",
    "    doc_id = filename + ' - ' + str(page)\n",
    "    \n",
    "    df.loc[i] = [doc_id, contents, meta]\n",
    "    "
   ]
  },
  {
   "cell_type": "code",
   "execution_count": 8,
   "metadata": {},
   "outputs": [
    {
     "data": {
      "text/html": [
       "<div>\n",
       "<style scoped>\n",
       "    .dataframe tbody tr th:only-of-type {\n",
       "        vertical-align: middle;\n",
       "    }\n",
       "\n",
       "    .dataframe tbody tr th {\n",
       "        vertical-align: top;\n",
       "    }\n",
       "\n",
       "    .dataframe thead th {\n",
       "        text-align: right;\n",
       "    }\n",
       "</style>\n",
       "<table border=\"1\" class=\"dataframe\">\n",
       "  <thead>\n",
       "    <tr style=\"text-align: right;\">\n",
       "      <th></th>\n",
       "      <th>doc_id</th>\n",
       "      <th>contents</th>\n",
       "      <th>metadata</th>\n",
       "    </tr>\n",
       "  </thead>\n",
       "  <tbody>\n",
       "    <tr>\n",
       "      <th>0</th>\n",
       "      <td>PDF_without_contents\\1. 법률 및 규제\\[법률][Sanitary ...</td>\n",
       "      <td>Trade Unit\\nTrade in livestock and livestock p...</td>\n",
       "      <td>{'filename': 'data/PDF_without_contents\\1. 법률 ...</td>\n",
       "    </tr>\n",
       "    <tr>\n",
       "      <th>1</th>\n",
       "      <td>PDF_without_contents\\1. 법률 및 규제\\[법률][Sanitary ...</td>\n",
       "      <td>livestock products Department of Animal Husban...</td>\n",
       "      <td>{'filename': 'data/PDF_without_contents\\1. 법률 ...</td>\n",
       "    </tr>\n",
       "    <tr>\n",
       "      <th>2</th>\n",
       "      <td>PDF_without_contents\\1. 법률 및 규제\\[법률][Sanitary ...</td>\n",
       "      <td>import as per EXIM Policy for which importer h...</td>\n",
       "      <td>{'filename': 'data/PDF_without_contents\\1. 법률 ...</td>\n",
       "    </tr>\n",
       "    <tr>\n",
       "      <th>3</th>\n",
       "      <td>PDF_without_contents\\1. 법률 및 규제\\[법률][Sanitary ...</td>\n",
       "      <td>on the risk analysis and the related germplasm...</td>\n",
       "      <td>{'filename': 'data/PDF_without_contents\\1. 법률 ...</td>\n",
       "    </tr>\n",
       "    <tr>\n",
       "      <th>4</th>\n",
       "      <td>PDF_without_contents\\1. 법률 및 규제\\[법률][Sanitary ...</td>\n",
       "      <td>1496E dated 10th June 2014 under Section 3 of ...</td>\n",
       "      <td>{'filename': 'data/PDF_without_contents\\1. 법률 ...</td>\n",
       "    </tr>\n",
       "  </tbody>\n",
       "</table>\n",
       "</div>"
      ],
      "text/plain": [
       "                                              doc_id  \\\n",
       "0  PDF_without_contents\\1. 법률 및 규제\\[법률][Sanitary ...   \n",
       "1  PDF_without_contents\\1. 법률 및 규제\\[법률][Sanitary ...   \n",
       "2  PDF_without_contents\\1. 법률 및 규제\\[법률][Sanitary ...   \n",
       "3  PDF_without_contents\\1. 법률 및 규제\\[법률][Sanitary ...   \n",
       "4  PDF_without_contents\\1. 법률 및 규제\\[법률][Sanitary ...   \n",
       "\n",
       "                                            contents  \\\n",
       "0  Trade Unit\\nTrade in livestock and livestock p...   \n",
       "1  livestock products Department of Animal Husban...   \n",
       "2  import as per EXIM Policy for which importer h...   \n",
       "3  on the risk analysis and the related germplasm...   \n",
       "4  1496E dated 10th June 2014 under Section 3 of ...   \n",
       "\n",
       "                                            metadata  \n",
       "0  {'filename': 'data/PDF_without_contents\\1. 법률 ...  \n",
       "1  {'filename': 'data/PDF_without_contents\\1. 법률 ...  \n",
       "2  {'filename': 'data/PDF_without_contents\\1. 법률 ...  \n",
       "3  {'filename': 'data/PDF_without_contents\\1. 법률 ...  \n",
       "4  {'filename': 'data/PDF_without_contents\\1. 법률 ...  "
      ]
     },
     "execution_count": 8,
     "metadata": {},
     "output_type": "execute_result"
    }
   ],
   "source": [
    "df.head()"
   ]
  },
  {
   "cell_type": "code",
   "execution_count": 9,
   "metadata": {},
   "outputs": [],
   "source": [
    "df.to_parquet('my_data/my_corpus.parquet')"
   ]
  },
  {
   "cell_type": "code",
   "execution_count": 10,
   "metadata": {},
   "outputs": [
    {
     "data": {
      "text/html": [
       "<div>\n",
       "<style scoped>\n",
       "    .dataframe tbody tr th:only-of-type {\n",
       "        vertical-align: middle;\n",
       "    }\n",
       "\n",
       "    .dataframe tbody tr th {\n",
       "        vertical-align: top;\n",
       "    }\n",
       "\n",
       "    .dataframe thead th {\n",
       "        text-align: right;\n",
       "    }\n",
       "</style>\n",
       "<table border=\"1\" class=\"dataframe\">\n",
       "  <thead>\n",
       "    <tr style=\"text-align: right;\">\n",
       "      <th></th>\n",
       "      <th>doc_id</th>\n",
       "      <th>contents</th>\n",
       "      <th>metadata</th>\n",
       "    </tr>\n",
       "  </thead>\n",
       "  <tbody>\n",
       "    <tr>\n",
       "      <th>0</th>\n",
       "      <td>PDF_without_contents\\1. 법률 및 규제\\[법률][Sanitary ...</td>\n",
       "      <td>Trade Unit\\nTrade in livestock and livestock p...</td>\n",
       "      <td>{'category': None, 'chunk': 0.0, 'datetimes': ...</td>\n",
       "    </tr>\n",
       "    <tr>\n",
       "      <th>1</th>\n",
       "      <td>PDF_without_contents\\1. 법률 및 규제\\[법률][Sanitary ...</td>\n",
       "      <td>livestock products Department of Animal Husban...</td>\n",
       "      <td>{'category': None, 'chunk': 1.0, 'datetimes': ...</td>\n",
       "    </tr>\n",
       "    <tr>\n",
       "      <th>2</th>\n",
       "      <td>PDF_without_contents\\1. 법률 및 규제\\[법률][Sanitary ...</td>\n",
       "      <td>import as per EXIM Policy for which importer h...</td>\n",
       "      <td>{'category': None, 'chunk': 2.0, 'datetimes': ...</td>\n",
       "    </tr>\n",
       "    <tr>\n",
       "      <th>3</th>\n",
       "      <td>PDF_without_contents\\1. 법률 및 규제\\[법률][Sanitary ...</td>\n",
       "      <td>on the risk analysis and the related germplasm...</td>\n",
       "      <td>{'category': None, 'chunk': 3.0, 'datetimes': ...</td>\n",
       "    </tr>\n",
       "    <tr>\n",
       "      <th>4</th>\n",
       "      <td>PDF_without_contents\\1. 법률 및 규제\\[법률][Sanitary ...</td>\n",
       "      <td>1496E dated 10th June 2014 under Section 3 of ...</td>\n",
       "      <td>{'category': None, 'chunk': 4.0, 'datetimes': ...</td>\n",
       "    </tr>\n",
       "  </tbody>\n",
       "</table>\n",
       "</div>"
      ],
      "text/plain": [
       "                                              doc_id  \\\n",
       "0  PDF_without_contents\\1. 법률 및 규제\\[법률][Sanitary ...   \n",
       "1  PDF_without_contents\\1. 법률 및 규제\\[법률][Sanitary ...   \n",
       "2  PDF_without_contents\\1. 법률 및 규제\\[법률][Sanitary ...   \n",
       "3  PDF_without_contents\\1. 법률 및 규제\\[법률][Sanitary ...   \n",
       "4  PDF_without_contents\\1. 법률 및 규제\\[법률][Sanitary ...   \n",
       "\n",
       "                                            contents  \\\n",
       "0  Trade Unit\\nTrade in livestock and livestock p...   \n",
       "1  livestock products Department of Animal Husban...   \n",
       "2  import as per EXIM Policy for which importer h...   \n",
       "3  on the risk analysis and the related germplasm...   \n",
       "4  1496E dated 10th June 2014 under Section 3 of ...   \n",
       "\n",
       "                                            metadata  \n",
       "0  {'category': None, 'chunk': 0.0, 'datetimes': ...  \n",
       "1  {'category': None, 'chunk': 1.0, 'datetimes': ...  \n",
       "2  {'category': None, 'chunk': 2.0, 'datetimes': ...  \n",
       "3  {'category': None, 'chunk': 3.0, 'datetimes': ...  \n",
       "4  {'category': None, 'chunk': 4.0, 'datetimes': ...  "
      ]
     },
     "execution_count": 10,
     "metadata": {},
     "output_type": "execute_result"
    }
   ],
   "source": [
    "path = './my_data/my_corpus.parquet'\n",
    "\n",
    "# make_qa.py 파일로 만듬 : 질문과 응답 쌍을 만듬 , 어떤 문서가 관련이 있는지 \n",
    "df = pd.read_parquet(path)\n",
    "\n",
    "df.head()"
   ]
  },
  {
   "cell_type": "code",
   "execution_count": null,
   "metadata": {},
   "outputs": [],
   "source": [
    "# df.to_excel('my_data/my_corpus.xlsx', index=False)"
   ]
  }
 ],
 "metadata": {
  "kernelspec": {
   "display_name": "AUTORAG",
   "language": "python",
   "name": "python3"
  },
  "language_info": {
   "codemirror_mode": {
    "name": "ipython",
    "version": 3
   },
   "file_extension": ".py",
   "mimetype": "text/x-python",
   "name": "python",
   "nbconvert_exporter": "python",
   "pygments_lexer": "ipython3",
   "version": "3.12.4"
  }
 },
 "nbformat": 4,
 "nbformat_minor": 2
}
