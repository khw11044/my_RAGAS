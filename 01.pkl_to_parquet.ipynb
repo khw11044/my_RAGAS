{
 "cells": [
  {
   "cell_type": "code",
   "execution_count": 4,
   "metadata": {},
   "outputs": [],
   "source": [
    "import pickle\n",
    "import pandas as pd "
   ]
  },
  {
   "cell_type": "markdown",
   "metadata": {},
   "source": [
    "## 01. 준비된 pkl 파일 불러오기 "
   ]
  },
  {
   "cell_type": "code",
   "execution_count": 6,
   "metadata": {},
   "outputs": [],
   "source": [
    "data = pd.read_pickle('my_data/all_docs.pkl')"
   ]
  },
  {
   "cell_type": "code",
   "execution_count": 7,
   "metadata": {},
   "outputs": [
    {
     "data": {
      "text/plain": [
       "4566"
      ]
     },
     "execution_count": 7,
     "metadata": {},
     "output_type": "execute_result"
    }
   ],
   "source": [
    "len(data)"
   ]
  },
  {
   "cell_type": "code",
   "execution_count": 8,
   "metadata": {},
   "outputs": [
    {
     "data": {
      "text/plain": [
       "Document(page_content='Trade Unit\\nTrade in livestock and livestock products are regulated as per the Foreign Trade\\nPolicyExport Import Policy EXIM of Government of India which is implemented by\\nDepartment of Commerce\\nHowever to prevent ingress of Exotic Diseases through import of livestock and', metadata={'filename': 'data/PDF_without_contents\\\\1. 법률 및 규제\\\\[법률][Sanitary Import Permit System for Livestock Products][2024]Function of Trade Unit(인도의 가축 및 가축 제품의 수입 절차와 관련된 정책 및 법률).pdf', 'chunk': 0, 'keyword': '키워드: 무역, 가축, 가축 제품, 규제, 수출, 수입, 인도 정부, 상업부, 이국적 질병, 수입.'})"
      ]
     },
     "execution_count": 8,
     "metadata": {},
     "output_type": "execute_result"
    }
   ],
   "source": [
    "data[0]"
   ]
  },
  {
   "cell_type": "code",
   "execution_count": 9,
   "metadata": {},
   "outputs": [],
   "source": [
    "doc_id_list = []\n",
    "\n",
    "df = pd.DataFrame(columns=[\"doc_id\", \"contents\", \"metadata\"])\n",
    "\n",
    "\n",
    "for i in range(len(data)):\n",
    "    meta = data[i].metadata\n",
    "    contents = data[i].page_content\n",
    "    \n",
    "    meta_keys = list(meta.keys())\n",
    "    filename = meta['filename']\n",
    "    \n",
    "    if 'chunk' in meta_keys:\n",
    "        page = meta['chunk']\n",
    "    else:\n",
    "        page = meta['page_no']\n",
    "    \n",
    "    filename = ' / '.join(filename.split('/')[1:])\n",
    "    doc_id = filename + ' - ' + str(page)\n",
    "    \n",
    "    df.loc[i] = [doc_id, contents, meta]\n",
    "    "
   ]
  },
  {
   "cell_type": "code",
   "execution_count": 7,
   "metadata": {},
   "outputs": [
    {
     "data": {
      "text/html": [
       "<div>\n",
       "<style scoped>\n",
       "    .dataframe tbody tr th:only-of-type {\n",
       "        vertical-align: middle;\n",
       "    }\n",
       "\n",
       "    .dataframe tbody tr th {\n",
       "        vertical-align: top;\n",
       "    }\n",
       "\n",
       "    .dataframe thead th {\n",
       "        text-align: right;\n",
       "    }\n",
       "</style>\n",
       "<table border=\"1\" class=\"dataframe\">\n",
       "  <thead>\n",
       "    <tr style=\"text-align: right;\">\n",
       "      <th></th>\n",
       "      <th>doc_id</th>\n",
       "      <th>contents</th>\n",
       "      <th>metadata</th>\n",
       "    </tr>\n",
       "  </thead>\n",
       "  <tbody>\n",
       "    <tr>\n",
       "      <th>4556</th>\n",
       "      <td>PDF_with_contents / 3. 정책 및 무역 / [정책][관세청][201...</td>\n",
       "      <td>제Ⅳ절\\n인도 통상정책\\n03\\n한-인도\\nCEPA에서의\\n무역구제\\n</td>\n",
       "      <td>{'filename': 'data/PDF_with_contents/3. 정책 및 무...</td>\n",
       "    </tr>\n",
       "    <tr>\n",
       "      <th>4557</th>\n",
       "      <td>PDF_with_contents / 3. 정책 및 무역 / [정책][관세청][201...</td>\n",
       "      <td>156\\n안방용활\\nATF\\n및\\n경환상통·관통\\n국방남신\\n1. 세관발행 원산지증...</td>\n",
       "      <td>{'filename': 'data/PDF_with_contents/3. 정책 및 무...</td>\n",
       "    </tr>\n",
       "    <tr>\n",
       "      <th>4558</th>\n",
       "      <td>PDF_with_contents / 3. 정책 및 무역 / [정책][관세청][201...</td>\n",
       "      <td>158\\n안방용활\\nATF\\n및\\n경환상통·관통\\n국방남신\\n2. 서명권자 불일치 ...</td>\n",
       "      <td>{'filename': 'data/PDF_with_contents/3. 정책 및 무...</td>\n",
       "    </tr>\n",
       "    <tr>\n",
       "      <th>4559</th>\n",
       "      <td>PDF_with_contents / 3. 정책 및 무역 / [정책][관세청][201...</td>\n",
       "      <td>162\\n안방용활\\nATF\\n및\\n경환상통·관통\\n국방남신\\n3. 원산지증명서 소급...</td>\n",
       "      <td>{'filename': 'data/PDF_with_contents/3. 정책 및 무...</td>\n",
       "    </tr>\n",
       "    <tr>\n",
       "      <th>4560</th>\n",
       "      <td>PDF_with_contents / 3. 정책 및 무역 / [정책][관세청][201...</td>\n",
       "      <td>164\\n안방용활\\nATF\\n및\\n경환상통·관통\\n국방남신\\n4. 한-인도 CEPA...</td>\n",
       "      <td>{'filename': 'data/PDF_with_contents/3. 정책 및 무...</td>\n",
       "    </tr>\n",
       "    <tr>\n",
       "      <th>4561</th>\n",
       "      <td>PDF_with_contents / 3. 정책 및 무역 / [정책][관세청][201...</td>\n",
       "      <td>166\\n안방용활\\nATF\\n및\\n경환상통·관통\\n국방남신\\n5. 품목분류 상이로 ...</td>\n",
       "      <td>{'filename': 'data/PDF_with_contents/3. 정책 및 무...</td>\n",
       "    </tr>\n",
       "    <tr>\n",
       "      <th>4562</th>\n",
       "      <td>PDF_with_contents / 3. 정책 및 무역 / [정책][한국무역협회][...</td>\n",
       "      <td>01\\n1 인도의 수입규제 최근 동향\\n(1) 인도 수입규제 신규 조사개시 현황\\n...</td>\n",
       "      <td>{'filename': 'data/PDF_with_contents/3. 정책 및 무...</td>\n",
       "    </tr>\n",
       "    <tr>\n",
       "      <th>4563</th>\n",
       "      <td>PDF_with_contents / 3. 정책 및 무역 / [정책][한국무역협회][...</td>\n",
       "      <td>08\\n2 인도의 무역구제규정 개정\\n인도 재무부는 2020년 2월 2일자로 반덤핑...</td>\n",
       "      <td>{'filename': 'data/PDF_with_contents/3. 정책 및 무...</td>\n",
       "    </tr>\n",
       "    <tr>\n",
       "      <th>4564</th>\n",
       "      <td>PDF_with_contents / 3. 정책 및 무역 / [정책][한국무역협회][...</td>\n",
       "      <td>13\\n3 반덤핑 제도 운영상의 주요 특징\\n인 도에서 가장 많이 활용해 온 반덤핑...</td>\n",
       "      <td>{'filename': 'data/PDF_with_contents/3. 정책 및 무...</td>\n",
       "    </tr>\n",
       "    <tr>\n",
       "      <th>4565</th>\n",
       "      <td>PDF_with_contents / 3. 정책 및 무역 / [정책][한국무역협회][...</td>\n",
       "      <td>24\\n4 시사점 및 우리 기업의 대응 방안\\n(1) 인도 무역구제제도 운영의 시사...</td>\n",
       "      <td>{'filename': 'data/PDF_with_contents/3. 정책 및 무...</td>\n",
       "    </tr>\n",
       "  </tbody>\n",
       "</table>\n",
       "</div>"
      ],
      "text/plain": [
       "                                                 doc_id  \\\n",
       "4556  PDF_with_contents / 3. 정책 및 무역 / [정책][관세청][201...   \n",
       "4557  PDF_with_contents / 3. 정책 및 무역 / [정책][관세청][201...   \n",
       "4558  PDF_with_contents / 3. 정책 및 무역 / [정책][관세청][201...   \n",
       "4559  PDF_with_contents / 3. 정책 및 무역 / [정책][관세청][201...   \n",
       "4560  PDF_with_contents / 3. 정책 및 무역 / [정책][관세청][201...   \n",
       "4561  PDF_with_contents / 3. 정책 및 무역 / [정책][관세청][201...   \n",
       "4562  PDF_with_contents / 3. 정책 및 무역 / [정책][한국무역협회][...   \n",
       "4563  PDF_with_contents / 3. 정책 및 무역 / [정책][한국무역협회][...   \n",
       "4564  PDF_with_contents / 3. 정책 및 무역 / [정책][한국무역협회][...   \n",
       "4565  PDF_with_contents / 3. 정책 및 무역 / [정책][한국무역협회][...   \n",
       "\n",
       "                                               contents  \\\n",
       "4556            제Ⅳ절\\n인도 통상정책\\n03\\n한-인도\\nCEPA에서의\\n무역구제\\n   \n",
       "4557  156\\n안방용활\\nATF\\n및\\n경환상통·관통\\n국방남신\\n1. 세관발행 원산지증...   \n",
       "4558  158\\n안방용활\\nATF\\n및\\n경환상통·관통\\n국방남신\\n2. 서명권자 불일치 ...   \n",
       "4559  162\\n안방용활\\nATF\\n및\\n경환상통·관통\\n국방남신\\n3. 원산지증명서 소급...   \n",
       "4560  164\\n안방용활\\nATF\\n및\\n경환상통·관통\\n국방남신\\n4. 한-인도 CEPA...   \n",
       "4561  166\\n안방용활\\nATF\\n및\\n경환상통·관통\\n국방남신\\n5. 품목분류 상이로 ...   \n",
       "4562  01\\n1 인도의 수입규제 최근 동향\\n(1) 인도 수입규제 신규 조사개시 현황\\n...   \n",
       "4563  08\\n2 인도의 무역구제규정 개정\\n인도 재무부는 2020년 2월 2일자로 반덤핑...   \n",
       "4564  13\\n3 반덤핑 제도 운영상의 주요 특징\\n인 도에서 가장 많이 활용해 온 반덤핑...   \n",
       "4565  24\\n4 시사점 및 우리 기업의 대응 방안\\n(1) 인도 무역구제제도 운영의 시사...   \n",
       "\n",
       "                                               metadata  \n",
       "4556  {'filename': 'data/PDF_with_contents/3. 정책 및 무...  \n",
       "4557  {'filename': 'data/PDF_with_contents/3. 정책 및 무...  \n",
       "4558  {'filename': 'data/PDF_with_contents/3. 정책 및 무...  \n",
       "4559  {'filename': 'data/PDF_with_contents/3. 정책 및 무...  \n",
       "4560  {'filename': 'data/PDF_with_contents/3. 정책 및 무...  \n",
       "4561  {'filename': 'data/PDF_with_contents/3. 정책 및 무...  \n",
       "4562  {'filename': 'data/PDF_with_contents/3. 정책 및 무...  \n",
       "4563  {'filename': 'data/PDF_with_contents/3. 정책 및 무...  \n",
       "4564  {'filename': 'data/PDF_with_contents/3. 정책 및 무...  \n",
       "4565  {'filename': 'data/PDF_with_contents/3. 정책 및 무...  "
      ]
     },
     "execution_count": 7,
     "metadata": {},
     "output_type": "execute_result"
    }
   ],
   "source": [
    "df.tail(10)"
   ]
  },
  {
   "cell_type": "code",
   "execution_count": 14,
   "metadata": {},
   "outputs": [
    {
     "data": {
      "text/html": [
       "<div>\n",
       "<style scoped>\n",
       "    .dataframe tbody tr th:only-of-type {\n",
       "        vertical-align: middle;\n",
       "    }\n",
       "\n",
       "    .dataframe tbody tr th {\n",
       "        vertical-align: top;\n",
       "    }\n",
       "\n",
       "    .dataframe thead th {\n",
       "        text-align: right;\n",
       "    }\n",
       "</style>\n",
       "<table border=\"1\" class=\"dataframe\">\n",
       "  <thead>\n",
       "    <tr style=\"text-align: right;\">\n",
       "      <th></th>\n",
       "      <th>doc_id</th>\n",
       "      <th>contents</th>\n",
       "      <th>metadata</th>\n",
       "    </tr>\n",
       "  </thead>\n",
       "  <tbody>\n",
       "    <tr>\n",
       "      <th>4500</th>\n",
       "      <td>PDF_with_contents / 3. 정책 및 무역 / [국가지원사례][외교부]...</td>\n",
       "      <td>2023 재외공관의 해외진출기업 지원 사례집\\n인도\\n대사관\\nA사에 대한 은행지급...</td>\n",
       "      <td>{'filename': 'data/PDF_with_contents/3. 정책 및 무...</td>\n",
       "    </tr>\n",
       "    <tr>\n",
       "      <th>4501</th>\n",
       "      <td>PDF_with_contents / 3. 정책 및 무역 / [국가지원사례][외교부]...</td>\n",
       "      <td>인도대사관\\n인도\\n대사관\\n법인세 선납 환급금 업무처리 지연 해결\\n1. 사례 개...</td>\n",
       "      <td>{'filename': 'data/PDF_with_contents/3. 정책 및 무...</td>\n",
       "    </tr>\n",
       "    <tr>\n",
       "      <th>4502</th>\n",
       "      <td>PDF_with_contents / 3. 정책 및 무역 / [국가지원사례][외교부]...</td>\n",
       "      <td>자메이카대사관\\n자메이카\\n대사관\\n우리 기업인 고용 허가 발급 애로 해소 지원\\n...</td>\n",
       "      <td>{'filename': 'data/PDF_with_contents/3. 정책 및 무...</td>\n",
       "    </tr>\n",
       "    <tr>\n",
       "      <th>4503</th>\n",
       "      <td>PDF_with_contents / 3. 정책 및 무역 / [법률_규범_특허][코트...</td>\n",
       "      <td>01\\n인도 수출 및 CEPA 활용 시 주의사항 알아두기\\n1. 품목분류\\n가. H...</td>\n",
       "      <td>{'filename': 'data/PDF_with_contents/3. 정책 및 무...</td>\n",
       "    </tr>\n",
       "    <tr>\n",
       "      <th>4504</th>\n",
       "      <td>PDF_with_contents / 3. 정책 및 무역 / [법률_규범_특허][코트...</td>\n",
       "      <td>01\\n인도 수출 및 CEPA 활용 시 주의사항 알아두기\\n1. 품목분류\\n가. H...</td>\n",
       "      <td>{'filename': 'data/PDF_with_contents/3. 정책 및 무...</td>\n",
       "    </tr>\n",
       "  </tbody>\n",
       "</table>\n",
       "</div>"
      ],
      "text/plain": [
       "                                                 doc_id  \\\n",
       "4500  PDF_with_contents / 3. 정책 및 무역 / [국가지원사례][외교부]...   \n",
       "4501  PDF_with_contents / 3. 정책 및 무역 / [국가지원사례][외교부]...   \n",
       "4502  PDF_with_contents / 3. 정책 및 무역 / [국가지원사례][외교부]...   \n",
       "4503  PDF_with_contents / 3. 정책 및 무역 / [법률_규범_특허][코트...   \n",
       "4504  PDF_with_contents / 3. 정책 및 무역 / [법률_규범_특허][코트...   \n",
       "\n",
       "                                               contents  \\\n",
       "4500  2023 재외공관의 해외진출기업 지원 사례집\\n인도\\n대사관\\nA사에 대한 은행지급...   \n",
       "4501  인도대사관\\n인도\\n대사관\\n법인세 선납 환급금 업무처리 지연 해결\\n1. 사례 개...   \n",
       "4502  자메이카대사관\\n자메이카\\n대사관\\n우리 기업인 고용 허가 발급 애로 해소 지원\\n...   \n",
       "4503  01\\n인도 수출 및 CEPA 활용 시 주의사항 알아두기\\n1. 품목분류\\n가. H...   \n",
       "4504  01\\n인도 수출 및 CEPA 활용 시 주의사항 알아두기\\n1. 품목분류\\n가. H...   \n",
       "\n",
       "                                               metadata  \n",
       "4500  {'filename': 'data/PDF_with_contents/3. 정책 및 무...  \n",
       "4501  {'filename': 'data/PDF_with_contents/3. 정책 및 무...  \n",
       "4502  {'filename': 'data/PDF_with_contents/3. 정책 및 무...  \n",
       "4503  {'filename': 'data/PDF_with_contents/3. 정책 및 무...  \n",
       "4504  {'filename': 'data/PDF_with_contents/3. 정책 및 무...  "
      ]
     },
     "execution_count": 14,
     "metadata": {},
     "output_type": "execute_result"
    }
   ],
   "source": [
    "df.iloc[-66:].head()"
   ]
  },
  {
   "cell_type": "code",
   "execution_count": 15,
   "metadata": {},
   "outputs": [],
   "source": [
    "df.iloc[-66:].to_parquet('my_data/my_corpus.parquet')\n",
    "\n",
    "# df.to_excel('my_data/my_corpus.xlsx', index=False)"
   ]
  },
  {
   "cell_type": "code",
   "execution_count": 16,
   "metadata": {},
   "outputs": [
    {
     "data": {
      "text/html": [
       "<div>\n",
       "<style scoped>\n",
       "    .dataframe tbody tr th:only-of-type {\n",
       "        vertical-align: middle;\n",
       "    }\n",
       "\n",
       "    .dataframe tbody tr th {\n",
       "        vertical-align: top;\n",
       "    }\n",
       "\n",
       "    .dataframe thead th {\n",
       "        text-align: right;\n",
       "    }\n",
       "</style>\n",
       "<table border=\"1\" class=\"dataframe\">\n",
       "  <thead>\n",
       "    <tr style=\"text-align: right;\">\n",
       "      <th></th>\n",
       "      <th>doc_id</th>\n",
       "      <th>contents</th>\n",
       "      <th>metadata</th>\n",
       "    </tr>\n",
       "  </thead>\n",
       "  <tbody>\n",
       "    <tr>\n",
       "      <th>4500</th>\n",
       "      <td>PDF_with_contents / 3. 정책 및 무역 / [국가지원사례][외교부]...</td>\n",
       "      <td>2023 재외공관의 해외진출기업 지원 사례집\\n인도\\n대사관\\nA사에 대한 은행지급...</td>\n",
       "      <td>{'category': '3. 정책 및 무역', 'datetimes': '2024-...</td>\n",
       "    </tr>\n",
       "    <tr>\n",
       "      <th>4501</th>\n",
       "      <td>PDF_with_contents / 3. 정책 및 무역 / [국가지원사례][외교부]...</td>\n",
       "      <td>인도대사관\\n인도\\n대사관\\n법인세 선납 환급금 업무처리 지연 해결\\n1. 사례 개...</td>\n",
       "      <td>{'category': '3. 정책 및 무역', 'datetimes': '2024-...</td>\n",
       "    </tr>\n",
       "    <tr>\n",
       "      <th>4502</th>\n",
       "      <td>PDF_with_contents / 3. 정책 및 무역 / [국가지원사례][외교부]...</td>\n",
       "      <td>자메이카대사관\\n자메이카\\n대사관\\n우리 기업인 고용 허가 발급 애로 해소 지원\\n...</td>\n",
       "      <td>{'category': '3. 정책 및 무역', 'datetimes': '2024-...</td>\n",
       "    </tr>\n",
       "    <tr>\n",
       "      <th>4503</th>\n",
       "      <td>PDF_with_contents / 3. 정책 및 무역 / [법률_규범_특허][코트...</td>\n",
       "      <td>01\\n인도 수출 및 CEPA 활용 시 주의사항 알아두기\\n1. 품목분류\\n가. H...</td>\n",
       "      <td>{'category': '3. 정책 및 무역', 'datetimes': '2024-...</td>\n",
       "    </tr>\n",
       "    <tr>\n",
       "      <th>4504</th>\n",
       "      <td>PDF_with_contents / 3. 정책 및 무역 / [법률_규범_특허][코트...</td>\n",
       "      <td>01\\n인도 수출 및 CEPA 활용 시 주의사항 알아두기\\n1. 품목분류\\n가. H...</td>\n",
       "      <td>{'category': '3. 정책 및 무역', 'datetimes': '2024-...</td>\n",
       "    </tr>\n",
       "  </tbody>\n",
       "</table>\n",
       "</div>"
      ],
      "text/plain": [
       "                                                 doc_id  \\\n",
       "4500  PDF_with_contents / 3. 정책 및 무역 / [국가지원사례][외교부]...   \n",
       "4501  PDF_with_contents / 3. 정책 및 무역 / [국가지원사례][외교부]...   \n",
       "4502  PDF_with_contents / 3. 정책 및 무역 / [국가지원사례][외교부]...   \n",
       "4503  PDF_with_contents / 3. 정책 및 무역 / [법률_규범_특허][코트...   \n",
       "4504  PDF_with_contents / 3. 정책 및 무역 / [법률_규범_특허][코트...   \n",
       "\n",
       "                                               contents  \\\n",
       "4500  2023 재외공관의 해외진출기업 지원 사례집\\n인도\\n대사관\\nA사에 대한 은행지급...   \n",
       "4501  인도대사관\\n인도\\n대사관\\n법인세 선납 환급금 업무처리 지연 해결\\n1. 사례 개...   \n",
       "4502  자메이카대사관\\n자메이카\\n대사관\\n우리 기업인 고용 허가 발급 애로 해소 지원\\n...   \n",
       "4503  01\\n인도 수출 및 CEPA 활용 시 주의사항 알아두기\\n1. 품목분류\\n가. H...   \n",
       "4504  01\\n인도 수출 및 CEPA 활용 시 주의사항 알아두기\\n1. 품목분류\\n가. H...   \n",
       "\n",
       "                                               metadata  \n",
       "4500  {'category': '3. 정책 및 무역', 'datetimes': '2024-...  \n",
       "4501  {'category': '3. 정책 및 무역', 'datetimes': '2024-...  \n",
       "4502  {'category': '3. 정책 및 무역', 'datetimes': '2024-...  \n",
       "4503  {'category': '3. 정책 및 무역', 'datetimes': '2024-...  \n",
       "4504  {'category': '3. 정책 및 무역', 'datetimes': '2024-...  "
      ]
     },
     "execution_count": 16,
     "metadata": {},
     "output_type": "execute_result"
    }
   ],
   "source": [
    "path = './my_data/my_corpus.parquet'\n",
    "\n",
    "# make_qa.py 파일로 만듬 : 질문과 응답 쌍을 만듬 , 어떤 문서가 관련이 있는지 \n",
    "df = pd.read_parquet(path)\n",
    "\n",
    "df.head()"
   ]
  },
  {
   "cell_type": "code",
   "execution_count": 17,
   "metadata": {},
   "outputs": [
    {
     "data": {
      "text/html": [
       "<div>\n",
       "<style scoped>\n",
       "    .dataframe tbody tr th:only-of-type {\n",
       "        vertical-align: middle;\n",
       "    }\n",
       "\n",
       "    .dataframe tbody tr th {\n",
       "        vertical-align: top;\n",
       "    }\n",
       "\n",
       "    .dataframe thead th {\n",
       "        text-align: right;\n",
       "    }\n",
       "</style>\n",
       "<table border=\"1\" class=\"dataframe\">\n",
       "  <thead>\n",
       "    <tr style=\"text-align: right;\">\n",
       "      <th></th>\n",
       "      <th>doc_id</th>\n",
       "      <th>contents</th>\n",
       "      <th>metadata</th>\n",
       "    </tr>\n",
       "  </thead>\n",
       "  <tbody>\n",
       "    <tr>\n",
       "      <th>4561</th>\n",
       "      <td>PDF_with_contents / 3. 정책 및 무역 / [정책][관세청][201...</td>\n",
       "      <td>166\\n안방용활\\nATF\\n및\\n경환상통·관통\\n국방남신\\n5. 품목분류 상이로 ...</td>\n",
       "      <td>{'category': '3. 정책 및 무역', 'datetimes': '2024-...</td>\n",
       "    </tr>\n",
       "    <tr>\n",
       "      <th>4562</th>\n",
       "      <td>PDF_with_contents / 3. 정책 및 무역 / [정책][한국무역협회][...</td>\n",
       "      <td>01\\n1 인도의 수입규제 최근 동향\\n(1) 인도 수입규제 신규 조사개시 현황\\n...</td>\n",
       "      <td>{'category': '3. 정책 및 무역', 'datetimes': '2024-...</td>\n",
       "    </tr>\n",
       "    <tr>\n",
       "      <th>4563</th>\n",
       "      <td>PDF_with_contents / 3. 정책 및 무역 / [정책][한국무역협회][...</td>\n",
       "      <td>08\\n2 인도의 무역구제규정 개정\\n인도 재무부는 2020년 2월 2일자로 반덤핑...</td>\n",
       "      <td>{'category': '3. 정책 및 무역', 'datetimes': '2024-...</td>\n",
       "    </tr>\n",
       "    <tr>\n",
       "      <th>4564</th>\n",
       "      <td>PDF_with_contents / 3. 정책 및 무역 / [정책][한국무역협회][...</td>\n",
       "      <td>13\\n3 반덤핑 제도 운영상의 주요 특징\\n인 도에서 가장 많이 활용해 온 반덤핑...</td>\n",
       "      <td>{'category': '3. 정책 및 무역', 'datetimes': '2024-...</td>\n",
       "    </tr>\n",
       "    <tr>\n",
       "      <th>4565</th>\n",
       "      <td>PDF_with_contents / 3. 정책 및 무역 / [정책][한국무역협회][...</td>\n",
       "      <td>24\\n4 시사점 및 우리 기업의 대응 방안\\n(1) 인도 무역구제제도 운영의 시사...</td>\n",
       "      <td>{'category': '3. 정책 및 무역', 'datetimes': '2024-...</td>\n",
       "    </tr>\n",
       "  </tbody>\n",
       "</table>\n",
       "</div>"
      ],
      "text/plain": [
       "                                                 doc_id  \\\n",
       "4561  PDF_with_contents / 3. 정책 및 무역 / [정책][관세청][201...   \n",
       "4562  PDF_with_contents / 3. 정책 및 무역 / [정책][한국무역협회][...   \n",
       "4563  PDF_with_contents / 3. 정책 및 무역 / [정책][한국무역협회][...   \n",
       "4564  PDF_with_contents / 3. 정책 및 무역 / [정책][한국무역협회][...   \n",
       "4565  PDF_with_contents / 3. 정책 및 무역 / [정책][한국무역협회][...   \n",
       "\n",
       "                                               contents  \\\n",
       "4561  166\\n안방용활\\nATF\\n및\\n경환상통·관통\\n국방남신\\n5. 품목분류 상이로 ...   \n",
       "4562  01\\n1 인도의 수입규제 최근 동향\\n(1) 인도 수입규제 신규 조사개시 현황\\n...   \n",
       "4563  08\\n2 인도의 무역구제규정 개정\\n인도 재무부는 2020년 2월 2일자로 반덤핑...   \n",
       "4564  13\\n3 반덤핑 제도 운영상의 주요 특징\\n인 도에서 가장 많이 활용해 온 반덤핑...   \n",
       "4565  24\\n4 시사점 및 우리 기업의 대응 방안\\n(1) 인도 무역구제제도 운영의 시사...   \n",
       "\n",
       "                                               metadata  \n",
       "4561  {'category': '3. 정책 및 무역', 'datetimes': '2024-...  \n",
       "4562  {'category': '3. 정책 및 무역', 'datetimes': '2024-...  \n",
       "4563  {'category': '3. 정책 및 무역', 'datetimes': '2024-...  \n",
       "4564  {'category': '3. 정책 및 무역', 'datetimes': '2024-...  \n",
       "4565  {'category': '3. 정책 및 무역', 'datetimes': '2024-...  "
      ]
     },
     "execution_count": 17,
     "metadata": {},
     "output_type": "execute_result"
    }
   ],
   "source": [
    "df.tail()"
   ]
  },
  {
   "cell_type": "code",
   "execution_count": 18,
   "metadata": {},
   "outputs": [
    {
     "data": {
      "text/plain": [
       "66"
      ]
     },
     "execution_count": 18,
     "metadata": {},
     "output_type": "execute_result"
    }
   ],
   "source": [
    "len(df)"
   ]
  },
  {
   "cell_type": "code",
   "execution_count": 19,
   "metadata": {},
   "outputs": [
    {
     "data": {
      "text/plain": [
       "{'category': '3. 정책 및 무역',\n",
       " 'datetimes': '2024-07-08 16:41:30',\n",
       " 'filename': 'data/PDF_with_contents/3. 정책 및 무역/[국가지원사례][외교부][2023]재외공관의 해외진출기업 지원 사례집.pdf',\n",
       " 'page_no': 0,\n",
       " 'subcategory': '주인도대사관 A사에 대한 은행지급보증(Bank Guarantee) 환급 지원'}"
      ]
     },
     "execution_count": 19,
     "metadata": {},
     "output_type": "execute_result"
    }
   ],
   "source": [
    "df['metadata'].iloc[0]"
   ]
  },
  {
   "cell_type": "code",
   "execution_count": 20,
   "metadata": {},
   "outputs": [],
   "source": [
    "from tqdm import tqdm\n",
    "from langchain.schema import Document"
   ]
  },
  {
   "cell_type": "code",
   "execution_count": 21,
   "metadata": {},
   "outputs": [],
   "source": [
    "documents = []\n",
    "\n",
    "for i in range(len(df)):\n",
    "    meta = df['metadata'].iloc[i]\n",
    "    content = df['contents'].iloc[i]\n",
    "    documents.append(Document(metadata=meta, page_content=content))\n",
    "\n",
    "\n"
   ]
  },
  {
   "cell_type": "code",
   "execution_count": 22,
   "metadata": {},
   "outputs": [
    {
     "name": "stderr",
     "output_type": "stream",
     "text": [
      "USER_AGENT environment variable not set, consider setting it to identify your requests.\n"
     ]
    }
   ],
   "source": [
    "from utils.RAGPipeLine import Ragpipeline"
   ]
  },
  {
   "cell_type": "code",
   "execution_count": 23,
   "metadata": {},
   "outputs": [
    {
     "name": "stdout",
     "output_type": "stream",
     "text": [
      "[초기화] vector_store 초기화 완료\n",
      "[초기화] retriever 초기화 완료\n",
      "[초기화] RAG chain 초기화 완료\n"
     ]
    },
    {
     "name": "stderr",
     "output_type": "stream",
     "text": [
      "c:\\Users\\kim_h\\anaconda3\\envs\\AUTORAG\\Lib\\site-packages\\langchain_core\\_api\\deprecation.py:139: LangChainDeprecationWarning: The class `GoogleSearchAPIWrapper` was deprecated in LangChain 0.0.33 and will be removed in 0.3.0. An updated version of the class exists in the langchain-google-community package and should be used instead. To use it run `pip install -U langchain-google-community` and import as `from langchain_google_community import GoogleSearchAPIWrapper`.\n",
      "  warn_deprecated(\n"
     ]
    },
    {
     "name": "stdout",
     "output_type": "stream",
     "text": [
      "[초기화] RAG title chain 초기화 완료\n",
      "[초기화] RAG post chain 초기화 완료\n",
      "[초기화] vector_store 초기화 완료\n"
     ]
    }
   ],
   "source": [
    "pipeline = Ragpipeline()\n",
    "\n",
    "vectorDB = pipeline.init_vectorDB('./database_new')\n"
   ]
  },
  {
   "cell_type": "code",
   "execution_count": 24,
   "metadata": {},
   "outputs": [
    {
     "data": {
      "text/plain": [
       "['7e85d6a1-d073-453a-96c0-dbd844a99398',\n",
       " 'e25586cf-6ab8-4d34-8f0b-c4c5b8eabeca',\n",
       " '1a75484d-d002-4eb4-bb4e-e5eabe83b0c8',\n",
       " 'd80ed175-96a5-47cb-a1ee-d89fa81af5f2',\n",
       " 'f70fb75d-be62-4fda-b817-15f14c8414b0',\n",
       " '62bea6b8-7f7c-4dda-9743-4ab3b7bb640f',\n",
       " 'f3df0263-8ef0-47fa-9275-6dd2bbfae81f',\n",
       " '497ced8a-bce7-4776-89c5-4bb77aa8354f',\n",
       " '0ab9a942-9949-431b-8794-f3d19c4373ed',\n",
       " '6062df08-66f0-4a32-b625-4aebca895150',\n",
       " 'ec01848f-10a0-486f-b20e-d128c595d32e',\n",
       " '6d02ec7e-ad8c-48a4-afb3-498a5734eb71',\n",
       " 'a99c19fa-3d7c-4849-8e4c-d5e18ef8afa3',\n",
       " '81994843-576f-4284-874d-7fdfc5358eef',\n",
       " 'f0f89cc8-243d-42af-ad46-e63184a45b64',\n",
       " '1dc74014-75db-4694-b455-65d02a71d9ad',\n",
       " '1384bed4-503d-4d6b-ad4d-322865a49034',\n",
       " 'c8fd99cc-a8d0-4708-9daf-948913c6ca2e',\n",
       " '469b8066-c071-458b-af3c-45838c40dd9d',\n",
       " 'f9cccad3-3658-467d-af73-e293a9516668',\n",
       " 'd408d541-435f-4b1d-97ca-bb01ca8adcfb',\n",
       " 'fe20f580-eb22-49f6-9af1-2531b9bb005b',\n",
       " '73debe01-4702-4d89-a44a-200d05c16d02',\n",
       " '7a5ab6f9-ec02-4410-80c5-ba428fb31266',\n",
       " 'aed14ea0-85d9-418b-9544-40f4af17b29b',\n",
       " '97159fff-09ea-47b3-aaa0-2e5f6338cd68',\n",
       " '8b6e10de-3c5b-4471-92a7-91b8615da634',\n",
       " '6a1118bc-9c30-478e-92a8-4aed9865f387',\n",
       " 'c9a2b1ba-b805-42e6-bcc2-84d4580fe881',\n",
       " '49445af9-ed7b-4983-bbb8-d3bf25b2bf5a',\n",
       " '32ef1dd7-914b-43b9-b79d-d36c56625acf',\n",
       " 'b7b36740-ca0d-49ee-b5da-347b85b8a055',\n",
       " 'a6b7f239-f581-47c2-b12a-006e2830f6aa',\n",
       " 'd14cf90f-a6ce-4969-a24b-d8b92f4eb3ae',\n",
       " 'e559a450-8fad-4e0e-8578-d0d8f06a4d77',\n",
       " 'cf00ee93-9244-47e5-8f44-445bcd2d0c42',\n",
       " '93a40488-840e-43bf-975b-55180072b4d4',\n",
       " 'aac20ad9-bfdb-4549-a829-408bcda19cd2',\n",
       " 'a323915e-9bea-4164-b2a2-45facb278c8d',\n",
       " 'b97b4b59-2f96-4013-8ee2-3c78fed7e033',\n",
       " '3ec24268-2aa1-411a-b955-d640df6432a5',\n",
       " '7df15faf-7bc6-48c6-aa80-82b8c87118d0',\n",
       " 'fae6596f-0beb-4d8d-86cb-12ee5a2774fc',\n",
       " '89f11d81-117f-4e67-96e2-6afa7f0e96a0',\n",
       " '849e37ff-a113-461a-a147-508e2ad92446',\n",
       " 'fe1c7c8f-04f5-4843-90df-051ab64b289a',\n",
       " '4aac4bf9-255e-42be-9832-e5a7932e180b',\n",
       " '18a1ff8f-9e47-48b4-979b-2275bb876e64',\n",
       " '349b0069-7ff0-4928-8d04-911488119864',\n",
       " '3cd8e5a2-89b5-4b9c-a32a-796b531e673f',\n",
       " '195a6f3e-92cf-4b22-8921-128b052124c4',\n",
       " 'fadd8bed-c477-41ec-abde-06273caa6615',\n",
       " '28acd4fa-0cc1-411e-8850-dee710530962',\n",
       " 'f16adcbd-077e-494b-8416-8caa4b419d2d',\n",
       " 'bb36f06d-e6f8-489a-bf3d-bf0f26517494',\n",
       " '98d0ce65-3768-4f3e-934a-242681d4673d',\n",
       " 'daafa5a7-ef0d-44a4-8cba-9d336cadb3df',\n",
       " 'd2fe4bf2-f819-4020-a75d-b2a462de196a',\n",
       " '269aee65-1f0c-4fcb-a0ac-201a35ea1a5b',\n",
       " '95964d76-5189-4189-ae9b-67fadb5475c5',\n",
       " 'fc158d8a-556e-46f1-8e20-c00253c67c56',\n",
       " '226c2ce4-b3ca-4553-a2bc-f40ab206a00d',\n",
       " 'f81cacba-ce17-438a-ade7-e8d150a9afc1',\n",
       " 'd136eb8e-73f2-48fe-b57a-07c73d0c4bed',\n",
       " '82a7ecc4-7cbe-4ca3-bd81-88f3fe21b189',\n",
       " '6b64ec38-0866-4df3-811d-4a3c95f1eeec']"
      ]
     },
     "execution_count": 24,
     "metadata": {},
     "output_type": "execute_result"
    }
   ],
   "source": [
    "vectorDB.add_documents(documents)"
   ]
  },
  {
   "cell_type": "code",
   "execution_count": 25,
   "metadata": {},
   "outputs": [
    {
     "name": "stdout",
     "output_type": "stream",
     "text": [
      "[초기화] retriever 초기화 완료\n"
     ]
    }
   ],
   "source": [
    "retriever = pipeline.init_retriever()"
   ]
  },
  {
   "cell_type": "code",
   "execution_count": 30,
   "metadata": {},
   "outputs": [
    {
     "data": {
      "text/plain": [
       "[Document(page_content='2019년 해외 이슈조사 보고서\\n6. FSSAI 라이선스 발급제도\\n가. FSSAI 라이선스 발급절차\\n(1) 유의사항\\n▪\\nFSSAI 라이선스 발급절차 및 유의사항은 「Food Safety and Standards\\n(Licensing and Registration of Food Businesses) Regulation, 2011」에\\n구체적으로 명시됨\\n(2) 발급절차\\n▪\\n1단계 서류 제출: 신청서류 (FORM B)와 신청한 식품 사업 분야에 맞게 필요\\n서류들을 선택하여 FSSAI 웹사이트에 제출해야 함\\n(https://foodlicensing.fssai.gov.in/index.aspx)\\n▪\\n2단계 서류심사: FSSAI에서 신청서 및 제출 서류를 면밀히 조사하며,\\n신청서를 제출한 뒤 15일 내에 FSSAI는 추가 정보가 필요하거나 신청서가\\n불완전한 경우 신청자에게 추가 정보 및 서류를 요청할 수 있음. FSSAI에서\\n신청서 및 추가로 제공한 정보에 이상이 없으면, FSSAI는 신청자에게 고유의\\n신청서 번호를 발급\\n▪\\n3단계 FSSAI 라이선스 발급: FSSAI는 신청자에게 FORM C양식의 라이센스를\\n발급해야 하며, 신청자는 식품 사업을 영위하는 곳에 면허증 사본을 전시해야\\n함\\n32\\n', metadata={'category': '3. 정책 및 무역', 'datetimes': '2024-07-08 16:41:51', 'filename': 'data/PDF_with_contents/3. 정책 및 무역/[정책][KATI 농식품수출정보][2019]인도 전문 식품수입.pdf', 'page_no': 13, 'subcategory': '가. FSSAI 라이선스 발급절차'}),\n",
       " Document(page_content='2019년 해외 이슈조사 보고서\\n6. FSSAI 라이선스 발급제도\\n가. FSSAI 라이선스 발급절차\\n(1) 유의사항\\n▪\\nFSSAI 라이선스 발급절차 및 유의사항은 「Food Safety and Standards\\n(Licensing and Registration of Food Businesses) Regulation, 2011」에\\n구체적으로 명시됨\\n(2) 발급절차\\n▪\\n1단계 서류 제출: 신청서류 (FORM B)와 신청한 식품 사업 분야에 맞게 필요\\n서류들을 선택하여 FSSAI 웹사이트에 제출해야 함\\n(https://foodlicensing.fssai.gov.in/index.aspx)\\n▪\\n2단계 서류심사: FSSAI에서 신청서 및 제출 서류를 면밀히 조사하며,\\n신청서를 제출한 뒤 15일 내에 FSSAI는 추가 정보가 필요하거나 신청서가\\n불완전한 경우 신청자에게 추가 정보 및 서류를 요청할 수 있음. FSSAI에서\\n신청서 및 추가로 제공한 정보에 이상이 없으면, FSSAI는 신청자에게 고유의\\n신청서 번호를 발급\\n▪\\n3단계 FSSAI 라이선스 발급: FSSAI는 신청자에게 FORM C양식의 라이센스를\\n발급해야 하며, 신청자는 식품 사업을 영위하는 곳에 면허증 사본을 전시해야\\n함\\n32\\n', metadata={'category': '3. 정책 및 무역', 'datetimes': '2024-07-08 16:41:51', 'filename': 'data/PDF_with_contents/3. 정책 및 무역/[정책][KATI 농식품수출정보][2019]인도 전문 식품수입.pdf', 'page_no': 12, 'subcategory': '6. FSSAI 라이선스 발급제도'}),\n",
       " Document(page_content='인도 전문 식품수입 벤더현황\\n(3) 제조시설 시찰 (Licensing Regulations 2.1.4 (4)에 명시)\\n▪\\n제조시설 시찰은 항상 시행되지 않으며, 신청 ID 번호 발행 후 허가 당국은\\n식품 안전 책임자 또는 그러한 기능을 위해 특별히 지정된 모든 사람 또는\\n기관에게 인도 규정에 따라 인도의 식품 안전 및 표준 기관이 정한 방식으로\\n해당 시설을 검사하도록 지시할 수 있음\\n나. 라이선스의 유효 기간 및 갱신\\n▪\\nFSS 2011 법에 따라, 달리 명시되지 않는 한, 부여된 등록증 또는 라이선스는,\\n식품 사업자가 선택한 1년 내지 5년 동안 유효하며, 해당 기간 동안 적용되는\\n수수료의 송금 및 모든 면허 조건의 준수를 조건으로 등록 또는 면허를 발행\\n▪\\n면허증에 명시된 만료일 30일 이전까지 갱신 신청을 해야 함\\n33\\n', metadata={'category': '3. 정책 및 무역', 'datetimes': '2024-07-08 16:41:51', 'filename': 'data/PDF_with_contents/3. 정책 및 무역/[정책][KATI 농식품수출정보][2019]인도 전문 식품수입.pdf', 'page_no': 14, 'subcategory': '나. 라이선스의 유효 기간 및 갱신'}),\n",
       " Document(page_content='신청서류의 접수일로부터 약 3개월내 인 증획 득이완 료되지만인 증신청이거 부되는경 우에는접 수일로부터6\\n개월이 내에사 유와함 께통 지된다. 이 경 우,신 청자는통 지일로부터 45일 내 이의를 제기할 수 있다. 또한,\\nCDSCO 인증 획득 절차는인 도수 출전 에완 료되어야하 고,등 록번호외 제 품명,제 조자명,제 조사주 소,무 게,성\\n분및 성 분함량,사용 법등에 대해 서CD SCO규정 에맞게 표시 한라벨 을제품 에부착하 여수출하 여야한다. 또한,\\n인증신 청당 시의 제조자 가변경된 경우에는 변경일로 부터180일이 내CD SCO 재신청을 하여야하 고,수입 자\\n,제 조자등의 이름, 주소 등이변 경된 경우 에는변 경일로부터 60일이내에 변경사 항을서 면으로CDS CO에제\\n출하여통지 하여야한 다.\\n2. 수입 전 등록 및 허가제도\\n가. 철강제품 수입 전 모니터링 시스템 상 화물정보 등록 의무\\n① 주요 내용\\n인도는 철강, 석탄, 구리,알 루미늄,반 도체에대 해수 입모 니터링제 도를운 영하고있 다.이 들제 품을수 입할\\n때 는화물 도착 전에 미리 화물 정보를각온 라 인시스 템에등록 해야한다.화물 정보를사전 에등록하 지않은 경\\n우 ,인도에 서수입 통관이 불가하 며과태료 및수출 입 코드(IEC)의사용정 지등 의불 이익 이있을수 있으 므 로\\n유의하 여야한다.\\n② 사례\\nJ사는 자사의 사업장에서사 용할목 적으로한 국에서철 제기 구(HSC ode:73 XX)를주 문하였다.첸 나이항도\\n착을며 칠앞 두고,J사 는철 강제품 을인도 에수입 시화 물 도착 15일 전까지그화 물 정보를철강 수입 모니 터링\\n시스템 (SteelImpo rtMoni toringSyste m,이하“ SIMS ”)에등록하 여야한다는 사실을 알게되었 으나 ,이미\\n등록 기한 이경과한후 였다.J 사는SIM S미등 록에대 한불이익 과이 후조치사 항에 관하여첸나 이CEP A활용\\n지원센 터에문의하였다 .\\n첸나이 CEPA활용지원센터는 SIMS주 관부서인대 외무역총국(DGFT)에S IMS미 등록시 불 이익과함 께사\\n후등 록가 능여 부를문 의하였다.대 외무역총국에서관 련규 정상등 록기한 은수입 화물 도착 전1 5일 이지만,\\n실무 적으로해당 기한 내등 록 이어려 운경우 가많으 므로도착 전1 5일 이후 에도SIM S등록 이가능 하다고답\\n변 을받았다 .첸나이 CEPA 활용지원센터는동답변 내 용과 SIMS 등록방 법을 해당 기 업에게 전달하였으며 ,수\\n32 | 사례로 정리해보는 한-인도 CEPA 활용법 및 인도 통상 애로\\n', metadata={'category': '3. 정책 및 무역', 'datetimes': '2024-07-08 16:41:37', 'filename': 'data/PDF_with_contents/3. 정책 및 무역/[법률_규범_특허][코트라][2022]한-인도 CEPA 활용법 및 인도 통상 애로.pdf', 'page_no': 14, 'subcategory': '2. 수입 전 등록 및 허가제도 /'}),\n",
       " Document(page_content='신청서류의 접수일로부터 약 3개월내 인 증획 득이완 료되지만인 증신청이거 부되는경 우에는접 수일로부터6\\n개월이 내에사 유와함 께통 지된다. 이 경 우,신 청자는통 지일로부터 45일 내 이의를 제기할 수 있다. 또한,\\nCDSCO 인증 획득 절차는인 도수 출전 에완 료되어야하 고,등 록번호외 제 품명,제 조자명,제 조사주 소,무 게,성\\n분및 성 분함량,사용 법등에 대해 서CD SCO규정 에맞게 표시 한라벨 을제품 에부착하 여수출하 여야한다. 또한,\\n인증신 청당 시의 제조자 가변경된 경우에는 변경일로 부터180일이 내CD SCO 재신청을 하여야하 고,수입 자\\n,제 조자등의 이름, 주소 등이변 경된 경우 에는변 경일로부터 60일이내에 변경사 항을서 면으로CDS CO에제\\n출하여통지 하여야한 다.\\n2. 수입 전 등록 및 허가제도\\n가. 철강제품 수입 전 모니터링 시스템 상 화물정보 등록 의무\\n① 주요 내용\\n인도는 철강, 석탄, 구리,알 루미늄,반 도체에대 해수 입모 니터링제 도를운 영하고있 다.이 들제 품을수 입할\\n때 는화물 도착 전에 미리 화물 정보를각온 라 인시스 템에등록 해야한다.화물 정보를사전 에등록하 지않은 경\\n우 ,인도에 서수입 통관이 불가하 며과태료 및수출 입 코드(IEC)의사용정 지등 의불 이익 이있을수 있으 므 로\\n유의하 여야한다.\\n② 사례\\nJ사는 자사의 사업장에서사 용할목 적으로한 국에서철 제기 구(HSC ode:73 XX)를주 문하였다.첸 나이항도\\n착을며 칠앞 두고,J사 는철 강제품 을인도 에수입 시화 물 도착 15일 전까지그화 물 정보를철강 수입 모니 터링\\n시스템 (SteelImpo rtMoni toringSyste m,이하“ SIMS ”)에등록하 여야한다는 사실을 알게되었 으나 ,이미\\n등록 기한 이경과한후 였다.J 사는SIM S미등 록에대 한불이익 과이 후조치사 항에 관하여첸나 이CEP A활용\\n지원센 터에문의하였다 .\\n첸나이 CEPA활용지원센터는 SIMS주 관부서인대 외무역총국(DGFT)에S IMS미 등록시 불 이익과함 께사\\n후등 록가 능여 부를문 의하였다.대 외무역총국에서관 련규 정상등 록기한 은수입 화물 도착 전1 5일 이지만,\\n실무 적으로해당 기한 내등 록 이어려 운경우 가많으 므로도착 전1 5일 이후 에도SIM S등록 이가능 하다고답\\n변 을받았다 .첸나이 CEPA 활용지원센터는동답변 내 용과 SIMS 등록방 법을 해당 기 업에게 전달하였으며 ,수\\n32 | 사례로 정리해보는 한-인도 CEPA 활용법 및 인도 통상 애로\\n', metadata={'category': '3. 정책 및 무역', 'datetimes': '2024-07-08 16:41:37', 'filename': 'data/PDF_with_contents/3. 정책 및 무역/[법률_규범_특허][코트라][2022]한-인도 CEPA 활용법 및 인도 통상 애로.pdf', 'page_no': 15, 'subcategory': '가. 철강제품 수입 전 모니터링 시스템 상 화물정보 등록 의무 /'})]"
      ]
     },
     "execution_count": 30,
     "metadata": {},
     "output_type": "execute_result"
    }
   ],
   "source": [
    "query = 'FSSAI 라이선스 발급 절차는 몇 단계로 이루어져 있나요?'\n",
    "\n",
    "docs = retriever.get_relevant_documents(query)\n",
    "\n",
    "docs"
   ]
  },
  {
   "cell_type": "code",
   "execution_count": 29,
   "metadata": {},
   "outputs": [
    {
     "data": {
      "text/plain": [
       "{'category': '3. 정책 및 무역',\n",
       " 'datetimes': '2024-07-08 16:42:45',\n",
       " 'filename': 'data/PDF_with_contents/3. 정책 및 무역/[정책][한국무역협회][2020.09.14][최종_KITA 통상리포트 11호_인도 수입규제 동향과 우리기업의 대응방안.pdf',\n",
       " 'page_no': 2,\n",
       " 'subcategory': '03. 반덤핑제도 운영상의 주요 특징'}"
      ]
     },
     "execution_count": 29,
     "metadata": {},
     "output_type": "execute_result"
    }
   ],
   "source": [
    "docs[0].metadata"
   ]
  },
  {
   "cell_type": "code",
   "execution_count": null,
   "metadata": {},
   "outputs": [],
   "source": []
  }
 ],
 "metadata": {
  "kernelspec": {
   "display_name": "AUTORAG",
   "language": "python",
   "name": "python3"
  },
  "language_info": {
   "codemirror_mode": {
    "name": "ipython",
    "version": 3
   },
   "file_extension": ".py",
   "mimetype": "text/x-python",
   "name": "python",
   "nbconvert_exporter": "python",
   "pygments_lexer": "ipython3",
   "version": "3.12.4"
  }
 },
 "nbformat": 4,
 "nbformat_minor": 2
}
