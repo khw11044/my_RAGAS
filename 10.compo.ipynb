{
 "cells": [
  {
   "cell_type": "code",
   "execution_count": 1,
   "metadata": {},
   "outputs": [
    {
     "name": "stdout",
     "output_type": "stream",
     "text": [
      "LangChain API Key가 설정되지 않았습니다. 참고: https://wikidocs.net/250954\n"
     ]
    }
   ],
   "source": [
    "# LangSmith 추적을 설정합니다. https://smith.langchain.com\n",
    "# .env 파일에 LANGCHAIN_API_KEY를 입력합니다.\n",
    "# !pip install -qU langchain-teddynote\n",
    "from langchain_teddynote import logging\n",
    "\n",
    "# 프로젝트 이름을 입력합니다.\n",
    "logging.langsmith(\"Big_Pro_01_compo\")"
   ]
  },
  {
   "cell_type": "code",
   "execution_count": 1,
   "metadata": {},
   "outputs": [
    {
     "name": "stderr",
     "output_type": "stream",
     "text": [
      "USER_AGENT environment variable not set, consider setting it to identify your requests.\n"
     ]
    }
   ],
   "source": [
    "# import os \n",
    "# from langchain_teddynote.messages import stream_response\n",
    "\n",
    "from utils.RAGPipeLine import Ragpipeline"
   ]
  },
  {
   "cell_type": "code",
   "execution_count": 2,
   "metadata": {},
   "outputs": [
    {
     "name": "stdout",
     "output_type": "stream",
     "text": [
      "[초기화] vector_store 초기화 완료\n",
      "[초기화] retriever 초기화 완료\n",
      "[초기화] RAG chain 초기화 완료\n"
     ]
    },
    {
     "name": "stderr",
     "output_type": "stream",
     "text": [
      "c:\\Users\\kim_h\\anaconda3\\envs\\AUTORAG\\Lib\\site-packages\\langchain_core\\_api\\deprecation.py:139: LangChainDeprecationWarning: The class `GoogleSearchAPIWrapper` was deprecated in LangChain 0.0.33 and will be removed in 0.3.0. An updated version of the class exists in the langchain-google-community package and should be used instead. To use it run `pip install -U langchain-google-community` and import as `from langchain_google_community import GoogleSearchAPIWrapper`.\n",
      "  warn_deprecated(\n"
     ]
    },
    {
     "name": "stdout",
     "output_type": "stream",
     "text": [
      "[초기화] RAG title chain 초기화 완료\n",
      "[초기화] RAG post chain 초기화 완료\n"
     ]
    }
   ],
   "source": [
    "pipeline = Ragpipeline()"
   ]
  },
  {
   "cell_type": "markdown",
   "metadata": {},
   "source": [
    "### 1.1 확인해보기 - DB 접근 및 질문에 대한 유사도 확인 "
   ]
  },
  {
   "cell_type": "code",
   "execution_count": 3,
   "metadata": {},
   "outputs": [
    {
     "name": "stdout",
     "output_type": "stream",
     "text": [
      "[초기화] vector_store 초기화 완료\n"
     ]
    }
   ],
   "source": [
    "vectorDB = pipeline.init_vectorDB()\n",
    "\n",
    "# 특정 데이터베이스에 접근하고 싶을때\n",
    "# persist_dir = \"./database\"        \n",
    "# vectorDB = pipeline.init_vectorDB(persist_dir)        "
   ]
  },
  {
   "cell_type": "code",
   "execution_count": 4,
   "metadata": {},
   "outputs": [
    {
     "name": "stderr",
     "output_type": "stream",
     "text": [
      "<>:5: SyntaxWarning: invalid escape sequence '\\['\n",
      "<>:5: SyntaxWarning: invalid escape sequence '\\['\n",
      "C:\\Users\\kim_h\\AppData\\Local\\Temp\\ipykernel_11072\\1111581026.py:5: SyntaxWarning: invalid escape sequence '\\['\n",
      "  obj.file.path = 'raw_docs\\[국가지원사례][외교부][2023]재외공관의 해외진출기업 지원 사례집.pdf'\n"
     ]
    }
   ],
   "source": [
    "from utils.RAGdoc import RagDocument\n",
    "\n",
    "obj = RagDocument()\n",
    "# obj.file.path = './documents/크롤링_리스트.csv'\n",
    "obj.file.path = 'raw_docs\\[국가지원사례][외교부][2023]재외공관의 해외진출기업 지원 사례집.pdf'"
   ]
  },
  {
   "cell_type": "code",
   "execution_count": 2,
   "metadata": {},
   "outputs": [
    {
     "data": {
      "text/plain": [
       "['./raw_docs\\\\[국가지원사례][외교부][2023]재외공관의 해외진출기업 지원 사례집.pdf',\n",
       " './raw_docs\\\\[법률_규범_특허][코트라][2022]한-인도 CEPA 활용법 및 인도 통상 애로.pdf',\n",
       " './raw_docs\\\\[정책][KATI 농식품수출정보][2019]인도 전문 식품수입.pdf',\n",
       " './raw_docs\\\\[정책][관세청][2019.11.07]신남방국 통관·통상환경 및 FTA 활용방안.pdf',\n",
       " './raw_docs\\\\[정책][한국무역협회][2020.09.14][최종_KITA 통상리포트 11호_인도 수입규제 동향과 우리기업의 대응방안.pdf']"
      ]
     },
     "execution_count": 2,
     "metadata": {},
     "output_type": "execute_result"
    }
   ],
   "source": [
    "import glob \n",
    "\n",
    "files = glob.glob('./raw_docs/*')\n",
    "\n",
    "files"
   ]
  },
  {
   "cell_type": "code",
   "execution_count": 4,
   "metadata": {},
   "outputs": [],
   "source": [
    "from llama_index.core import SimpleDirectoryReader\n",
    "from llama_index.core.node_parser import TokenTextSplitter\n",
    "\n",
    "dir_path = './raw_docs'\n",
    "\n",
    "documents = SimpleDirectoryReader(dir_path, recursive=True).load_data()\n",
    "nodes = TokenTextSplitter().get_nodes_from_documents(documents=documents, chunk_size=256, chunk_overlap=64)\n",
    "    "
   ]
  },
  {
   "cell_type": "code",
   "execution_count": null,
   "metadata": {},
   "outputs": [],
   "source": [
    "db = Chroma.from_documents(nodes, stf_embeddings)"
   ]
  },
  {
   "cell_type": "code",
   "execution_count": 7,
   "metadata": {},
   "outputs": [
    {
     "name": "stderr",
     "output_type": "stream",
     "text": [
      "유사도 검사 중...:   0%|          | 1/265 [00:00<01:04,  4.08it/s]"
     ]
    },
    {
     "name": "stdout",
     "output_type": "stream",
     "text": [
      "기존 DB에 유사한 청크가 있음으로 판단되어 추가되지 않음  - 0.0\n"
     ]
    },
    {
     "name": "stderr",
     "output_type": "stream",
     "text": [
      "유사도 검사 중...:   1%|          | 2/265 [00:00<01:17,  3.37it/s]"
     ]
    },
    {
     "name": "stdout",
     "output_type": "stream",
     "text": [
      "기존 DB에 유사한 청크가 있음으로 판단되어 추가되지 않음  - 0.00014147971523925662\n"
     ]
    },
    {
     "name": "stderr",
     "output_type": "stream",
     "text": [
      "유사도 검사 중...:   1%|          | 3/265 [00:00<01:19,  3.28it/s]"
     ]
    },
    {
     "name": "stdout",
     "output_type": "stream",
     "text": [
      "기존 DB에 유사한 청크가 있음으로 판단되어 추가되지 않음  - 3.785829676417052e-06\n"
     ]
    },
    {
     "name": "stderr",
     "output_type": "stream",
     "text": [
      "유사도 검사 중...:   2%|▏         | 4/265 [00:01<01:21,  3.19it/s]"
     ]
    },
    {
     "name": "stdout",
     "output_type": "stream",
     "text": [
      "기존 DB에 유사한 청크가 있음으로 판단되어 추가되지 않음  - 3.780776751227677e-05\n"
     ]
    },
    {
     "name": "stderr",
     "output_type": "stream",
     "text": [
      "유사도 검사 중...:   2%|▏         | 5/265 [00:01<01:14,  3.48it/s]"
     ]
    },
    {
     "name": "stdout",
     "output_type": "stream",
     "text": [
      "기존 DB에 유사한 청크가 있음으로 판단되어 추가되지 않음  - 4.553607141133398e-06\n"
     ]
    },
    {
     "name": "stderr",
     "output_type": "stream",
     "text": [
      "유사도 검사 중...:   2%|▏         | 6/265 [00:01<01:16,  3.38it/s]"
     ]
    },
    {
     "name": "stdout",
     "output_type": "stream",
     "text": [
      "기존 DB에 유사한 청크가 있음으로 판단되어 추가되지 않음  - 1.0703394764277618e-05\n"
     ]
    },
    {
     "name": "stderr",
     "output_type": "stream",
     "text": [
      "유사도 검사 중...:   3%|▎         | 7/265 [00:02<01:18,  3.30it/s]"
     ]
    },
    {
     "name": "stdout",
     "output_type": "stream",
     "text": [
      "기존 DB에 유사한 청크가 있음으로 판단되어 추가되지 않음  - 1.579216245772841e-06\n"
     ]
    },
    {
     "name": "stderr",
     "output_type": "stream",
     "text": [
      "유사도 검사 중...:   3%|▎         | 8/265 [00:02<01:13,  3.50it/s]"
     ]
    },
    {
     "name": "stdout",
     "output_type": "stream",
     "text": [
      "기존 DB에 유사한 청크가 있음으로 판단되어 추가되지 않음  - 5.894996320421342e-06\n"
     ]
    },
    {
     "name": "stderr",
     "output_type": "stream",
     "text": [
      "유사도 검사 중...:   3%|▎         | 9/265 [00:02<01:15,  3.38it/s]"
     ]
    },
    {
     "name": "stdout",
     "output_type": "stream",
     "text": [
      "기존 DB에 유사한 청크가 있음으로 판단되어 추가되지 않음  - 5.400039754022146e-06\n"
     ]
    },
    {
     "name": "stderr",
     "output_type": "stream",
     "text": [
      "유사도 검사 중...:   4%|▍         | 10/265 [00:02<01:16,  3.33it/s]"
     ]
    },
    {
     "name": "stdout",
     "output_type": "stream",
     "text": [
      "기존 DB에 유사한 청크가 있음으로 판단되어 추가되지 않음  - 2.03201034310041e-06\n"
     ]
    },
    {
     "name": "stderr",
     "output_type": "stream",
     "text": [
      "유사도 검사 중...:   4%|▍         | 11/265 [00:03<01:14,  3.41it/s]"
     ]
    },
    {
     "name": "stdout",
     "output_type": "stream",
     "text": [
      "기존 DB에 유사한 청크가 있음으로 판단되어 추가되지 않음  - 2.213287189078983e-05\n"
     ]
    },
    {
     "name": "stderr",
     "output_type": "stream",
     "text": [
      "유사도 검사 중...:   5%|▍         | 12/265 [00:03<01:14,  3.41it/s]"
     ]
    },
    {
     "name": "stdout",
     "output_type": "stream",
     "text": [
      "기존 DB에 유사한 청크가 있음으로 판단되어 추가되지 않음  - 0.0\n"
     ]
    },
    {
     "name": "stderr",
     "output_type": "stream",
     "text": [
      "유사도 검사 중...:   5%|▍         | 13/265 [00:03<01:08,  3.68it/s]"
     ]
    },
    {
     "name": "stdout",
     "output_type": "stream",
     "text": [
      "기존 DB에 유사한 청크가 있음으로 판단되어 추가되지 않음  - 2.891538770199986e-06\n"
     ]
    },
    {
     "name": "stderr",
     "output_type": "stream",
     "text": [
      "유사도 검사 중...:   5%|▌         | 14/265 [00:04<01:12,  3.47it/s]"
     ]
    },
    {
     "name": "stdout",
     "output_type": "stream",
     "text": [
      "기존 DB에 유사한 청크가 있음으로 판단되어 추가되지 않음  - 5.338788923836546e-06\n"
     ]
    },
    {
     "name": "stderr",
     "output_type": "stream",
     "text": [
      "유사도 검사 중...:   6%|▌         | 15/265 [00:04<01:09,  3.62it/s]"
     ]
    },
    {
     "name": "stdout",
     "output_type": "stream",
     "text": [
      "기존 DB에 유사한 청크가 있음으로 판단되어 추가되지 않음  - 7.359316896327073e-06\n"
     ]
    },
    {
     "name": "stderr",
     "output_type": "stream",
     "text": [
      "유사도 검사 중...:   6%|▌         | 16/265 [00:04<01:04,  3.85it/s]"
     ]
    },
    {
     "name": "stdout",
     "output_type": "stream",
     "text": [
      "기존 DB에 유사한 청크가 있음으로 판단되어 추가되지 않음  - 0.00012945283378940076\n"
     ]
    },
    {
     "name": "stderr",
     "output_type": "stream",
     "text": [
      "유사도 검사 중...:   6%|▋         | 17/265 [00:04<01:06,  3.73it/s]"
     ]
    },
    {
     "name": "stdout",
     "output_type": "stream",
     "text": [
      "기존 DB에 유사한 청크가 있음으로 판단되어 추가되지 않음  - 8.479743701172993e-05\n"
     ]
    },
    {
     "name": "stderr",
     "output_type": "stream",
     "text": [
      "유사도 검사 중...:   7%|▋         | 18/265 [00:05<01:03,  3.88it/s]"
     ]
    },
    {
     "name": "stdout",
     "output_type": "stream",
     "text": [
      "기존 DB에 유사한 청크가 있음으로 판단되어 추가되지 않음  - 4.1200887608283665e-06\n"
     ]
    },
    {
     "name": "stderr",
     "output_type": "stream",
     "text": [
      "유사도 검사 중...:   7%|▋         | 19/265 [00:05<01:01,  3.98it/s]"
     ]
    },
    {
     "name": "stdout",
     "output_type": "stream",
     "text": [
      "기존 DB에 유사한 청크가 있음으로 판단되어 추가되지 않음  - 8.690814865985885e-06\n"
     ]
    },
    {
     "name": "stderr",
     "output_type": "stream",
     "text": [
      "유사도 검사 중...:   8%|▊         | 20/265 [00:05<01:02,  3.91it/s]"
     ]
    },
    {
     "name": "stdout",
     "output_type": "stream",
     "text": [
      "기존 DB에 유사한 청크가 있음으로 판단되어 추가되지 않음  - 4.421812263899483e-06\n"
     ]
    },
    {
     "name": "stderr",
     "output_type": "stream",
     "text": [
      "유사도 검사 중...:   8%|▊         | 21/265 [00:05<01:00,  4.04it/s]"
     ]
    },
    {
     "name": "stdout",
     "output_type": "stream",
     "text": [
      "기존 DB에 유사한 청크가 있음으로 판단되어 추가되지 않음  - 2.308488546987064e-06\n"
     ]
    },
    {
     "name": "stderr",
     "output_type": "stream",
     "text": [
      "유사도 검사 중...:   8%|▊         | 22/265 [00:06<01:02,  3.88it/s]"
     ]
    },
    {
     "name": "stdout",
     "output_type": "stream",
     "text": [
      "기존 DB에 유사한 청크가 있음으로 판단되어 추가되지 않음  - 0.00011765035742428154\n"
     ]
    },
    {
     "name": "stderr",
     "output_type": "stream",
     "text": [
      "유사도 검사 중...:   9%|▊         | 23/265 [00:06<01:06,  3.64it/s]"
     ]
    },
    {
     "name": "stdout",
     "output_type": "stream",
     "text": [
      "기존 DB에 유사한 청크가 있음으로 판단되어 추가되지 않음  - 3.3995377179962816e-06\n"
     ]
    },
    {
     "name": "stderr",
     "output_type": "stream",
     "text": [
      "유사도 검사 중...:   9%|▉         | 24/265 [00:06<01:09,  3.47it/s]"
     ]
    },
    {
     "name": "stdout",
     "output_type": "stream",
     "text": [
      "기존 DB에 유사한 청크가 있음으로 판단되어 추가되지 않음  - 7.345624453591881e-06\n"
     ]
    },
    {
     "name": "stderr",
     "output_type": "stream",
     "text": [
      "유사도 검사 중...:   9%|▉         | 25/265 [00:07<01:11,  3.34it/s]"
     ]
    },
    {
     "name": "stdout",
     "output_type": "stream",
     "text": [
      "기존 DB에 유사한 청크가 있음으로 판단되어 추가되지 않음  - 8.268938108813018e-05\n"
     ]
    },
    {
     "name": "stderr",
     "output_type": "stream",
     "text": [
      "유사도 검사 중...:  10%|▉         | 26/265 [00:07<01:11,  3.33it/s]"
     ]
    },
    {
     "name": "stdout",
     "output_type": "stream",
     "text": [
      "기존 DB에 유사한 청크가 있음으로 판단되어 추가되지 않음  - 2.4850702175172046e-05\n"
     ]
    },
    {
     "name": "stderr",
     "output_type": "stream",
     "text": [
      "유사도 검사 중...:  10%|█         | 27/265 [00:07<01:06,  3.58it/s]"
     ]
    },
    {
     "name": "stdout",
     "output_type": "stream",
     "text": [
      "기존 DB에 유사한 청크가 있음으로 판단되어 추가되지 않음  - 4.585892838804284e-06\n"
     ]
    },
    {
     "name": "stderr",
     "output_type": "stream",
     "text": [
      "유사도 검사 중...:  11%|█         | 28/265 [00:07<01:07,  3.52it/s]"
     ]
    },
    {
     "name": "stdout",
     "output_type": "stream",
     "text": [
      "기존 DB에 유사한 청크가 있음으로 판단되어 추가되지 않음  - 9.250623406842351e-06\n"
     ]
    },
    {
     "name": "stderr",
     "output_type": "stream",
     "text": [
      "유사도 검사 중...:  11%|█         | 29/265 [00:08<01:08,  3.42it/s]"
     ]
    },
    {
     "name": "stdout",
     "output_type": "stream",
     "text": [
      "기존 DB에 유사한 청크가 있음으로 판단되어 추가되지 않음  - 3.141408888041042e-05\n"
     ]
    },
    {
     "name": "stderr",
     "output_type": "stream",
     "text": [
      "유사도 검사 중...:  11%|█▏        | 30/265 [00:08<01:10,  3.33it/s]"
     ]
    },
    {
     "name": "stdout",
     "output_type": "stream",
     "text": [
      "기존 DB에 유사한 청크가 있음으로 판단되어 추가되지 않음  - 1.216889086208539e-05\n"
     ]
    },
    {
     "name": "stderr",
     "output_type": "stream",
     "text": [
      "유사도 검사 중...:  12%|█▏        | 31/265 [00:08<01:11,  3.29it/s]"
     ]
    },
    {
     "name": "stdout",
     "output_type": "stream",
     "text": [
      "기존 DB에 유사한 청크가 있음으로 판단되어 추가되지 않음  - 0.0006371576455421746\n"
     ]
    },
    {
     "name": "stderr",
     "output_type": "stream",
     "text": [
      "유사도 검사 중...:  12%|█▏        | 32/265 [00:09<01:09,  3.34it/s]"
     ]
    },
    {
     "name": "stdout",
     "output_type": "stream",
     "text": [
      "기존 DB에 유사한 청크가 있음으로 판단되어 추가되지 않음  - 0.0001980629313038662\n"
     ]
    },
    {
     "name": "stderr",
     "output_type": "stream",
     "text": [
      "유사도 검사 중...:  12%|█▏        | 33/265 [00:09<01:10,  3.28it/s]"
     ]
    },
    {
     "name": "stdout",
     "output_type": "stream",
     "text": [
      "기존 DB에 유사한 청크가 있음으로 판단되어 추가되지 않음  - 1.5641646314179525e-05\n"
     ]
    },
    {
     "name": "stderr",
     "output_type": "stream",
     "text": [
      "유사도 검사 중...:  13%|█▎        | 34/265 [00:09<01:05,  3.51it/s]"
     ]
    },
    {
     "name": "stdout",
     "output_type": "stream",
     "text": [
      "기존 DB에 유사한 청크가 있음으로 판단되어 추가되지 않음  - 1.1879889825650025e-05\n"
     ]
    },
    {
     "name": "stderr",
     "output_type": "stream",
     "text": [
      "유사도 검사 중...:  13%|█▎        | 35/265 [00:09<01:04,  3.54it/s]"
     ]
    },
    {
     "name": "stdout",
     "output_type": "stream",
     "text": [
      "기존 DB에 유사한 청크가 있음으로 판단되어 추가되지 않음  - 9.310751920565963e-06\n"
     ]
    },
    {
     "name": "stderr",
     "output_type": "stream",
     "text": [
      "유사도 검사 중...:  14%|█▎        | 36/265 [00:10<01:05,  3.47it/s]"
     ]
    },
    {
     "name": "stdout",
     "output_type": "stream",
     "text": [
      "기존 DB에 유사한 청크가 있음으로 판단되어 추가되지 않음  - 2.861918619601056e-05\n"
     ]
    },
    {
     "name": "stderr",
     "output_type": "stream",
     "text": [
      "유사도 검사 중...:  14%|█▍        | 37/265 [00:10<01:06,  3.45it/s]"
     ]
    },
    {
     "name": "stdout",
     "output_type": "stream",
     "text": [
      "기존 DB에 유사한 청크가 있음으로 판단되어 추가되지 않음  - 6.030867552908603e-06\n"
     ]
    },
    {
     "name": "stderr",
     "output_type": "stream",
     "text": [
      "유사도 검사 중...:  14%|█▍        | 38/265 [00:10<01:02,  3.63it/s]"
     ]
    },
    {
     "name": "stdout",
     "output_type": "stream",
     "text": [
      "기존 DB에 유사한 청크가 있음으로 판단되어 추가되지 않음  - 3.4138936371164164e-06\n"
     ]
    },
    {
     "name": "stderr",
     "output_type": "stream",
     "text": [
      "유사도 검사 중...:  15%|█▍        | 39/265 [00:11<01:04,  3.49it/s]"
     ]
    },
    {
     "name": "stdout",
     "output_type": "stream",
     "text": [
      "기존 DB에 유사한 청크가 있음으로 판단되어 추가되지 않음  - 1.7464668417233042e-05\n"
     ]
    },
    {
     "name": "stderr",
     "output_type": "stream",
     "text": [
      "유사도 검사 중...:  15%|█▌        | 40/265 [00:11<01:01,  3.66it/s]"
     ]
    },
    {
     "name": "stdout",
     "output_type": "stream",
     "text": [
      "기존 DB에 유사한 청크가 있음으로 판단되어 추가되지 않음  - 9.594359653419815e-06\n"
     ]
    },
    {
     "name": "stderr",
     "output_type": "stream",
     "text": [
      "유사도 검사 중...:  15%|█▌        | 41/265 [00:11<00:59,  3.76it/s]"
     ]
    },
    {
     "name": "stdout",
     "output_type": "stream",
     "text": [
      "기존 DB에 유사한 청크가 있음으로 판단되어 추가되지 않음  - 1.0409895367047284e-05\n"
     ]
    },
    {
     "name": "stderr",
     "output_type": "stream",
     "text": [
      "유사도 검사 중...:  16%|█▌        | 42/265 [00:11<01:02,  3.59it/s]"
     ]
    },
    {
     "name": "stdout",
     "output_type": "stream",
     "text": [
      "기존 DB에 유사한 청크가 있음으로 판단되어 추가되지 않음  - 3.0198931199265644e-05\n"
     ]
    },
    {
     "name": "stderr",
     "output_type": "stream",
     "text": [
      "유사도 검사 중...:  16%|█▌        | 43/265 [00:12<01:02,  3.57it/s]"
     ]
    },
    {
     "name": "stdout",
     "output_type": "stream",
     "text": [
      "기존 DB에 유사한 청크가 있음으로 판단되어 추가되지 않음  - 2.692390262382105e-05\n"
     ]
    },
    {
     "name": "stderr",
     "output_type": "stream",
     "text": [
      "유사도 검사 중...:  17%|█▋        | 44/265 [00:12<00:58,  3.75it/s]"
     ]
    },
    {
     "name": "stdout",
     "output_type": "stream",
     "text": [
      "기존 DB에 유사한 청크가 있음으로 판단되어 추가되지 않음  - 4.030342097394168e-06\n"
     ]
    },
    {
     "name": "stderr",
     "output_type": "stream",
     "text": [
      "유사도 검사 중...:  17%|█▋        | 45/265 [00:12<00:56,  3.92it/s]"
     ]
    },
    {
     "name": "stdout",
     "output_type": "stream",
     "text": [
      "기존 DB에 유사한 청크가 있음으로 판단되어 추가되지 않음  - 1.9165780031471513e-05\n"
     ]
    },
    {
     "name": "stderr",
     "output_type": "stream",
     "text": [
      "유사도 검사 중...:  17%|█▋        | 46/265 [00:12<00:55,  3.98it/s]"
     ]
    },
    {
     "name": "stdout",
     "output_type": "stream",
     "text": [
      "기존 DB에 유사한 청크가 있음으로 판단되어 추가되지 않음  - 1.898284608614631e-05\n"
     ]
    },
    {
     "name": "stderr",
     "output_type": "stream",
     "text": [
      "유사도 검사 중...:  18%|█▊        | 47/265 [00:13<00:57,  3.80it/s]"
     ]
    },
    {
     "name": "stdout",
     "output_type": "stream",
     "text": [
      "기존 DB에 유사한 청크가 있음으로 판단되어 추가되지 않음  - 3.541343176038936e-05\n"
     ]
    },
    {
     "name": "stderr",
     "output_type": "stream",
     "text": [
      "유사도 검사 중...:  18%|█▊        | 48/265 [00:13<01:01,  3.55it/s]"
     ]
    },
    {
     "name": "stdout",
     "output_type": "stream",
     "text": [
      "기존 DB에 유사한 청크가 있음으로 판단되어 추가되지 않음  - 1.2585586546265404e-06\n"
     ]
    },
    {
     "name": "stderr",
     "output_type": "stream",
     "text": [
      "유사도 검사 중...:  18%|█▊        | 49/265 [00:13<01:02,  3.48it/s]"
     ]
    },
    {
     "name": "stdout",
     "output_type": "stream",
     "text": [
      "기존 DB에 유사한 청크가 있음으로 판단되어 추가되지 않음  - 6.88262980474974e-06\n"
     ]
    },
    {
     "name": "stderr",
     "output_type": "stream",
     "text": [
      "유사도 검사 중...:  19%|█▉        | 50/265 [00:14<00:58,  3.69it/s]"
     ]
    },
    {
     "name": "stdout",
     "output_type": "stream",
     "text": [
      "기존 DB에 유사한 청크가 있음으로 판단되어 추가되지 않음  - 0.00011577840632526204\n"
     ]
    },
    {
     "name": "stderr",
     "output_type": "stream",
     "text": [
      "유사도 검사 중...:  19%|█▉        | 51/265 [00:14<01:02,  3.43it/s]"
     ]
    },
    {
     "name": "stdout",
     "output_type": "stream",
     "text": [
      "기존 DB에 유사한 청크가 있음으로 판단되어 추가되지 않음  - 3.7654469906556187e-06\n"
     ]
    },
    {
     "name": "stderr",
     "output_type": "stream",
     "text": [
      "유사도 검사 중...:  20%|█▉        | 52/265 [00:14<01:00,  3.51it/s]"
     ]
    },
    {
     "name": "stdout",
     "output_type": "stream",
     "text": [
      "기존 DB에 유사한 청크가 있음으로 판단되어 추가되지 않음  - 3.365581051184563e-06\n"
     ]
    },
    {
     "name": "stderr",
     "output_type": "stream",
     "text": [
      "유사도 검사 중...:  20%|██        | 53/265 [00:14<01:02,  3.40it/s]"
     ]
    },
    {
     "name": "stdout",
     "output_type": "stream",
     "text": [
      "기존 DB에 유사한 청크가 있음으로 판단되어 추가되지 않음  - 2.5442216156079667e-06\n"
     ]
    },
    {
     "name": "stderr",
     "output_type": "stream",
     "text": [
      "유사도 검사 중...:  20%|██        | 54/265 [00:15<01:04,  3.28it/s]"
     ]
    },
    {
     "name": "stdout",
     "output_type": "stream",
     "text": [
      "기존 DB에 유사한 청크가 있음으로 판단되어 추가되지 않음  - 0.00010717652912717313\n"
     ]
    },
    {
     "name": "stderr",
     "output_type": "stream",
     "text": [
      "유사도 검사 중...:  21%|██        | 55/265 [00:15<01:00,  3.46it/s]"
     ]
    },
    {
     "name": "stdout",
     "output_type": "stream",
     "text": [
      "기존 DB에 유사한 청크가 있음으로 판단되어 추가되지 않음  - 9.172463251161389e-06\n"
     ]
    },
    {
     "name": "stderr",
     "output_type": "stream",
     "text": [
      "유사도 검사 중...:  22%|██▏       | 57/265 [00:15<00:53,  3.88it/s]"
     ]
    },
    {
     "name": "stdout",
     "output_type": "stream",
     "text": [
      "기존 DB에 유사한 청크가 있음으로 판단되어 추가되지 않음  - 3.637314421212068e-06\n",
      "기존 DB에 유사한 청크가 있음으로 판단되어 추가되지 않음  - 6.0661055613309145e-05\n"
     ]
    },
    {
     "name": "stderr",
     "output_type": "stream",
     "text": [
      "유사도 검사 중...:  22%|██▏       | 58/265 [00:16<00:56,  3.69it/s]"
     ]
    },
    {
     "name": "stdout",
     "output_type": "stream",
     "text": [
      "기존 DB에 유사한 청크가 있음으로 판단되어 추가되지 않음  - 5.413736289483495e-06\n"
     ]
    },
    {
     "name": "stderr",
     "output_type": "stream",
     "text": [
      "유사도 검사 중...:  22%|██▏       | 59/265 [00:16<00:53,  3.84it/s]"
     ]
    },
    {
     "name": "stdout",
     "output_type": "stream",
     "text": [
      "기존 DB에 유사한 청크가 있음으로 판단되어 추가되지 않음  - 1.2939739463035949e-05\n"
     ]
    },
    {
     "name": "stderr",
     "output_type": "stream",
     "text": [
      "유사도 검사 중...:  23%|██▎       | 60/265 [00:16<00:50,  4.04it/s]"
     ]
    },
    {
     "name": "stdout",
     "output_type": "stream",
     "text": [
      "기존 DB에 유사한 청크가 있음으로 판단되어 추가되지 않음  - 1.780231286829803e-05\n"
     ]
    },
    {
     "name": "stderr",
     "output_type": "stream",
     "text": [
      "유사도 검사 중...:  23%|██▎       | 61/265 [00:17<00:54,  3.72it/s]"
     ]
    },
    {
     "name": "stdout",
     "output_type": "stream",
     "text": [
      "기존 DB에 유사한 청크가 있음으로 판단되어 추가되지 않음  - 1.4188952263793908e-05\n"
     ]
    },
    {
     "name": "stderr",
     "output_type": "stream",
     "text": [
      "유사도 검사 중...:  23%|██▎       | 62/265 [00:17<00:53,  3.77it/s]"
     ]
    },
    {
     "name": "stdout",
     "output_type": "stream",
     "text": [
      "기존 DB에 유사한 청크가 있음으로 판단되어 추가되지 않음  - 3.4471770504751476e-06\n"
     ]
    },
    {
     "name": "stderr",
     "output_type": "stream",
     "text": [
      "유사도 검사 중...:  24%|██▍       | 63/265 [00:17<00:51,  3.89it/s]"
     ]
    },
    {
     "name": "stdout",
     "output_type": "stream",
     "text": [
      "기존 DB에 유사한 청크가 있음으로 판단되어 추가되지 않음  - 3.885652404278517e-06\n"
     ]
    },
    {
     "name": "stderr",
     "output_type": "stream",
     "text": [
      "유사도 검사 중...:  24%|██▍       | 64/265 [00:17<00:54,  3.69it/s]"
     ]
    },
    {
     "name": "stdout",
     "output_type": "stream",
     "text": [
      "기존 DB에 유사한 청크가 있음으로 판단되어 추가되지 않음  - 2.5971496597776422e-06\n"
     ]
    },
    {
     "name": "stderr",
     "output_type": "stream",
     "text": [
      "유사도 검사 중...:  25%|██▍       | 65/265 [00:18<00:51,  3.87it/s]"
     ]
    },
    {
     "name": "stdout",
     "output_type": "stream",
     "text": [
      "기존 DB에 유사한 청크가 있음으로 판단되어 추가되지 않음  - 2.476147983543342e-06\n"
     ]
    },
    {
     "name": "stderr",
     "output_type": "stream",
     "text": [
      "유사도 검사 중...:  25%|██▍       | 66/265 [00:18<00:54,  3.67it/s]"
     ]
    },
    {
     "name": "stdout",
     "output_type": "stream",
     "text": [
      "기존 DB에 유사한 청크가 있음으로 판단되어 추가되지 않음  - 2.4902505174395628e-05\n"
     ]
    },
    {
     "name": "stderr",
     "output_type": "stream",
     "text": [
      "유사도 검사 중...:  25%|██▌       | 67/265 [00:18<00:53,  3.68it/s]"
     ]
    },
    {
     "name": "stdout",
     "output_type": "stream",
     "text": [
      "기존 DB에 유사한 청크가 있음으로 판단되어 추가되지 않음  - 3.4192642488051206e-05\n"
     ]
    },
    {
     "name": "stderr",
     "output_type": "stream",
     "text": [
      "유사도 검사 중...:  26%|██▌       | 68/265 [00:18<00:50,  3.87it/s]"
     ]
    },
    {
     "name": "stdout",
     "output_type": "stream",
     "text": [
      "기존 DB에 유사한 청크가 있음으로 판단되어 추가되지 않음  - 1.1716731933120172e-05\n"
     ]
    },
    {
     "name": "stderr",
     "output_type": "stream",
     "text": [
      "유사도 검사 중...:  26%|██▌       | 69/265 [00:19<00:53,  3.67it/s]"
     ]
    },
    {
     "name": "stdout",
     "output_type": "stream",
     "text": [
      "기존 DB에 유사한 청크가 있음으로 판단되어 추가되지 않음  - 3.003375695698196e-06\n"
     ]
    },
    {
     "name": "stderr",
     "output_type": "stream",
     "text": [
      "유사도 검사 중...:  26%|██▋       | 70/265 [00:19<00:56,  3.46it/s]"
     ]
    },
    {
     "name": "stdout",
     "output_type": "stream",
     "text": [
      "기존 DB에 유사한 청크가 있음으로 판단되어 추가되지 않음  - 1.895703235277324e-06\n"
     ]
    },
    {
     "name": "stderr",
     "output_type": "stream",
     "text": [
      "유사도 검사 중...:  27%|██▋       | 71/265 [00:19<00:58,  3.31it/s]"
     ]
    },
    {
     "name": "stdout",
     "output_type": "stream",
     "text": [
      "기존 DB에 유사한 청크가 있음으로 판단되어 추가되지 않음  - 6.66376217850484e-05\n"
     ]
    },
    {
     "name": "stderr",
     "output_type": "stream",
     "text": [
      "유사도 검사 중...:  27%|██▋       | 72/265 [00:20<00:58,  3.28it/s]"
     ]
    },
    {
     "name": "stdout",
     "output_type": "stream",
     "text": [
      "기존 DB에 유사한 청크가 있음으로 판단되어 추가되지 않음  - 4.256964984961087e-06\n"
     ]
    },
    {
     "name": "stderr",
     "output_type": "stream",
     "text": [
      "유사도 검사 중...:  28%|██▊       | 73/265 [00:20<00:57,  3.31it/s]"
     ]
    },
    {
     "name": "stdout",
     "output_type": "stream",
     "text": [
      "기존 DB에 유사한 청크가 있음으로 판단되어 추가되지 않음  - 1.8482191080693156e-05\n"
     ]
    },
    {
     "name": "stderr",
     "output_type": "stream",
     "text": [
      "유사도 검사 중...:  28%|██▊       | 74/265 [00:20<00:57,  3.29it/s]"
     ]
    },
    {
     "name": "stdout",
     "output_type": "stream",
     "text": [
      "기존 DB에 유사한 청크가 있음으로 판단되어 추가되지 않음  - 0.00036941023427061737\n"
     ]
    },
    {
     "name": "stderr",
     "output_type": "stream",
     "text": [
      "유사도 검사 중...:  28%|██▊       | 75/265 [00:21<00:53,  3.55it/s]"
     ]
    },
    {
     "name": "stdout",
     "output_type": "stream",
     "text": [
      "기존 DB에 유사한 청크가 있음으로 판단되어 추가되지 않음  - 6.2918684307078365e-06\n"
     ]
    },
    {
     "name": "stderr",
     "output_type": "stream",
     "text": [
      "유사도 검사 중...:  29%|██▊       | 76/265 [00:21<00:49,  3.78it/s]"
     ]
    },
    {
     "name": "stdout",
     "output_type": "stream",
     "text": [
      "기존 DB에 유사한 청크가 있음으로 판단되어 추가되지 않음  - 2.3293801859836094e-05\n"
     ]
    },
    {
     "name": "stderr",
     "output_type": "stream",
     "text": [
      "유사도 검사 중...:  29%|██▉       | 77/265 [00:21<00:47,  3.93it/s]"
     ]
    },
    {
     "name": "stdout",
     "output_type": "stream",
     "text": [
      "기존 DB에 유사한 청크가 있음으로 판단되어 추가되지 않음  - 4.9423688324168324e-06\n"
     ]
    },
    {
     "name": "stderr",
     "output_type": "stream",
     "text": [
      "유사도 검사 중...:  29%|██▉       | 78/265 [00:21<00:49,  3.77it/s]"
     ]
    },
    {
     "name": "stdout",
     "output_type": "stream",
     "text": [
      "기존 DB에 유사한 청크가 있음으로 판단되어 추가되지 않음  - 5.5110635912569705e-06\n"
     ]
    },
    {
     "name": "stderr",
     "output_type": "stream",
     "text": [
      "유사도 검사 중...:  30%|██▉       | 79/265 [00:21<00:47,  3.95it/s]"
     ]
    },
    {
     "name": "stdout",
     "output_type": "stream",
     "text": [
      "기존 DB에 유사한 청크가 있음으로 판단되어 추가되지 않음  - 8.609892574895639e-06\n"
     ]
    },
    {
     "name": "stderr",
     "output_type": "stream",
     "text": [
      "유사도 검사 중...:  30%|███       | 80/265 [00:22<00:48,  3.79it/s]"
     ]
    },
    {
     "name": "stdout",
     "output_type": "stream",
     "text": [
      "기존 DB에 유사한 청크가 있음으로 판단되어 추가되지 않음  - 5.918538136029383e-06\n"
     ]
    },
    {
     "name": "stderr",
     "output_type": "stream",
     "text": [
      "유사도 검사 중...:  31%|███       | 81/265 [00:22<00:46,  3.96it/s]"
     ]
    },
    {
     "name": "stdout",
     "output_type": "stream",
     "text": [
      "기존 DB에 유사한 청크가 있음으로 판단되어 추가되지 않음  - 2.0883919205516577e-05\n"
     ]
    },
    {
     "name": "stderr",
     "output_type": "stream",
     "text": [
      "유사도 검사 중...:  31%|███       | 82/265 [00:22<00:47,  3.86it/s]"
     ]
    },
    {
     "name": "stdout",
     "output_type": "stream",
     "text": [
      "기존 DB에 유사한 청크가 있음으로 판단되어 추가되지 않음  - 0.0004807330551557243\n"
     ]
    },
    {
     "name": "stderr",
     "output_type": "stream",
     "text": [
      "유사도 검사 중...:  31%|███▏      | 83/265 [00:23<00:46,  3.91it/s]"
     ]
    },
    {
     "name": "stdout",
     "output_type": "stream",
     "text": [
      "기존 DB에 유사한 청크가 있음으로 판단되어 추가되지 않음  - 0.00013927093823440373\n"
     ]
    },
    {
     "name": "stderr",
     "output_type": "stream",
     "text": [
      "유사도 검사 중...:  32%|███▏      | 84/265 [00:23<00:49,  3.67it/s]"
     ]
    },
    {
     "name": "stdout",
     "output_type": "stream",
     "text": [
      "기존 DB에 유사한 청크가 있음으로 판단되어 추가되지 않음  - 3.2454765459988266e-05\n"
     ]
    },
    {
     "name": "stderr",
     "output_type": "stream",
     "text": [
      "유사도 검사 중...:  32%|███▏      | 85/265 [00:23<00:49,  3.62it/s]"
     ]
    },
    {
     "name": "stdout",
     "output_type": "stream",
     "text": [
      "기존 DB에 유사한 청크가 있음으로 판단되어 추가되지 않음  - 3.2953985282802023e-06\n"
     ]
    },
    {
     "name": "stderr",
     "output_type": "stream",
     "text": [
      "유사도 검사 중...:  32%|███▏      | 86/265 [00:23<00:47,  3.77it/s]"
     ]
    },
    {
     "name": "stdout",
     "output_type": "stream",
     "text": [
      "기존 DB에 유사한 청크가 있음으로 판단되어 추가되지 않음  - 6.007782940287143e-05\n"
     ]
    },
    {
     "name": "stderr",
     "output_type": "stream",
     "text": [
      "유사도 검사 중...:  33%|███▎      | 87/265 [00:24<00:47,  3.77it/s]"
     ]
    },
    {
     "name": "stdout",
     "output_type": "stream",
     "text": [
      "기존 DB에 유사한 청크가 있음으로 판단되어 추가되지 않음  - 4.7409212129423395e-06\n"
     ]
    },
    {
     "name": "stderr",
     "output_type": "stream",
     "text": [
      "유사도 검사 중...:  33%|███▎      | 88/265 [00:24<00:52,  3.39it/s]"
     ]
    },
    {
     "name": "stdout",
     "output_type": "stream",
     "text": [
      "기존 DB에 유사한 청크가 있음으로 판단되어 추가되지 않음  - 4.672161139751552e-06\n"
     ]
    },
    {
     "name": "stderr",
     "output_type": "stream",
     "text": [
      "유사도 검사 중...:  34%|███▎      | 89/265 [00:24<00:51,  3.41it/s]"
     ]
    },
    {
     "name": "stdout",
     "output_type": "stream",
     "text": [
      "기존 DB에 유사한 청크가 있음으로 판단되어 추가되지 않음  - 2.238408887933474e-05\n"
     ]
    },
    {
     "name": "stderr",
     "output_type": "stream",
     "text": [
      "유사도 검사 중...:  34%|███▍      | 90/265 [00:25<00:49,  3.53it/s]"
     ]
    },
    {
     "name": "stdout",
     "output_type": "stream",
     "text": [
      "기존 DB에 유사한 청크가 있음으로 판단되어 추가되지 않음  - 1.6068755940068513e-05\n"
     ]
    },
    {
     "name": "stderr",
     "output_type": "stream",
     "text": [
      "유사도 검사 중...:  34%|███▍      | 91/265 [00:25<00:51,  3.41it/s]"
     ]
    },
    {
     "name": "stdout",
     "output_type": "stream",
     "text": [
      "기존 DB에 유사한 청크가 있음으로 판단되어 추가되지 않음  - 0.0017848287243396044\n"
     ]
    },
    {
     "name": "stderr",
     "output_type": "stream",
     "text": [
      "유사도 검사 중...:  35%|███▍      | 92/265 [00:25<00:47,  3.65it/s]"
     ]
    },
    {
     "name": "stdout",
     "output_type": "stream",
     "text": [
      "기존 DB에 유사한 청크가 있음으로 판단되어 추가되지 않음  - 4.590484422806185e-06\n"
     ]
    },
    {
     "name": "stderr",
     "output_type": "stream",
     "text": [
      "유사도 검사 중...:  35%|███▌      | 93/265 [00:25<00:44,  3.84it/s]"
     ]
    },
    {
     "name": "stdout",
     "output_type": "stream",
     "text": [
      "기존 DB에 유사한 청크가 있음으로 판단되어 추가되지 않음  - 2.2867065126774833e-05\n"
     ]
    },
    {
     "name": "stderr",
     "output_type": "stream",
     "text": [
      "유사도 검사 중...:  35%|███▌      | 94/265 [00:26<00:47,  3.62it/s]"
     ]
    },
    {
     "name": "stdout",
     "output_type": "stream",
     "text": [
      "기존 DB에 유사한 청크가 있음으로 판단되어 추가되지 않음  - 1.465217337681679e-05\n"
     ]
    },
    {
     "name": "stderr",
     "output_type": "stream",
     "text": [
      "유사도 검사 중...:  36%|███▌      | 95/265 [00:26<00:48,  3.47it/s]"
     ]
    },
    {
     "name": "stdout",
     "output_type": "stream",
     "text": [
      "기존 DB에 유사한 청크가 있음으로 판단되어 추가되지 않음  - 1.3074424714432098e-05\n"
     ]
    },
    {
     "name": "stderr",
     "output_type": "stream",
     "text": [
      "유사도 검사 중...:  36%|███▌      | 96/265 [00:26<00:48,  3.52it/s]"
     ]
    },
    {
     "name": "stdout",
     "output_type": "stream",
     "text": [
      "기존 DB에 유사한 청크가 있음으로 판단되어 추가되지 않음  - 3.0017601602594368e-05\n"
     ]
    },
    {
     "name": "stderr",
     "output_type": "stream",
     "text": [
      "유사도 검사 중...:  37%|███▋      | 97/265 [00:26<00:47,  3.53it/s]"
     ]
    },
    {
     "name": "stdout",
     "output_type": "stream",
     "text": [
      "기존 DB에 유사한 청크가 있음으로 판단되어 추가되지 않음  - 5.790199065813795e-05\n"
     ]
    },
    {
     "name": "stderr",
     "output_type": "stream",
     "text": [
      "유사도 검사 중...:  37%|███▋      | 98/265 [00:27<00:50,  3.33it/s]"
     ]
    },
    {
     "name": "stdout",
     "output_type": "stream",
     "text": [
      "기존 DB에 유사한 청크가 있음으로 판단되어 추가되지 않음  - 5.148674608790316e-05\n"
     ]
    },
    {
     "name": "stderr",
     "output_type": "stream",
     "text": [
      "유사도 검사 중...:  37%|███▋      | 99/265 [00:27<00:49,  3.33it/s]"
     ]
    },
    {
     "name": "stdout",
     "output_type": "stream",
     "text": [
      "기존 DB에 유사한 청크가 있음으로 판단되어 추가되지 않음  - 6.433228918467648e-06\n"
     ]
    },
    {
     "name": "stderr",
     "output_type": "stream",
     "text": [
      "유사도 검사 중...:  38%|███▊      | 100/265 [00:27<00:47,  3.46it/s]"
     ]
    },
    {
     "name": "stdout",
     "output_type": "stream",
     "text": [
      "기존 DB에 유사한 청크가 있음으로 판단되어 추가되지 않음  - 2.3731612600386143e-05\n"
     ]
    },
    {
     "name": "stderr",
     "output_type": "stream",
     "text": [
      "유사도 검사 중...:  38%|███▊      | 101/265 [00:28<00:44,  3.66it/s]"
     ]
    },
    {
     "name": "stdout",
     "output_type": "stream",
     "text": [
      "기존 DB에 유사한 청크가 있음으로 판단되어 추가되지 않음  - 4.129737135372125e-06\n"
     ]
    },
    {
     "name": "stderr",
     "output_type": "stream",
     "text": [
      "유사도 검사 중...:  38%|███▊      | 102/265 [00:28<00:46,  3.51it/s]"
     ]
    },
    {
     "name": "stdout",
     "output_type": "stream",
     "text": [
      "기존 DB에 유사한 청크가 있음으로 판단되어 추가되지 않음  - 9.756172403285746e-06\n"
     ]
    },
    {
     "name": "stderr",
     "output_type": "stream",
     "text": [
      "유사도 검사 중...:  39%|███▉      | 103/265 [00:28<00:46,  3.45it/s]"
     ]
    },
    {
     "name": "stdout",
     "output_type": "stream",
     "text": [
      "기존 DB에 유사한 청크가 있음으로 판단되어 추가되지 않음  - 6.478479008364957e-06\n"
     ]
    },
    {
     "name": "stderr",
     "output_type": "stream",
     "text": [
      "유사도 검사 중...:  39%|███▉      | 104/265 [00:29<00:47,  3.36it/s]"
     ]
    },
    {
     "name": "stdout",
     "output_type": "stream",
     "text": [
      "기존 DB에 유사한 청크가 있음으로 판단되어 추가되지 않음  - 0.0007863929495215416\n"
     ]
    },
    {
     "name": "stderr",
     "output_type": "stream",
     "text": [
      "유사도 검사 중...:  40%|███▉      | 105/265 [00:29<00:48,  3.29it/s]"
     ]
    },
    {
     "name": "stdout",
     "output_type": "stream",
     "text": [
      "기존 DB에 유사한 청크가 있음으로 판단되어 추가되지 않음  - 7.90157173469197e-06\n"
     ]
    },
    {
     "name": "stderr",
     "output_type": "stream",
     "text": [
      "유사도 검사 중...:  40%|████      | 106/265 [00:29<00:45,  3.52it/s]"
     ]
    },
    {
     "name": "stdout",
     "output_type": "stream",
     "text": [
      "기존 DB에 유사한 청크가 있음으로 판단되어 추가되지 않음  - 1.7660766388871707e-05\n"
     ]
    },
    {
     "name": "stderr",
     "output_type": "stream",
     "text": [
      "유사도 검사 중...:  40%|████      | 107/265 [00:29<00:43,  3.65it/s]"
     ]
    },
    {
     "name": "stdout",
     "output_type": "stream",
     "text": [
      "기존 DB에 유사한 청크가 있음으로 판단되어 추가되지 않음  - 2.18682043851004e-06\n"
     ]
    },
    {
     "name": "stderr",
     "output_type": "stream",
     "text": [
      "유사도 검사 중...:  41%|████      | 108/265 [00:30<00:44,  3.53it/s]"
     ]
    },
    {
     "name": "stdout",
     "output_type": "stream",
     "text": [
      "기존 DB에 유사한 청크가 있음으로 판단되어 추가되지 않음  - 7.0900161517784e-05\n"
     ]
    },
    {
     "name": "stderr",
     "output_type": "stream",
     "text": [
      "유사도 검사 중...:  41%|████      | 109/265 [00:30<00:41,  3.74it/s]"
     ]
    },
    {
     "name": "stdout",
     "output_type": "stream",
     "text": [
      "기존 DB에 유사한 청크가 있음으로 판단되어 추가되지 않음  - 3.991063749708701e-06\n"
     ]
    },
    {
     "name": "stderr",
     "output_type": "stream",
     "text": [
      "유사도 검사 중...:  42%|████▏     | 110/265 [00:30<00:43,  3.60it/s]"
     ]
    },
    {
     "name": "stdout",
     "output_type": "stream",
     "text": [
      "기존 DB에 유사한 청크가 있음으로 판단되어 추가되지 않음  - 3.5055898479186e-05\n"
     ]
    },
    {
     "name": "stderr",
     "output_type": "stream",
     "text": [
      "유사도 검사 중...:  42%|████▏     | 111/265 [00:31<00:44,  3.47it/s]"
     ]
    },
    {
     "name": "stdout",
     "output_type": "stream",
     "text": [
      "기존 DB에 유사한 청크가 있음으로 판단되어 추가되지 않음  - 6.279622994043166e-06\n"
     ]
    },
    {
     "name": "stderr",
     "output_type": "stream",
     "text": [
      "유사도 검사 중...:  42%|████▏     | 112/265 [00:31<00:44,  3.41it/s]"
     ]
    },
    {
     "name": "stdout",
     "output_type": "stream",
     "text": [
      "기존 DB에 유사한 청크가 있음으로 판단되어 추가되지 않음  - 7.691231985518243e-06\n"
     ]
    },
    {
     "name": "stderr",
     "output_type": "stream",
     "text": [
      "유사도 검사 중...:  43%|████▎     | 113/265 [00:31<00:41,  3.64it/s]"
     ]
    },
    {
     "name": "stdout",
     "output_type": "stream",
     "text": [
      "기존 DB에 유사한 청크가 있음으로 판단되어 추가되지 않음  - 4.2522601688688155e-06\n"
     ]
    },
    {
     "name": "stderr",
     "output_type": "stream",
     "text": [
      "유사도 검사 중...:  43%|████▎     | 114/265 [00:31<00:41,  3.61it/s]"
     ]
    },
    {
     "name": "stdout",
     "output_type": "stream",
     "text": [
      "기존 DB에 유사한 청크가 있음으로 판단되어 추가되지 않음  - 5.649791637551971e-05\n"
     ]
    },
    {
     "name": "stderr",
     "output_type": "stream",
     "text": [
      "유사도 검사 중...:  43%|████▎     | 115/265 [00:32<00:41,  3.62it/s]"
     ]
    },
    {
     "name": "stdout",
     "output_type": "stream",
     "text": [
      "기존 DB에 유사한 청크가 있음으로 판단되어 추가되지 않음  - 2.3609964046045206e-06\n"
     ]
    },
    {
     "name": "stderr",
     "output_type": "stream",
     "text": [
      "유사도 검사 중...:  44%|████▍     | 116/265 [00:32<00:38,  3.82it/s]"
     ]
    },
    {
     "name": "stdout",
     "output_type": "stream",
     "text": [
      "기존 DB에 유사한 청크가 있음으로 판단되어 추가되지 않음  - 6.664139800705016e-05\n"
     ]
    },
    {
     "name": "stderr",
     "output_type": "stream",
     "text": [
      "유사도 검사 중...:  44%|████▍     | 117/265 [00:32<00:38,  3.86it/s]"
     ]
    },
    {
     "name": "stdout",
     "output_type": "stream",
     "text": [
      "기존 DB에 유사한 청크가 있음으로 판단되어 추가되지 않음  - 8.974891898105852e-06\n"
     ]
    },
    {
     "name": "stderr",
     "output_type": "stream",
     "text": [
      "유사도 검사 중...:  45%|████▍     | 118/265 [00:32<00:39,  3.69it/s]"
     ]
    },
    {
     "name": "stdout",
     "output_type": "stream",
     "text": [
      "기존 DB에 유사한 청크가 있음으로 판단되어 추가되지 않음  - 3.0364185477083083e-06\n"
     ]
    },
    {
     "name": "stderr",
     "output_type": "stream",
     "text": [
      "유사도 검사 중...:  45%|████▍     | 119/265 [00:33<00:37,  3.90it/s]"
     ]
    },
    {
     "name": "stdout",
     "output_type": "stream",
     "text": [
      "기존 DB에 유사한 청크가 있음으로 판단되어 추가되지 않음  - 2.0530489564407617e-05\n"
     ]
    },
    {
     "name": "stderr",
     "output_type": "stream",
     "text": [
      "유사도 검사 중...:  45%|████▌     | 120/265 [00:33<00:36,  3.93it/s]"
     ]
    },
    {
     "name": "stdout",
     "output_type": "stream",
     "text": [
      "기존 DB에 유사한 청크가 있음으로 판단되어 추가되지 않음  - 5.939170659985393e-05\n"
     ]
    },
    {
     "name": "stderr",
     "output_type": "stream",
     "text": [
      "유사도 검사 중...:  46%|████▌     | 121/265 [00:33<00:38,  3.69it/s]"
     ]
    },
    {
     "name": "stdout",
     "output_type": "stream",
     "text": [
      "기존 DB에 유사한 청크가 있음으로 판단되어 추가되지 않음  - 7.459961125277914e-06\n"
     ]
    },
    {
     "name": "stderr",
     "output_type": "stream",
     "text": [
      "유사도 검사 중...:  46%|████▌     | 122/265 [00:33<00:40,  3.53it/s]"
     ]
    },
    {
     "name": "stdout",
     "output_type": "stream",
     "text": [
      "기존 DB에 유사한 청크가 있음으로 판단되어 추가되지 않음  - 3.8198941183509305e-06\n"
     ]
    },
    {
     "name": "stderr",
     "output_type": "stream",
     "text": [
      "유사도 검사 중...:  46%|████▋     | 123/265 [00:34<00:40,  3.47it/s]"
     ]
    },
    {
     "name": "stdout",
     "output_type": "stream",
     "text": [
      "기존 DB에 유사한 청크가 있음으로 판단되어 추가되지 않음  - 7.2911116149043664e-06\n"
     ]
    },
    {
     "name": "stderr",
     "output_type": "stream",
     "text": [
      "유사도 검사 중...:  47%|████▋     | 124/265 [00:34<00:42,  3.29it/s]"
     ]
    },
    {
     "name": "stdout",
     "output_type": "stream",
     "text": [
      "기존 DB에 유사한 청크가 있음으로 판단되어 추가되지 않음  - 2.7546419005375355e-05\n"
     ]
    },
    {
     "name": "stderr",
     "output_type": "stream",
     "text": [
      "유사도 검사 중...:  47%|████▋     | 125/265 [00:34<00:43,  3.21it/s]"
     ]
    },
    {
     "name": "stdout",
     "output_type": "stream",
     "text": [
      "기존 DB에 유사한 청크가 있음으로 판단되어 추가되지 않음  - 3.799306432483718e-05\n"
     ]
    },
    {
     "name": "stderr",
     "output_type": "stream",
     "text": [
      "유사도 검사 중...:  48%|████▊     | 126/265 [00:35<00:42,  3.25it/s]"
     ]
    },
    {
     "name": "stdout",
     "output_type": "stream",
     "text": [
      "기존 DB에 유사한 청크가 있음으로 판단되어 추가되지 않음  - 4.190048639429733e-05\n"
     ]
    },
    {
     "name": "stderr",
     "output_type": "stream",
     "text": [
      "유사도 검사 중...:  48%|████▊     | 127/265 [00:35<00:42,  3.26it/s]"
     ]
    },
    {
     "name": "stdout",
     "output_type": "stream",
     "text": [
      "기존 DB에 유사한 청크가 있음으로 판단되어 추가되지 않음  - 1.5145807083172258e-05\n"
     ]
    },
    {
     "name": "stderr",
     "output_type": "stream",
     "text": [
      "유사도 검사 중...:  48%|████▊     | 128/265 [00:35<00:39,  3.46it/s]"
     ]
    },
    {
     "name": "stdout",
     "output_type": "stream",
     "text": [
      "기존 DB에 유사한 청크가 있음으로 판단되어 추가되지 않음  - 6.842622042313451e-06\n"
     ]
    },
    {
     "name": "stderr",
     "output_type": "stream",
     "text": [
      "유사도 검사 중...:  49%|████▊     | 129/265 [00:36<00:39,  3.41it/s]"
     ]
    },
    {
     "name": "stdout",
     "output_type": "stream",
     "text": [
      "기존 DB에 유사한 청크가 있음으로 판단되어 추가되지 않음  - 1.3901255442760885e-05\n"
     ]
    },
    {
     "name": "stderr",
     "output_type": "stream",
     "text": [
      "유사도 검사 중...:  49%|████▉     | 130/265 [00:36<00:37,  3.64it/s]"
     ]
    },
    {
     "name": "stdout",
     "output_type": "stream",
     "text": [
      "기존 DB에 유사한 청크가 있음으로 판단되어 추가되지 않음  - 0.0003747973241843283\n"
     ]
    },
    {
     "name": "stderr",
     "output_type": "stream",
     "text": [
      "유사도 검사 중...:  49%|████▉     | 131/265 [00:36<00:37,  3.58it/s]"
     ]
    },
    {
     "name": "stdout",
     "output_type": "stream",
     "text": [
      "기존 DB에 유사한 청크가 있음으로 판단되어 추가되지 않음  - 1.894658817036543e-05\n"
     ]
    },
    {
     "name": "stderr",
     "output_type": "stream",
     "text": [
      "유사도 검사 중...:  50%|████▉     | 132/265 [00:36<00:38,  3.50it/s]"
     ]
    },
    {
     "name": "stdout",
     "output_type": "stream",
     "text": [
      "기존 DB에 유사한 청크가 있음으로 판단되어 추가되지 않음  - 0.0022820928134024143\n"
     ]
    },
    {
     "name": "stderr",
     "output_type": "stream",
     "text": [
      "유사도 검사 중...:  50%|█████     | 133/265 [00:37<00:35,  3.71it/s]"
     ]
    },
    {
     "name": "stdout",
     "output_type": "stream",
     "text": [
      "기존 DB에 유사한 청크가 있음으로 판단되어 추가되지 않음  - 1.0964835382765159e-05\n"
     ]
    },
    {
     "name": "stderr",
     "output_type": "stream",
     "text": [
      "유사도 검사 중...:  51%|█████     | 134/265 [00:37<00:35,  3.71it/s]"
     ]
    },
    {
     "name": "stdout",
     "output_type": "stream",
     "text": [
      "기존 DB에 유사한 청크가 있음으로 판단되어 추가되지 않음  - 7.4542758738971315e-06\n"
     ]
    },
    {
     "name": "stderr",
     "output_type": "stream",
     "text": [
      "유사도 검사 중...:  51%|█████     | 135/265 [00:37<00:34,  3.72it/s]"
     ]
    },
    {
     "name": "stdout",
     "output_type": "stream",
     "text": [
      "기존 DB에 유사한 청크가 있음으로 판단되어 추가되지 않음  - 2.869053332688054e-06\n"
     ]
    },
    {
     "name": "stderr",
     "output_type": "stream",
     "text": [
      "유사도 검사 중...:  51%|█████▏    | 136/265 [00:38<00:36,  3.55it/s]"
     ]
    },
    {
     "name": "stdout",
     "output_type": "stream",
     "text": [
      "기존 DB에 유사한 청크가 있음으로 판단되어 추가되지 않음  - 2.7111018425785005e-06\n"
     ]
    },
    {
     "name": "stderr",
     "output_type": "stream",
     "text": [
      "유사도 검사 중...:  52%|█████▏    | 137/265 [00:38<00:34,  3.73it/s]"
     ]
    },
    {
     "name": "stdout",
     "output_type": "stream",
     "text": [
      "기존 DB에 유사한 청크가 있음으로 판단되어 추가되지 않음  - 2.5903552796080476e-06\n"
     ]
    },
    {
     "name": "stderr",
     "output_type": "stream",
     "text": [
      "유사도 검사 중...:  52%|█████▏    | 138/265 [00:38<00:36,  3.52it/s]"
     ]
    },
    {
     "name": "stdout",
     "output_type": "stream",
     "text": [
      "기존 DB에 유사한 청크가 있음으로 판단되어 추가되지 않음  - 1.2878156667284202e-05\n"
     ]
    },
    {
     "name": "stderr",
     "output_type": "stream",
     "text": [
      "유사도 검사 중...:  52%|█████▏    | 139/265 [00:38<00:34,  3.70it/s]"
     ]
    },
    {
     "name": "stdout",
     "output_type": "stream",
     "text": [
      "기존 DB에 유사한 청크가 있음으로 판단되어 추가되지 않음  - 7.450036355294287e-05\n"
     ]
    },
    {
     "name": "stderr",
     "output_type": "stream",
     "text": [
      "유사도 검사 중...:  53%|█████▎    | 140/265 [00:39<00:36,  3.47it/s]"
     ]
    },
    {
     "name": "stdout",
     "output_type": "stream",
     "text": [
      "기존 DB에 유사한 청크가 있음으로 판단되어 추가되지 않음  - 0.00040005019400268793\n"
     ]
    },
    {
     "name": "stderr",
     "output_type": "stream",
     "text": [
      "유사도 검사 중...:  53%|█████▎    | 141/265 [00:39<00:33,  3.66it/s]"
     ]
    },
    {
     "name": "stdout",
     "output_type": "stream",
     "text": [
      "기존 DB에 유사한 청크가 있음으로 판단되어 추가되지 않음  - 1.5130714018596336e-05\n"
     ]
    },
    {
     "name": "stderr",
     "output_type": "stream",
     "text": [
      "유사도 검사 중...:  54%|█████▎    | 142/265 [00:39<00:34,  3.54it/s]"
     ]
    },
    {
     "name": "stdout",
     "output_type": "stream",
     "text": [
      "기존 DB에 유사한 청크가 있음으로 판단되어 추가되지 않음  - 8.453702321276069e-05\n"
     ]
    },
    {
     "name": "stderr",
     "output_type": "stream",
     "text": [
      "유사도 검사 중...:  54%|█████▍    | 143/265 [00:39<00:33,  3.68it/s]"
     ]
    },
    {
     "name": "stdout",
     "output_type": "stream",
     "text": [
      "기존 DB에 유사한 청크가 있음으로 판단되어 추가되지 않음  - 1.098345728678396e-05\n"
     ]
    },
    {
     "name": "stderr",
     "output_type": "stream",
     "text": [
      "유사도 검사 중...:  54%|█████▍    | 144/265 [00:40<00:34,  3.51it/s]"
     ]
    },
    {
     "name": "stdout",
     "output_type": "stream",
     "text": [
      "기존 DB에 유사한 청크가 있음으로 판단되어 추가되지 않음  - 4.2801206291187555e-05\n"
     ]
    },
    {
     "name": "stderr",
     "output_type": "stream",
     "text": [
      "유사도 검사 중...:  55%|█████▍    | 145/265 [00:40<00:35,  3.34it/s]"
     ]
    },
    {
     "name": "stdout",
     "output_type": "stream",
     "text": [
      "기존 DB에 유사한 청크가 있음으로 판단되어 추가되지 않음  - 0.0009560678154230118\n"
     ]
    },
    {
     "name": "stderr",
     "output_type": "stream",
     "text": [
      "유사도 검사 중...:  55%|█████▌    | 146/265 [00:40<00:33,  3.53it/s]"
     ]
    },
    {
     "name": "stdout",
     "output_type": "stream",
     "text": [
      "기존 DB에 유사한 청크가 있음으로 판단되어 추가되지 않음  - 1.9841785615426488e-05\n"
     ]
    },
    {
     "name": "stderr",
     "output_type": "stream",
     "text": [
      "유사도 검사 중...:  55%|█████▌    | 147/265 [00:41<00:34,  3.41it/s]"
     ]
    },
    {
     "name": "stdout",
     "output_type": "stream",
     "text": [
      "기존 DB에 유사한 청크가 있음으로 판단되어 추가되지 않음  - 5.227889687375864e-06\n"
     ]
    },
    {
     "name": "stderr",
     "output_type": "stream",
     "text": [
      "유사도 검사 중...:  56%|█████▌    | 148/265 [00:41<00:34,  3.38it/s]"
     ]
    },
    {
     "name": "stdout",
     "output_type": "stream",
     "text": [
      "기존 DB에 유사한 청크가 있음으로 판단되어 추가되지 않음  - 2.0635809050872922e-05\n"
     ]
    },
    {
     "name": "stderr",
     "output_type": "stream",
     "text": [
      "유사도 검사 중...:  56%|█████▌    | 149/265 [00:41<00:34,  3.40it/s]"
     ]
    },
    {
     "name": "stdout",
     "output_type": "stream",
     "text": [
      "기존 DB에 유사한 청크가 있음으로 판단되어 추가되지 않음  - 4.3261112296022475e-05\n"
     ]
    },
    {
     "name": "stderr",
     "output_type": "stream",
     "text": [
      "유사도 검사 중...:  57%|█████▋    | 150/265 [00:41<00:31,  3.66it/s]"
     ]
    },
    {
     "name": "stdout",
     "output_type": "stream",
     "text": [
      "기존 DB에 유사한 청크가 있음으로 판단되어 추가되지 않음  - 0.0\n"
     ]
    },
    {
     "name": "stderr",
     "output_type": "stream",
     "text": [
      "유사도 검사 중...:  57%|█████▋    | 151/265 [00:42<00:30,  3.69it/s]"
     ]
    },
    {
     "name": "stdout",
     "output_type": "stream",
     "text": [
      "기존 DB에 유사한 청크가 있음으로 판단되어 추가되지 않음  - 4.675723175751045e-06\n"
     ]
    },
    {
     "name": "stderr",
     "output_type": "stream",
     "text": [
      "유사도 검사 중...:  57%|█████▋    | 152/265 [00:42<00:29,  3.85it/s]"
     ]
    },
    {
     "name": "stdout",
     "output_type": "stream",
     "text": [
      "기존 DB에 유사한 청크가 있음으로 판단되어 추가되지 않음  - 9.188113835989498e-06\n"
     ]
    },
    {
     "name": "stderr",
     "output_type": "stream",
     "text": [
      "유사도 검사 중...:  58%|█████▊    | 153/265 [00:42<00:28,  3.88it/s]"
     ]
    },
    {
     "name": "stdout",
     "output_type": "stream",
     "text": [
      "기존 DB에 유사한 청크가 있음으로 판단되어 추가되지 않음  - 4.149408414377831e-05\n"
     ]
    },
    {
     "name": "stderr",
     "output_type": "stream",
     "text": [
      "유사도 검사 중...:  58%|█████▊    | 154/265 [00:42<00:28,  3.94it/s]"
     ]
    },
    {
     "name": "stdout",
     "output_type": "stream",
     "text": [
      "기존 DB에 유사한 청크가 있음으로 판단되어 추가되지 않음  - 6.728510925313458e-06\n"
     ]
    },
    {
     "name": "stderr",
     "output_type": "stream",
     "text": [
      "유사도 검사 중...:  58%|█████▊    | 155/265 [00:43<00:29,  3.67it/s]"
     ]
    },
    {
     "name": "stdout",
     "output_type": "stream",
     "text": [
      "기존 DB에 유사한 청크가 있음으로 판단되어 추가되지 않음  - 2.575156031525694e-05\n"
     ]
    },
    {
     "name": "stderr",
     "output_type": "stream",
     "text": [
      "유사도 검사 중...:  59%|█████▉    | 156/265 [00:43<00:30,  3.52it/s]"
     ]
    },
    {
     "name": "stdout",
     "output_type": "stream",
     "text": [
      "기존 DB에 유사한 청크가 있음으로 판단되어 추가되지 않음  - 3.2583735446678475e-05\n"
     ]
    },
    {
     "name": "stderr",
     "output_type": "stream",
     "text": [
      "유사도 검사 중...:  59%|█████▉    | 157/265 [00:43<00:31,  3.41it/s]"
     ]
    },
    {
     "name": "stdout",
     "output_type": "stream",
     "text": [
      "기존 DB에 유사한 청크가 있음으로 판단되어 추가되지 않음  - 3.960964022553526e-06\n"
     ]
    },
    {
     "name": "stderr",
     "output_type": "stream",
     "text": [
      "유사도 검사 중...:  60%|█████▉    | 158/265 [00:44<00:32,  3.30it/s]"
     ]
    },
    {
     "name": "stdout",
     "output_type": "stream",
     "text": [
      "기존 DB에 유사한 청크가 있음으로 판단되어 추가되지 않음  - 6.548219062096905e-06\n"
     ]
    },
    {
     "name": "stderr",
     "output_type": "stream",
     "text": [
      "유사도 검사 중...:  60%|██████    | 159/265 [00:44<00:32,  3.28it/s]"
     ]
    },
    {
     "name": "stdout",
     "output_type": "stream",
     "text": [
      "기존 DB에 유사한 청크가 있음으로 판단되어 추가되지 않음  - 1.3862043488188647e-05\n"
     ]
    },
    {
     "name": "stderr",
     "output_type": "stream",
     "text": [
      "유사도 검사 중...:  60%|██████    | 160/265 [00:44<00:29,  3.59it/s]"
     ]
    },
    {
     "name": "stdout",
     "output_type": "stream",
     "text": [
      "기존 DB에 유사한 청크가 있음으로 판단되어 추가되지 않음  - 1.7679367374512367e-05\n"
     ]
    },
    {
     "name": "stderr",
     "output_type": "stream",
     "text": [
      "유사도 검사 중...:  61%|██████    | 161/265 [00:45<00:30,  3.41it/s]"
     ]
    },
    {
     "name": "stdout",
     "output_type": "stream",
     "text": [
      "기존 DB에 유사한 청크가 있음으로 판단되어 추가되지 않음  - 2.3574280930915847e-05\n"
     ]
    },
    {
     "name": "stderr",
     "output_type": "stream",
     "text": [
      "유사도 검사 중...:  61%|██████    | 162/265 [00:45<00:30,  3.43it/s]"
     ]
    },
    {
     "name": "stdout",
     "output_type": "stream",
     "text": [
      "기존 DB에 유사한 청크가 있음으로 판단되어 추가되지 않음  - 4.819466994376853e-05\n"
     ]
    },
    {
     "name": "stderr",
     "output_type": "stream",
     "text": [
      "유사도 검사 중...:  62%|██████▏   | 163/265 [00:45<00:28,  3.57it/s]"
     ]
    },
    {
     "name": "stdout",
     "output_type": "stream",
     "text": [
      "기존 DB에 유사한 청크가 있음으로 판단되어 추가되지 않음  - 1.4145653040031902e-05\n"
     ]
    },
    {
     "name": "stderr",
     "output_type": "stream",
     "text": [
      "유사도 검사 중...:  62%|██████▏   | 164/265 [00:45<00:28,  3.53it/s]"
     ]
    },
    {
     "name": "stdout",
     "output_type": "stream",
     "text": [
      "기존 DB에 유사한 청크가 있음으로 판단되어 추가되지 않음  - 3.2704472232580883e-06\n"
     ]
    },
    {
     "name": "stderr",
     "output_type": "stream",
     "text": [
      "유사도 검사 중...:  62%|██████▏   | 165/265 [00:46<00:28,  3.46it/s]"
     ]
    },
    {
     "name": "stdout",
     "output_type": "stream",
     "text": [
      "기존 DB에 유사한 청크가 있음으로 판단되어 추가되지 않음  - 0.0\n"
     ]
    },
    {
     "name": "stderr",
     "output_type": "stream",
     "text": [
      "유사도 검사 중...:  63%|██████▎   | 166/265 [00:46<00:26,  3.67it/s]"
     ]
    },
    {
     "name": "stdout",
     "output_type": "stream",
     "text": [
      "기존 DB에 유사한 청크가 있음으로 판단되어 추가되지 않음  - 2.194897024310194e-05\n"
     ]
    },
    {
     "name": "stderr",
     "output_type": "stream",
     "text": [
      "유사도 검사 중...:  63%|██████▎   | 167/265 [00:46<00:28,  3.39it/s]"
     ]
    },
    {
     "name": "stdout",
     "output_type": "stream",
     "text": [
      "기존 DB에 유사한 청크가 있음으로 판단되어 추가되지 않음  - 4.329338844399899e-05\n"
     ]
    },
    {
     "name": "stderr",
     "output_type": "stream",
     "text": [
      "유사도 검사 중...:  63%|██████▎   | 168/265 [00:47<00:26,  3.62it/s]"
     ]
    },
    {
     "name": "stdout",
     "output_type": "stream",
     "text": [
      "기존 DB에 유사한 청크가 있음으로 판단되어 추가되지 않음  - 6.924343324499205e-06\n"
     ]
    },
    {
     "name": "stderr",
     "output_type": "stream",
     "text": [
      "유사도 검사 중...:  64%|██████▍   | 169/265 [00:47<00:27,  3.46it/s]"
     ]
    },
    {
     "name": "stdout",
     "output_type": "stream",
     "text": [
      "기존 DB에 유사한 청크가 있음으로 판단되어 추가되지 않음  - 6.196008143888321e-06\n"
     ]
    },
    {
     "name": "stderr",
     "output_type": "stream",
     "text": [
      "유사도 검사 중...:  64%|██████▍   | 170/265 [00:47<00:27,  3.44it/s]"
     ]
    },
    {
     "name": "stdout",
     "output_type": "stream",
     "text": [
      "기존 DB에 유사한 청크가 있음으로 판단되어 추가되지 않음  - 8.160849574778695e-06\n"
     ]
    },
    {
     "name": "stderr",
     "output_type": "stream",
     "text": [
      "유사도 검사 중...:  65%|██████▍   | 171/265 [00:47<00:28,  3.27it/s]"
     ]
    },
    {
     "name": "stdout",
     "output_type": "stream",
     "text": [
      "기존 DB에 유사한 청크가 있음으로 판단되어 추가되지 않음  - 6.913124707352836e-06\n"
     ]
    },
    {
     "name": "stderr",
     "output_type": "stream",
     "text": [
      "유사도 검사 중...:  65%|██████▍   | 172/265 [00:48<00:27,  3.37it/s]"
     ]
    },
    {
     "name": "stdout",
     "output_type": "stream",
     "text": [
      "기존 DB에 유사한 청크가 있음으로 판단되어 추가되지 않음  - 0.0\n"
     ]
    },
    {
     "name": "stderr",
     "output_type": "stream",
     "text": [
      "유사도 검사 중...:  65%|██████▌   | 173/265 [00:48<00:27,  3.31it/s]"
     ]
    },
    {
     "name": "stdout",
     "output_type": "stream",
     "text": [
      "기존 DB에 유사한 청크가 있음으로 판단되어 추가되지 않음  - 4.99840143675101e-06\n"
     ]
    },
    {
     "name": "stderr",
     "output_type": "stream",
     "text": [
      "유사도 검사 중...:  66%|██████▌   | 174/265 [00:48<00:27,  3.30it/s]"
     ]
    },
    {
     "name": "stdout",
     "output_type": "stream",
     "text": [
      "기존 DB에 유사한 청크가 있음으로 판단되어 추가되지 않음  - 1.0286757060384843e-05\n"
     ]
    },
    {
     "name": "stderr",
     "output_type": "stream",
     "text": [
      "유사도 검사 중...:  66%|██████▌   | 175/265 [00:49<00:27,  3.27it/s]"
     ]
    },
    {
     "name": "stdout",
     "output_type": "stream",
     "text": [
      "기존 DB에 유사한 청크가 있음으로 판단되어 추가되지 않음  - 2.4405486328760162e-05\n"
     ]
    },
    {
     "name": "stderr",
     "output_type": "stream",
     "text": [
      "유사도 검사 중...:  66%|██████▋   | 176/265 [00:49<00:27,  3.26it/s]"
     ]
    },
    {
     "name": "stdout",
     "output_type": "stream",
     "text": [
      "기존 DB에 유사한 청크가 있음으로 판단되어 추가되지 않음  - 5.217443685978651e-05\n"
     ]
    },
    {
     "name": "stderr",
     "output_type": "stream",
     "text": [
      "유사도 검사 중...:  67%|██████▋   | 177/265 [00:49<00:26,  3.29it/s]"
     ]
    },
    {
     "name": "stdout",
     "output_type": "stream",
     "text": [
      "기존 DB에 유사한 청크가 있음으로 판단되어 추가되지 않음  - 3.2125167308549862e-06\n"
     ]
    },
    {
     "name": "stderr",
     "output_type": "stream",
     "text": [
      "유사도 검사 중...:  67%|██████▋   | 178/265 [00:50<00:26,  3.28it/s]"
     ]
    },
    {
     "name": "stdout",
     "output_type": "stream",
     "text": [
      "기존 DB에 유사한 청크가 있음으로 판단되어 추가되지 않음  - 7.75506214267807e-06\n"
     ]
    },
    {
     "name": "stderr",
     "output_type": "stream",
     "text": [
      "유사도 검사 중...:  68%|██████▊   | 179/265 [00:50<00:26,  3.28it/s]"
     ]
    },
    {
     "name": "stdout",
     "output_type": "stream",
     "text": [
      "기존 DB에 유사한 청크가 있음으로 판단되어 추가되지 않음  - 6.176277111080708e-06\n"
     ]
    },
    {
     "name": "stderr",
     "output_type": "stream",
     "text": [
      "유사도 검사 중...:  68%|██████▊   | 180/265 [00:50<00:24,  3.45it/s]"
     ]
    },
    {
     "name": "stdout",
     "output_type": "stream",
     "text": [
      "기존 DB에 유사한 청크가 있음으로 판단되어 추가되지 않음  - 1.0347132956667338e-05\n"
     ]
    },
    {
     "name": "stderr",
     "output_type": "stream",
     "text": [
      "유사도 검사 중...:  68%|██████▊   | 181/265 [00:50<00:23,  3.59it/s]"
     ]
    },
    {
     "name": "stdout",
     "output_type": "stream",
     "text": [
      "기존 DB에 유사한 청크가 있음으로 판단되어 추가되지 않음  - 6.62931488477625e-05\n"
     ]
    },
    {
     "name": "stderr",
     "output_type": "stream",
     "text": [
      "유사도 검사 중...:  69%|██████▊   | 182/265 [00:51<00:23,  3.51it/s]"
     ]
    },
    {
     "name": "stdout",
     "output_type": "stream",
     "text": [
      "기존 DB에 유사한 청크가 있음으로 판단되어 추가되지 않음  - 3.6597734833776485e-06\n"
     ]
    },
    {
     "name": "stderr",
     "output_type": "stream",
     "text": [
      "유사도 검사 중...:  69%|██████▉   | 183/265 [00:51<00:24,  3.35it/s]"
     ]
    },
    {
     "name": "stdout",
     "output_type": "stream",
     "text": [
      "기존 DB에 유사한 청크가 있음으로 판단되어 추가되지 않음  - 1.1124557204311714e-05\n"
     ]
    },
    {
     "name": "stderr",
     "output_type": "stream",
     "text": [
      "유사도 검사 중...:  69%|██████▉   | 184/265 [00:51<00:24,  3.37it/s]"
     ]
    },
    {
     "name": "stdout",
     "output_type": "stream",
     "text": [
      "기존 DB에 유사한 청크가 있음으로 판단되어 추가되지 않음  - 3.0985238481662236e-06\n"
     ]
    },
    {
     "name": "stderr",
     "output_type": "stream",
     "text": [
      "유사도 검사 중...:  70%|██████▉   | 185/265 [00:52<00:23,  3.47it/s]"
     ]
    },
    {
     "name": "stdout",
     "output_type": "stream",
     "text": [
      "기존 DB에 유사한 청크가 있음으로 판단되어 추가되지 않음  - 5.242394308879739e-06\n"
     ]
    },
    {
     "name": "stderr",
     "output_type": "stream",
     "text": [
      "유사도 검사 중...:  70%|███████   | 186/265 [00:52<00:22,  3.53it/s]"
     ]
    },
    {
     "name": "stdout",
     "output_type": "stream",
     "text": [
      "기존 DB에 유사한 청크가 있음으로 판단되어 추가되지 않음  - 6.635247700614855e-05\n"
     ]
    },
    {
     "name": "stderr",
     "output_type": "stream",
     "text": [
      "유사도 검사 중...:  71%|███████   | 187/265 [00:52<00:22,  3.45it/s]"
     ]
    },
    {
     "name": "stdout",
     "output_type": "stream",
     "text": [
      "기존 DB에 유사한 청크가 있음으로 판단되어 추가되지 않음  - 9.106214747589547e-06\n"
     ]
    },
    {
     "name": "stderr",
     "output_type": "stream",
     "text": [
      "유사도 검사 중...:  71%|███████   | 188/265 [00:52<00:21,  3.65it/s]"
     ]
    },
    {
     "name": "stdout",
     "output_type": "stream",
     "text": [
      "기존 DB에 유사한 청크가 있음으로 판단되어 추가되지 않음  - 6.112633400334744e-06\n"
     ]
    },
    {
     "name": "stderr",
     "output_type": "stream",
     "text": [
      "유사도 검사 중...:  71%|███████▏  | 189/265 [00:53<00:21,  3.62it/s]"
     ]
    },
    {
     "name": "stdout",
     "output_type": "stream",
     "text": [
      "기존 DB에 유사한 청크가 있음으로 판단되어 추가되지 않음  - 0.00012862126459367573\n"
     ]
    },
    {
     "name": "stderr",
     "output_type": "stream",
     "text": [
      "유사도 검사 중...:  72%|███████▏  | 190/265 [00:53<00:21,  3.42it/s]"
     ]
    },
    {
     "name": "stdout",
     "output_type": "stream",
     "text": [
      "기존 DB에 유사한 청크가 있음으로 판단되어 추가되지 않음  - 2.474705979693681e-06\n"
     ]
    },
    {
     "name": "stderr",
     "output_type": "stream",
     "text": [
      "유사도 검사 중...:  72%|███████▏  | 191/265 [00:53<00:22,  3.27it/s]"
     ]
    },
    {
     "name": "stdout",
     "output_type": "stream",
     "text": [
      "기존 DB에 유사한 청크가 있음으로 판단되어 추가되지 않음  - 6.074104021536186e-06\n"
     ]
    },
    {
     "name": "stderr",
     "output_type": "stream",
     "text": [
      "유사도 검사 중...:  72%|███████▏  | 192/265 [00:54<00:22,  3.30it/s]"
     ]
    },
    {
     "name": "stdout",
     "output_type": "stream",
     "text": [
      "기존 DB에 유사한 청크가 있음으로 판단되어 추가되지 않음  - 4.210773477097973e-05\n"
     ]
    },
    {
     "name": "stderr",
     "output_type": "stream",
     "text": [
      "유사도 검사 중...:  73%|███████▎  | 193/265 [00:54<00:21,  3.32it/s]"
     ]
    },
    {
     "name": "stdout",
     "output_type": "stream",
     "text": [
      "기존 DB에 유사한 청크가 있음으로 판단되어 추가되지 않음  - 1.5667417756048962e-05\n"
     ]
    },
    {
     "name": "stderr",
     "output_type": "stream",
     "text": [
      "유사도 검사 중...:  73%|███████▎  | 194/265 [00:54<00:21,  3.32it/s]"
     ]
    },
    {
     "name": "stdout",
     "output_type": "stream",
     "text": [
      "기존 DB에 유사한 청크가 있음으로 판단되어 추가되지 않음  - 4.000546323368326e-05\n"
     ]
    },
    {
     "name": "stderr",
     "output_type": "stream",
     "text": [
      "유사도 검사 중...:  74%|███████▎  | 195/265 [00:54<00:19,  3.57it/s]"
     ]
    },
    {
     "name": "stdout",
     "output_type": "stream",
     "text": [
      "기존 DB에 유사한 청크가 있음으로 판단되어 추가되지 않음  - 5.674587555404287e-06\n"
     ]
    },
    {
     "name": "stderr",
     "output_type": "stream",
     "text": [
      "유사도 검사 중...:  74%|███████▍  | 196/265 [00:55<00:19,  3.48it/s]"
     ]
    },
    {
     "name": "stdout",
     "output_type": "stream",
     "text": [
      "기존 DB에 유사한 청크가 있음으로 판단되어 추가되지 않음  - 3.4883989883383038e-06\n"
     ]
    },
    {
     "name": "stderr",
     "output_type": "stream",
     "text": [
      "유사도 검사 중...:  74%|███████▍  | 197/265 [00:55<00:19,  3.47it/s]"
     ]
    },
    {
     "name": "stdout",
     "output_type": "stream",
     "text": [
      "기존 DB에 유사한 청크가 있음으로 판단되어 추가되지 않음  - 3.233899406041019e-05\n"
     ]
    },
    {
     "name": "stderr",
     "output_type": "stream",
     "text": [
      "유사도 검사 중...:  75%|███████▍  | 198/265 [00:56<00:25,  2.68it/s]"
     ]
    },
    {
     "name": "stdout",
     "output_type": "stream",
     "text": [
      "기존 DB에 유사한 청크가 있음으로 판단되어 추가되지 않음  - 4.915484169032425e-06\n"
     ]
    },
    {
     "name": "stderr",
     "output_type": "stream",
     "text": [
      "유사도 검사 중...:  75%|███████▌  | 199/265 [00:56<00:23,  2.80it/s]"
     ]
    },
    {
     "name": "stdout",
     "output_type": "stream",
     "text": [
      "기존 DB에 유사한 청크가 있음으로 판단되어 추가되지 않음  - 9.31914291868452e-06\n"
     ]
    },
    {
     "name": "stderr",
     "output_type": "stream",
     "text": [
      "유사도 검사 중...:  75%|███████▌  | 200/265 [00:56<00:21,  3.01it/s]"
     ]
    },
    {
     "name": "stdout",
     "output_type": "stream",
     "text": [
      "기존 DB에 유사한 청크가 있음으로 판단되어 추가되지 않음  - 2.7737774871638976e-05\n"
     ]
    },
    {
     "name": "stderr",
     "output_type": "stream",
     "text": [
      "유사도 검사 중...:  76%|███████▌  | 201/265 [00:57<00:20,  3.09it/s]"
     ]
    },
    {
     "name": "stdout",
     "output_type": "stream",
     "text": [
      "기존 DB에 유사한 청크가 있음으로 판단되어 추가되지 않음  - 2.323743410367868e-05\n"
     ]
    },
    {
     "name": "stderr",
     "output_type": "stream",
     "text": [
      "유사도 검사 중...:  76%|███████▌  | 202/265 [00:57<00:19,  3.21it/s]"
     ]
    },
    {
     "name": "stdout",
     "output_type": "stream",
     "text": [
      "기존 DB에 유사한 청크가 있음으로 판단되어 추가되지 않음  - 1.7929063255790885e-05\n"
     ]
    },
    {
     "name": "stderr",
     "output_type": "stream",
     "text": [
      "유사도 검사 중...:  77%|███████▋  | 203/265 [00:57<00:18,  3.42it/s]"
     ]
    },
    {
     "name": "stdout",
     "output_type": "stream",
     "text": [
      "기존 DB에 유사한 청크가 있음으로 판단되어 추가되지 않음  - 3.0671655468507716e-05\n"
     ]
    },
    {
     "name": "stderr",
     "output_type": "stream",
     "text": [
      "유사도 검사 중...:  77%|███████▋  | 204/265 [00:57<00:18,  3.36it/s]"
     ]
    },
    {
     "name": "stdout",
     "output_type": "stream",
     "text": [
      "기존 DB에 유사한 청크가 있음으로 판단되어 추가되지 않음  - 3.167072313057244e-06\n"
     ]
    },
    {
     "name": "stderr",
     "output_type": "stream",
     "text": [
      "유사도 검사 중...:  77%|███████▋  | 205/265 [00:58<00:17,  3.48it/s]"
     ]
    },
    {
     "name": "stdout",
     "output_type": "stream",
     "text": [
      "기존 DB에 유사한 청크가 있음으로 판단되어 추가되지 않음  - 2.0273997176179188e-05\n"
     ]
    },
    {
     "name": "stderr",
     "output_type": "stream",
     "text": [
      "유사도 검사 중...:  78%|███████▊  | 206/265 [00:58<00:17,  3.43it/s]"
     ]
    },
    {
     "name": "stdout",
     "output_type": "stream",
     "text": [
      "기존 DB에 유사한 청크가 있음으로 판단되어 추가되지 않음  - 7.078298485127823e-06\n"
     ]
    },
    {
     "name": "stderr",
     "output_type": "stream",
     "text": [
      "유사도 검사 중...:  78%|███████▊  | 207/265 [00:58<00:18,  3.18it/s]"
     ]
    },
    {
     "name": "stdout",
     "output_type": "stream",
     "text": [
      "기존 DB에 유사한 청크가 있음으로 판단되어 추가되지 않음  - 3.3335695969505475e-05\n"
     ]
    },
    {
     "name": "stderr",
     "output_type": "stream",
     "text": [
      "유사도 검사 중...:  78%|███████▊  | 208/265 [00:59<00:17,  3.23it/s]"
     ]
    },
    {
     "name": "stdout",
     "output_type": "stream",
     "text": [
      "기존 DB에 유사한 청크가 있음으로 판단되어 추가되지 않음  - 0.0\n"
     ]
    },
    {
     "name": "stderr",
     "output_type": "stream",
     "text": [
      "유사도 검사 중...:  79%|███████▉  | 209/265 [00:59<00:16,  3.30it/s]"
     ]
    },
    {
     "name": "stdout",
     "output_type": "stream",
     "text": [
      "기존 DB에 유사한 청크가 있음으로 판단되어 추가되지 않음  - 0.00019625741302973888\n"
     ]
    },
    {
     "name": "stderr",
     "output_type": "stream",
     "text": [
      "유사도 검사 중...:  79%|███████▉  | 210/265 [00:59<00:15,  3.50it/s]"
     ]
    },
    {
     "name": "stdout",
     "output_type": "stream",
     "text": [
      "기존 DB에 유사한 청크가 있음으로 판단되어 추가되지 않음  - 5.466556659580081e-06\n"
     ]
    },
    {
     "name": "stderr",
     "output_type": "stream",
     "text": [
      "유사도 검사 중...:  80%|███████▉  | 211/265 [00:59<00:14,  3.66it/s]"
     ]
    },
    {
     "name": "stdout",
     "output_type": "stream",
     "text": [
      "기존 DB에 유사한 청크가 있음으로 판단되어 추가되지 않음  - 2.2963261513293e-06\n"
     ]
    },
    {
     "name": "stderr",
     "output_type": "stream",
     "text": [
      "유사도 검사 중...:  80%|████████  | 212/265 [01:00<00:15,  3.50it/s]"
     ]
    },
    {
     "name": "stdout",
     "output_type": "stream",
     "text": [
      "기존 DB에 유사한 청크가 있음으로 판단되어 추가되지 않음  - 6.836924088867513e-05\n"
     ]
    },
    {
     "name": "stderr",
     "output_type": "stream",
     "text": [
      "유사도 검사 중...:  80%|████████  | 213/265 [01:00<00:14,  3.65it/s]"
     ]
    },
    {
     "name": "stdout",
     "output_type": "stream",
     "text": [
      "기존 DB에 유사한 청크가 있음으로 판단되어 추가되지 않음  - 2.1221864804980905e-05\n"
     ]
    },
    {
     "name": "stderr",
     "output_type": "stream",
     "text": [
      "유사도 검사 중...:  81%|████████  | 214/265 [01:00<00:13,  3.90it/s]"
     ]
    },
    {
     "name": "stdout",
     "output_type": "stream",
     "text": [
      "기존 DB에 유사한 청크가 있음으로 판단되어 추가되지 않음  - 3.4229800670764535e-06\n"
     ]
    },
    {
     "name": "stderr",
     "output_type": "stream",
     "text": [
      "유사도 검사 중...:  81%|████████  | 215/265 [01:00<00:13,  3.61it/s]"
     ]
    },
    {
     "name": "stdout",
     "output_type": "stream",
     "text": [
      "기존 DB에 유사한 청크가 있음으로 판단되어 추가되지 않음  - 1.7680769447010715e-05\n"
     ]
    },
    {
     "name": "stderr",
     "output_type": "stream",
     "text": [
      "유사도 검사 중...:  82%|████████▏ | 216/265 [01:01<00:14,  3.43it/s]"
     ]
    },
    {
     "name": "stdout",
     "output_type": "stream",
     "text": [
      "기존 DB에 유사한 청크가 있음으로 판단되어 추가되지 않음  - 3.0494484365035642e-05\n"
     ]
    },
    {
     "name": "stderr",
     "output_type": "stream",
     "text": [
      "유사도 검사 중...:  82%|████████▏ | 217/265 [01:01<00:13,  3.59it/s]"
     ]
    },
    {
     "name": "stdout",
     "output_type": "stream",
     "text": [
      "기존 DB에 유사한 청크가 있음으로 판단되어 추가되지 않음  - 5.797437363536717e-05\n"
     ]
    },
    {
     "name": "stderr",
     "output_type": "stream",
     "text": [
      "유사도 검사 중...:  82%|████████▏ | 218/265 [01:01<00:12,  3.75it/s]"
     ]
    },
    {
     "name": "stdout",
     "output_type": "stream",
     "text": [
      "기존 DB에 유사한 청크가 있음으로 판단되어 추가되지 않음  - 6.784042343216746e-06\n"
     ]
    },
    {
     "name": "stderr",
     "output_type": "stream",
     "text": [
      "유사도 검사 중...:  83%|████████▎ | 219/265 [01:02<00:12,  3.81it/s]"
     ]
    },
    {
     "name": "stdout",
     "output_type": "stream",
     "text": [
      "기존 DB에 유사한 청크가 있음으로 판단되어 추가되지 않음  - 9.121376644575462e-06\n"
     ]
    },
    {
     "name": "stderr",
     "output_type": "stream",
     "text": [
      "유사도 검사 중...:  83%|████████▎ | 220/265 [01:02<00:11,  3.84it/s]"
     ]
    },
    {
     "name": "stdout",
     "output_type": "stream",
     "text": [
      "기존 DB에 유사한 청크가 있음으로 판단되어 추가되지 않음  - 9.458626940412044e-06\n"
     ]
    },
    {
     "name": "stderr",
     "output_type": "stream",
     "text": [
      "유사도 검사 중...:  83%|████████▎ | 221/265 [01:02<00:11,  3.94it/s]"
     ]
    },
    {
     "name": "stdout",
     "output_type": "stream",
     "text": [
      "기존 DB에 유사한 청크가 있음으로 판단되어 추가되지 않음  - 7.521553142821766e-06\n"
     ]
    },
    {
     "name": "stderr",
     "output_type": "stream",
     "text": [
      "유사도 검사 중...:  84%|████████▍ | 222/265 [01:02<00:10,  4.02it/s]"
     ]
    },
    {
     "name": "stdout",
     "output_type": "stream",
     "text": [
      "기존 DB에 유사한 청크가 있음으로 판단되어 추가되지 않음  - 1.4565477883353898e-06\n"
     ]
    },
    {
     "name": "stderr",
     "output_type": "stream",
     "text": [
      "유사도 검사 중...:  84%|████████▍ | 223/265 [01:03<00:10,  3.96it/s]"
     ]
    },
    {
     "name": "stdout",
     "output_type": "stream",
     "text": [
      "기존 DB에 유사한 청크가 있음으로 판단되어 추가되지 않음  - 2.3600471481381373e-05\n"
     ]
    },
    {
     "name": "stderr",
     "output_type": "stream",
     "text": [
      "유사도 검사 중...:  85%|████████▍ | 224/265 [01:03<00:11,  3.57it/s]"
     ]
    },
    {
     "name": "stdout",
     "output_type": "stream",
     "text": [
      "기존 DB에 유사한 청크가 있음으로 판단되어 추가되지 않음  - 3.2242021989235337e-06\n"
     ]
    },
    {
     "name": "stderr",
     "output_type": "stream",
     "text": [
      "유사도 검사 중...:  85%|████████▍ | 225/265 [01:03<00:11,  3.40it/s]"
     ]
    },
    {
     "name": "stdout",
     "output_type": "stream",
     "text": [
      "기존 DB에 유사한 청크가 있음으로 판단되어 추가되지 않음  - 4.526213376852741e-06\n"
     ]
    },
    {
     "name": "stderr",
     "output_type": "stream",
     "text": [
      "유사도 검사 중...:  85%|████████▌ | 226/265 [01:03<00:10,  3.60it/s]"
     ]
    },
    {
     "name": "stdout",
     "output_type": "stream",
     "text": [
      "기존 DB에 유사한 청크가 있음으로 판단되어 추가되지 않음  - 7.365378929190001e-06\n"
     ]
    },
    {
     "name": "stderr",
     "output_type": "stream",
     "text": [
      "유사도 검사 중...:  86%|████████▌ | 227/265 [01:04<00:11,  3.45it/s]"
     ]
    },
    {
     "name": "stdout",
     "output_type": "stream",
     "text": [
      "기존 DB에 유사한 청크가 있음으로 판단되어 추가되지 않음  - 9.420432106320319e-06\n"
     ]
    },
    {
     "name": "stderr",
     "output_type": "stream",
     "text": [
      "유사도 검사 중...:  86%|████████▌ | 228/265 [01:04<00:10,  3.41it/s]"
     ]
    },
    {
     "name": "stdout",
     "output_type": "stream",
     "text": [
      "기존 DB에 유사한 청크가 있음으로 판단되어 추가되지 않음  - 3.954923394911989e-06\n"
     ]
    },
    {
     "name": "stderr",
     "output_type": "stream",
     "text": [
      "유사도 검사 중...:  87%|████████▋ | 230/265 [01:05<00:09,  3.70it/s]"
     ]
    },
    {
     "name": "stdout",
     "output_type": "stream",
     "text": [
      "기존 DB에 유사한 청크가 있음으로 판단되어 추가되지 않음  - 5.565811745395492e-06\n",
      "기존 DB에 유사한 청크가 있음으로 판단되어 추가되지 않음  - 0.0\n"
     ]
    },
    {
     "name": "stderr",
     "output_type": "stream",
     "text": [
      "유사도 검사 중...:  87%|████████▋ | 231/265 [01:05<00:09,  3.59it/s]"
     ]
    },
    {
     "name": "stdout",
     "output_type": "stream",
     "text": [
      "기존 DB에 유사한 청크가 있음으로 판단되어 추가되지 않음  - 2.524789708281933e-05\n"
     ]
    },
    {
     "name": "stderr",
     "output_type": "stream",
     "text": [
      "유사도 검사 중...:  88%|████████▊ | 232/265 [01:05<00:09,  3.48it/s]"
     ]
    },
    {
     "name": "stdout",
     "output_type": "stream",
     "text": [
      "기존 DB에 유사한 청크가 있음으로 판단되어 추가되지 않음  - 0.00014116703423921082\n"
     ]
    },
    {
     "name": "stderr",
     "output_type": "stream",
     "text": [
      "유사도 검사 중...:  88%|████████▊ | 233/265 [01:06<00:09,  3.44it/s]"
     ]
    },
    {
     "name": "stdout",
     "output_type": "stream",
     "text": [
      "기존 DB에 유사한 청크가 있음으로 판단되어 추가되지 않음  - 2.3649305758980485e-06\n"
     ]
    },
    {
     "name": "stderr",
     "output_type": "stream",
     "text": [
      "유사도 검사 중...:  88%|████████▊ | 234/265 [01:06<00:08,  3.48it/s]"
     ]
    },
    {
     "name": "stdout",
     "output_type": "stream",
     "text": [
      "기존 DB에 유사한 청크가 있음으로 판단되어 추가되지 않음  - 1.8695330920673178e-06\n"
     ]
    },
    {
     "name": "stderr",
     "output_type": "stream",
     "text": [
      "유사도 검사 중...:  89%|████████▊ | 235/265 [01:06<00:08,  3.58it/s]"
     ]
    },
    {
     "name": "stdout",
     "output_type": "stream",
     "text": [
      "기존 DB에 유사한 청크가 있음으로 판단되어 추가되지 않음  - 0.00018664742565191464\n"
     ]
    },
    {
     "name": "stderr",
     "output_type": "stream",
     "text": [
      "유사도 검사 중...:  89%|████████▉ | 236/265 [01:06<00:07,  3.75it/s]"
     ]
    },
    {
     "name": "stdout",
     "output_type": "stream",
     "text": [
      "기존 DB에 유사한 청크가 있음으로 판단되어 추가되지 않음  - 3.6889224424583497e-06\n"
     ]
    },
    {
     "name": "stderr",
     "output_type": "stream",
     "text": [
      "유사도 검사 중...:  89%|████████▉ | 237/265 [01:07<00:07,  3.57it/s]"
     ]
    },
    {
     "name": "stdout",
     "output_type": "stream",
     "text": [
      "기존 DB에 유사한 청크가 있음으로 판단되어 추가되지 않음  - 6.972021684124642e-05\n"
     ]
    },
    {
     "name": "stderr",
     "output_type": "stream",
     "text": [
      "유사도 검사 중...:  90%|████████▉ | 238/265 [01:07<00:07,  3.67it/s]"
     ]
    },
    {
     "name": "stdout",
     "output_type": "stream",
     "text": [
      "기존 DB에 유사한 청크가 있음으로 판단되어 추가되지 않음  - 7.382239097796315e-05\n"
     ]
    },
    {
     "name": "stderr",
     "output_type": "stream",
     "text": [
      "유사도 검사 중...:  90%|█████████ | 239/265 [01:07<00:07,  3.64it/s]"
     ]
    },
    {
     "name": "stdout",
     "output_type": "stream",
     "text": [
      "기존 DB에 유사한 청크가 있음으로 판단되어 추가되지 않음  - 1.8406724278580066e-05\n"
     ]
    },
    {
     "name": "stderr",
     "output_type": "stream",
     "text": [
      "유사도 검사 중...:  91%|█████████ | 240/265 [01:07<00:07,  3.44it/s]"
     ]
    },
    {
     "name": "stdout",
     "output_type": "stream",
     "text": [
      "기존 DB에 유사한 청크가 있음으로 판단되어 추가되지 않음  - 3.1738011891298044e-06\n"
     ]
    },
    {
     "name": "stderr",
     "output_type": "stream",
     "text": [
      "유사도 검사 중...:  91%|█████████ | 241/265 [01:08<00:07,  3.20it/s]"
     ]
    },
    {
     "name": "stdout",
     "output_type": "stream",
     "text": [
      "기존 DB에 유사한 청크가 있음으로 판단되어 추가되지 않음  - 9.32244119572849e-05\n"
     ]
    },
    {
     "name": "stderr",
     "output_type": "stream",
     "text": [
      "유사도 검사 중...:  91%|█████████▏| 242/265 [01:08<00:06,  3.44it/s]"
     ]
    },
    {
     "name": "stdout",
     "output_type": "stream",
     "text": [
      "기존 DB에 유사한 청크가 있음으로 판단되어 추가되지 않음  - 1.9114510566725217e-05\n"
     ]
    },
    {
     "name": "stderr",
     "output_type": "stream",
     "text": [
      "유사도 검사 중...:  92%|█████████▏| 243/265 [01:08<00:06,  3.31it/s]"
     ]
    },
    {
     "name": "stdout",
     "output_type": "stream",
     "text": [
      "기존 DB에 유사한 청크가 있음으로 판단되어 추가되지 않음  - 5.1029920208796216e-05\n"
     ]
    },
    {
     "name": "stderr",
     "output_type": "stream",
     "text": [
      "유사도 검사 중...:  92%|█████████▏| 244/265 [01:09<00:05,  3.62it/s]"
     ]
    },
    {
     "name": "stdout",
     "output_type": "stream",
     "text": [
      "기존 DB에 유사한 청크가 있음으로 판단되어 추가되지 않음  - 0.0\n"
     ]
    },
    {
     "name": "stderr",
     "output_type": "stream",
     "text": [
      "유사도 검사 중...:  92%|█████████▏| 245/265 [01:09<00:05,  3.65it/s]"
     ]
    },
    {
     "name": "stdout",
     "output_type": "stream",
     "text": [
      "기존 DB에 유사한 청크가 있음으로 판단되어 추가되지 않음  - 2.9363705566398253e-06\n"
     ]
    },
    {
     "name": "stderr",
     "output_type": "stream",
     "text": [
      "유사도 검사 중...:  93%|█████████▎| 246/265 [01:09<00:05,  3.72it/s]"
     ]
    },
    {
     "name": "stdout",
     "output_type": "stream",
     "text": [
      "기존 DB에 유사한 청크가 있음으로 판단되어 추가되지 않음  - 4.316319716472592e-05\n"
     ]
    },
    {
     "name": "stderr",
     "output_type": "stream",
     "text": [
      "유사도 검사 중...:  93%|█████████▎| 247/265 [01:09<00:05,  3.59it/s]"
     ]
    },
    {
     "name": "stdout",
     "output_type": "stream",
     "text": [
      "기존 DB에 유사한 청크가 있음으로 판단되어 추가되지 않음  - 6.506659028505827e-06\n"
     ]
    },
    {
     "name": "stderr",
     "output_type": "stream",
     "text": [
      "유사도 검사 중...:  94%|█████████▎| 248/265 [01:10<00:04,  3.50it/s]"
     ]
    },
    {
     "name": "stdout",
     "output_type": "stream",
     "text": [
      "기존 DB에 유사한 청크가 있음으로 판단되어 추가되지 않음  - 3.715666292208291e-06\n"
     ]
    },
    {
     "name": "stderr",
     "output_type": "stream",
     "text": [
      "유사도 검사 중...:  94%|█████████▍| 249/265 [01:10<00:04,  3.42it/s]"
     ]
    },
    {
     "name": "stdout",
     "output_type": "stream",
     "text": [
      "기존 DB에 유사한 청크가 있음으로 판단되어 추가되지 않음  - 1.2840415229927323e-05\n"
     ]
    },
    {
     "name": "stderr",
     "output_type": "stream",
     "text": [
      "유사도 검사 중...:  94%|█████████▍| 250/265 [01:10<00:04,  3.43it/s]"
     ]
    },
    {
     "name": "stdout",
     "output_type": "stream",
     "text": [
      "기존 DB에 유사한 청크가 있음으로 판단되어 추가되지 않음  - 5.027234333365702e-06\n"
     ]
    },
    {
     "name": "stderr",
     "output_type": "stream",
     "text": [
      "유사도 검사 중...:  95%|█████████▍| 251/265 [01:11<00:04,  3.35it/s]"
     ]
    },
    {
     "name": "stdout",
     "output_type": "stream",
     "text": [
      "기존 DB에 유사한 청크가 있음으로 판단되어 추가되지 않음  - 1.750660697603421e-05\n"
     ]
    },
    {
     "name": "stderr",
     "output_type": "stream",
     "text": [
      "유사도 검사 중...:  95%|█████████▌| 252/265 [01:11<00:03,  3.65it/s]"
     ]
    },
    {
     "name": "stdout",
     "output_type": "stream",
     "text": [
      "기존 DB에 유사한 청크가 있음으로 판단되어 추가되지 않음  - 5.445030802187347e-05\n"
     ]
    },
    {
     "name": "stderr",
     "output_type": "stream",
     "text": [
      "유사도 검사 중...:  95%|█████████▌| 253/265 [01:11<00:03,  3.85it/s]"
     ]
    },
    {
     "name": "stdout",
     "output_type": "stream",
     "text": [
      "기존 DB에 유사한 청크가 있음으로 판단되어 추가되지 않음  - 1.5674280606617064e-05\n"
     ]
    },
    {
     "name": "stderr",
     "output_type": "stream",
     "text": [
      "유사도 검사 중...:  96%|█████████▌| 254/265 [01:11<00:03,  3.65it/s]"
     ]
    },
    {
     "name": "stdout",
     "output_type": "stream",
     "text": [
      "기존 DB에 유사한 청크가 있음으로 판단되어 추가되지 않음  - 1.1145293428936826e-05\n"
     ]
    },
    {
     "name": "stderr",
     "output_type": "stream",
     "text": [
      "유사도 검사 중...:  96%|█████████▌| 255/265 [01:12<00:02,  3.48it/s]"
     ]
    },
    {
     "name": "stdout",
     "output_type": "stream",
     "text": [
      "기존 DB에 유사한 청크가 있음으로 판단되어 추가되지 않음  - 2.376951690793832e-05\n"
     ]
    },
    {
     "name": "stderr",
     "output_type": "stream",
     "text": [
      "유사도 검사 중...:  97%|█████████▋| 256/265 [01:12<00:02,  3.41it/s]"
     ]
    },
    {
     "name": "stdout",
     "output_type": "stream",
     "text": [
      "기존 DB에 유사한 청크가 있음으로 판단되어 추가되지 않음  - 0.0\n"
     ]
    },
    {
     "name": "stderr",
     "output_type": "stream",
     "text": [
      "유사도 검사 중...:  97%|█████████▋| 257/265 [01:12<00:02,  3.46it/s]"
     ]
    },
    {
     "name": "stdout",
     "output_type": "stream",
     "text": [
      "기존 DB에 유사한 청크가 있음으로 판단되어 추가되지 않음  - 3.0753983693314916e-06\n"
     ]
    },
    {
     "name": "stderr",
     "output_type": "stream",
     "text": [
      "유사도 검사 중...:  97%|█████████▋| 258/265 [01:13<00:01,  3.69it/s]"
     ]
    },
    {
     "name": "stdout",
     "output_type": "stream",
     "text": [
      "기존 DB에 유사한 청크가 있음으로 판단되어 추가되지 않음  - 2.481535954646822e-06\n"
     ]
    },
    {
     "name": "stderr",
     "output_type": "stream",
     "text": [
      "유사도 검사 중...:  98%|█████████▊| 259/265 [01:13<00:01,  3.59it/s]"
     ]
    },
    {
     "name": "stdout",
     "output_type": "stream",
     "text": [
      "기존 DB에 유사한 청크가 있음으로 판단되어 추가되지 않음  - 3.6986176291615253e-06\n"
     ]
    },
    {
     "name": "stderr",
     "output_type": "stream",
     "text": [
      "유사도 검사 중...:  98%|█████████▊| 260/265 [01:13<00:01,  3.72it/s]"
     ]
    },
    {
     "name": "stdout",
     "output_type": "stream",
     "text": [
      "기존 DB에 유사한 청크가 있음으로 판단되어 추가되지 않음  - 7.214893310978974e-06\n"
     ]
    },
    {
     "name": "stderr",
     "output_type": "stream",
     "text": [
      "유사도 검사 중...:  98%|█████████▊| 261/265 [01:13<00:01,  3.90it/s]"
     ]
    },
    {
     "name": "stdout",
     "output_type": "stream",
     "text": [
      "기존 DB에 유사한 청크가 있음으로 판단되어 추가되지 않음  - 0.0\n"
     ]
    },
    {
     "name": "stderr",
     "output_type": "stream",
     "text": [
      "유사도 검사 중...:  99%|█████████▉| 262/265 [01:14<00:00,  3.62it/s]"
     ]
    },
    {
     "name": "stdout",
     "output_type": "stream",
     "text": [
      "기존 DB에 유사한 청크가 있음으로 판단되어 추가되지 않음  - 4.884634042948924e-06\n"
     ]
    },
    {
     "name": "stderr",
     "output_type": "stream",
     "text": [
      "유사도 검사 중...:  99%|█████████▉| 263/265 [01:14<00:00,  3.40it/s]"
     ]
    },
    {
     "name": "stdout",
     "output_type": "stream",
     "text": [
      "기존 DB에 유사한 청크가 있음으로 판단되어 추가되지 않음  - 2.6546593971444915e-05\n"
     ]
    },
    {
     "name": "stderr",
     "output_type": "stream",
     "text": [
      "유사도 검사 중...: 100%|█████████▉| 264/265 [01:14<00:00,  3.62it/s]"
     ]
    },
    {
     "name": "stdout",
     "output_type": "stream",
     "text": [
      "기존 DB에 유사한 청크가 있음으로 판단되어 추가되지 않음  - 5.081957757286225e-05\n"
     ]
    },
    {
     "name": "stderr",
     "output_type": "stream",
     "text": [
      "유사도 검사 중...: 100%|██████████| 265/265 [01:15<00:00,  3.53it/s]"
     ]
    },
    {
     "name": "stdout",
     "output_type": "stream",
     "text": [
      "기존 DB에 유사한 청크가 있음으로 판단되어 추가되지 않음  - 0.0\n",
      "모두 유사한 청크로 판단되어 해당 문서가 저장되지 않음\n",
      "[문서업로드] 유사한 문서가 발견되어 벡터스토어 업데이트가 거절되었습니다.\n"
     ]
    },
    {
     "name": "stderr",
     "output_type": "stream",
     "text": [
      "\n",
      "유사도 검사 중...:   5%|▍         | 2/41 [00:00<00:11,  3.32it/s]"
     ]
    },
    {
     "name": "stdout",
     "output_type": "stream",
     "text": [
      "기존 DB에 유사한 청크가 있음으로 판단되어 추가되지 않음  - 0.24341145157814026\n"
     ]
    },
    {
     "name": "stderr",
     "output_type": "stream",
     "text": [
      "유사도 검사 중...:  10%|▉         | 4/41 [00:01<00:10,  3.38it/s]"
     ]
    },
    {
     "name": "stdout",
     "output_type": "stream",
     "text": [
      "기존 DB에 유사한 청크가 있음으로 판단되어 추가되지 않음  - 0.24972450733184814\n"
     ]
    },
    {
     "name": "stderr",
     "output_type": "stream",
     "text": [
      "유사도 검사 중...:  46%|████▋     | 19/41 [00:05<00:06,  3.46it/s]"
     ]
    },
    {
     "name": "stdout",
     "output_type": "stream",
     "text": [
      "기존 DB에 유사한 청크가 있음으로 판단되어 추가되지 않음  - 0.21844768524169922\n"
     ]
    },
    {
     "name": "stderr",
     "output_type": "stream",
     "text": [
      "유사도 검사 중...:  49%|████▉     | 20/41 [00:05<00:06,  3.45it/s]"
     ]
    },
    {
     "name": "stdout",
     "output_type": "stream",
     "text": [
      "기존 DB에 유사한 청크가 있음으로 판단되어 추가되지 않음  - 0.23328515887260437\n"
     ]
    },
    {
     "name": "stderr",
     "output_type": "stream",
     "text": [
      "유사도 검사 중...:  68%|██████▊   | 28/41 [00:08<00:03,  3.31it/s]"
     ]
    },
    {
     "name": "stdout",
     "output_type": "stream",
     "text": [
      "기존 DB에 유사한 청크가 있음으로 판단되어 추가되지 않음  - 0.2462509572505951\n"
     ]
    },
    {
     "name": "stderr",
     "output_type": "stream",
     "text": [
      "유사도 검사 중...:  78%|███████▊  | 32/41 [00:09<00:02,  3.27it/s]"
     ]
    },
    {
     "name": "stdout",
     "output_type": "stream",
     "text": [
      "기존 DB에 유사한 청크가 있음으로 판단되어 추가되지 않음  - 0.2234342098236084\n"
     ]
    },
    {
     "name": "stderr",
     "output_type": "stream",
     "text": [
      "유사도 검사 중...:  83%|████████▎ | 34/41 [00:10<00:02,  3.12it/s]"
     ]
    },
    {
     "name": "stdout",
     "output_type": "stream",
     "text": [
      "기존 DB에 유사한 청크가 있음으로 판단되어 추가되지 않음  - 0.23776772618293762\n"
     ]
    },
    {
     "name": "stderr",
     "output_type": "stream",
     "text": [
      "유사도 검사 중...:  85%|████████▌ | 35/41 [00:10<00:01,  3.25it/s]"
     ]
    },
    {
     "name": "stdout",
     "output_type": "stream",
     "text": [
      "기존 DB에 유사한 청크가 있음으로 판단되어 추가되지 않음  - 0.24152807891368866\n"
     ]
    },
    {
     "name": "stderr",
     "output_type": "stream",
     "text": [
      "유사도 검사 중...: 100%|██████████| 41/41 [00:11<00:00,  3.48it/s]\n"
     ]
    },
    {
     "name": "stdout",
     "output_type": "stream",
     "text": [
      "Added 33 new documents to the vector store\n",
      "[문서업로드] 벡터 스토어 업데이트에 성공하였습니다.\n"
     ]
    },
    {
     "name": "stderr",
     "output_type": "stream",
     "text": [
      "유사도 검사 중...:   4%|▍         | 2/50 [00:00<00:14,  3.30it/s]"
     ]
    },
    {
     "name": "stdout",
     "output_type": "stream",
     "text": [
      "기존 DB에 유사한 청크가 있음으로 판단되어 추가되지 않음  - 0.0\n"
     ]
    },
    {
     "name": "stderr",
     "output_type": "stream",
     "text": [
      "유사도 검사 중...:   8%|▊         | 4/50 [00:01<00:12,  3.72it/s]"
     ]
    },
    {
     "name": "stdout",
     "output_type": "stream",
     "text": [
      "기존 DB에 유사한 청크가 있음으로 판단되어 추가되지 않음  - 0.0\n"
     ]
    },
    {
     "name": "stderr",
     "output_type": "stream",
     "text": [
      "유사도 검사 중...:  78%|███████▊  | 39/50 [00:11<00:03,  3.29it/s]"
     ]
    },
    {
     "name": "stdout",
     "output_type": "stream",
     "text": [
      "기존 DB에 유사한 청크가 있음으로 판단되어 추가되지 않음  - 0.24518989790878584\n"
     ]
    },
    {
     "name": "stderr",
     "output_type": "stream",
     "text": [
      "유사도 검사 중...:  80%|████████  | 40/50 [00:11<00:02,  3.54it/s]"
     ]
    },
    {
     "name": "stdout",
     "output_type": "stream",
     "text": [
      "기존 DB에 유사한 청크가 있음으로 판단되어 추가되지 않음  - 0.24946812881278732\n"
     ]
    },
    {
     "name": "stderr",
     "output_type": "stream",
     "text": [
      "유사도 검사 중...:  92%|█████████▏| 46/50 [00:13<00:01,  3.66it/s]"
     ]
    },
    {
     "name": "stdout",
     "output_type": "stream",
     "text": [
      "기존 DB에 유사한 청크가 있음으로 판단되어 추가되지 않음  - 0.2476264089345932\n"
     ]
    },
    {
     "name": "stderr",
     "output_type": "stream",
     "text": [
      "유사도 검사 중...:  96%|█████████▌| 48/50 [00:14<00:00,  3.81it/s]"
     ]
    },
    {
     "name": "stdout",
     "output_type": "stream",
     "text": [
      "기존 DB에 유사한 청크가 있음으로 판단되어 추가되지 않음  - 0.180464968085289\n",
      "기존 DB에 유사한 청크가 있음으로 판단되어 추가되지 않음  - 0.0\n"
     ]
    },
    {
     "name": "stderr",
     "output_type": "stream",
     "text": [
      "유사도 검사 중...: 100%|██████████| 50/50 [00:14<00:00,  3.38it/s]"
     ]
    },
    {
     "name": "stdout",
     "output_type": "stream",
     "text": [
      "기존 DB에 유사한 청크가 있음으로 판단되어 추가되지 않음  - 0.0\n"
     ]
    },
    {
     "name": "stderr",
     "output_type": "stream",
     "text": [
      "\n"
     ]
    },
    {
     "name": "stdout",
     "output_type": "stream",
     "text": [
      "Added 42 new documents to the vector store\n",
      "[문서업로드] 벡터 스토어 업데이트에 성공하였습니다.\n"
     ]
    },
    {
     "name": "stderr",
     "output_type": "stream",
     "text": [
      "유사도 검사 중...:   1%|          | 2/172 [00:00<00:40,  4.19it/s]"
     ]
    },
    {
     "name": "stdout",
     "output_type": "stream",
     "text": [
      "기존 DB에 유사한 청크가 있음으로 판단되어 추가되지 않음  - 0.0\n"
     ]
    },
    {
     "name": "stderr",
     "output_type": "stream",
     "text": [
      "유사도 검사 중...:   3%|▎         | 5/172 [00:01<00:49,  3.41it/s]"
     ]
    },
    {
     "name": "stdout",
     "output_type": "stream",
     "text": [
      "기존 DB에 유사한 청크가 있음으로 판단되어 추가되지 않음  - 0.24003829061985016\n"
     ]
    },
    {
     "name": "stderr",
     "output_type": "stream",
     "text": [
      "유사도 검사 중...:   3%|▎         | 6/172 [00:01<00:47,  3.49it/s]"
     ]
    },
    {
     "name": "stdout",
     "output_type": "stream",
     "text": [
      "기존 DB에 유사한 청크가 있음으로 판단되어 추가되지 않음  - 0.12827350199222565\n"
     ]
    },
    {
     "name": "stderr",
     "output_type": "stream",
     "text": [
      "유사도 검사 중...:   4%|▍         | 7/172 [00:01<00:44,  3.73it/s]"
     ]
    },
    {
     "name": "stdout",
     "output_type": "stream",
     "text": [
      "기존 DB에 유사한 청크가 있음으로 판단되어 추가되지 않음  - 0.1762823462486267\n"
     ]
    },
    {
     "name": "stderr",
     "output_type": "stream",
     "text": [
      "유사도 검사 중...:   8%|▊         | 14/172 [00:03<00:43,  3.66it/s]"
     ]
    },
    {
     "name": "stdout",
     "output_type": "stream",
     "text": [
      "기존 DB에 유사한 청크가 있음으로 판단되어 추가되지 않음  - 0.2108144462108612\n"
     ]
    },
    {
     "name": "stderr",
     "output_type": "stream",
     "text": [
      "유사도 검사 중...:   9%|▊         | 15/172 [00:04<00:42,  3.69it/s]"
     ]
    },
    {
     "name": "stdout",
     "output_type": "stream",
     "text": [
      "기존 DB에 유사한 청크가 있음으로 판단되어 추가되지 않음  - 0.0\n"
     ]
    },
    {
     "name": "stderr",
     "output_type": "stream",
     "text": [
      "유사도 검사 중...:  10%|▉         | 17/172 [00:04<00:50,  3.06it/s]"
     ]
    },
    {
     "name": "stdout",
     "output_type": "stream",
     "text": [
      "기존 DB에 유사한 청크가 있음으로 판단되어 추가되지 않음  - 0.15441974997520447\n"
     ]
    },
    {
     "name": "stderr",
     "output_type": "stream",
     "text": [
      "유사도 검사 중...:  10%|█         | 18/172 [00:05<00:47,  3.26it/s]"
     ]
    },
    {
     "name": "stdout",
     "output_type": "stream",
     "text": [
      "기존 DB에 유사한 청크가 있음으로 판단되어 추가되지 않음  - 0.18184421956539154\n"
     ]
    },
    {
     "name": "stderr",
     "output_type": "stream",
     "text": [
      "유사도 검사 중...:  11%|█         | 19/172 [00:05<00:45,  3.36it/s]"
     ]
    },
    {
     "name": "stdout",
     "output_type": "stream",
     "text": [
      "기존 DB에 유사한 청크가 있음으로 판단되어 추가되지 않음  - 0.22806525230407715\n"
     ]
    },
    {
     "name": "stderr",
     "output_type": "stream",
     "text": [
      "유사도 검사 중...:  12%|█▏        | 20/172 [00:05<00:44,  3.43it/s]"
     ]
    },
    {
     "name": "stdout",
     "output_type": "stream",
     "text": [
      "기존 DB에 유사한 청크가 있음으로 판단되어 추가되지 않음  - 0.24019838869571686\n"
     ]
    },
    {
     "name": "stderr",
     "output_type": "stream",
     "text": [
      "유사도 검사 중...:  12%|█▏        | 21/172 [00:05<00:41,  3.61it/s]"
     ]
    },
    {
     "name": "stdout",
     "output_type": "stream",
     "text": [
      "기존 DB에 유사한 청크가 있음으로 판단되어 추가되지 않음  - 0.20300644636154175\n"
     ]
    },
    {
     "name": "stderr",
     "output_type": "stream",
     "text": [
      "유사도 검사 중...:  13%|█▎        | 23/172 [00:06<00:41,  3.62it/s]"
     ]
    },
    {
     "name": "stdout",
     "output_type": "stream",
     "text": [
      "기존 DB에 유사한 청크가 있음으로 판단되어 추가되지 않음  - 0.18164634704589844\n"
     ]
    },
    {
     "name": "stderr",
     "output_type": "stream",
     "text": [
      "유사도 검사 중...:  15%|█▍        | 25/172 [00:07<00:40,  3.60it/s]"
     ]
    },
    {
     "name": "stdout",
     "output_type": "stream",
     "text": [
      "기존 DB에 유사한 청크가 있음으로 판단되어 추가되지 않음  - 0.23529773950576782\n"
     ]
    },
    {
     "name": "stderr",
     "output_type": "stream",
     "text": [
      "유사도 검사 중...:  15%|█▌        | 26/172 [00:07<00:41,  3.48it/s]"
     ]
    },
    {
     "name": "stdout",
     "output_type": "stream",
     "text": [
      "기존 DB에 유사한 청크가 있음으로 판단되어 추가되지 않음  - 0.24760888259413735\n"
     ]
    },
    {
     "name": "stderr",
     "output_type": "stream",
     "text": [
      "유사도 검사 중...:  16%|█▌        | 27/172 [00:07<00:43,  3.31it/s]"
     ]
    },
    {
     "name": "stdout",
     "output_type": "stream",
     "text": [
      "기존 DB에 유사한 청크가 있음으로 판단되어 추가되지 않음  - 0.21815747022628784\n"
     ]
    },
    {
     "name": "stderr",
     "output_type": "stream",
     "text": [
      "유사도 검사 중...:  17%|█▋        | 29/172 [00:08<00:47,  3.04it/s]"
     ]
    },
    {
     "name": "stdout",
     "output_type": "stream",
     "text": [
      "기존 DB에 유사한 청크가 있음으로 판단되어 추가되지 않음  - 0.17610786855220795\n"
     ]
    },
    {
     "name": "stderr",
     "output_type": "stream",
     "text": [
      "유사도 검사 중...:  17%|█▋        | 30/172 [00:08<00:47,  3.00it/s]"
     ]
    },
    {
     "name": "stdout",
     "output_type": "stream",
     "text": [
      "기존 DB에 유사한 청크가 있음으로 판단되어 추가되지 않음  - 0.2422496687229094\n"
     ]
    },
    {
     "name": "stderr",
     "output_type": "stream",
     "text": [
      "유사도 검사 중...:  18%|█▊        | 31/172 [00:09<00:45,  3.13it/s]"
     ]
    },
    {
     "name": "stdout",
     "output_type": "stream",
     "text": [
      "기존 DB에 유사한 청크가 있음으로 판단되어 추가되지 않음  - 0.18178904056549072\n"
     ]
    },
    {
     "name": "stderr",
     "output_type": "stream",
     "text": [
      "유사도 검사 중...:  19%|█▊        | 32/172 [00:09<00:44,  3.16it/s]"
     ]
    },
    {
     "name": "stdout",
     "output_type": "stream",
     "text": [
      "기존 DB에 유사한 청크가 있음으로 판단되어 추가되지 않음  - 0.18610437214374542\n"
     ]
    },
    {
     "name": "stderr",
     "output_type": "stream",
     "text": [
      "유사도 검사 중...:  19%|█▉        | 33/172 [00:09<00:41,  3.39it/s]"
     ]
    },
    {
     "name": "stdout",
     "output_type": "stream",
     "text": [
      "기존 DB에 유사한 청크가 있음으로 판단되어 추가되지 않음  - 0.23312512040138245\n"
     ]
    },
    {
     "name": "stderr",
     "output_type": "stream",
     "text": [
      "유사도 검사 중...:  20%|██        | 35/172 [00:10<00:39,  3.49it/s]"
     ]
    },
    {
     "name": "stdout",
     "output_type": "stream",
     "text": [
      "기존 DB에 유사한 청크가 있음으로 판단되어 추가되지 않음  - 0.21348264813423157\n"
     ]
    },
    {
     "name": "stderr",
     "output_type": "stream",
     "text": [
      "유사도 검사 중...:  21%|██        | 36/172 [00:10<00:37,  3.61it/s]"
     ]
    }
   ],
   "source": [
    "for file in files:\n",
    "    obj.file.path = file\n",
    "\n",
    "    with open(obj.file.path, 'rb') as f:\n",
    "        if pipeline.update_vector_db(f):\n",
    "            print(\"[문서업로드] 벡터 스토어 업데이트에 성공하였습니다.\")\n",
    "        else:\n",
    "            # 유사한 문서가 존재하여 업데이트에 실패 시 저장된 문서 삭제\n",
    "            print(\"[문서업로드] 유사한 문서가 발견되어 벡터스토어 업데이트가 거절되었습니다.\")"
   ]
  },
  {
   "cell_type": "code",
   "execution_count": 5,
   "metadata": {},
   "outputs": [
    {
     "name": "stdout",
     "output_type": "stream",
     "text": [
      "[초기화] retriever 초기화 완료\n"
     ]
    }
   ],
   "source": [
    "retriever = pipeline.init_retriever()"
   ]
  },
  {
   "cell_type": "code",
   "execution_count": 6,
   "metadata": {},
   "outputs": [
    {
     "name": "stderr",
     "output_type": "stream",
     "text": [
      "c:\\Users\\kim_h\\anaconda3\\envs\\AUTORAG\\Lib\\site-packages\\langchain_core\\_api\\deprecation.py:139: LangChainDeprecationWarning: The method `BaseRetriever.get_relevant_documents` was deprecated in langchain-core 0.1.46 and will be removed in 0.3.0. Use invoke instead.\n",
      "  warn_deprecated(\n"
     ]
    },
    {
     "data": {
      "text/plain": [
       "[Document(page_content='제Ⅲ절\\n인도의 통관 절차\\n01\\n통관 조직 및 절차\\n', metadata={'category': '3. 정책 및 무역', 'datetimes': '2024-07-08 16:42:32', 'filename': 'data/PDF_with_contents/3. 정책 및 무역/[정책][관세청][2019.11.07]신남방국 통관·통상환경 및 FTA 활용방안.pdf', 'page_no': 9, 'subcategory': '1. 통관 조직 및 절차'}),\n",
       " Document(page_content='인도 전문 식품수입 벤더현황\\n다. 통관 및 검역 유의사항\\n(1) 인도 통관, 사전 준비가 관건\\n▪\\n인도의 통관은 수입 통관 및 검역을 위한 사전 준비 절차가 중요함\\n▪\\n통관에 필요한 서류를 제출하면 서류의 기재 오류나 서류 상호간 불일치를\\n수정하기가 매우 어려우며 이로 인해 통관 절차가 2~3주씩 지연되는 경우도\\n있어 철저한 서류 작성이 필수적임\\n▪\\n또한 인도로 수출하는 물품의 경우 포장명세서(P/L)와 상업송장(C/I)을\\n컨테이너별로 철저히 작성해야 함. 인도 세관은 한 컨테이너 안에서 박스별로\\n화물의 일치 여부를 조사하는 등 실물 검사가 철저하며 서류와 화물 불일치\\n시 통관이 불가능함\\n▪\\n특히 인도는 도로와 항만 등 인프라가 낙후되어 있고 운송수단도 노후하기\\n때문에 내륙운송 과정에서 사고가 자주 발생하므로 내륙운송보험에 가입해야\\n함\\n43\\n', metadata={'category': '3. 정책 및 무역', 'datetimes': '2024-07-08 16:41:51', 'filename': 'data/PDF_with_contents/3. 정책 및 무역/[정책][KATI 농식품수출정보][2019]인도 전문 식품수입.pdf', 'page_no': 21, 'subcategory': '다. 통관 및 검역 유의사항'}),\n",
       " Document(page_content='5 통관 및 운송\\n가 통관제도\\n통관 유형별 절차\\n1 정식통관\\n인도에서 일반적인 경우 통관에 소요되는 시간은 행정상 운송 수입의 경우 34 근무일 항공 운송은 약 12 근무일이 소요된다 일단 물\\n품이 입항하게 되면 보세구역장치에 적하되고 이후 전자데이터 교환EDI 신고 또는 수작업신고 통해 수입신고를 하게 된다 이후 인도\\n관세청의 수입요건 관세 평가 등을 검사하는 Appraiser Section과 관련 서류 및 관세율을 재점검하는 Audit Section 과정을 거치게 되', metadata={'chunk': 0, 'filename': 'data/PDF_without_contents\\\\3. 정책 및 무역\\\\[정책][제약산업정보포털][2019.04.08]인도 통관 및 운송.pdf', 'keyword': '키워드: 통관제도, 통관 유형별 절차, 인도, 통관 소요 시간, 행정상 운송, 항공 운송, 수입신고, 인도 관세청, Appraiser Section, Audit Section.'}),\n",
       " Document(page_content='제Ⅲ절\\n인도의 통관 절차\\n03\\n인도의\\n주요 인증 제도\\n', metadata={'category': '3. 정책 및 무역', 'datetimes': '2024-07-08 16:42:32', 'filename': 'data/PDF_with_contents/3. 정책 및 무역/[정책][관세청][2019.11.07]신남방국 통관·통상환경 및 FTA 활용방안.pdf', 'page_no': 11, 'subcategory': '3. 인도의 주요 인증 제도'}),\n",
       " Document(page_content='외의 농촌 지역의 경우 카드 결제가 되지 않는 경우가 많다\\n나 교통\\n교통상황\\n인도의 도로는 포장상태가 대체로 열악하나 최근 대규모 고속도로 공사를 통해 현대화 되고 있다 특히 출퇴근 시간에는 교통혼잡이 심한\\n편이다 순환도로나 우회로가 충분히 갖추어져 있지 않기 때문에 중요한 일정의 경우 예정시간보다 30분에서 1시간 가량 미리 출발하는\\n것이 좋다 인도는 한국과 운전면허와 관련된 조약이 체결되어 있기 때문에 국제면허증을 가지고 자가운전을 할 수가 있다 하지만 자동차', metadata={'chunk': 554, 'filename': 'data/PDF_without_contents\\\\2. 경제 및 시장 분석\\\\[전체 정보][KOTRA 해외경제정보 Dream][2023]인도.pdf', 'keyword': '키워드: 인도, 교통, 도로, 열악, 고속도로 공사, 현대화, 교통혼잡, 출퇴근 시간, 순환도로, 우회로, 국제면허증, 자가운전, 자동차.'})]"
      ]
     },
     "execution_count": 6,
     "metadata": {},
     "output_type": "execute_result"
    }
   ],
   "source": [
    "query = '인도 통관 및 운송'\n",
    "\n",
    "docs = retriever.get_relevant_documents(query)\n",
    "\n",
    "docs"
   ]
  },
  {
   "cell_type": "code",
   "execution_count": 7,
   "metadata": {},
   "outputs": [
    {
     "name": "stdout",
     "output_type": "stream",
     "text": [
      "--------------------------------------------------\n",
      "\n",
      "문서 내용: 제Ⅲ절\n",
      "인도의 통관 절차\n",
      "01\n",
      "통관 조직 및 절차\n",
      "\n",
      "출처 : {'category': '3. 정책 및 무역', 'datetimes': '2024-07-08 16:42:32', 'filename': 'data/PDF_with_contents/3. 정책 및 무역/[정책][관세청][2019.11.07]신남방국 통관·통상환경 및 FTA 활용방안.pdf', 'page_no': 9, 'subcategory': '1. 통관 조직 및 절차'}\n",
      "------------------------------------------------------------------------------------------------------------------------------------------------------\n",
      "\n",
      "\n",
      "문서 내용: 인도 전문 식품수입 벤더현황\n",
      "다. 통관 및 검역 유의사항\n",
      "(1) 인도 통관, 사전 준비가 관건\n",
      "▪\n",
      "인도의 통관은 수입 통관 및 검역을 위한 사전 준비 절차가 중요함\n",
      "▪\n",
      "통관에 필요한 서류를 제출하면 서류의 기재 오류나 서류 상호간 불일치를\n",
      "수정하기가 매우 어려우며 이로 인해 통관 절차가 2~3주씩 지연되는 경우도\n",
      "있어 철저한 서류 작성이 필수적임\n",
      "▪\n",
      "또한 인도로 수출하는 물품의 경우 포장명세서(P/L)와 상업송장(C/I)을\n",
      "컨테이너별로 철저히 작성해야 함. 인도 세관은 한 컨테이너 안에서 박스별로\n",
      "화물의 일치 여부를 조사하는 등 실물 검사가 철저하며 서류와 화물 불일치\n",
      "시 통관이 불가능함\n",
      "▪\n",
      "특히 인도는 도로와 항만 등 인프라가 낙후되어 있고 운송수단도 노후하기\n",
      "때문에 내륙운송 과정에서 사고가 자주 발생하므로 내륙운송보험에 가입해야\n",
      "함\n",
      "43\n",
      "\n",
      "출처 : {'category': '3. 정책 및 무역', 'datetimes': '2024-07-08 16:41:51', 'filename': 'data/PDF_with_contents/3. 정책 및 무역/[정책][KATI 농식품수출정보][2019]인도 전문 식품수입.pdf', 'page_no': 21, 'subcategory': '다. 통관 및 검역 유의사항'}\n",
      "------------------------------------------------------------------------------------------------------------------------------------------------------\n",
      "\n",
      "\n",
      "문서 내용: 5 통관 및 운송\n",
      "가 통관제도\n",
      "통관 유형별 절차\n",
      "1 정식통관\n",
      "인도에서 일반적인 경우 통관에 소요되는 시간은 행정상 운송 수입의 경우 34 근무일 항공 운송은 약 12 근무일이 소요된다 일단 물\n",
      "품이 입항하게 되면 보세구역장치에 적하되고 이후 전자데이터 교환EDI 신고 또는 수작업신고 통해 수입신고를 하게 된다 이후 인도\n",
      "관세청의 수입요건 관세 평가 등을 검사하는 Appraiser Section과 관련 서류 및 관세율을 재점검하는 Audit Section 과정을 거치게 되\n",
      "출처 : {'chunk': 0, 'filename': 'data/PDF_without_contents\\\\3. 정책 및 무역\\\\[정책][제약산업정보포털][2019.04.08]인도 통관 및 운송.pdf', 'keyword': '키워드: 통관제도, 통관 유형별 절차, 인도, 통관 소요 시간, 행정상 운송, 항공 운송, 수입신고, 인도 관세청, Appraiser Section, Audit Section.'}\n",
      "------------------------------------------------------------------------------------------------------------------------------------------------------\n",
      "\n"
     ]
    }
   ],
   "source": [
    "# 문서 조회1\n",
    "query = '인도 통관 및 운송'   # 질문할 문장\n",
    "k = 3                      # 유사도 상위 k 개 문서 가져오기.\n",
    "\n",
    "result = vectorDB.similarity_search(query, k = k) #← 데이터베이스에서 유사도가 높은 문서를 가져옴\n",
    "\n",
    "print('-'*50)\n",
    "for doc in result:\n",
    "    print()\n",
    "    print(f\"문서 내용: {doc.page_content}\") # 문서 내용 표시\n",
    "    print(f\"출처 : {doc.metadata}\")\n",
    "    print('---'*50)\n",
    "    print()"
   ]
  },
  {
   "cell_type": "code",
   "execution_count": 8,
   "metadata": {},
   "outputs": [
    {
     "name": "stdout",
     "output_type": "stream",
     "text": [
      "[(Document(metadata={'category': '3. 정책 및 무역', 'datetimes': '2024-07-08 16:42:32', 'filename': 'data/PDF_with_contents/3. 정책 및 무역/[정책][관세청][2019.11.07]신남방국 통관·통상환경 및 FTA 활용방안.pdf', 'page_no': 9, 'subcategory': '1. 통관 조직 및 절차'}, page_content='제Ⅲ절\\n인도의 통관 절차\\n01\\n통관 조직 및 절차\\n'), 0.2665858350778604), (Document(metadata={'category': '3. 정책 및 무역', 'datetimes': '2024-07-08 16:41:51', 'filename': 'data/PDF_with_contents/3. 정책 및 무역/[정책][KATI 농식품수출정보][2019]인도 전문 식품수입.pdf', 'page_no': 21, 'subcategory': '다. 통관 및 검역 유의사항'}, page_content='인도 전문 식품수입 벤더현황\\n다. 통관 및 검역 유의사항\\n(1) 인도 통관, 사전 준비가 관건\\n▪\\n인도의 통관은 수입 통관 및 검역을 위한 사전 준비 절차가 중요함\\n▪\\n통관에 필요한 서류를 제출하면 서류의 기재 오류나 서류 상호간 불일치를\\n수정하기가 매우 어려우며 이로 인해 통관 절차가 2~3주씩 지연되는 경우도\\n있어 철저한 서류 작성이 필수적임\\n▪\\n또한 인도로 수출하는 물품의 경우 포장명세서(P/L)와 상업송장(C/I)을\\n컨테이너별로 철저히 작성해야 함. 인도 세관은 한 컨테이너 안에서 박스별로\\n화물의 일치 여부를 조사하는 등 실물 검사가 철저하며 서류와 화물 불일치\\n시 통관이 불가능함\\n▪\\n특히 인도는 도로와 항만 등 인프라가 낙후되어 있고 운송수단도 노후하기\\n때문에 내륙운송 과정에서 사고가 자주 발생하므로 내륙운송보험에 가입해야\\n함\\n43\\n'), 0.2764557626001448), (Document(metadata={'chunk': 0, 'filename': 'data/PDF_without_contents\\\\3. 정책 및 무역\\\\[정책][제약산업정보포털][2019.04.08]인도 통관 및 운송.pdf', 'keyword': '키워드: 통관제도, 통관 유형별 절차, 인도, 통관 소요 시간, 행정상 운송, 항공 운송, 수입신고, 인도 관세청, Appraiser Section, Audit Section.'}, page_content='5 통관 및 운송\\n가 통관제도\\n통관 유형별 절차\\n1 정식통관\\n인도에서 일반적인 경우 통관에 소요되는 시간은 행정상 운송 수입의 경우 34 근무일 항공 운송은 약 12 근무일이 소요된다 일단 물\\n품이 입항하게 되면 보세구역장치에 적하되고 이후 전자데이터 교환EDI 신고 또는 수작업신고 통해 수입신고를 하게 된다 이후 인도\\n관세청의 수입요건 관세 평가 등을 검사하는 Appraiser Section과 관련 서류 및 관세율을 재점검하는 Audit Section 과정을 거치게 되'), 0.2805172801017761)]\n",
      "------------------------------------------------------------------------------------------------------------------------------------------------------\n",
      "\n",
      "문서 내용: 제Ⅲ절\n",
      "인도의 통관 절차\n",
      "01\n",
      "통관 조직 및 절차\n",
      "\n",
      "출처 : {'category': '3. 정책 및 무역', 'datetimes': '2024-07-08 16:42:32', 'filename': 'data/PDF_with_contents/3. 정책 및 무역/[정책][관세청][2019.11.07]신남방국 통관·통상환경 및 FTA 활용방안.pdf', 'page_no': 9, 'subcategory': '1. 통관 조직 및 절차'}\n",
      "유사도 : 0.2665858350778604\n",
      "------------------------------------------------------------------------------------------------------------------------------------------------------\n",
      "\n",
      "\n",
      "문서 내용: 인도 전문 식품수입 벤더현황\n",
      "다. 통관 및 검역 유의사항\n",
      "(1) 인도 통관, 사전 준비가 관건\n",
      "▪\n",
      "인도의 통관은 수입 통관 및 검역을 위한 사전 준비 절차가 중요함\n",
      "▪\n",
      "통관에 필요한 서류를 제출하면 서류의 기재 오류나 서류 상호간 불일치를\n",
      "수정하기가 매우 어려우며 이로 인해 통관 절차가 2~3주씩 지연되는 경우도\n",
      "있어 철저한 서류 작성이 필수적임\n",
      "▪\n",
      "또한 인도로 수출하는 물품의 경우 포장명세서(P/L)와 상업송장(C/I)을\n",
      "컨테이너별로 철저히 작성해야 함. 인도 세관은 한 컨테이너 안에서 박스별로\n",
      "화물의 일치 여부를 조사하는 등 실물 검사가 철저하며 서류와 화물 불일치\n",
      "시 통관이 불가능함\n",
      "▪\n",
      "특히 인도는 도로와 항만 등 인프라가 낙후되어 있고 운송수단도 노후하기\n",
      "때문에 내륙운송 과정에서 사고가 자주 발생하므로 내륙운송보험에 가입해야\n",
      "함\n",
      "43\n",
      "\n",
      "출처 : {'category': '3. 정책 및 무역', 'datetimes': '2024-07-08 16:41:51', 'filename': 'data/PDF_with_contents/3. 정책 및 무역/[정책][KATI 농식품수출정보][2019]인도 전문 식품수입.pdf', 'page_no': 21, 'subcategory': '다. 통관 및 검역 유의사항'}\n",
      "유사도 : 0.2764557626001448\n",
      "------------------------------------------------------------------------------------------------------------------------------------------------------\n",
      "\n",
      "\n",
      "문서 내용: 5 통관 및 운송\n",
      "가 통관제도\n",
      "통관 유형별 절차\n",
      "1 정식통관\n",
      "인도에서 일반적인 경우 통관에 소요되는 시간은 행정상 운송 수입의 경우 34 근무일 항공 운송은 약 12 근무일이 소요된다 일단 물\n",
      "품이 입항하게 되면 보세구역장치에 적하되고 이후 전자데이터 교환EDI 신고 또는 수작업신고 통해 수입신고를 하게 된다 이후 인도\n",
      "관세청의 수입요건 관세 평가 등을 검사하는 Appraiser Section과 관련 서류 및 관세율을 재점검하는 Audit Section 과정을 거치게 되\n",
      "출처 : {'chunk': 0, 'filename': 'data/PDF_without_contents\\\\3. 정책 및 무역\\\\[정책][제약산업정보포털][2019.04.08]인도 통관 및 운송.pdf', 'keyword': '키워드: 통관제도, 통관 유형별 절차, 인도, 통관 소요 시간, 행정상 운송, 항공 운송, 수입신고, 인도 관세청, Appraiser Section, Audit Section.'}\n",
      "유사도 : 0.2805172801017761\n",
      "------------------------------------------------------------------------------------------------------------------------------------------------------\n",
      "\n"
     ]
    }
   ],
   "source": [
    "# 문서 조회1\n",
    "query = '인도 통관 및 운송'   # 질문할 문장\n",
    "k = 3                      # 유사도 상위 k 개 문서 가져오기.\n",
    "\n",
    "result = vectorDB.similarity_search_with_score(query, k = k) #← 데이터베이스에서 유사도가 높은 문서를 가져옴\n",
    "print(result)\n",
    "print('---'*50)\n",
    "for doc in result:\n",
    "    print()\n",
    "    print(f\"문서 내용: {doc[0].page_content}\") # 문서 내용 표시\n",
    "    print(f\"출처 : {doc[0].metadata}\")\n",
    "    print(f\"유사도 : {doc[1]}\")\n",
    "    print('---'*50)\n",
    "    print()"
   ]
  },
  {
   "cell_type": "code",
   "execution_count": 9,
   "metadata": {},
   "outputs": [
    {
     "data": {
      "text/plain": [
       "0.2764713971410518"
      ]
     },
     "execution_count": 9,
     "metadata": {},
     "output_type": "execute_result"
    }
   ],
   "source": [
    "question = \"인도 통관 및 운송에 대해서 알려줘.\"\n",
    "\n",
    "results = vectorDB.similarity_search_with_score(question, k=1)\n",
    "\n",
    "results[0][1]"
   ]
  },
  {
   "cell_type": "code",
   "execution_count": 10,
   "metadata": {},
   "outputs": [
    {
     "data": {
      "text/plain": [
       "0.42325419187545776"
      ]
     },
     "execution_count": 10,
     "metadata": {},
     "output_type": "execute_result"
    }
   ],
   "source": [
    "question = \"럭키비키가 무엇인지 알려줘.\"\n",
    "\n",
    "results = vectorDB.similarity_search_with_score(question, k=3)\n",
    "\n",
    "results[0][1]"
   ]
  },
  {
   "cell_type": "markdown",
   "metadata": {},
   "source": [
    "## 1. 채팅 생성"
   ]
  },
  {
   "cell_type": "code",
   "execution_count": 11,
   "metadata": {},
   "outputs": [
    {
     "name": "stdout",
     "output_type": "stream",
     "text": [
      "0.2764713971410518\n",
      "[히스토리 생성] 새로운 히스토리를 생성합니다. 세션 ID: None, 유저: None\n",
      "인도의 통관 및 운송에 대한 정보를 제공해드리겠습니다.\n",
      "\n",
      "1. 통관 절차:\n",
      "- 인도의 통관은 수입 통관 및 검역을 위한 사전 준비 절차가 중요합니다. 통관에 필요한 서류를 제출할 때 서류의 기재 오류나 서류 상호 간 불일치를 수정하기가 어려울 수 있으며, 이로 인해 통관 절차가 지연될 수 있습니다. 따라서 철저한 서류 작성이 필수적입니다.\n",
      "- 인도로 수출하는 물품의 경우 포장명세서(P/L)와 상업송장(C/I)을 컨테이너별로 철저히 작성해야 합니다. 인도 세관은 컨테이너 안에서 화물의 일치 여부를 조사하며, 서류와 화물이 일치하지 않을 경우 통관이 불가능할 수 있습니다.\n",
      "- 인도는 도로와 항만 등 인프라가 낙후되어 있고, 운송수단도 노후하기 때문에 내륙운송 과정에서 사고가 발생할 수 있습니다. 따라서 내륙운송보험에 가입하는 것이 권장됩니다.\n",
      "\n",
      "2. 운송 시간:\n",
      "- 인도에서 통관에 소요되는 시간은 일반적으로 행정상 운송 수입의 경우 34 근무일, 항공 운송의 경우 약 12 근무일이 소요됩니다.\n",
      "- 물품이 입항하면 보세구역장치에 적하되고, 이후 전자데이터 교환(EDI) 신고 또는 수작업 신고를 통해 수입신고를 하게 됩니다. 이후 인도 관세청의 수입요건 관세 평가 등을 검사하는 과정을 거치며 통관이 이루어집니다.\n",
      "\n",
      "이상이 인도의 통관 및 운송에 대한 기본적인 정보입니다. 더 자세한 정보가 필요하시다면 관련 기관이나 전문가에게 상담을 받는 것이 도움이 될 수 있습니다.{'input': '인도 통관 및 운송에 대해서 알려줘.', 'chat_history': [], 'context': [Document(metadata={'category': '3. 정책 및 무역', 'datetimes': '2024-07-08 16:42:32', 'filename': 'data/PDF_with_contents/3. 정책 및 무역/[정책][관세청][2019.11.07]신남방국 통관·통상환경 및 FTA 활용방안.pdf', 'page_no': 9, 'subcategory': '1. 통관 조직 및 절차'}, page_content='제Ⅲ절\\n인도의 통관 절차\\n01\\n통관 조직 및 절차\\n'), Document(metadata={'chunk': 52, 'filename': 'data/PDF_without_contents\\\\1. 법률 및 규제\\\\[법률_규범_특허][코트라][2022]인도 비즈니스 가이드.pdf', 'keyword': '키워드: 인프라, 토지 거래, 비용 리스크, 인종, 언어, 생활문화, 제곱 미터 당 비용'}, page_content='기관이 전력과 도로 그리고 상하수도 등 제반 인프라를 모두 제공하면서 분양 또는 임대하고\\n있지만 인도의 경우는 이와 다르기 때문에 주변 인프라 조건에 대한 구비 여부와 비용 부담 등을\\n반드시 짚어야 한다 다양한 인도라고 하면 인종과 언어 그리고 생활문화가 다양한 줄은 알았지만\\n이처럼 토지 거래 방식 하나만 두고 보아도 경우의 수가 양 손으로도 모자랄 정도로 다양하니\\n단순히 제곱 미터 당 얼마냐고 묻는 것으로 비용 리스크를 관리할 순 없다'), Document(metadata={'chunk': 0, 'filename': 'data/PDF_without_contents\\\\3. 정책 및 무역\\\\[정책][제약산업정보포털][2019.04.08]인도 통관 및 운송.pdf', 'keyword': '키워드: 통관제도, 통관 유형별 절차, 인도, 통관 소요 시간, 행정상 운송, 항공 운송, 수입신고, 인도 관세청, Appraiser Section, Audit Section.'}, page_content='5 통관 및 운송\\n가 통관제도\\n통관 유형별 절차\\n1 정식통관\\n인도에서 일반적인 경우 통관에 소요되는 시간은 행정상 운송 수입의 경우 34 근무일 항공 운송은 약 12 근무일이 소요된다 일단 물\\n품이 입항하게 되면 보세구역장치에 적하되고 이후 전자데이터 교환EDI 신고 또는 수작업신고 통해 수입신고를 하게 된다 이후 인도\\n관세청의 수입요건 관세 평가 등을 검사하는 Appraiser Section과 관련 서류 및 관세율을 재점검하는 Audit Section 과정을 거치게 되'), Document(metadata={'category': '3. 정책 및 무역', 'datetimes': '2024-07-08 16:41:51', 'filename': 'data/PDF_with_contents/3. 정책 및 무역/[정책][KATI 농식품수출정보][2019]인도 전문 식품수입.pdf', 'page_no': 21, 'subcategory': '다. 통관 및 검역 유의사항'}, page_content='인도 전문 식품수입 벤더현황\\n다. 통관 및 검역 유의사항\\n(1) 인도 통관, 사전 준비가 관건\\n▪\\n인도의 통관은 수입 통관 및 검역을 위한 사전 준비 절차가 중요함\\n▪\\n통관에 필요한 서류를 제출하면 서류의 기재 오류나 서류 상호간 불일치를\\n수정하기가 매우 어려우며 이로 인해 통관 절차가 2~3주씩 지연되는 경우도\\n있어 철저한 서류 작성이 필수적임\\n▪\\n또한 인도로 수출하는 물품의 경우 포장명세서(P/L)와 상업송장(C/I)을\\n컨테이너별로 철저히 작성해야 함. 인도 세관은 한 컨테이너 안에서 박스별로\\n화물의 일치 여부를 조사하는 등 실물 검사가 철저하며 서류와 화물 불일치\\n시 통관이 불가능함\\n▪\\n특히 인도는 도로와 항만 등 인프라가 낙후되어 있고 운송수단도 노후하기\\n때문에 내륙운송 과정에서 사고가 자주 발생하므로 내륙운송보험에 가입해야\\n함\\n43\\n'), Document(metadata={'chunk': 232, 'filename': 'data/PDF_without_contents\\\\2. 경제 및 시장 분석\\\\[전체 정보][KOTRA 해외경제정보 Dream][2023]인도.pdf', 'keyword': '키워드: 통관제도, 통관 유형별 절차, 인도, 일반통관, 수입 신고, 전자데이터교환EDI, 수작업신고, 인도 관세청, Appraiser Section, Audit Section.'}, page_content='나 통관제도\\n통관 유형별 절차\\n1 일반통관\\n인도에서 일반적인 경우 통관에 소요되는 시간은 행정상 운송 수입의 경우 34 근무일 항공 운송은 약 12 근무일이 소요된다 일단 물\\n품이 입항하게 되면 보세구역장치에 적하되고 이후 전자데이터교환EDI신고 또는 수작업신고 통해 수입신고를 하게 된다 이후 인도 관\\n세청의 수입요건 관세 평가 등을 검사하는 Appraiser Section과 관련 서류 및 관세율을 재점검하는 Audit Section 과정을 거치게 되며')], 'answer': '인도의 통관 및 운송에 대한 정보를 제공해드리겠습니다.\\n\\n1. 통관 절차:\\n- 인도의 통관은 수입 통관 및 검역을 위한 사전 준비 절차가 중요합니다. 통관에 필요한 서류를 제출할 때 서류의 기재 오류나 서류 상호 간 불일치를 수정하기가 어려울 수 있으며, 이로 인해 통관 절차가 지연될 수 있습니다. 따라서 철저한 서류 작성이 필수적입니다.\\n- 인도로 수출하는 물품의 경우 포장명세서(P/L)와 상업송장(C/I)을 컨테이너별로 철저히 작성해야 합니다. 인도 세관은 컨테이너 안에서 화물의 일치 여부를 조사하며, 서류와 화물이 일치하지 않을 경우 통관이 불가능할 수 있습니다.\\n- 인도는 도로와 항만 등 인프라가 낙후되어 있고, 운송수단도 노후하기 때문에 내륙운송 과정에서 사고가 발생할 수 있습니다. 따라서 내륙운송보험에 가입하는 것이 권장됩니다.\\n\\n2. 운송 시간:\\n- 인도에서 통관에 소요되는 시간은 일반적으로 행정상 운송 수입의 경우 34 근무일, 항공 운송의 경우 약 12 근무일이 소요됩니다.\\n- 물품이 입항하면 보세구역장치에 적하되고, 이후 전자데이터 교환(EDI) 신고 또는 수작업 신고를 통해 수입신고를 하게 됩니다. 이후 인도 관세청의 수입요건 관세 평가 등을 검사하는 과정을 거치며 통관이 이루어집니다.\\n\\n이상이 인도의 통관 및 운송에 대한 기본적인 정보입니다. 더 자세한 정보가 필요하시다면 관련 기관이나 전문가에게 상담을 받는 것이 도움이 될 수 있습니다.'}\n"
     ]
    }
   ],
   "source": [
    "question   = '인도 통관 및 운송에 대해서 알려줘.'\n",
    "answer = pipeline.chat_generation(question)\n",
    "\n",
    "print(answer)"
   ]
  },
  {
   "cell_type": "code",
   "execution_count": 12,
   "metadata": {},
   "outputs": [
    {
     "data": {
      "text/plain": [
       "dict_keys(['input', 'chat_history', 'context', 'answer'])"
      ]
     },
     "execution_count": 12,
     "metadata": {},
     "output_type": "execute_result"
    }
   ],
   "source": [
    "answer.keys()"
   ]
  },
  {
   "cell_type": "code",
   "execution_count": 13,
   "metadata": {},
   "outputs": [
    {
     "name": "stdout",
     "output_type": "stream",
     "text": [
      "인도의 통관 및 운송 절차는 다음과 같이 진행됩니다:\n",
      "\n",
      "1. 통관 절차:\n",
      "- 인도의 통관은 수입 통관 및 검역을 위한 사전 준비 절차가 중요합니다. 통관에 필요한 서류를 정확하게 제출해야 하며, 서류의 오류나 불일치로 인해 통관이 지연될 수 있습니다.\n",
      "- 수출하는 물품의 경우 포장명세서(P/L)와 상업송장(C/I)을 컨테이너별로 철저히 작성해야 합니다. 인도 세관은 실물 검사를 철저히 실시하며, 서류와 화물이 일치하지 않을 경우 통관이 불가능할 수 있습니다.\n",
      "- 인도의 인프라가 낙후되어 있고 운송수단이 노후하기 때문에 내륙운송 과정에서 사고가 발생할 수 있습니다. 따라서 내륙운송보험에 가입하는 것이 권장됩니다.\n",
      "\n",
      "2. 운송 시간:\n",
      "- 인도에서 통관에 소요되는 시간은 행정상 운송 수입의 경우 약 34 근무일이 소요되며, 항공 운송의 경우 약 12 근무일이 소요됩니다.\n",
      "- 물품이 입항하면 보세구역에 적하되고, 이후 전자데이터 교환(EDI) 신고 또는 수작업 신고를 통해 수입신고를 진행합니다. 이후 관세청의 수입요건 및 관세 평가 등을 검사하는 과정을 거치며, 관련 서류 및 관세율을 재점검합니다.\n",
      "\n",
      "이러한 통관 및 운송 절차를 준수하고 이해하는 것이 인도에서의 수출 사업을 원활히 진행하는 데 도움이 될 것입니다.\n"
     ]
    }
   ],
   "source": [
    "print(answer['answer'])\n",
    "# stream_response(answer['answer'])"
   ]
  },
  {
   "cell_type": "code",
   "execution_count": 14,
   "metadata": {},
   "outputs": [
    {
     "name": "stdout",
     "output_type": "stream",
     "text": [
      "근거:\n",
      "{'category': '3. 정책 및 무역', 'datetimes': '2024-07-08 16:42:32', 'filename': 'data/PDF_with_contents/3. 정책 및 무역/[정책][관세청][2019.11.07]신남방국 통관·통상환경 및 FTA 활용방안.pdf', 'page_no': 9, 'subcategory': '1. 통관 조직 및 절차'}\n",
      "{'chunk': 0, 'filename': 'data/PDF_without_contents\\\\3. 정책 및 무역\\\\[정책][제약산업정보포털][2019.04.08]인도 통관 및 운송.pdf', 'keyword': '키워드: 통관제도, 통관 유형별 절차, 인도, 통관 소요 시간, 행정상 운송, 항공 운송, 수입신고, 인도 관세청, Appraiser Section, Audit Section.'}\n",
      "{'chunk': 52, 'filename': 'data/PDF_without_contents\\\\1. 법률 및 규제\\\\[법률_규범_특허][코트라][2022]인도 비즈니스 가이드.pdf', 'keyword': '키워드: 인프라, 토지 거래, 비용 리스크, 인종, 언어, 생활문화, 제곱 미터 당 비용'}\n",
      "{'category': '3. 정책 및 무역', 'datetimes': '2024-07-08 16:41:51', 'filename': 'data/PDF_with_contents/3. 정책 및 무역/[정책][KATI 농식품수출정보][2019]인도 전문 식품수입.pdf', 'page_no': 21, 'subcategory': '다. 통관 및 검역 유의사항'}\n",
      "{'chunk': 232, 'filename': 'data/PDF_without_contents\\\\2. 경제 및 시장 분석\\\\[전체 정보][KOTRA 해외경제정보 Dream][2023]인도.pdf', 'keyword': '키워드: 통관제도, 통관 유형별 절차, 인도, 일반통관, 수입 신고, 전자데이터교환EDI, 수작업신고, 인도 관세청, Appraiser Section, Audit Section.'}\n"
     ]
    }
   ],
   "source": [
    "\n",
    "print('근거:')\n",
    "# 근거 추출\n",
    "for data in answer['context']:\n",
    "    print(data.metadata)\n"
   ]
  },
  {
   "cell_type": "markdown",
   "metadata": {},
   "source": [
    "## 게시물 제목 생성"
   ]
  },
  {
   "cell_type": "code",
   "execution_count": 16,
   "metadata": {},
   "outputs": [
    {
     "name": "stdout",
     "output_type": "stream",
     "text": [
      "1. \"인도 수입 통관의 중요성과 유의사항\"\n",
      "2. \"인도 내륙운송 보험가입 필요성과 이유\"\n",
      "3. \"인도 통관 절차와 관세평가 과정 안내\""
     ]
    }
   ],
   "source": [
    "question   = '인도 통관 및 운송'\n",
    "titles = pipeline.title_generation(question)           # 제목 개수 정할 수 있음"
   ]
  },
  {
   "cell_type": "code",
   "execution_count": 17,
   "metadata": {},
   "outputs": [
    {
     "data": {
      "text/plain": [
       "[Document(metadata={'category': '3. 정책 및 무역', 'datetimes': '2024-07-08 16:42:32', 'filename': 'data/PDF_with_contents/3. 정책 및 무역/[정책][관세청][2019.11.07]신남방국 통관·통상환경 및 FTA 활용방안.pdf', 'page_no': 9, 'subcategory': '1. 통관 조직 및 절차'}, page_content='제Ⅲ절\\n인도의 통관 절차\\n01\\n통관 조직 및 절차\\n'),\n",
       " Document(metadata={'category': '3. 정책 및 무역', 'datetimes': '2024-07-08 16:41:51', 'filename': 'data/PDF_with_contents/3. 정책 및 무역/[정책][KATI 농식품수출정보][2019]인도 전문 식품수입.pdf', 'page_no': 21, 'subcategory': '다. 통관 및 검역 유의사항'}, page_content='인도 전문 식품수입 벤더현황\\n다. 통관 및 검역 유의사항\\n(1) 인도 통관, 사전 준비가 관건\\n▪\\n인도의 통관은 수입 통관 및 검역을 위한 사전 준비 절차가 중요함\\n▪\\n통관에 필요한 서류를 제출하면 서류의 기재 오류나 서류 상호간 불일치를\\n수정하기가 매우 어려우며 이로 인해 통관 절차가 2~3주씩 지연되는 경우도\\n있어 철저한 서류 작성이 필수적임\\n▪\\n또한 인도로 수출하는 물품의 경우 포장명세서(P/L)와 상업송장(C/I)을\\n컨테이너별로 철저히 작성해야 함. 인도 세관은 한 컨테이너 안에서 박스별로\\n화물의 일치 여부를 조사하는 등 실물 검사가 철저하며 서류와 화물 불일치\\n시 통관이 불가능함\\n▪\\n특히 인도는 도로와 항만 등 인프라가 낙후되어 있고 운송수단도 노후하기\\n때문에 내륙운송 과정에서 사고가 자주 발생하므로 내륙운송보험에 가입해야\\n함\\n43\\n'),\n",
       " Document(metadata={'chunk': 0, 'filename': 'data/PDF_without_contents\\\\3. 정책 및 무역\\\\[정책][제약산업정보포털][2019.04.08]인도 통관 및 운송.pdf', 'keyword': '키워드: 통관제도, 통관 유형별 절차, 인도, 통관 소요 시간, 행정상 운송, 항공 운송, 수입신고, 인도 관세청, Appraiser Section, Audit Section.'}, page_content='5 통관 및 운송\\n가 통관제도\\n통관 유형별 절차\\n1 정식통관\\n인도에서 일반적인 경우 통관에 소요되는 시간은 행정상 운송 수입의 경우 34 근무일 항공 운송은 약 12 근무일이 소요된다 일단 물\\n품이 입항하게 되면 보세구역장치에 적하되고 이후 전자데이터 교환EDI 신고 또는 수작업신고 통해 수입신고를 하게 된다 이후 인도\\n관세청의 수입요건 관세 평가 등을 검사하는 Appraiser Section과 관련 서류 및 관세율을 재점검하는 Audit Section 과정을 거치게 되'),\n",
       " Document(metadata={'category': '3. 정책 및 무역', 'datetimes': '2024-07-08 16:42:32', 'filename': 'data/PDF_with_contents/3. 정책 및 무역/[정책][관세청][2019.11.07]신남방국 통관·통상환경 및 FTA 활용방안.pdf', 'page_no': 11, 'subcategory': '3. 인도의 주요 인증 제도'}, page_content='제Ⅲ절\\n인도의 통관 절차\\n03\\n인도의\\n주요 인증 제도\\n'),\n",
       " Document(metadata={'chunk': 554, 'filename': 'data/PDF_without_contents\\\\2. 경제 및 시장 분석\\\\[전체 정보][KOTRA 해외경제정보 Dream][2023]인도.pdf', 'keyword': '키워드: 인도, 교통, 도로, 열악, 고속도로 공사, 현대화, 교통혼잡, 출퇴근 시간, 순환도로, 우회로, 국제면허증, 자가운전, 자동차.'}, page_content='외의 농촌 지역의 경우 카드 결제가 되지 않는 경우가 많다\\n나 교통\\n교통상황\\n인도의 도로는 포장상태가 대체로 열악하나 최근 대규모 고속도로 공사를 통해 현대화 되고 있다 특히 출퇴근 시간에는 교통혼잡이 심한\\n편이다 순환도로나 우회로가 충분히 갖추어져 있지 않기 때문에 중요한 일정의 경우 예정시간보다 30분에서 1시간 가량 미리 출발하는\\n것이 좋다 인도는 한국과 운전면허와 관련된 조약이 체결되어 있기 때문에 국제면허증을 가지고 자가운전을 할 수가 있다 하지만 자동차')]"
      ]
     },
     "execution_count": 17,
     "metadata": {},
     "output_type": "execute_result"
    }
   ],
   "source": [
    "titles['context']"
   ]
  },
  {
   "cell_type": "code",
   "execution_count": 18,
   "metadata": {},
   "outputs": [
    {
     "name": "stdout",
     "output_type": "stream",
     "text": [
      "1. \"인도 수입 통관의 중요성과 유의사항\"\n",
      "2. \"인도 내륙운송 보험가입 필요성과 이유\"\n",
      "3. \"인도 통관 절차와 관세평가 과정 안내\"\n"
     ]
    }
   ],
   "source": [
    "print(titles['answer'])"
   ]
  },
  {
   "cell_type": "markdown",
   "metadata": {},
   "source": [
    "## 3. 게시물 생성"
   ]
  },
  {
   "cell_type": "code",
   "execution_count": 19,
   "metadata": {},
   "outputs": [
    {
     "name": "stdout",
     "output_type": "stream",
     "text": [
      "## 고객의 질문:\n",
      "인도 수입 통관의 중요성과 유의사항\n",
      "\n",
      "## 제공된 맥락 정보:\n",
      "인도 전문 식품수입 벤더현황\n",
      "다. 통관 및 검역 유의사항\n",
      "(1) 인도 통관, 사전 준비가 관건\n",
      "▪ 인도의 통관은 수입 통관 및 검역을 위한 사전 준비 절차가 중요함\n",
      "▪ 통관에 필요한 서류를 제출하면 서류의 기재 오류나 서류 상호간 불일치를 수정하기가 매우 어려우며 이로 인해 통관 절차가 2~3주씩 지연되는 경우도 있어 철저한 서류 작성이 필수적임\n",
      "▪ 또한 인도로 수출하는 물품의 경우 포장명세서(P/L)와 상업송장(C/I)을 컨테이너별로 철저히 작성해야 함. 인도 세관은 한 컨테이너 안에서 박스별로 화물의 일치 여부를 조사하는 등 실물 검사가 철저하며 서류와 화물 불일치 시 통관이 불가능함\n",
      "▪ 특히 인도는 도로와 항만 등 인프라가 낙후되어 있고 운송수단도 노후하기 때문에 내륙운송 과정에서 사고가 자주 발생하므로 내륙운송보험에 가입해야 함\n",
      "\n",
      "### 1. 수입 통관의 중요성\n",
      "인도에서의 수입 통관은 비즈니스 성공에 있어서 중요한 요소 중 하나입니다. 올바른 통관 절차를 준수하고 필요한 서류를 정확하게 제출하는 것은 시간과 비용을 절약하고 불필요한 지연을 방지하는 데 도움이 됩니다. 서류 작성 시 신중함이 필수이며, 오류나 불일치로 인한 통관 지연은 회사의 생산 및 판매 활동에 부정적인 영향을 미칠 수 있습니다.\n",
      "\n",
      "### 2. 필수 서류 및 유의사항\n",
      "인도로 물품을 수출할 때는 포장명세서(P/L)와 상업송장(C/I)을 각각의 컨테이너에 철저히 작성해야 합니다. 또한, 내륙운송 과정에서 발생할 수 있는 사고에 대비하여 내륙운송보험에 가입하는 것이 중요합니다. 서류와 화물의 일치 여부를 철저히 확인하는 인도 세관의 실물 검사는 통관을 원활하게 진행하기 위해 필수적입니다.\n",
      "\n",
      "### 3. 세부 수입 절차\n",
      "인도의 수입 통관 절차는 세관검사 후 납부하는 등 일반적인 순서를 따릅니다. 수입자는 수입 물품에 대한 수입신고를 하기 전에 반드시 수출입자코드를 발급받아야 하며, 적하목록(IGM)을 제출해야 합니다. 또한, 수입자는 수입신고서와 관련 서류를 제출하여 물품에 대한 수입신고를 진행해야 합니다. 가격 신고는 세액을 스스로 신고하고 납부하는 Self-assessment 방식으로 이루어지며, 원산지 증명서 등의 서류도 필요합니다.\n",
      "\n",
      "이렇게 인도의 수입 통관에 대한 이해와 준비는 성공적인 비즈니스 운영을 위해 중요한 요소이므로 신중한 계획과 실행이 필요합니다.{'input': '1. \"인도 수입 통관의 중요성과 유의사항\"', 'context': [Document(metadata={'category': '3. 정책 및 무역', 'datetimes': '2024-07-08 16:41:51', 'filename': 'data/PDF_with_contents/3. 정책 및 무역/[정책][KATI 농식품수출정보][2019]인도 전문 식품수입.pdf', 'page_no': 21, 'subcategory': '다. 통관 및 검역 유의사항'}, page_content='인도 전문 식품수입 벤더현황\\n다. 통관 및 검역 유의사항\\n(1) 인도 통관, 사전 준비가 관건\\n▪\\n인도의 통관은 수입 통관 및 검역을 위한 사전 준비 절차가 중요함\\n▪\\n통관에 필요한 서류를 제출하면 서류의 기재 오류나 서류 상호간 불일치를\\n수정하기가 매우 어려우며 이로 인해 통관 절차가 2~3주씩 지연되는 경우도\\n있어 철저한 서류 작성이 필수적임\\n▪\\n또한 인도로 수출하는 물품의 경우 포장명세서(P/L)와 상업송장(C/I)을\\n컨테이너별로 철저히 작성해야 함. 인도 세관은 한 컨테이너 안에서 박스별로\\n화물의 일치 여부를 조사하는 등 실물 검사가 철저하며 서류와 화물 불일치\\n시 통관이 불가능함\\n▪\\n특히 인도는 도로와 항만 등 인프라가 낙후되어 있고 운송수단도 노후하기\\n때문에 내륙운송 과정에서 사고가 자주 발생하므로 내륙운송보험에 가입해야\\n함\\n43\\n'), Document(metadata={'category': '2. 경제 및 시장 분석', 'datetimes': '2024-07-08 16:41:14', 'filename': 'data/PDF_with_contents/2. 경제 및 시장 분석/[인도_펫산업_시장분석][한국농수산식품유통공사][2017] 2017년 농식품 해외시장 맞춤조사(인도_개사료).pdf', 'page_no': 26, 'subcategory': '4. 통관 및 검역 주의사항'}, page_content='4. 통관 및 검역 유의사항\\n인도 통관, 사전 준비가 관건\\n인도의 통관은 수입 통관 및 검역을 위한 사전 준비 절차가 중요함\\n통관에 필요한 서류를 구비할 시 서류의 기재오류나 서류 상호간 불일치를\\n수정하기가 매우 어려우며 이로 인해 통관 절차가 2 ~ 3주씩 지연되는 경우도\\n있어 철저한 서류 작성이 필수적임\\n또한 인도로 수출하는 물품의 경우 포장명세서(P/L)와 상업송장(C/I)을\\n컨테이너별로 철저히 작성해야함. 인도 세관은 한 컨테이너 안에서 박스별로\\n화물이 일치하는지를 조사하는 등 실물검사가 철저하며 서류와 화물 불일치 시\\n통관이 불가능함\\n특히 인도는 도로와 항만 등 인프라가 낙후되어 있고 운송수단도 노후하기\\n때문에 내륙운송과정에서 사고가 자주 발생하므로 내륙운송보험에 가입해야함\\nInterview Info\\n“원산지증명서, 개사료 성분분석표, 포장명세서, 송장, 선하증권은 반드시 필요하며, 검역은 약 30~40일 정도가\\n소요된다. 수입회사 입장에서는 성분분석표를 기관에 반드시 제출해야하므로 제품의 성분분석표는 수출업체\\n가 항상 준비해줘야 한다.”\\n- 애완동물 사료 수입 유통업체 Sayon Overseas\\n구매 담당자 Mr. Dheepakh와의 인터뷰 中, 2017.04\\nInterview Info\\n“개사료 제품의 수입절차는 특별한 것은 없으나 사료에 들어가는 재료 중에 육류 성분이 있으면 축산·낙농업부\\n가 발행하는 수입 위생 허가증과 같은 서류를 추가로 발급받아야 한다.”\\n- 강아지용 비타민 수입 유통업체 Venttura Bioceuticals\\n구매 담당자 Mr. Uday Kulkarni와의 인터뷰 中, 2017.04\\n- 52 -\\n'), Document(metadata={'category': '3. 정책 및 무역', 'datetimes': '2024-07-08 16:42:32', 'filename': 'data/PDF_with_contents/3. 정책 및 무역/[정책][관세청][2019.11.07]신남방국 통관·통상환경 및 FTA 활용방안.pdf', 'page_no': 9, 'subcategory': '1. 통관 조직 및 절차'}, page_content='제Ⅲ절\\n인도의 통관 절차\\n01\\n통관 조직 및 절차\\n'), Document(metadata={'category': '2. 경제 및 시장 분석', 'datetimes': '2024-07-08 16:41:14', 'filename': 'data/PDF_with_contents/2. 경제 및 시장 분석/[인도_펫산업_시장분석][한국농수산식품유통공사][2017] 2017년 농식품 해외시장 맞춤조사(인도_개사료).pdf', 'page_no': 23, 'subcategory': '1. 통관 및 검역 절차'}, page_content='1. 통관 및 검역절차\\nStep 01. 수입 신고 전 준비\\n인도의 수입 통관 순서는 세관검사 후 납부하는 등 일반 선진국의 관행을\\n따르고 있음\\n수입자는 수입 물품에 대한 수입신고를 하기 전 필수적으로 인도상공부 무역국\\n(DGFT; Director General of Foreign Trade)으로부터 수출입자코드(Importer-\\nExporter Code)를 발급 받아야 함\\n또한 적하목록(IGM, Import General Menifest)를 제출해야 함. 제출기한은\\n해상·항공 운송일 경우 선박 또는 항공기가 도착지에 도착하기 전이며, 육상\\n운송일 경우 도착지에 도착 후 12시간 이내임. 적하목록 미제출 시 화물을\\n운송수단으로부터 양하할 수 없음\\nStep 02. 수입 신고 및 가격 신고\\n수입자는 적하목록 제출 후, 관할 세관에 수입신고서와 관련 서류를 제출하여\\n물품에 대한 수입신고를 함. EDI(Electronic Data Interchange)를 통한 신고는\\nICEGATE를 통해 전자적 방법으로 신고하는 것이고, EDI를 통하지 않은 신고는\\n수입신고서 4부를 준비하여 2부는 세관에, 1부는 거래은행에 제출하고, 1부는\\n수입자가 보관해야 함. 수입신고서는 하기의 서류를 수반하여야 함\\n- 송장(Signed Invoice)\\n- 포장명세서(Packing List)\\n- 선하증권 또는 화물인도지시서/항공화물운송장(Bill of Lading or Delivery Or\\nder/Airway Bill)\\n- 필요한 경우 물품 관련 수입 라이센스\\n- 필요한 경우 신용장/환어음\\n- 보험서류(Insurance document)\\n- 화학물질의 경우 검사보고서\\n- 특혜세율을 적용 받는 경우 원산지 증명서(Certificate of Origin) 등\\n가격 신고는 2011년부터 원칙적으로 납세자가 스스로 세액을 신고·납부 후\\n세관 당국이 신고한 내용을 확인하는 `Self-assessment`로 이루어짐. 수입신고자는\\n수입신고서를 제출하는 때에 수입물품에 대한 품목분류·적용 관세율·과세표준·\\n관세 감면 여부를 결정하여 가격을 신고함\\n참고로 한-인도 CEPA 협정은 HS코드에 따라 특혜관세, 원산지 결정기준이\\n결정되므로 수입 신고 시 인도 HS코드 선택에 신중해야 함\\n- 48 -\\n'), Document(metadata={'chunk': 45, 'filename': 'data/PDF_without_contents\\\\1. 법률 및 규제\\\\[법률_규범_특허][코트라][2022]인도 비즈니스 가이드.pdf', 'keyword': '키워드: 인도 진출, 원부자재 수입, 생산활동, 세금 관계, 원가 관리, 인력수급, 제조업'}, page_content='하다14 이 사항이 미비하면 생각하지 못한 높은 비용이 발생하는 것은 물론 통관에 많은 시간이\\n소요되어 생산활동에 막대한 지장을 초래한다\\n즉 진출 목적에 해당하는 원부자재 수입과 조달에서 생산활동 그리고 판매에 이르기까지 각각의\\n경우의 수를 열거하면서 각각마다 적용되는 세금 관계를 확인하고 이를 원가 관리에 반영하여\\n실질적인 진출 효과 유무와 정도를 시뮬레이션해야 한다\\n122인적자원과 인건비 리스크\\n14억 인구 대국인 인도에서 인력수급이 원할 하지 않을 수 있다는 놀라운 사실이다 제조업이나')], 'answer': '## 고객의 질문:\\n인도 수입 통관의 중요성과 유의사항\\n\\n## 제공된 맥락 정보:\\n인도 전문 식품수입 벤더현황\\n다. 통관 및 검역 유의사항\\n(1) 인도 통관, 사전 준비가 관건\\n▪ 인도의 통관은 수입 통관 및 검역을 위한 사전 준비 절차가 중요함\\n▪ 통관에 필요한 서류를 제출하면 서류의 기재 오류나 서류 상호간 불일치를 수정하기가 매우 어려우며 이로 인해 통관 절차가 2~3주씩 지연되는 경우도 있어 철저한 서류 작성이 필수적임\\n▪ 또한 인도로 수출하는 물품의 경우 포장명세서(P/L)와 상업송장(C/I)을 컨테이너별로 철저히 작성해야 함. 인도 세관은 한 컨테이너 안에서 박스별로 화물의 일치 여부를 조사하는 등 실물 검사가 철저하며 서류와 화물 불일치 시 통관이 불가능함\\n▪ 특히 인도는 도로와 항만 등 인프라가 낙후되어 있고 운송수단도 노후하기 때문에 내륙운송 과정에서 사고가 자주 발생하므로 내륙운송보험에 가입해야 함\\n\\n### 1. 수입 통관의 중요성\\n인도에서의 수입 통관은 비즈니스 성공에 있어서 중요한 요소 중 하나입니다. 올바른 통관 절차를 준수하고 필요한 서류를 정확하게 제출하는 것은 시간과 비용을 절약하고 불필요한 지연을 방지하는 데 도움이 됩니다. 서류 작성 시 신중함이 필수이며, 오류나 불일치로 인한 통관 지연은 회사의 생산 및 판매 활동에 부정적인 영향을 미칠 수 있습니다.\\n\\n### 2. 필수 서류 및 유의사항\\n인도로 물품을 수출할 때는 포장명세서(P/L)와 상업송장(C/I)을 각각의 컨테이너에 철저히 작성해야 합니다. 또한, 내륙운송 과정에서 발생할 수 있는 사고에 대비하여 내륙운송보험에 가입하는 것이 중요합니다. 서류와 화물의 일치 여부를 철저히 확인하는 인도 세관의 실물 검사는 통관을 원활하게 진행하기 위해 필수적입니다.\\n\\n### 3. 세부 수입 절차\\n인도의 수입 통관 절차는 세관검사 후 납부하는 등 일반적인 순서를 따릅니다. 수입자는 수입 물품에 대한 수입신고를 하기 전에 반드시 수출입자코드를 발급받아야 하며, 적하목록(IGM)을 제출해야 합니다. 또한, 수입자는 수입신고서와 관련 서류를 제출하여 물품에 대한 수입신고를 진행해야 합니다. 가격 신고는 세액을 스스로 신고하고 납부하는 Self-assessment 방식으로 이루어지며, 원산지 증명서 등의 서류도 필요합니다.\\n\\n이렇게 인도의 수입 통관에 대한 이해와 준비는 성공적인 비즈니스 운영을 위해 중요한 요소이므로 신중한 계획과 실행이 필요합니다.'}\n"
     ]
    }
   ],
   "source": [
    "post = pipeline.text_generation(titles['answer'].split('\\n')[0])\n",
    "    \n",
    "print(post)"
   ]
  },
  {
   "cell_type": "code",
   "execution_count": 20,
   "metadata": {},
   "outputs": [
    {
     "name": "stdout",
     "output_type": "stream",
     "text": [
      "## 고객의 질문:\n",
      "인도 수입 통관의 중요성과 유의사항\n",
      "\n",
      "## 제공된 맥락 정보:\n",
      "인도 전문 식품수입 벤더현황\n",
      "다. 통관 및 검역 유의사항\n",
      "(1) 인도 통관, 사전 준비가 관건\n",
      "▪ 인도의 통관은 수입 통관 및 검역을 위한 사전 준비 절차가 중요함\n",
      "▪ 통관에 필요한 서류를 제출하면 서류의 기재 오류나 서류 상호간 불일치를 수정하기가 매우 어려우며 이로 인해 통관 절차가 2~3주씩 지연되는 경우도 있어 철저한 서류 작성이 필수적임\n",
      "▪ 또한 인도로 수출하는 물품의 경우 포장명세서(P/L)와 상업송장(C/I)을 컨테이너별로 철저히 작성해야 함. 인도 세관은 한 컨테이너 안에서 박스별로 화물의 일치 여부를 조사하는 등 실물 검사가 철저하며 서류와 화물 불일치 시 통관이 불가능함\n",
      "▪ 특히 인도는 도로와 항만 등 인프라가 낙후되어 있고 운송수단도 노후하기 때문에 내륙운송 과정에서 사고가 자주 발생하므로 내륙운송보험에 가입해야 함\n",
      "\n",
      "### 1. 수입 통관의 중요성\n",
      "인도에서의 수입 통관은 비즈니스 성공에 있어서 중요한 요소 중 하나입니다. 올바른 통관 절차를 준수하고 필요한 서류를 정확하게 제출하는 것은 시간과 비용을 절약하고 불필요한 지연을 방지하는 데 도움이 됩니다. 서류 작성 시 신중함이 필수이며, 오류나 불일치로 인한 통관 지연은 회사의 생산 및 판매 활동에 부정적인 영향을 미칠 수 있습니다.\n",
      "\n",
      "### 2. 필수 서류 및 유의사항\n",
      "인도로 물품을 수출할 때는 포장명세서(P/L)와 상업송장(C/I)을 각각의 컨테이너에 철저히 작성해야 합니다. 또한, 내륙운송 과정에서 발생할 수 있는 사고에 대비하여 내륙운송보험에 가입하는 것이 중요합니다. 서류와 화물의 일치 여부를 철저히 확인하는 인도 세관의 실물 검사는 통관을 원활하게 진행하기 위해 필수적입니다.\n",
      "\n",
      "### 3. 세부 수입 절차\n",
      "인도의 수입 통관 절차는 세관검사 후 납부하는 등 일반적인 순서를 따릅니다. 수입자는 수입 물품에 대한 수입신고를 하기 전에 반드시 수출입자코드를 발급받아야 하며, 적하목록(IGM)을 제출해야 합니다. 또한, 수입자는 수입신고서와 관련 서류를 제출하여 물품에 대한 수입신고를 진행해야 합니다. 가격 신고는 세액을 스스로 신고하고 납부하는 Self-assessment 방식으로 이루어지며, 원산지 증명서 등의 서류도 필요합니다.\n",
      "\n",
      "이렇게 인도의 수입 통관에 대한 이해와 준비는 성공적인 비즈니스 운영을 위해 중요한 요소이므로 신중한 계획과 실행이 필요합니다.\n"
     ]
    }
   ],
   "source": [
    "print(post['answer'])"
   ]
  },
  {
   "cell_type": "code",
   "execution_count": 22,
   "metadata": {},
   "outputs": [
    {
     "data": {
      "text/plain": [
       "[Document(metadata={'category': '3. 정책 및 무역', 'datetimes': '2024-07-08 16:41:51', 'filename': 'data/PDF_with_contents/3. 정책 및 무역/[정책][KATI 농식품수출정보][2019]인도 전문 식품수입.pdf', 'page_no': 21, 'subcategory': '다. 통관 및 검역 유의사항'}, page_content='인도 전문 식품수입 벤더현황\\n다. 통관 및 검역 유의사항\\n(1) 인도 통관, 사전 준비가 관건\\n▪\\n인도의 통관은 수입 통관 및 검역을 위한 사전 준비 절차가 중요함\\n▪\\n통관에 필요한 서류를 제출하면 서류의 기재 오류나 서류 상호간 불일치를\\n수정하기가 매우 어려우며 이로 인해 통관 절차가 2~3주씩 지연되는 경우도\\n있어 철저한 서류 작성이 필수적임\\n▪\\n또한 인도로 수출하는 물품의 경우 포장명세서(P/L)와 상업송장(C/I)을\\n컨테이너별로 철저히 작성해야 함. 인도 세관은 한 컨테이너 안에서 박스별로\\n화물의 일치 여부를 조사하는 등 실물 검사가 철저하며 서류와 화물 불일치\\n시 통관이 불가능함\\n▪\\n특히 인도는 도로와 항만 등 인프라가 낙후되어 있고 운송수단도 노후하기\\n때문에 내륙운송 과정에서 사고가 자주 발생하므로 내륙운송보험에 가입해야\\n함\\n43\\n'),\n",
       " Document(metadata={'category': '2. 경제 및 시장 분석', 'datetimes': '2024-07-08 16:41:14', 'filename': 'data/PDF_with_contents/2. 경제 및 시장 분석/[인도_펫산업_시장분석][한국농수산식품유통공사][2017] 2017년 농식품 해외시장 맞춤조사(인도_개사료).pdf', 'page_no': 26, 'subcategory': '4. 통관 및 검역 주의사항'}, page_content='4. 통관 및 검역 유의사항\\n인도 통관, 사전 준비가 관건\\n인도의 통관은 수입 통관 및 검역을 위한 사전 준비 절차가 중요함\\n통관에 필요한 서류를 구비할 시 서류의 기재오류나 서류 상호간 불일치를\\n수정하기가 매우 어려우며 이로 인해 통관 절차가 2 ~ 3주씩 지연되는 경우도\\n있어 철저한 서류 작성이 필수적임\\n또한 인도로 수출하는 물품의 경우 포장명세서(P/L)와 상업송장(C/I)을\\n컨테이너별로 철저히 작성해야함. 인도 세관은 한 컨테이너 안에서 박스별로\\n화물이 일치하는지를 조사하는 등 실물검사가 철저하며 서류와 화물 불일치 시\\n통관이 불가능함\\n특히 인도는 도로와 항만 등 인프라가 낙후되어 있고 운송수단도 노후하기\\n때문에 내륙운송과정에서 사고가 자주 발생하므로 내륙운송보험에 가입해야함\\nInterview Info\\n“원산지증명서, 개사료 성분분석표, 포장명세서, 송장, 선하증권은 반드시 필요하며, 검역은 약 30~40일 정도가\\n소요된다. 수입회사 입장에서는 성분분석표를 기관에 반드시 제출해야하므로 제품의 성분분석표는 수출업체\\n가 항상 준비해줘야 한다.”\\n- 애완동물 사료 수입 유통업체 Sayon Overseas\\n구매 담당자 Mr. Dheepakh와의 인터뷰 中, 2017.04\\nInterview Info\\n“개사료 제품의 수입절차는 특별한 것은 없으나 사료에 들어가는 재료 중에 육류 성분이 있으면 축산·낙농업부\\n가 발행하는 수입 위생 허가증과 같은 서류를 추가로 발급받아야 한다.”\\n- 강아지용 비타민 수입 유통업체 Venttura Bioceuticals\\n구매 담당자 Mr. Uday Kulkarni와의 인터뷰 中, 2017.04\\n- 52 -\\n'),\n",
       " Document(metadata={'category': '3. 정책 및 무역', 'datetimes': '2024-07-08 16:42:32', 'filename': 'data/PDF_with_contents/3. 정책 및 무역/[정책][관세청][2019.11.07]신남방국 통관·통상환경 및 FTA 활용방안.pdf', 'page_no': 9, 'subcategory': '1. 통관 조직 및 절차'}, page_content='제Ⅲ절\\n인도의 통관 절차\\n01\\n통관 조직 및 절차\\n'),\n",
       " Document(metadata={'category': '2. 경제 및 시장 분석', 'datetimes': '2024-07-08 16:41:14', 'filename': 'data/PDF_with_contents/2. 경제 및 시장 분석/[인도_펫산업_시장분석][한국농수산식품유통공사][2017] 2017년 농식품 해외시장 맞춤조사(인도_개사료).pdf', 'page_no': 23, 'subcategory': '1. 통관 및 검역 절차'}, page_content='1. 통관 및 검역절차\\nStep 01. 수입 신고 전 준비\\n인도의 수입 통관 순서는 세관검사 후 납부하는 등 일반 선진국의 관행을\\n따르고 있음\\n수입자는 수입 물품에 대한 수입신고를 하기 전 필수적으로 인도상공부 무역국\\n(DGFT; Director General of Foreign Trade)으로부터 수출입자코드(Importer-\\nExporter Code)를 발급 받아야 함\\n또한 적하목록(IGM, Import General Menifest)를 제출해야 함. 제출기한은\\n해상·항공 운송일 경우 선박 또는 항공기가 도착지에 도착하기 전이며, 육상\\n운송일 경우 도착지에 도착 후 12시간 이내임. 적하목록 미제출 시 화물을\\n운송수단으로부터 양하할 수 없음\\nStep 02. 수입 신고 및 가격 신고\\n수입자는 적하목록 제출 후, 관할 세관에 수입신고서와 관련 서류를 제출하여\\n물품에 대한 수입신고를 함. EDI(Electronic Data Interchange)를 통한 신고는\\nICEGATE를 통해 전자적 방법으로 신고하는 것이고, EDI를 통하지 않은 신고는\\n수입신고서 4부를 준비하여 2부는 세관에, 1부는 거래은행에 제출하고, 1부는\\n수입자가 보관해야 함. 수입신고서는 하기의 서류를 수반하여야 함\\n- 송장(Signed Invoice)\\n- 포장명세서(Packing List)\\n- 선하증권 또는 화물인도지시서/항공화물운송장(Bill of Lading or Delivery Or\\nder/Airway Bill)\\n- 필요한 경우 물품 관련 수입 라이센스\\n- 필요한 경우 신용장/환어음\\n- 보험서류(Insurance document)\\n- 화학물질의 경우 검사보고서\\n- 특혜세율을 적용 받는 경우 원산지 증명서(Certificate of Origin) 등\\n가격 신고는 2011년부터 원칙적으로 납세자가 스스로 세액을 신고·납부 후\\n세관 당국이 신고한 내용을 확인하는 `Self-assessment`로 이루어짐. 수입신고자는\\n수입신고서를 제출하는 때에 수입물품에 대한 품목분류·적용 관세율·과세표준·\\n관세 감면 여부를 결정하여 가격을 신고함\\n참고로 한-인도 CEPA 협정은 HS코드에 따라 특혜관세, 원산지 결정기준이\\n결정되므로 수입 신고 시 인도 HS코드 선택에 신중해야 함\\n- 48 -\\n'),\n",
       " Document(metadata={'chunk': 45, 'filename': 'data/PDF_without_contents\\\\1. 법률 및 규제\\\\[법률_규범_특허][코트라][2022]인도 비즈니스 가이드.pdf', 'keyword': '키워드: 인도 진출, 원부자재 수입, 생산활동, 세금 관계, 원가 관리, 인력수급, 제조업'}, page_content='하다14 이 사항이 미비하면 생각하지 못한 높은 비용이 발생하는 것은 물론 통관에 많은 시간이\\n소요되어 생산활동에 막대한 지장을 초래한다\\n즉 진출 목적에 해당하는 원부자재 수입과 조달에서 생산활동 그리고 판매에 이르기까지 각각의\\n경우의 수를 열거하면서 각각마다 적용되는 세금 관계를 확인하고 이를 원가 관리에 반영하여\\n실질적인 진출 효과 유무와 정도를 시뮬레이션해야 한다\\n122인적자원과 인건비 리스크\\n14억 인구 대국인 인도에서 인력수급이 원할 하지 않을 수 있다는 놀라운 사실이다 제조업이나')]"
      ]
     },
     "execution_count": 22,
     "metadata": {},
     "output_type": "execute_result"
    }
   ],
   "source": [
    "post['context']"
   ]
  },
  {
   "cell_type": "markdown",
   "metadata": {},
   "source": [
    "## 4. Websearch"
   ]
  },
  {
   "cell_type": "code",
   "execution_count": 27,
   "metadata": {},
   "outputs": [
    {
     "name": "stdout",
     "output_type": "stream",
     "text": [
      "0.4265935719013214\n",
      "제가 잘 모르는 내용이라서, 검색한 내용을 알려 드릴께요.\n",
      "\"럭키비키\"는 아이즈원(IZ*ONE)의 멤버 중 한 명인 원영(Wonyoung)의 별명입니다. 원영이 긍정적인 에너지와 행운을 상징하는 \"럭키(Lucky)\"와 그녀의 영어 이름 \"비키(Vicky)\"를 합쳐서 만들어진 단어입니다. 이 별명은 팬들 사이에서 원영을 표현하는 애정 어휘로 사용되고 있습니다.1. What is the meaning of \"럭키비키\" in relation to IZ*ONE's member Wonyoung?\n",
      "2. How did the nickname \"럭키비키\" come about for IZ*ONE's Wonyoung?\n",
      "3. Why is \"럭키비키\" considered a term of endearment for IZ*ONE's Wonyoung?"
     ]
    },
    {
     "name": "stderr",
     "output_type": "stream",
     "text": [
      "Fetching pages: 100%|##########| 2/2 [00:04<00:00,  2.39s/it]\n"
     ]
    },
    {
     "name": "stdout",
     "output_type": "stream",
     "text": [
      "\"럭키비키\"는 아이즈원(IZ*ONE)의 멤버인 원영(Wonyoung)이 자신의 영어 이름인 \"Vicky\"와 \"Lucky\"를 합쳐 만든 단어입니다. 원영이 긍정적인 마인드와 유쾌한 태도로 유명하며, 자신을 표현할 때 \"럭키비키\"라는 단어를 사용하여 자신의 행운과 긍정적인 에너지를 나타냅니다. 이러한 원영의 긍정적인 태도와 유쾌한 매력으로 팬들 사이에서 \"럭키비키\"라는 닉네임으로 사랑받고 있습니다."
     ]
    }
   ],
   "source": [
    "question   = '럭키비키가 뭐야?'\n",
    "answer = pipeline.chat_generation(question)\n",
    "\n"
   ]
  },
  {
   "cell_type": "code",
   "execution_count": 26,
   "metadata": {},
   "outputs": [
    {
     "name": "stdout",
     "output_type": "stream",
     "text": [
      "\"럭키비키\"는 아이즈원(IZ*ONE)의 멤버 중 한 명인 원영(Wonyoung)의 영어 이름인 \"Vicky\"와 \"Lucky\"를 합쳐 만든 단어입니다.\n",
      " 원영이 긍정적인 마인드와 행동으로 유명하며, 자신의 이름인 Vicky와 Lucky를 합쳐서 자신을 표현하는 말로 사용하고 있습니다.\n",
      " 이러한 긍정적인 마인드와 유쾌한 행동으로 원영은 팬들 사이에서 \"럭키비키\"로 불리며 사랑을 받고 있습니다.\n",
      ".\n",
      "근거:\n",
      "https://www.ktown4u.com/\n",
      "https://www.reddit.com/r/kpopthoughts/comments/1cioxdw/ive_wonyoung_and_her_viral_lucky_vicky_way_of/\n",
      "https://www.reddit.com/r/kpopthoughts/comments/1cioxdw/ive_wonyoung_and_her_viral_lucky_vicky_way_of/\n",
      "https://www.reddit.com/r/kpopthoughts/comments/1cioxdw/ive_wonyoung_and_her_viral_lucky_vicky_way_of/\n"
     ]
    }
   ],
   "source": [
    "for paragraph in answer['answer'].split('\\n'):\n",
    "    for sentence in paragraph.split('.'):\n",
    "        print(sentence +'.') # 문서 내용 표시\n",
    "    \n",
    "print('근거:')\n",
    "# 근거 추출\n",
    "for data in answer['context']:\n",
    "    print(data.metadata['source'])"
   ]
  },
  {
   "cell_type": "code",
   "execution_count": 28,
   "metadata": {},
   "outputs": [
    {
     "name": "stdout",
     "output_type": "stream",
     "text": [
      "0.4171750843524933\n",
      "제가 잘 모르는 내용이라서, 검색한 내용을 알려 드릴께요.\n",
      "죄송합니다. 제가 알고 있는 정보에는 \"뉴진스\"라는 그룹의 멤버인 민지의 생일에 대한 정보가 없습니다. 다른 질문이 있으시면 도와드리겠습니다.1. What is the birthday of Minji from the group \"New Jeans\"?\n",
      "2. Can you provide information on the birthdate of Minji, a member of the group \"New Jeans\"?\n",
      "3. When is Minji's birthday, who is a member of the group \"New Jeans\"?"
     ]
    },
    {
     "name": "stderr",
     "output_type": "stream",
     "text": [
      "Fetching pages: 100%|##########| 1/1 [00:00<00:00,  1.02it/s]\n"
     ]
    },
    {
     "name": "stdout",
     "output_type": "stream",
     "text": [
      "뉴진스(NewJeans)의 멤버인 민지의 생일은 2004년 5월 7일입니다.뉴진스(NewJeans)의 멤버인 민지의 생일은 2004년 5월 7일입니다.\n",
      ".\n",
      "근거:\n",
      "https://kprofiles.com/newjeans-members-profile-facts/\n",
      "https://kprofiles.com/newjeans-members-profile-facts/\n",
      "https://kprofiles.com/newjeans-members-profile-facts/\n",
      "https://kprofiles.com/newjeans-members-profile-facts/\n"
     ]
    }
   ],
   "source": [
    "question   = '뉴진스 민지의 생일을 알려줘.'\n",
    "answer = pipeline.chat_generation(question)\n",
    "\n",
    "for paragraph in answer['answer'].split('\\n'):\n",
    "    for sentence in paragraph.split('.'):\n",
    "        print(sentence +'.') # 문서 내용 표시\n",
    "    \n",
    "print('근거:')\n",
    "# 근거 추출\n",
    "for data in answer['context']:\n",
    "    print(data.metadata['source'])\n"
   ]
  },
  {
   "cell_type": "code",
   "execution_count": null,
   "metadata": {},
   "outputs": [],
   "source": []
  }
 ],
 "metadata": {
  "kernelspec": {
   "display_name": "bigproject",
   "language": "python",
   "name": "python3"
  },
  "language_info": {
   "codemirror_mode": {
    "name": "ipython",
    "version": 3
   },
   "file_extension": ".py",
   "mimetype": "text/x-python",
   "name": "python",
   "nbconvert_exporter": "python",
   "pygments_lexer": "ipython3",
   "version": "3.12.4"
  }
 },
 "nbformat": 4,
 "nbformat_minor": 2
}
