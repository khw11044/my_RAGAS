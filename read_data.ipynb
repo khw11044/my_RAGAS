{
 "cells": [
  {
   "cell_type": "code",
   "execution_count": 18,
   "metadata": {},
   "outputs": [],
   "source": [
    "import pandas as pd "
   ]
  },
  {
   "cell_type": "code",
   "execution_count": 3,
   "metadata": {},
   "outputs": [],
   "source": [
    "path = './data/corpus.parquet'\n",
    "\n",
    "# make_corpus.py 파일로 만듬 : SimpleDirectoryReader와 TokenTextSplitter로 자른 내용을 넣음 \n",
    "df = pd.read_parquet(path)"
   ]
  },
  {
   "cell_type": "code",
   "execution_count": 4,
   "metadata": {},
   "outputs": [
    {
     "data": {
      "text/html": [
       "<div>\n",
       "<style scoped>\n",
       "    .dataframe tbody tr th:only-of-type {\n",
       "        vertical-align: middle;\n",
       "    }\n",
       "\n",
       "    .dataframe tbody tr th {\n",
       "        vertical-align: top;\n",
       "    }\n",
       "\n",
       "    .dataframe thead th {\n",
       "        text-align: right;\n",
       "    }\n",
       "</style>\n",
       "<table border=\"1\" class=\"dataframe\">\n",
       "  <thead>\n",
       "    <tr style=\"text-align: right;\">\n",
       "      <th></th>\n",
       "      <th>doc_id</th>\n",
       "      <th>contents</th>\n",
       "      <th>metadata</th>\n",
       "    </tr>\n",
       "  </thead>\n",
       "  <tbody>\n",
       "    <tr>\n",
       "      <th>0</th>\n",
       "      <td>law - 형사_피고인이.pdf - 1</td>\n",
       "      <td>서울고등법원\\n제3형사부\\n판 결\\n사 건 2023노1373 통신비밀보호법위반\\n피...</td>\n",
       "      <td>{'last_modified_datetime': 2024-06-05 20:59:48...</td>\n",
       "    </tr>\n",
       "    <tr>\n",
       "      <th>1</th>\n",
       "      <td>law - 행정_원고가.pdf - 6</td>\n",
       "      <td>로열티로 지급하기로 하는 내용의 라이선스 계약을 체결하였다(갑 제4호증의 2). 그...</td>\n",
       "      <td>{'last_modified_datetime': 2024-06-05 20:59:48...</td>\n",
       "    </tr>\n",
       "    <tr>\n",
       "      <th>2</th>\n",
       "      <td>commerce - 이커머스 솔루션 소개자료.pdf - 36</td>\n",
       "      <td>e-Commerce Solution BESPIN GLOBAL\\n#인앱영상통화 # 글...</td>\n",
       "      <td>{'last_modified_datetime': 2024-06-05 20:59:48...</td>\n",
       "    </tr>\n",
       "    <tr>\n",
       "      <th>3</th>\n",
       "      <td>law - 행정_타인자금.pdf - 5</td>\n",
       "      <td>소유주식수\\n주주명 지분율 비고\\n계 보통주 우선주\\nc 33.730.000 33....</td>\n",
       "      <td>{'last_modified_datetime': 2024-06-05 20:59:48...</td>\n",
       "    </tr>\n",
       "    <tr>\n",
       "      <th>4</th>\n",
       "      <td>law - 행정_금품.pdf - 23</td>\n",
       "      <td>별지\\n관계 법령\\n공무원연금법\\n제37조(급여의 환수)\\n1 공단은 급여를 받은 ...</td>\n",
       "      <td>{'last_modified_datetime': 2024-06-05 20:59:48...</td>\n",
       "    </tr>\n",
       "  </tbody>\n",
       "</table>\n",
       "</div>"
      ],
      "text/plain": [
       "                              doc_id  \\\n",
       "0              law - 형사_피고인이.pdf - 1   \n",
       "1               law - 행정_원고가.pdf - 6   \n",
       "2  commerce - 이커머스 솔루션 소개자료.pdf - 36   \n",
       "3              law - 행정_타인자금.pdf - 5   \n",
       "4               law - 행정_금품.pdf - 23   \n",
       "\n",
       "                                            contents  \\\n",
       "0  서울고등법원\\n제3형사부\\n판 결\\n사 건 2023노1373 통신비밀보호법위반\\n피...   \n",
       "1  로열티로 지급하기로 하는 내용의 라이선스 계약을 체결하였다(갑 제4호증의 2). 그...   \n",
       "2  e-Commerce Solution BESPIN GLOBAL\\n#인앱영상통화 # 글...   \n",
       "3  소유주식수\\n주주명 지분율 비고\\n계 보통주 우선주\\nc 33.730.000 33....   \n",
       "4  별지\\n관계 법령\\n공무원연금법\\n제37조(급여의 환수)\\n1 공단은 급여를 받은 ...   \n",
       "\n",
       "                                            metadata  \n",
       "0  {'last_modified_datetime': 2024-06-05 20:59:48...  \n",
       "1  {'last_modified_datetime': 2024-06-05 20:59:48...  \n",
       "2  {'last_modified_datetime': 2024-06-05 20:59:48...  \n",
       "3  {'last_modified_datetime': 2024-06-05 20:59:48...  \n",
       "4  {'last_modified_datetime': 2024-06-05 20:59:48...  "
      ]
     },
     "execution_count": 4,
     "metadata": {},
     "output_type": "execute_result"
    }
   ],
   "source": [
    "df.head()"
   ]
  },
  {
   "cell_type": "code",
   "execution_count": 5,
   "metadata": {},
   "outputs": [
    {
     "data": {
      "text/plain": [
       "array(['law - 형사_피고인이.pdf - 1', 'law - 행정_원고가.pdf - 6',\n",
       "       'commerce - 이커머스 솔루션 소개자료.pdf - 36', 'law - 행정_타인자금.pdf - 5',\n",
       "       'law - 행정_금품.pdf - 23', 'commerce - 이커머스 솔루션 소개자료.pdf - 47',\n",
       "       'commerce - 이커머스 솔루션 소개자료.pdf - 45',\n",
       "       'commerce - Dighty Data Insight Report 2023.pdf - 11',\n",
       "       'law - 행정_원고가.pdf - 8', 'law -  2024 달라지는 세금제도.pdf - 27',\n",
       "       'finance - 한-호주 퇴직연금 포럼_책자(최종).pdf - 36', 'law - 행정_금품.pdf - 18',\n",
       "       'commerce - 이커머스 솔루션 소개자료.pdf - 21',\n",
       "       'commerce - MezzoMedia 산업 보고서 e커머스.pdf - 32',\n",
       "       'law - 민사_스마트폰.pdf - 35', 'law - 행정_원고가.pdf - 44',\n",
       "       'commerce - MezzoMedia 산업 보고서 e커머스.pdf - 17',\n",
       "       'finance - 지방은행 시중은행 전환 가이드.pdf - 12', 'law - 행정_조세_가상자산.pdf - 14',\n",
       "       'law - 행정_타인자금.pdf - 20', 'law - 행정_금품.pdf - 16',\n",
       "       'law -  2024 달라지는 세금제도.pdf - 4',\n",
       "       'commerce - 이커머스 솔루션 소개자료.pdf - 15',\n",
       "       'finance - 한-호주 퇴직연금 포럼_책자(최종).pdf - 13',\n",
       "       'public - 2023-2027 국가재정운용계획.pdf - 21', 'law - 행정_원고가.pdf - 39',\n",
       "       'law - 행정_조세_가상자산.pdf - 9', 'law - 행정_타인자금.pdf - 17',\n",
       "       'commerce - 쿠팡 상장과 이베이 인수  이후 국내 이커머스 시장은 어떻게 변할까.pdf - 11',\n",
       "       'commerce - 쿠팡 상장과 이베이 인수  이후 국내 이커머스 시장은 어떻게 변할까.pdf - 24',\n",
       "       'law - 민사_스마트폰.pdf - 22', 'law - 민사_분양받은.pdf - 16',\n",
       "       'law - 행정_원고가.pdf - 52', 'law -  2024 달라지는 세금제도.pdf - 12',\n",
       "       'public - 국가안전시스템 개편 보고서.pdf - 4',\n",
       "       'finance - 2024년 3월_3. 향후 통화신용정책 방향.pdf - 7',\n",
       "       'finance - 한-호주 퇴직연금 포럼_책자(최종).pdf - 46',\n",
       "       'public - 국가안전시스템 개편 보고서.pdf - 2',\n",
       "       'public - 국가안전시스템 개편 보고서.pdf - 16',\n",
       "       'public - 2023-2027 국가재정운용계획.pdf - 36', 'law - 행정_원고가.pdf - 16',\n",
       "       'commerce - Dighty Data Insight Report 2023.pdf - 1',\n",
       "       'commerce - 이커머스 솔루션 소개자료.pdf - 31',\n",
       "       'finance - 한-호주 퇴직연금 포럼_책자(최종).pdf - 42', 'law - 민사_스마트폰.pdf - 21',\n",
       "       'commerce - MezzoMedia 산업 보고서 e커머스.pdf - 3',\n",
       "       'law - 형사_피고인이.pdf - 3', 'public - 2024 행정안전부 업무계획.pdf - 9',\n",
       "       'finance - 상생금융 추진현황 240320.pdf - 1',\n",
       "       'commerce - MezzoMedia 산업 보고서 e커머스.pdf - 8',\n",
       "       'commerce - MezzoMedia 산업 보고서 e커머스.pdf - 11',\n",
       "       'commerce - KCA_Media_Issue_Trend_vol50_trend_report_03.pdf - 3',\n",
       "       'law - 민사_미성년자인.pdf - 7', 'law - 행정_조세_가상자산.pdf - 7',\n",
       "       'law - 특허_원고.pdf - 3', 'law - 행정_원고가.pdf - 22',\n",
       "       'law - 행정_원고가.pdf - 26',\n",
       "       'public - 제4차(24_28)+학교도서관+진흥+기본계획.pdf - 6',\n",
       "       'public - 2024년 주요업무 추진계획.pdf - 3',\n",
       "       'public - 2024년 주요업무 추진계획.pdf - 6',\n",
       "       'public - 국가안전시스템 개편 보고서.pdf - 8',\n",
       "       'finance - 240409(보도자료) 금융위 핀테크 투자 생태계 활성화 나선다.pdf - 3',\n",
       "       'finance - 2024년 3월_3. 향후 통화신용정책 방향.pdf - 10',\n",
       "       'finance - 2024년 3월_3. 향후 통화신용정책 방향.pdf - 17',\n",
       "       'finance - 2024년 3월_2. 통화신용정책 운영.pdf - 7'], dtype=object)"
      ]
     },
     "execution_count": 5,
     "metadata": {},
     "output_type": "execute_result"
    }
   ],
   "source": [
    "df['doc_id'].unique()"
   ]
  },
  {
   "cell_type": "code",
   "execution_count": 6,
   "metadata": {},
   "outputs": [
    {
     "data": {
      "text/html": [
       "<div>\n",
       "<style scoped>\n",
       "    .dataframe tbody tr th:only-of-type {\n",
       "        vertical-align: middle;\n",
       "    }\n",
       "\n",
       "    .dataframe tbody tr th {\n",
       "        vertical-align: top;\n",
       "    }\n",
       "\n",
       "    .dataframe thead th {\n",
       "        text-align: right;\n",
       "    }\n",
       "</style>\n",
       "<table border=\"1\" class=\"dataframe\">\n",
       "  <thead>\n",
       "    <tr style=\"text-align: right;\">\n",
       "      <th></th>\n",
       "      <th>qid</th>\n",
       "      <th>query</th>\n",
       "      <th>generation_gt</th>\n",
       "      <th>retrieval_gt</th>\n",
       "    </tr>\n",
       "  </thead>\n",
       "  <tbody>\n",
       "    <tr>\n",
       "      <th>0</th>\n",
       "      <td>80_law</td>\n",
       "      <td>원고 A이 시력 저하등의 증상이 발생한 시점은 언제로 보고, 그 시점 판단의 기준은...</td>\n",
       "      <td>[원고 A의 시력 저하 등의 증상은 2017년 2월 25일 이전, 즉 필러 주입술 ...</td>\n",
       "      <td>[[law - 민사_미성년자인.pdf - 7]]</td>\n",
       "    </tr>\n",
       "    <tr>\n",
       "      <th>1</th>\n",
       "      <td>4_finance</td>\n",
       "      <td>2024년도 한국은행의 대정부 일시대출금 한도와 대출조건을 결정하는 과정에서 보완된...</td>\n",
       "      <td>[2024년도 한국은행의 대정부 일시대출금 한도는 총 50조 원으로, 이전 년도와 ...</td>\n",
       "      <td>[[finance - 2024년 3월_2. 통화신용정책 운영.pdf - 7]]</td>\n",
       "    </tr>\n",
       "    <tr>\n",
       "      <th>2</th>\n",
       "      <td>40_public</td>\n",
       "      <td>2023년에 발표된 '가을철 지역축제 안전관리협조 요청 사항'은 무엇인지, 그리고 ...</td>\n",
       "      <td>[2023년 가을철 지역축제 안전관리협조 요청 사항에 따르면, 인파밀집 행사 시 부...</td>\n",
       "      <td>[[public - 국가안전시스템 개편 보고서.pdf - 8]]</td>\n",
       "    </tr>\n",
       "    <tr>\n",
       "      <th>3</th>\n",
       "      <td>69_law</td>\n",
       "      <td>국세기본법 제14조 제2항에서 언급하는 과세표준의 계산에 관한 규정이 어떠한 실질내...</td>\n",
       "      <td>[국세기본법 제14조 제2항에 따르면, 과세표준의 계산은 소득, 수익, 재산, 행위...</td>\n",
       "      <td>[[law - 행정_원고가.pdf - 22]]</td>\n",
       "    </tr>\n",
       "    <tr>\n",
       "      <th>4</th>\n",
       "      <td>10_finance</td>\n",
       "      <td>비은행 금융기관의 부동산 PF 대출 연체율 상승에 따른 미래적 영향은 무엇이며, 어...</td>\n",
       "      <td>[비은행 금융기관의 부동산 PF 대출의 연체율이 상승하는 경우, 이는 관련 대출 부...</td>\n",
       "      <td>[[finance - 2024년 3월_3. 향후 통화신용정책 방향.pdf - 10]]</td>\n",
       "    </tr>\n",
       "  </tbody>\n",
       "</table>\n",
       "</div>"
      ],
      "text/plain": [
       "          qid                                              query  \\\n",
       "0      80_law  원고 A이 시력 저하등의 증상이 발생한 시점은 언제로 보고, 그 시점 판단의 기준은...   \n",
       "1   4_finance  2024년도 한국은행의 대정부 일시대출금 한도와 대출조건을 결정하는 과정에서 보완된...   \n",
       "2   40_public  2023년에 발표된 '가을철 지역축제 안전관리협조 요청 사항'은 무엇인지, 그리고 ...   \n",
       "3      69_law  국세기본법 제14조 제2항에서 언급하는 과세표준의 계산에 관한 규정이 어떠한 실질내...   \n",
       "4  10_finance  비은행 금융기관의 부동산 PF 대출 연체율 상승에 따른 미래적 영향은 무엇이며, 어...   \n",
       "\n",
       "                                       generation_gt  \\\n",
       "0  [원고 A의 시력 저하 등의 증상은 2017년 2월 25일 이전, 즉 필러 주입술 ...   \n",
       "1  [2024년도 한국은행의 대정부 일시대출금 한도는 총 50조 원으로, 이전 년도와 ...   \n",
       "2  [2023년 가을철 지역축제 안전관리협조 요청 사항에 따르면, 인파밀집 행사 시 부...   \n",
       "3  [국세기본법 제14조 제2항에 따르면, 과세표준의 계산은 소득, 수익, 재산, 행위...   \n",
       "4  [비은행 금융기관의 부동산 PF 대출의 연체율이 상승하는 경우, 이는 관련 대출 부...   \n",
       "\n",
       "                                      retrieval_gt  \n",
       "0                       [[law - 민사_미성년자인.pdf - 7]]  \n",
       "1      [[finance - 2024년 3월_2. 통화신용정책 운영.pdf - 7]]  \n",
       "2              [[public - 국가안전시스템 개편 보고서.pdf - 8]]  \n",
       "3                        [[law - 행정_원고가.pdf - 22]]  \n",
       "4  [[finance - 2024년 3월_3. 향후 통화신용정책 방향.pdf - 10]]  "
      ]
     },
     "execution_count": 6,
     "metadata": {},
     "output_type": "execute_result"
    }
   ],
   "source": [
    "path = './data/qa.parquet'\n",
    "\n",
    "# make_qa.py 파일로 만듬 : 질문과 응답 쌍을 만듬 , 어떤 문서가 관련이 있는지 \n",
    "df = pd.read_parquet(path)\n",
    "\n",
    "df.head()"
   ]
  },
  {
   "cell_type": "code",
   "execution_count": 7,
   "metadata": {},
   "outputs": [
    {
     "data": {
      "text/plain": [
       "array(['80_law', '4_finance', '40_public', '69_law', '10_finance',\n",
       "       '45_public', '70_law', '66_law', '47_public', '11_finance',\n",
       "       '98_commerce', '36_public', '83_law', '112_commerce', '18_finance'],\n",
       "      dtype=object)"
      ]
     },
     "execution_count": 7,
     "metadata": {},
     "output_type": "execute_result"
    }
   ],
   "source": [
    "df['qid'].unique()"
   ]
  },
  {
   "cell_type": "code",
   "execution_count": 8,
   "metadata": {},
   "outputs": [],
   "source": [
    "import pickle\n",
    "import pandas as pd "
   ]
  },
  {
   "cell_type": "code",
   "execution_count": 10,
   "metadata": {},
   "outputs": [],
   "source": [
    "data = pd.read_pickle('my_data/all_docs.pkl')"
   ]
  },
  {
   "cell_type": "code",
   "execution_count": 11,
   "metadata": {},
   "outputs": [
    {
     "data": {
      "text/plain": [
       "4566"
      ]
     },
     "execution_count": 11,
     "metadata": {},
     "output_type": "execute_result"
    }
   ],
   "source": [
    "len(data)"
   ]
  },
  {
   "cell_type": "code",
   "execution_count": 24,
   "metadata": {},
   "outputs": [],
   "source": [
    "def check_data(data_order):\n",
    "    sample_data = data[data_order]\n",
    "    \n",
    "    return sample_data.page_content, sample_data.metadata"
   ]
  },
  {
   "cell_type": "code",
   "execution_count": 14,
   "metadata": {},
   "outputs": [
    {
     "data": {
      "text/plain": [
       "Document(page_content='24 6 27 오후 435 동물도 인간living person 같은 권리 있다인도 법원 결정  연합뉴스\\n본기사는연합뉴스와의계약없이전문또는일부의전재를금합니다\\nCopyrightCYonhapnewsAllrightsreserved\\nhttpswwwynacokrviewAKR20180705086100077sectionpopupprint 33', metadata={'filename': 'data/PDF_without_contents\\\\1. 법률 및 규제\\\\[법률][연합뉴스][2018.07.05] 동물도 인간 같은 권리 존재(인도 법원 결정).pdf', 'chunk': 5, 'keyword': '동물권, 인도 법원, 결정'})"
      ]
     },
     "execution_count": 14,
     "metadata": {},
     "output_type": "execute_result"
    }
   ],
   "source": [
    "sample_data1 = data[20]\n",
    "\n",
    "sample_data1"
   ]
  },
  {
   "cell_type": "code",
   "execution_count": 16,
   "metadata": {},
   "outputs": [
    {
     "data": {
      "text/plain": [
       "'24 6 27 오후 435 동물도 인간living person 같은 권리 있다인도 법원 결정  연합뉴스\\n본기사는연합뉴스와의계약없이전문또는일부의전재를금합니다\\nCopyrightCYonhapnewsAllrightsreserved\\nhttpswwwynacokrviewAKR20180705086100077sectionpopupprint 33'"
      ]
     },
     "execution_count": 16,
     "metadata": {},
     "output_type": "execute_result"
    }
   ],
   "source": [
    "sample_data1.page_content"
   ]
  },
  {
   "cell_type": "code",
   "execution_count": 17,
   "metadata": {},
   "outputs": [
    {
     "data": {
      "text/plain": [
       "{'filename': 'data/PDF_without_contents\\\\1. 법률 및 규제\\\\[법률][연합뉴스][2018.07.05] 동물도 인간 같은 권리 존재(인도 법원 결정).pdf',\n",
       " 'chunk': 5,\n",
       " 'keyword': '동물권, 인도 법원, 결정'}"
      ]
     },
     "execution_count": 17,
     "metadata": {},
     "output_type": "execute_result"
    }
   ],
   "source": [
    "sample_data1.metadata"
   ]
  },
  {
   "cell_type": "code",
   "execution_count": 21,
   "metadata": {},
   "outputs": [
    {
     "data": {
      "text/plain": [
       "Document(page_content='Share Holder 인도인이 한 명도 포함되지 않아도 된다\\n214 자본금 결정\\n주식회사 설립에 필요한 최소 자본금 규정이 2015년 회사법이 부분 개정되면서 폐지되었다\\n형식적으로 보면 2루피약 30원의 자본금으로 인도에서 주식회사 법인을 세울 수 있다 자본금은\\n수권자본금Authorized Capital과 실제로 납부된 자본금을 말하는 납입자본금Paid Capital\\n로 구분되어 있는 것이 한국의 주식회사 자본금과 다르다 수권자본금이란 납입할 수 있는 법인의', metadata={'filename': 'data/PDF_without_contents\\\\1. 법률 및 규제\\\\[법률_규범_특허][코트라][2022]인도 비즈니스 가이드.pdf', 'chunk': 187, 'keyword': '키워드: 인도, 주식회사, 자본금, 수권자본금, 납입자본금'})"
      ]
     },
     "execution_count": 21,
     "metadata": {},
     "output_type": "execute_result"
    }
   ],
   "source": [
    "sample_data2 = data[3000]\n",
    "\n",
    "sample_data2"
   ]
  },
  {
   "cell_type": "code",
   "execution_count": 25,
   "metadata": {},
   "outputs": [],
   "source": [
    "cont, meta = check_data(3000)"
   ]
  },
  {
   "cell_type": "code",
   "execution_count": 29,
   "metadata": {},
   "outputs": [
    {
     "name": "stdout",
     "output_type": "stream",
     "text": [
      "Share Holder 인도인이 한 명도 포함되지 않아도 된다\n",
      "214 자본금 결정\n",
      "주식회사 설립에 필요한 최소 자본금 규정이 2015년 회사법이 부분 개정되면서 폐지되었다\n",
      "형식적으로 보면 2루피약 30원의 자본금으로 인도에서 주식회사 법인을 세울 수 있다 자본금은\n",
      "수권자본금Authorized Capital과 실제로 납부된 자본금을 말하는 납입자본금Paid Capital\n",
      "로 구분되어 있는 것이 한국의 주식회사 자본금과 다르다 수권자본금이란 납입할 수 있는 법인의\n",
      "---\n",
      "{'filename': 'data/PDF_without_contents\\\\1. 법률 및 규제\\\\[법률_규범_특허][코트라][2022]인도 비즈니스 가이드.pdf', 'chunk': 187, 'keyword': '키워드: 인도, 주식회사, 자본금, 수권자본금, 납입자본금'}\n"
     ]
    }
   ],
   "source": [
    "print(cont)\n",
    "print('---')\n",
    "print(meta)"
   ]
  },
  {
   "cell_type": "code",
   "execution_count": 36,
   "metadata": {},
   "outputs": [],
   "source": [
    "cont, meta = check_data(4200)"
   ]
  },
  {
   "cell_type": "code",
   "execution_count": 35,
   "metadata": {},
   "outputs": [
    {
     "name": "stdout",
     "output_type": "stream",
     "text": [
      "Determinants for Pet Food Purchasing Decisions\n",
      "Section AResearch paper\n",
      "resulted in a rise in the number of single parents and professionals living alone in large cities\n",
      "giving rise to an unprecedented level of pampering and affection for pets People frequently own\n",
      "---\n",
      "{'filename': 'data/PDF_without_contents\\\\2. 경제 및 시장 분석\\\\펫산업\\\\[인도_펫산업_시장분석][ECB(European chemical Bulletin)][2023]An Analytical study of Preferences and Determinants for Pet Food Purchasing Decisions.pdf', 'chunk': 19, 'keyword': '키워드:\\n\\n1. Determinants\\n2. Pet Food Purchasing Decisions\\n3. Single Parents\\n4. Professionals\\n5. Large Cities\\n6. Pampering\\n7. Affection for Pets'}\n"
     ]
    }
   ],
   "source": [
    "print(cont)\n",
    "print('---')\n",
    "print(meta)"
   ]
  },
  {
   "cell_type": "code",
   "execution_count": 15,
   "metadata": {},
   "outputs": [
    {
     "data": {
      "text/html": [
       "<div>\n",
       "<style scoped>\n",
       "    .dataframe tbody tr th:only-of-type {\n",
       "        vertical-align: middle;\n",
       "    }\n",
       "\n",
       "    .dataframe tbody tr th {\n",
       "        vertical-align: top;\n",
       "    }\n",
       "\n",
       "    .dataframe thead th {\n",
       "        text-align: right;\n",
       "    }\n",
       "</style>\n",
       "<table border=\"1\" class=\"dataframe\">\n",
       "  <thead>\n",
       "    <tr style=\"text-align: right;\">\n",
       "      <th></th>\n",
       "      <th>qid</th>\n",
       "      <th>query</th>\n",
       "      <th>generation_gt</th>\n",
       "      <th>retrieval_gt</th>\n",
       "    </tr>\n",
       "  </thead>\n",
       "  <tbody>\n",
       "    <tr>\n",
       "      <th>0</th>\n",
       "      <td>80_law</td>\n",
       "      <td>원고 A이 시력 저하등의 증상이 발생한 시점은 언제로 보고, 그 시점 판단의 기준은...</td>\n",
       "      <td>[원고 A의 시력 저하 등의 증상은 2017년 2월 25일 이전, 즉 필러 주입술 ...</td>\n",
       "      <td>[[law - 민사_미성년자인.pdf - 7]]</td>\n",
       "    </tr>\n",
       "    <tr>\n",
       "      <th>1</th>\n",
       "      <td>4_finance</td>\n",
       "      <td>2024년도 한국은행의 대정부 일시대출금 한도와 대출조건을 결정하는 과정에서 보완된...</td>\n",
       "      <td>[2024년도 한국은행의 대정부 일시대출금 한도는 총 50조 원으로, 이전 년도와 ...</td>\n",
       "      <td>[[finance - 2024년 3월_2. 통화신용정책 운영.pdf - 7]]</td>\n",
       "    </tr>\n",
       "    <tr>\n",
       "      <th>2</th>\n",
       "      <td>40_public</td>\n",
       "      <td>2023년에 발표된 '가을철 지역축제 안전관리협조 요청 사항'은 무엇인지, 그리고 ...</td>\n",
       "      <td>[2023년 가을철 지역축제 안전관리협조 요청 사항에 따르면, 인파밀집 행사 시 부...</td>\n",
       "      <td>[[public - 국가안전시스템 개편 보고서.pdf - 8]]</td>\n",
       "    </tr>\n",
       "    <tr>\n",
       "      <th>3</th>\n",
       "      <td>69_law</td>\n",
       "      <td>국세기본법 제14조 제2항에서 언급하는 과세표준의 계산에 관한 규정이 어떠한 실질내...</td>\n",
       "      <td>[국세기본법 제14조 제2항에 따르면, 과세표준의 계산은 소득, 수익, 재산, 행위...</td>\n",
       "      <td>[[law - 행정_원고가.pdf - 22]]</td>\n",
       "    </tr>\n",
       "    <tr>\n",
       "      <th>4</th>\n",
       "      <td>10_finance</td>\n",
       "      <td>비은행 금융기관의 부동산 PF 대출 연체율 상승에 따른 미래적 영향은 무엇이며, 어...</td>\n",
       "      <td>[비은행 금융기관의 부동산 PF 대출의 연체율이 상승하는 경우, 이는 관련 대출 부...</td>\n",
       "      <td>[[finance - 2024년 3월_3. 향후 통화신용정책 방향.pdf - 10]]</td>\n",
       "    </tr>\n",
       "  </tbody>\n",
       "</table>\n",
       "</div>"
      ],
      "text/plain": [
       "          qid                                              query  \\\n",
       "0      80_law  원고 A이 시력 저하등의 증상이 발생한 시점은 언제로 보고, 그 시점 판단의 기준은...   \n",
       "1   4_finance  2024년도 한국은행의 대정부 일시대출금 한도와 대출조건을 결정하는 과정에서 보완된...   \n",
       "2   40_public  2023년에 발표된 '가을철 지역축제 안전관리협조 요청 사항'은 무엇인지, 그리고 ...   \n",
       "3      69_law  국세기본법 제14조 제2항에서 언급하는 과세표준의 계산에 관한 규정이 어떠한 실질내...   \n",
       "4  10_finance  비은행 금융기관의 부동산 PF 대출 연체율 상승에 따른 미래적 영향은 무엇이며, 어...   \n",
       "\n",
       "                                       generation_gt  \\\n",
       "0  [원고 A의 시력 저하 등의 증상은 2017년 2월 25일 이전, 즉 필러 주입술 ...   \n",
       "1  [2024년도 한국은행의 대정부 일시대출금 한도는 총 50조 원으로, 이전 년도와 ...   \n",
       "2  [2023년 가을철 지역축제 안전관리협조 요청 사항에 따르면, 인파밀집 행사 시 부...   \n",
       "3  [국세기본법 제14조 제2항에 따르면, 과세표준의 계산은 소득, 수익, 재산, 행위...   \n",
       "4  [비은행 금융기관의 부동산 PF 대출의 연체율이 상승하는 경우, 이는 관련 대출 부...   \n",
       "\n",
       "                                      retrieval_gt  \n",
       "0                       [[law - 민사_미성년자인.pdf - 7]]  \n",
       "1      [[finance - 2024년 3월_2. 통화신용정책 운영.pdf - 7]]  \n",
       "2              [[public - 국가안전시스템 개편 보고서.pdf - 8]]  \n",
       "3                        [[law - 행정_원고가.pdf - 22]]  \n",
       "4  [[finance - 2024년 3월_3. 향후 통화신용정책 방향.pdf - 10]]  "
      ]
     },
     "execution_count": 15,
     "metadata": {},
     "output_type": "execute_result"
    }
   ],
   "source": [
    "path = './data/qa.parquet'\n",
    "\n",
    "# make_qa.py 파일로 만듬 : 질문과 응답 쌍을 만듬 , 어떤 문서가 관련이 있는지 \n",
    "df = pd.read_parquet(path)\n",
    "\n",
    "df.head()"
   ]
  },
  {
   "cell_type": "code",
   "execution_count": 16,
   "metadata": {},
   "outputs": [
    {
     "data": {
      "text/plain": [
       "array([\"원고 A의 시력 저하 등의 증상은 2017년 2월 25일 이전, 즉 필러 주입술 직후의 시점에 일어났다고 판단된다. 이 판단의 기준은 원고 A이 필러 주입술 3일 뒤인 2월 25일에 병원을 방문해 시력저하 등의 증상을 호소했지만, 진료기록에 '이미 그 전에 증상이 있었으나 환자는 쌍꺼풀 수술을 해서 그럴 것이라고 생각하였다'는 내용이 있었고, 필러 주입 후 코에 보호대를 착용했어서 초기에 증상을 알아차리기 어려웠을 것으로 보여진다는 점이다.\"],\n",
       "      dtype=object)"
      ]
     },
     "execution_count": 16,
     "metadata": {},
     "output_type": "execute_result"
    }
   ],
   "source": [
    "df['generation_gt'][0]"
   ]
  },
  {
   "cell_type": "code",
   "execution_count": 17,
   "metadata": {},
   "outputs": [
    {
     "data": {
      "text/plain": [
       "array([array(['law - 민사_미성년자인.pdf - 7'], dtype=object)], dtype=object)"
      ]
     },
     "execution_count": 17,
     "metadata": {},
     "output_type": "execute_result"
    }
   ],
   "source": [
    "df['retrieval_gt'][0]"
   ]
  },
  {
   "cell_type": "code",
   "execution_count": 74,
   "metadata": {},
   "outputs": [
    {
     "data": {
      "text/plain": [
       "15"
      ]
     },
     "execution_count": 74,
     "metadata": {},
     "output_type": "execute_result"
    }
   ],
   "source": [
    "len(df)"
   ]
  },
  {
   "cell_type": "code",
   "execution_count": 37,
   "metadata": {},
   "outputs": [],
   "source": [
    "path = './my_data/qa_new.parquet'\n",
    "\n",
    "# make_qa.py 파일로 만듬 : 질문과 응답 쌍을 만듬 , 어떤 문서가 관련이 있는지 \n",
    "df = pd.read_parquet(path)"
   ]
  },
  {
   "cell_type": "code",
   "execution_count": 38,
   "metadata": {},
   "outputs": [
    {
     "data": {
      "text/html": [
       "<div>\n",
       "<style scoped>\n",
       "    .dataframe tbody tr th:only-of-type {\n",
       "        vertical-align: middle;\n",
       "    }\n",
       "\n",
       "    .dataframe tbody tr th {\n",
       "        vertical-align: top;\n",
       "    }\n",
       "\n",
       "    .dataframe thead th {\n",
       "        text-align: right;\n",
       "    }\n",
       "</style>\n",
       "<table border=\"1\" class=\"dataframe\">\n",
       "  <thead>\n",
       "    <tr style=\"text-align: right;\">\n",
       "      <th></th>\n",
       "      <th>qid</th>\n",
       "      <th>retrieval_gt</th>\n",
       "      <th>query</th>\n",
       "      <th>generation_gt</th>\n",
       "    </tr>\n",
       "  </thead>\n",
       "  <tbody>\n",
       "    <tr>\n",
       "      <th>0</th>\n",
       "      <td>4839a21b-2d1b-4f07-8b70-905a8d30ee11</td>\n",
       "      <td>[[PDF_without_contents\\1. 법률 및 규제\\[법률_규범_특허][인...</td>\n",
       "      <td>자료에 나와 있는 날짜는 무엇인가요?</td>\n",
       "      <td>[자료에 나와 있는 날짜는 24082016과 30122016입니다.]</td>\n",
       "    </tr>\n",
       "    <tr>\n",
       "      <th>1</th>\n",
       "      <td>264aa783-5fd8-4a97-badd-d06b77d1225f</td>\n",
       "      <td>[[PDF_without_contents\\2. 경제 및 시장 분석\\[전체 정보][K...</td>\n",
       "      <td>인도 소비자들이 선호하는 제품 유형은 무엇인가요?</td>\n",
       "      <td>[인도 소비자들은 종교적 특성으로 인해 자연친화 제품을 선호하는 경향이 있습니다.]</td>\n",
       "    </tr>\n",
       "    <tr>\n",
       "      <th>2</th>\n",
       "      <td>2de70c69-a717-4982-a01f-e7a6178feceb</td>\n",
       "      <td>[[PDF_without_contents\\1. 법률 및 규제\\[법률_규범_특허][코...</td>\n",
       "      <td>상표 등록이 완료된 후 기호 을을 사용할 수 있는 조건은 무엇인가요?</td>\n",
       "      <td>[상표 등록이 완료된 후 기호 을을 사용할 수 있으며, 등록 후에도 인증서에 명시된...</td>\n",
       "    </tr>\n",
       "    <tr>\n",
       "      <th>3</th>\n",
       "      <td>a373df37-a5c3-4d79-a9ba-199a9b1f5ece</td>\n",
       "      <td>[[PDF_without_contents\\1. 법률 및 규제\\[법률_규범_특허][인...</td>\n",
       "      <td>인증서의 정지 및 취소는 어떤 절차에 따라 이루어지나요?</td>\n",
       "      <td>[인증서의 정지 및 취소는 Schedule II에 명시된 해당 스킴에 따라 이루어집...</td>\n",
       "    </tr>\n",
       "    <tr>\n",
       "      <th>4</th>\n",
       "      <td>ad44548a-41af-45be-bf57-177947237fe1</td>\n",
       "      <td>[[PDF_without_contents\\1. 법률 및 규제\\[법률_규범_특허][인...</td>\n",
       "      <td>제품의 불만 사항을 해결하는 데 소요되는 최대 기간은 얼마인가요?</td>\n",
       "      <td>[제품 테스트 시간이 포함되지 않는 경우, 불만 사항 해결은 최대 90일 이내에 완...</td>\n",
       "    </tr>\n",
       "  </tbody>\n",
       "</table>\n",
       "</div>"
      ],
      "text/plain": [
       "                                    qid  \\\n",
       "0  4839a21b-2d1b-4f07-8b70-905a8d30ee11   \n",
       "1  264aa783-5fd8-4a97-badd-d06b77d1225f   \n",
       "2  2de70c69-a717-4982-a01f-e7a6178feceb   \n",
       "3  a373df37-a5c3-4d79-a9ba-199a9b1f5ece   \n",
       "4  ad44548a-41af-45be-bf57-177947237fe1   \n",
       "\n",
       "                                        retrieval_gt  \\\n",
       "0  [[PDF_without_contents\\1. 법률 및 규제\\[법률_규범_특허][인...   \n",
       "1  [[PDF_without_contents\\2. 경제 및 시장 분석\\[전체 정보][K...   \n",
       "2  [[PDF_without_contents\\1. 법률 및 규제\\[법률_규범_특허][코...   \n",
       "3  [[PDF_without_contents\\1. 법률 및 규제\\[법률_규범_특허][인...   \n",
       "4  [[PDF_without_contents\\1. 법률 및 규제\\[법률_규범_특허][인...   \n",
       "\n",
       "                                    query  \\\n",
       "0                    자료에 나와 있는 날짜는 무엇인가요?   \n",
       "1             인도 소비자들이 선호하는 제품 유형은 무엇인가요?   \n",
       "2  상표 등록이 완료된 후 기호 을을 사용할 수 있는 조건은 무엇인가요?   \n",
       "3         인증서의 정지 및 취소는 어떤 절차에 따라 이루어지나요?   \n",
       "4    제품의 불만 사항을 해결하는 데 소요되는 최대 기간은 얼마인가요?   \n",
       "\n",
       "                                       generation_gt  \n",
       "0             [자료에 나와 있는 날짜는 24082016과 30122016입니다.]  \n",
       "1     [인도 소비자들은 종교적 특성으로 인해 자연친화 제품을 선호하는 경향이 있습니다.]  \n",
       "2  [상표 등록이 완료된 후 기호 을을 사용할 수 있으며, 등록 후에도 인증서에 명시된...  \n",
       "3  [인증서의 정지 및 취소는 Schedule II에 명시된 해당 스킴에 따라 이루어집...  \n",
       "4  [제품 테스트 시간이 포함되지 않는 경우, 불만 사항 해결은 최대 90일 이내에 완...  "
      ]
     },
     "execution_count": 38,
     "metadata": {},
     "output_type": "execute_result"
    }
   ],
   "source": [
    "df.head()"
   ]
  },
  {
   "cell_type": "code",
   "execution_count": 39,
   "metadata": {},
   "outputs": [
    {
     "data": {
      "text/plain": [
       "array(['자료에 나와 있는 날짜는 24082016과 30122016입니다.'], dtype=object)"
      ]
     },
     "execution_count": 39,
     "metadata": {},
     "output_type": "execute_result"
    }
   ],
   "source": [
    "df['generation_gt'][0]"
   ]
  },
  {
   "cell_type": "code",
   "execution_count": 52,
   "metadata": {},
   "outputs": [],
   "source": [
    "path = './my_data/qa_new2.parquet'\n",
    "\n",
    "# make_qa.py 파일로 만듬 : 질문과 응답 쌍을 만듬 , 어떤 문서가 관련이 있는지 \n",
    "df = pd.read_parquet(path)\n",
    "\n",
    "df.head()"
   ]
  },
  {
   "cell_type": "code",
   "execution_count": 53,
   "metadata": {},
   "outputs": [
    {
     "data": {
      "text/html": [
       "<div>\n",
       "<style scoped>\n",
       "    .dataframe tbody tr th:only-of-type {\n",
       "        vertical-align: middle;\n",
       "    }\n",
       "\n",
       "    .dataframe tbody tr th {\n",
       "        vertical-align: top;\n",
       "    }\n",
       "\n",
       "    .dataframe thead th {\n",
       "        text-align: right;\n",
       "    }\n",
       "</style>\n",
       "<table border=\"1\" class=\"dataframe\">\n",
       "  <thead>\n",
       "    <tr style=\"text-align: right;\">\n",
       "      <th></th>\n",
       "      <th>qid</th>\n",
       "      <th>retrieval_gt</th>\n",
       "      <th>query</th>\n",
       "      <th>generation_gt</th>\n",
       "    </tr>\n",
       "  </thead>\n",
       "  <tbody>\n",
       "    <tr>\n",
       "      <th>0</th>\n",
       "      <td>e28e176e-2db2-46f6-a360-74dfffe0377f</td>\n",
       "      <td>[[PDF_without_contents\\1. 법률 및 규제\\[법률_규범_특허][인...</td>\n",
       "      <td>자료에 나와 있는 날짜는 언제인가요?</td>\n",
       "      <td>[자료에 나와 있는 날짜는 2016년 8월 24일과 2016년 12월 30일입니다.]</td>\n",
       "    </tr>\n",
       "    <tr>\n",
       "      <th>1</th>\n",
       "      <td>29aad4ed-e426-4100-a204-c11d17197100</td>\n",
       "      <td>[[PDF_without_contents\\2. 경제 및 시장 분석\\[전체 정보][K...</td>\n",
       "      <td>인도에서 채식주의자의 인구비율이 높은 이유는 무엇인가요?</td>\n",
       "      <td>[인도는 종교적 특성으로 인해 채식주의자의 인구비율이 높게 나타납니다.]</td>\n",
       "    </tr>\n",
       "    <tr>\n",
       "      <th>2</th>\n",
       "      <td>54f2b135-b0bd-434e-9e92-ca29798988c3</td>\n",
       "      <td>[[PDF_without_contents\\1. 법률 및 규제\\[법률_규범_특허][코...</td>\n",
       "      <td>상표 등록이 완료된 후 기호 을을 사용할 수 있는 조건은 무엇인가요?</td>\n",
       "      <td>[상표 등록이 완료된 후에는 인증서에 명시된 상품 및 서비스에 대해서만 기호 을을 ...</td>\n",
       "    </tr>\n",
       "    <tr>\n",
       "      <th>3</th>\n",
       "      <td>f3a4828f-9954-4c08-ba33-f81dfa3ce819</td>\n",
       "      <td>[[PDF_without_contents\\1. 법률 및 규제\\[법률_규범_특허][인...</td>\n",
       "      <td>인증서의 정지 및 취소는 어떤 절차에 따라 이루어지나요?</td>\n",
       "      <td>[인증서의 정지 및 취소는 Schedule II에 명시된 적용 가능한 스킴에 따라 ...</td>\n",
       "    </tr>\n",
       "    <tr>\n",
       "      <th>4</th>\n",
       "      <td>f78f2c4f-687d-4547-add3-5b632bfaa08d</td>\n",
       "      <td>[[PDF_without_contents\\1. 법률 및 규제\\[법률_규범_특허][인...</td>\n",
       "      <td>불만 사항의 해결 조치는 몇 일 내에 완료되어야 하나요?</td>\n",
       "      <td>[불만 사항의 해결 조치는 제품 테스트 시간이 포함되지 않은 경우 90일 이내에 완...</td>\n",
       "    </tr>\n",
       "  </tbody>\n",
       "</table>\n",
       "</div>"
      ],
      "text/plain": [
       "                                    qid  \\\n",
       "0  e28e176e-2db2-46f6-a360-74dfffe0377f   \n",
       "1  29aad4ed-e426-4100-a204-c11d17197100   \n",
       "2  54f2b135-b0bd-434e-9e92-ca29798988c3   \n",
       "3  f3a4828f-9954-4c08-ba33-f81dfa3ce819   \n",
       "4  f78f2c4f-687d-4547-add3-5b632bfaa08d   \n",
       "\n",
       "                                        retrieval_gt  \\\n",
       "0  [[PDF_without_contents\\1. 법률 및 규제\\[법률_규범_특허][인...   \n",
       "1  [[PDF_without_contents\\2. 경제 및 시장 분석\\[전체 정보][K...   \n",
       "2  [[PDF_without_contents\\1. 법률 및 규제\\[법률_규범_특허][코...   \n",
       "3  [[PDF_without_contents\\1. 법률 및 규제\\[법률_규범_특허][인...   \n",
       "4  [[PDF_without_contents\\1. 법률 및 규제\\[법률_규범_특허][인...   \n",
       "\n",
       "                                    query  \\\n",
       "0                    자료에 나와 있는 날짜는 언제인가요?   \n",
       "1         인도에서 채식주의자의 인구비율이 높은 이유는 무엇인가요?   \n",
       "2  상표 등록이 완료된 후 기호 을을 사용할 수 있는 조건은 무엇인가요?   \n",
       "3         인증서의 정지 및 취소는 어떤 절차에 따라 이루어지나요?   \n",
       "4         불만 사항의 해결 조치는 몇 일 내에 완료되어야 하나요?   \n",
       "\n",
       "                                       generation_gt  \n",
       "0    [자료에 나와 있는 날짜는 2016년 8월 24일과 2016년 12월 30일입니다.]  \n",
       "1           [인도는 종교적 특성으로 인해 채식주의자의 인구비율이 높게 나타납니다.]  \n",
       "2  [상표 등록이 완료된 후에는 인증서에 명시된 상품 및 서비스에 대해서만 기호 을을 ...  \n",
       "3  [인증서의 정지 및 취소는 Schedule II에 명시된 적용 가능한 스킴에 따라 ...  \n",
       "4  [불만 사항의 해결 조치는 제품 테스트 시간이 포함되지 않은 경우 90일 이내에 완...  "
      ]
     },
     "execution_count": 53,
     "metadata": {},
     "output_type": "execute_result"
    }
   ],
   "source": [
    "df.head()"
   ]
  },
  {
   "cell_type": "code",
   "execution_count": 54,
   "metadata": {},
   "outputs": [
    {
     "data": {
      "text/html": [
       "<div>\n",
       "<style scoped>\n",
       "    .dataframe tbody tr th:only-of-type {\n",
       "        vertical-align: middle;\n",
       "    }\n",
       "\n",
       "    .dataframe tbody tr th {\n",
       "        vertical-align: top;\n",
       "    }\n",
       "\n",
       "    .dataframe thead th {\n",
       "        text-align: right;\n",
       "    }\n",
       "</style>\n",
       "<table border=\"1\" class=\"dataframe\">\n",
       "  <thead>\n",
       "    <tr style=\"text-align: right;\">\n",
       "      <th></th>\n",
       "      <th>qid</th>\n",
       "      <th>retrieval_gt</th>\n",
       "      <th>query</th>\n",
       "      <th>generation_gt</th>\n",
       "    </tr>\n",
       "  </thead>\n",
       "  <tbody>\n",
       "    <tr>\n",
       "      <th>73</th>\n",
       "      <td>6205c3ba-a01d-45d1-a0ba-1552dc2026f2</td>\n",
       "      <td>[[PDF_without_contents\\1. 법률 및 규제\\[법률_규범_특허][인...</td>\n",
       "      <td>월별 생산 실적을 제공해야 하는 기간은 언제인가요?</td>\n",
       "      <td>[해당 자료와 관련이 없습니다.]</td>\n",
       "    </tr>\n",
       "    <tr>\n",
       "      <th>74</th>\n",
       "      <td>e505c9a3-6128-404f-bc59-9819f81b2cf6</td>\n",
       "      <td>[[PDF_without_contents\\1. 법률 및 규제\\[법률_규범_특허][코...</td>\n",
       "      <td>인도에서 토지 취득 시 발생할 수 있는 주요 문제는 무엇인가요?</td>\n",
       "      <td>[인도에서 토지 취득 시 법적 소유권을 확립하기 어렵고, 상속 분할, 지분 매도인의...</td>\n",
       "    </tr>\n",
       "    <tr>\n",
       "      <th>75</th>\n",
       "      <td>38a4b67d-812e-45c5-8703-f552277af964</td>\n",
       "      <td>[[PDF_without_contents\\2. 경제 및 시장 분석\\[전체 정보][K...</td>\n",
       "      <td>인도에서 연락사무소를 설치하고 운영하기 위해 필요한 법률은 무엇인가요?</td>\n",
       "      <td>[인도에서 연락사무소를 설치하고 운영하기 위해 필요한 법률은 외국환관리법(Forei...</td>\n",
       "    </tr>\n",
       "    <tr>\n",
       "      <th>76</th>\n",
       "      <td>2d69c2a2-5440-4645-a4fa-1b8906f8ac1a</td>\n",
       "      <td>[[PDF_without_contents\\2. 경제 및 시장 분석\\펫산업\\[인도_펫...</td>\n",
       "      <td>Mars는 건강한 스낵을 생산하는 데 있어서 주도적인 역할을 하고 있나요?</td>\n",
       "      <td>[아니요, Mars는 건강한 스낵을 생산하는 데 있어서 주도적인 역할을 하지 않는 ...</td>\n",
       "    </tr>\n",
       "    <tr>\n",
       "      <th>77</th>\n",
       "      <td>5d4d562c-cbe1-4378-9261-5f74c56d643d</td>\n",
       "      <td>[[PDF_without_contents\\1. 법률 및 규제\\[법률_규범_특허][코...</td>\n",
       "      <td>인도에서 성공한 교육 관련 프랜차이즈 사례는 무엇인가요?</td>\n",
       "      <td>[IBT Institute Private Limited가 인도에서 성공한 교육 관련...</td>\n",
       "    </tr>\n",
       "  </tbody>\n",
       "</table>\n",
       "</div>"
      ],
      "text/plain": [
       "                                     qid  \\\n",
       "73  6205c3ba-a01d-45d1-a0ba-1552dc2026f2   \n",
       "74  e505c9a3-6128-404f-bc59-9819f81b2cf6   \n",
       "75  38a4b67d-812e-45c5-8703-f552277af964   \n",
       "76  2d69c2a2-5440-4645-a4fa-1b8906f8ac1a   \n",
       "77  5d4d562c-cbe1-4378-9261-5f74c56d643d   \n",
       "\n",
       "                                         retrieval_gt  \\\n",
       "73  [[PDF_without_contents\\1. 법률 및 규제\\[법률_규범_특허][인...   \n",
       "74  [[PDF_without_contents\\1. 법률 및 규제\\[법률_규범_특허][코...   \n",
       "75  [[PDF_without_contents\\2. 경제 및 시장 분석\\[전체 정보][K...   \n",
       "76  [[PDF_without_contents\\2. 경제 및 시장 분석\\펫산업\\[인도_펫...   \n",
       "77  [[PDF_without_contents\\1. 법률 및 규제\\[법률_규범_특허][코...   \n",
       "\n",
       "                                        query  \\\n",
       "73               월별 생산 실적을 제공해야 하는 기간은 언제인가요?   \n",
       "74        인도에서 토지 취득 시 발생할 수 있는 주요 문제는 무엇인가요?   \n",
       "75    인도에서 연락사무소를 설치하고 운영하기 위해 필요한 법률은 무엇인가요?   \n",
       "76  Mars는 건강한 스낵을 생산하는 데 있어서 주도적인 역할을 하고 있나요?   \n",
       "77            인도에서 성공한 교육 관련 프랜차이즈 사례는 무엇인가요?   \n",
       "\n",
       "                                        generation_gt  \n",
       "73                                 [해당 자료와 관련이 없습니다.]  \n",
       "74  [인도에서 토지 취득 시 법적 소유권을 확립하기 어렵고, 상속 분할, 지분 매도인의...  \n",
       "75  [인도에서 연락사무소를 설치하고 운영하기 위해 필요한 법률은 외국환관리법(Forei...  \n",
       "76  [아니요, Mars는 건강한 스낵을 생산하는 데 있어서 주도적인 역할을 하지 않는 ...  \n",
       "77  [IBT Institute Private Limited가 인도에서 성공한 교육 관련...  "
      ]
     },
     "execution_count": 54,
     "metadata": {},
     "output_type": "execute_result"
    }
   ],
   "source": [
    "df.tail()"
   ]
  },
  {
   "cell_type": "code",
   "execution_count": 55,
   "metadata": {},
   "outputs": [
    {
     "data": {
      "text/plain": [
       "array(['상표 등록이 완료된 후에는 인증서에 명시된 상품 및 서비스에 대해서만 기호 을을 사용할 수 있습니다.'],\n",
       "      dtype=object)"
      ]
     },
     "execution_count": 55,
     "metadata": {},
     "output_type": "execute_result"
    }
   ],
   "source": [
    "df['generation_gt'][2]"
   ]
  },
  {
   "cell_type": "code",
   "execution_count": 57,
   "metadata": {},
   "outputs": [
    {
     "data": {
      "text/html": [
       "<div>\n",
       "<style scoped>\n",
       "    .dataframe tbody tr th:only-of-type {\n",
       "        vertical-align: middle;\n",
       "    }\n",
       "\n",
       "    .dataframe tbody tr th {\n",
       "        vertical-align: top;\n",
       "    }\n",
       "\n",
       "    .dataframe thead th {\n",
       "        text-align: right;\n",
       "    }\n",
       "</style>\n",
       "<table border=\"1\" class=\"dataframe\">\n",
       "  <thead>\n",
       "    <tr style=\"text-align: right;\">\n",
       "      <th></th>\n",
       "      <th>qid</th>\n",
       "      <th>retrieval_gt</th>\n",
       "      <th>query</th>\n",
       "      <th>generation_gt</th>\n",
       "    </tr>\n",
       "  </thead>\n",
       "  <tbody>\n",
       "    <tr>\n",
       "      <th>0</th>\n",
       "      <td>26fc0f32-12d8-460b-b307-b335ed394fce</td>\n",
       "      <td>[[PDF_without_contents\\2. 경제 및 시장 분석\\[전체 정보][K...</td>\n",
       "      <td>인도 소비 성향</td>\n",
       "      <td>[인도 소비자들의 자연친화 제품 선호 경향 및 채식주의 특징]</td>\n",
       "    </tr>\n",
       "    <tr>\n",
       "      <th>1</th>\n",
       "      <td>b7a214ba-c32e-41e0-aae0-b19025ad622a</td>\n",
       "      <td>[[PDF_without_contents\\1. 법률 및 규제\\[법률_규범_특허][코...</td>\n",
       "      <td>상표 등록 및 브랜드 인지도</td>\n",
       "      <td>[상표 등록과 브랜드 인지도의 중요성]</td>\n",
       "    </tr>\n",
       "    <tr>\n",
       "      <th>2</th>\n",
       "      <td>0d553429-ba4f-4cb3-b0ac-bb41659e31c3</td>\n",
       "      <td>[[PDF_without_contents\\1. 법률 및 규제\\[법률_규범_특허][코...</td>\n",
       "      <td>인도 프랜차이즈</td>\n",
       "      <td>[인도 프랜차이즈 시장 진출 전략 및 성공 사례]</td>\n",
       "    </tr>\n",
       "    <tr>\n",
       "      <th>3</th>\n",
       "      <td>f6eef532-0766-4d9a-bbfe-935357e56101</td>\n",
       "      <td>[[PDF_without_contents\\2. 경제 및 시장 분석\\[전체 정보][K...</td>\n",
       "      <td>해외 은행 계좌 개설</td>\n",
       "      <td>[해외 은행 계좌 개설 방법 및 주요 은행 소개]</td>\n",
       "    </tr>\n",
       "    <tr>\n",
       "      <th>4</th>\n",
       "      <td>c6855e81-d1a7-41f7-80ca-6bee4643acb4</td>\n",
       "      <td>[[PDF_without_contents\\1. 법률 및 규제\\[법률_규범_특허][코...</td>\n",
       "      <td>인도 디지털 경제 성장 및 전자상거래 시장 확대</td>\n",
       "      <td>[인도 디지털 경제 성장과 전자상거래 시장 확대 현황]</td>\n",
       "    </tr>\n",
       "  </tbody>\n",
       "</table>\n",
       "</div>"
      ],
      "text/plain": [
       "                                    qid  \\\n",
       "0  26fc0f32-12d8-460b-b307-b335ed394fce   \n",
       "1  b7a214ba-c32e-41e0-aae0-b19025ad622a   \n",
       "2  0d553429-ba4f-4cb3-b0ac-bb41659e31c3   \n",
       "3  f6eef532-0766-4d9a-bbfe-935357e56101   \n",
       "4  c6855e81-d1a7-41f7-80ca-6bee4643acb4   \n",
       "\n",
       "                                        retrieval_gt  \\\n",
       "0  [[PDF_without_contents\\2. 경제 및 시장 분석\\[전체 정보][K...   \n",
       "1  [[PDF_without_contents\\1. 법률 및 규제\\[법률_규범_특허][코...   \n",
       "2  [[PDF_without_contents\\1. 법률 및 규제\\[법률_규범_특허][코...   \n",
       "3  [[PDF_without_contents\\2. 경제 및 시장 분석\\[전체 정보][K...   \n",
       "4  [[PDF_without_contents\\1. 법률 및 규제\\[법률_규범_특허][코...   \n",
       "\n",
       "                        query                       generation_gt  \n",
       "0                    인도 소비 성향  [인도 소비자들의 자연친화 제품 선호 경향 및 채식주의 특징]  \n",
       "1             상표 등록 및 브랜드 인지도               [상표 등록과 브랜드 인지도의 중요성]  \n",
       "2                    인도 프랜차이즈         [인도 프랜차이즈 시장 진출 전략 및 성공 사례]  \n",
       "3                 해외 은행 계좌 개설         [해외 은행 계좌 개설 방법 및 주요 은행 소개]  \n",
       "4  인도 디지털 경제 성장 및 전자상거래 시장 확대      [인도 디지털 경제 성장과 전자상거래 시장 확대 현황]  "
      ]
     },
     "execution_count": 57,
     "metadata": {},
     "output_type": "execute_result"
    }
   ],
   "source": [
    "path = './my_data/title.parquet'\n",
    "\n",
    "# make_qa.py 파일로 만듬 : 질문과 응답 쌍을 만듬 , 어떤 문서가 관련이 있는지 \n",
    "df = pd.read_parquet(path)\n",
    "\n",
    "df.head()"
   ]
  },
  {
   "cell_type": "code",
   "execution_count": 65,
   "metadata": {},
   "outputs": [
    {
     "data": {
      "text/html": [
       "<div>\n",
       "<style scoped>\n",
       "    .dataframe tbody tr th:only-of-type {\n",
       "        vertical-align: middle;\n",
       "    }\n",
       "\n",
       "    .dataframe tbody tr th {\n",
       "        vertical-align: top;\n",
       "    }\n",
       "\n",
       "    .dataframe thead th {\n",
       "        text-align: right;\n",
       "    }\n",
       "</style>\n",
       "<table border=\"1\" class=\"dataframe\">\n",
       "  <thead>\n",
       "    <tr style=\"text-align: right;\">\n",
       "      <th></th>\n",
       "      <th>qid</th>\n",
       "      <th>retrieval_gt</th>\n",
       "      <th>query</th>\n",
       "      <th>generation_gt</th>\n",
       "    </tr>\n",
       "  </thead>\n",
       "  <tbody>\n",
       "    <tr>\n",
       "      <th>0</th>\n",
       "      <td>4a5a8ce9-9765-4afd-ac45-594b790ad899</td>\n",
       "      <td>[[PDF_without_contents\\2. 경제 및 시장 분석\\[전체 정보][K...</td>\n",
       "      <td>인도 소비 성향 및 자연친화 제품 선호도</td>\n",
       "      <td>[### 인도의 소비 성향과 자연친화 제품 선호\\n\\n인도는 인구 14억 명과 다양...</td>\n",
       "    </tr>\n",
       "    <tr>\n",
       "      <th>1</th>\n",
       "      <td>e558c952-9737-413a-886e-5ea8587f25c9</td>\n",
       "      <td>[[PDF_without_contents\\1. 법률 및 규제\\[법률_규범_특허][코...</td>\n",
       "      <td>상표 등록의 중요성과 브랜드 인지도 향상</td>\n",
       "      <td>[### 1. 상표 등록의 중요성\\n해외진출을 고려하는 스타트업에게 상표 등록은 매...</td>\n",
       "    </tr>\n",
       "    <tr>\n",
       "      <th>2</th>\n",
       "      <td>c0c3b055-ac5a-404d-b85b-6986e52ec754</td>\n",
       "      <td>[[PDF_without_contents\\1. 법률 및 규제\\[법률_규범_특허][인...</td>\n",
       "      <td>인증서의 정지 및 취소 절차와 관련된 유의사항</td>\n",
       "      <td>[### 1. 인증서 정지 및 취소의 중요성\\n인증서의 정지 및 취소는 기업의 운영...</td>\n",
       "    </tr>\n",
       "    <tr>\n",
       "      <th>3</th>\n",
       "      <td>7c3d774b-0a2d-4fcb-9aef-8bd18133f6e5</td>\n",
       "      <td>[[PDF_without_contents\\1. 법률 및 규제\\[법률_규범_특허][인...</td>\n",
       "      <td>제품 적합성 인증서와 불만 처리 절차</td>\n",
       "      <td>[### 1. 제품 적합성 인증서의 중요성\\n제품 적합성 인증서는 제품이 특정 국가...</td>\n",
       "    </tr>\n",
       "    <tr>\n",
       "      <th>4</th>\n",
       "      <td>db97dc4a-3733-4cbf-b389-9c01ef4c1368</td>\n",
       "      <td>[[PDF_without_contents\\1. 법률 및 규제\\[법률_규범_특허][코...</td>\n",
       "      <td>인도 시장 진출을 위한 혁신적인 자동차 서비스 전략</td>\n",
       "      <td>[### 인도 시장 진출을 위한 혁신적인 자동차 서비스 전략\\n\\n인도는 세계에서 ...</td>\n",
       "    </tr>\n",
       "  </tbody>\n",
       "</table>\n",
       "</div>"
      ],
      "text/plain": [
       "                                    qid  \\\n",
       "0  4a5a8ce9-9765-4afd-ac45-594b790ad899   \n",
       "1  e558c952-9737-413a-886e-5ea8587f25c9   \n",
       "2  c0c3b055-ac5a-404d-b85b-6986e52ec754   \n",
       "3  7c3d774b-0a2d-4fcb-9aef-8bd18133f6e5   \n",
       "4  db97dc4a-3733-4cbf-b389-9c01ef4c1368   \n",
       "\n",
       "                                        retrieval_gt  \\\n",
       "0  [[PDF_without_contents\\2. 경제 및 시장 분석\\[전체 정보][K...   \n",
       "1  [[PDF_without_contents\\1. 법률 및 규제\\[법률_규범_특허][코...   \n",
       "2  [[PDF_without_contents\\1. 법률 및 규제\\[법률_규범_특허][인...   \n",
       "3  [[PDF_without_contents\\1. 법률 및 규제\\[법률_규범_특허][인...   \n",
       "4  [[PDF_without_contents\\1. 법률 및 규제\\[법률_규범_특허][코...   \n",
       "\n",
       "                          query  \\\n",
       "0        인도 소비 성향 및 자연친화 제품 선호도   \n",
       "1        상표 등록의 중요성과 브랜드 인지도 향상   \n",
       "2     인증서의 정지 및 취소 절차와 관련된 유의사항   \n",
       "3          제품 적합성 인증서와 불만 처리 절차   \n",
       "4  인도 시장 진출을 위한 혁신적인 자동차 서비스 전략   \n",
       "\n",
       "                                       generation_gt  \n",
       "0  [### 인도의 소비 성향과 자연친화 제품 선호\\n\\n인도는 인구 14억 명과 다양...  \n",
       "1  [### 1. 상표 등록의 중요성\\n해외진출을 고려하는 스타트업에게 상표 등록은 매...  \n",
       "2  [### 1. 인증서 정지 및 취소의 중요성\\n인증서의 정지 및 취소는 기업의 운영...  \n",
       "3  [### 1. 제품 적합성 인증서의 중요성\\n제품 적합성 인증서는 제품이 특정 국가...  \n",
       "4  [### 인도 시장 진출을 위한 혁신적인 자동차 서비스 전략\\n\\n인도는 세계에서 ...  "
      ]
     },
     "execution_count": 65,
     "metadata": {},
     "output_type": "execute_result"
    }
   ],
   "source": [
    "path = './my_data/post2.parquet'\n",
    "\n",
    "# make_qa.py 파일로 만듬 : 질문과 응답 쌍을 만듬 , 어떤 문서가 관련이 있는지 \n",
    "df = pd.read_parquet(path)\n",
    "\n",
    "df.head()"
   ]
  },
  {
   "cell_type": "code",
   "execution_count": 66,
   "metadata": {},
   "outputs": [
    {
     "data": {
      "text/html": [
       "<div>\n",
       "<style scoped>\n",
       "    .dataframe tbody tr th:only-of-type {\n",
       "        vertical-align: middle;\n",
       "    }\n",
       "\n",
       "    .dataframe tbody tr th {\n",
       "        vertical-align: top;\n",
       "    }\n",
       "\n",
       "    .dataframe thead th {\n",
       "        text-align: right;\n",
       "    }\n",
       "</style>\n",
       "<table border=\"1\" class=\"dataframe\">\n",
       "  <thead>\n",
       "    <tr style=\"text-align: right;\">\n",
       "      <th></th>\n",
       "      <th>qid</th>\n",
       "      <th>retrieval_gt</th>\n",
       "      <th>query</th>\n",
       "      <th>generation_gt</th>\n",
       "    </tr>\n",
       "  </thead>\n",
       "  <tbody>\n",
       "    <tr>\n",
       "      <th>57</th>\n",
       "      <td>80ddc131-ac12-46e0-91af-1ef1a872c57e</td>\n",
       "      <td>[[PDF_without_contents\\2. 경제 및 시장 분석\\[전체 정보][K...</td>\n",
       "      <td>해외진출을 고려하는 스타트업을 위한 근로시간 및 초과근무 관리 방안</td>\n",
       "      <td>[### 1. 근로시간 관리의 중요성\\n해외진출을 고려하는 스타트업은 현지 법규를 ...</td>\n",
       "    </tr>\n",
       "    <tr>\n",
       "      <th>58</th>\n",
       "      <td>61ff1592-e26b-4c1c-b071-0b88f0ce766b</td>\n",
       "      <td>[[PDF_without_contents\\1. 법률 및 규제\\[법률_규범_특허][코...</td>\n",
       "      <td>인도에서의 토지 취득 시 유의사항 및 법적 이슈</td>\n",
       "      <td>[### 1. 법적 소유권 확립의 어려움\\n인도에서 토지를 취득하는 과정은 법적 소...</td>\n",
       "    </tr>\n",
       "    <tr>\n",
       "      <th>59</th>\n",
       "      <td>e480ea2d-a0cf-46f7-b250-996660675b6b</td>\n",
       "      <td>[[PDF_without_contents\\2. 경제 및 시장 분석\\[전체 정보][K...</td>\n",
       "      <td>인도에서 연락사무소 설치 시 유의사항</td>\n",
       "      <td>[### 인도에서 연락사무소 설치 시 유의사항\\n\\n해외진출을 고려하는 스타트업에게...</td>\n",
       "    </tr>\n",
       "    <tr>\n",
       "      <th>60</th>\n",
       "      <td>bbaef39a-416a-4ac0-9ed1-450c85af3f6c</td>\n",
       "      <td>[[PDF_without_contents\\2. 경제 및 시장 분석\\펫산업\\[인도_펫...</td>\n",
       "      <td>건강 의식 증가와 건강 간식 시장의 변화</td>\n",
       "      <td>[### 건강 의식 증가와 건강 간식 시장의 변화\\n\\n최근 몇 년간 건강에 대한 ...</td>\n",
       "    </tr>\n",
       "    <tr>\n",
       "      <th>61</th>\n",
       "      <td>b2a52291-c76f-4ad3-9914-a3bbb68f82bf</td>\n",
       "      <td>[[PDF_without_contents\\1. 법률 및 규제\\[법률_규범_특허][코...</td>\n",
       "      <td>인도 교육 시장 진출 전략: 성공과 실패 사례 분석</td>\n",
       "      <td>[### 1. 인도 교육 시장의 잠재력\\n인도는 세계에서 두 번째로 인구가 많은 국...</td>\n",
       "    </tr>\n",
       "  </tbody>\n",
       "</table>\n",
       "</div>"
      ],
      "text/plain": [
       "                                     qid  \\\n",
       "57  80ddc131-ac12-46e0-91af-1ef1a872c57e   \n",
       "58  61ff1592-e26b-4c1c-b071-0b88f0ce766b   \n",
       "59  e480ea2d-a0cf-46f7-b250-996660675b6b   \n",
       "60  bbaef39a-416a-4ac0-9ed1-450c85af3f6c   \n",
       "61  b2a52291-c76f-4ad3-9914-a3bbb68f82bf   \n",
       "\n",
       "                                         retrieval_gt  \\\n",
       "57  [[PDF_without_contents\\2. 경제 및 시장 분석\\[전체 정보][K...   \n",
       "58  [[PDF_without_contents\\1. 법률 및 규제\\[법률_규범_특허][코...   \n",
       "59  [[PDF_without_contents\\2. 경제 및 시장 분석\\[전체 정보][K...   \n",
       "60  [[PDF_without_contents\\2. 경제 및 시장 분석\\펫산업\\[인도_펫...   \n",
       "61  [[PDF_without_contents\\1. 법률 및 규제\\[법률_규범_특허][코...   \n",
       "\n",
       "                                    query  \\\n",
       "57  해외진출을 고려하는 스타트업을 위한 근로시간 및 초과근무 관리 방안   \n",
       "58             인도에서의 토지 취득 시 유의사항 및 법적 이슈   \n",
       "59                   인도에서 연락사무소 설치 시 유의사항   \n",
       "60                 건강 의식 증가와 건강 간식 시장의 변화   \n",
       "61           인도 교육 시장 진출 전략: 성공과 실패 사례 분석   \n",
       "\n",
       "                                        generation_gt  \n",
       "57  [### 1. 근로시간 관리의 중요성\\n해외진출을 고려하는 스타트업은 현지 법규를 ...  \n",
       "58  [### 1. 법적 소유권 확립의 어려움\\n인도에서 토지를 취득하는 과정은 법적 소...  \n",
       "59  [### 인도에서 연락사무소 설치 시 유의사항\\n\\n해외진출을 고려하는 스타트업에게...  \n",
       "60  [### 건강 의식 증가와 건강 간식 시장의 변화\\n\\n최근 몇 년간 건강에 대한 ...  \n",
       "61  [### 1. 인도 교육 시장의 잠재력\\n인도는 세계에서 두 번째로 인구가 많은 국...  "
      ]
     },
     "execution_count": 66,
     "metadata": {},
     "output_type": "execute_result"
    }
   ],
   "source": [
    "df.tail()"
   ]
  },
  {
   "cell_type": "code",
   "execution_count": 67,
   "metadata": {},
   "outputs": [
    {
     "name": "stdout",
     "output_type": "stream",
     "text": [
      "### 1. 인증서 정지 및 취소의 중요성\n",
      "인증서의 정지 및 취소는 기업의 운영에 큰 영향을 미칠 수 있습니다. 특히 해외진출을 고려하는 스타트업에게 이는 중요한 사안입니다. 인증서가 정지되거나 취소될 경우, 해당 기업은 법적 문제를 겪을 수 있으며, 이는 시장 진입에 큰 장애물이 될 수 있습니다.\n",
      "\n",
      "### 2. 정지 및 취소의 원인\n",
      "인증서가 정지되거나 취소되는 주요 원인 중 하나는 규정 준수 실패입니다. 이는 제품의 품질, 안전성, 환경 기준 등을 포함할 수 있습니다. 따라서 기업은 항상 최신 규정을 준수하고, 필요한 경우 시정 조치를 신속히 취해야 합니다.\n",
      "\n",
      "### 3. 시정 조치 및 비용\n",
      "인증서가 정지되거나 취소된 경우, 기업은 시정 조치를 취하거나 관련 비용을 지불해야 할 수 있습니다. 이는 문제를 해결하고 인증서를 재발급받기 위한 필수 절차입니다. 시정 조치는 제품 개선, 추가 테스트, 서류 보완 등을 포함할 수 있습니다.\n",
      "\n",
      "### 4. 관련 규정 및 절차\n",
      "인증서의 정지 및 취소 절차는 각국의 규정에 따라 다를 수 있습니다. 예를 들어, 특정 국가에서는 Schedule II에 명시된 스키마에 따라 인증서의 정지 및 취소가 이루어질 수 있습니다. 따라서 기업은 해당 국가의 규정을 철저히 이해하고 준수해야 합니다.\n",
      "\n",
      "### 5. 예방 조치\n",
      "인증서 정지 및 취소를 예방하기 위해 기업은 정기적인 내부 감사를 실시하고, 품질 관리 시스템을 강화해야 합니다. 또한, 규제 기관과의 원활한 소통을 유지하며, 필요한 경우 전문가의 도움을 받는 것이 좋습니다.\n",
      "\n",
      "해외진출을 고려하는 스타트업은 이러한 절차와 규정을 철저히 이해하고 대비해야 합니다. 이를 통해 인증서 정지 및 취소로 인한 리스크를 최소화할 수 있습니다.\n"
     ]
    }
   ],
   "source": [
    "print(df['generation_gt'][2][0])"
   ]
  },
  {
   "cell_type": "code",
   "execution_count": 5,
   "metadata": {},
   "outputs": [
    {
     "data": {
      "text/html": [
       "<div>\n",
       "<style scoped>\n",
       "    .dataframe tbody tr th:only-of-type {\n",
       "        vertical-align: middle;\n",
       "    }\n",
       "\n",
       "    .dataframe tbody tr th {\n",
       "        vertical-align: top;\n",
       "    }\n",
       "\n",
       "    .dataframe thead th {\n",
       "        text-align: right;\n",
       "    }\n",
       "</style>\n",
       "<table border=\"1\" class=\"dataframe\">\n",
       "  <thead>\n",
       "    <tr style=\"text-align: right;\">\n",
       "      <th></th>\n",
       "      <th>doc_id</th>\n",
       "      <th>contents</th>\n",
       "      <th>metadata</th>\n",
       "    </tr>\n",
       "  </thead>\n",
       "  <tbody>\n",
       "    <tr>\n",
       "      <th>1</th>\n",
       "      <td>93842a10-86ca-46e6-846f-a5c7d99d6ffa</td>\n",
       "      <td>2023 재외공관의 해외진출기업 지원 사례집\\n2CONTENTS 분야별사례\\nⅠ 기...</td>\n",
       "      <td>{'creation_date': '2024-07-14', 'file_name': '...</td>\n",
       "    </tr>\n",
       "    <tr>\n",
       "      <th>2</th>\n",
       "      <td>9c20037a-4118-4be5-8b8d-596889fee761</td>\n",
       "      <td>3목차 ∙ 분야별 사례\\n주상파울루총영사관 우리 식품(포도맛 막걸리) 수입업체 통관...</td>\n",
       "      <td>{'creation_date': '2024-07-14', 'file_name': '...</td>\n",
       "    </tr>\n",
       "    <tr>\n",
       "      <th>3</th>\n",
       "      <td>289a33c3-2f76-421f-9028-f788d86c86b5</td>\n",
       "      <td>공사 기간 연장 요청 관련 정부 승인 지원 114\\n주칠레대사관 기업의 지분 매각 ...</td>\n",
       "      <td>{'creation_date': '2024-07-14', 'file_name': '...</td>\n",
       "    </tr>\n",
       "    <tr>\n",
       "      <th>4</th>\n",
       "      <td>333bb05e-6523-441c-a35d-b58c9a50f70c</td>\n",
       "      <td>2023 재외공관의 해외진출기업 지원 사례집\\n4주카타르대사관 카타르 고속도로 건설...</td>\n",
       "      <td>{'creation_date': '2024-07-14', 'file_name': '...</td>\n",
       "    </tr>\n",
       "    <tr>\n",
       "      <th>5</th>\n",
       "      <td>f8034de8-335d-4c50-966d-0d0495b9ee28</td>\n",
       "      <td>5목차 ∙ 분야별 사례\\nⅢ 해외시장 개척 및 조달시장 참가 지원 사례\\n주남아공대...</td>\n",
       "      <td>{'creation_date': '2024-07-14', 'file_name': '...</td>\n",
       "    </tr>\n",
       "  </tbody>\n",
       "</table>\n",
       "</div>"
      ],
      "text/plain": [
       "                                 doc_id  \\\n",
       "1  93842a10-86ca-46e6-846f-a5c7d99d6ffa   \n",
       "2  9c20037a-4118-4be5-8b8d-596889fee761   \n",
       "3  289a33c3-2f76-421f-9028-f788d86c86b5   \n",
       "4  333bb05e-6523-441c-a35d-b58c9a50f70c   \n",
       "5  f8034de8-335d-4c50-966d-0d0495b9ee28   \n",
       "\n",
       "                                            contents  \\\n",
       "1  2023 재외공관의 해외진출기업 지원 사례집\\n2CONTENTS 분야별사례\\nⅠ 기...   \n",
       "2  3목차 ∙ 분야별 사례\\n주상파울루총영사관 우리 식품(포도맛 막걸리) 수입업체 통관...   \n",
       "3  공사 기간 연장 요청 관련 정부 승인 지원 114\\n주칠레대사관 기업의 지분 매각 ...   \n",
       "4  2023 재외공관의 해외진출기업 지원 사례집\\n4주카타르대사관 카타르 고속도로 건설...   \n",
       "5  5목차 ∙ 분야별 사례\\nⅢ 해외시장 개척 및 조달시장 참가 지원 사례\\n주남아공대...   \n",
       "\n",
       "                                            metadata  \n",
       "1  {'creation_date': '2024-07-14', 'file_name': '...  \n",
       "2  {'creation_date': '2024-07-14', 'file_name': '...  \n",
       "3  {'creation_date': '2024-07-14', 'file_name': '...  \n",
       "4  {'creation_date': '2024-07-14', 'file_name': '...  \n",
       "5  {'creation_date': '2024-07-14', 'file_name': '...  "
      ]
     },
     "execution_count": 5,
     "metadata": {},
     "output_type": "execute_result"
    }
   ],
   "source": [
    "import pandas as pd \n",
    "\n",
    "path = './my_data/corpus_india.parquet'\n",
    "\n",
    "# make_qa.py 파일로 만듬 : 질문과 응답 쌍을 만듬 , 어떤 문서가 관련이 있는지 \n",
    "df = pd.read_parquet(path)\n",
    "\n",
    "df.head()"
   ]
  },
  {
   "cell_type": "code",
   "execution_count": 2,
   "metadata": {},
   "outputs": [],
   "source": [
    "df_cleaned = df[df['contents'].str.strip() != '']"
   ]
  },
  {
   "cell_type": "code",
   "execution_count": 3,
   "metadata": {},
   "outputs": [
    {
     "data": {
      "text/html": [
       "<div>\n",
       "<style scoped>\n",
       "    .dataframe tbody tr th:only-of-type {\n",
       "        vertical-align: middle;\n",
       "    }\n",
       "\n",
       "    .dataframe tbody tr th {\n",
       "        vertical-align: top;\n",
       "    }\n",
       "\n",
       "    .dataframe thead th {\n",
       "        text-align: right;\n",
       "    }\n",
       "</style>\n",
       "<table border=\"1\" class=\"dataframe\">\n",
       "  <thead>\n",
       "    <tr style=\"text-align: right;\">\n",
       "      <th></th>\n",
       "      <th>doc_id</th>\n",
       "      <th>contents</th>\n",
       "      <th>metadata</th>\n",
       "    </tr>\n",
       "  </thead>\n",
       "  <tbody>\n",
       "    <tr>\n",
       "      <th>1</th>\n",
       "      <td>93842a10-86ca-46e6-846f-a5c7d99d6ffa</td>\n",
       "      <td>2023 재외공관의 해외진출기업 지원 사례집\\n2CONTENTS 분야별사례\\nⅠ 기...</td>\n",
       "      <td>{'creation_date': '2024-07-14', 'file_name': '...</td>\n",
       "    </tr>\n",
       "    <tr>\n",
       "      <th>2</th>\n",
       "      <td>9c20037a-4118-4be5-8b8d-596889fee761</td>\n",
       "      <td>3목차 ∙ 분야별 사례\\n주상파울루총영사관 우리 식품(포도맛 막걸리) 수입업체 통관...</td>\n",
       "      <td>{'creation_date': '2024-07-14', 'file_name': '...</td>\n",
       "    </tr>\n",
       "    <tr>\n",
       "      <th>3</th>\n",
       "      <td>289a33c3-2f76-421f-9028-f788d86c86b5</td>\n",
       "      <td>공사 기간 연장 요청 관련 정부 승인 지원 114\\n주칠레대사관 기업의 지분 매각 ...</td>\n",
       "      <td>{'creation_date': '2024-07-14', 'file_name': '...</td>\n",
       "    </tr>\n",
       "    <tr>\n",
       "      <th>4</th>\n",
       "      <td>333bb05e-6523-441c-a35d-b58c9a50f70c</td>\n",
       "      <td>2023 재외공관의 해외진출기업 지원 사례집\\n4주카타르대사관 카타르 고속도로 건설...</td>\n",
       "      <td>{'creation_date': '2024-07-14', 'file_name': '...</td>\n",
       "    </tr>\n",
       "    <tr>\n",
       "      <th>5</th>\n",
       "      <td>f8034de8-335d-4c50-966d-0d0495b9ee28</td>\n",
       "      <td>5목차 ∙ 분야별 사례\\nⅢ 해외시장 개척 및 조달시장 참가 지원 사례\\n주남아공대...</td>\n",
       "      <td>{'creation_date': '2024-07-14', 'file_name': '...</td>\n",
       "    </tr>\n",
       "  </tbody>\n",
       "</table>\n",
       "</div>"
      ],
      "text/plain": [
       "                                 doc_id  \\\n",
       "1  93842a10-86ca-46e6-846f-a5c7d99d6ffa   \n",
       "2  9c20037a-4118-4be5-8b8d-596889fee761   \n",
       "3  289a33c3-2f76-421f-9028-f788d86c86b5   \n",
       "4  333bb05e-6523-441c-a35d-b58c9a50f70c   \n",
       "5  f8034de8-335d-4c50-966d-0d0495b9ee28   \n",
       "\n",
       "                                            contents  \\\n",
       "1  2023 재외공관의 해외진출기업 지원 사례집\\n2CONTENTS 분야별사례\\nⅠ 기...   \n",
       "2  3목차 ∙ 분야별 사례\\n주상파울루총영사관 우리 식품(포도맛 막걸리) 수입업체 통관...   \n",
       "3  공사 기간 연장 요청 관련 정부 승인 지원 114\\n주칠레대사관 기업의 지분 매각 ...   \n",
       "4  2023 재외공관의 해외진출기업 지원 사례집\\n4주카타르대사관 카타르 고속도로 건설...   \n",
       "5  5목차 ∙ 분야별 사례\\nⅢ 해외시장 개척 및 조달시장 참가 지원 사례\\n주남아공대...   \n",
       "\n",
       "                                            metadata  \n",
       "1  {'creation_date': '2024-07-14', 'file_name': '...  \n",
       "2  {'creation_date': '2024-07-14', 'file_name': '...  \n",
       "3  {'creation_date': '2024-07-14', 'file_name': '...  \n",
       "4  {'creation_date': '2024-07-14', 'file_name': '...  \n",
       "5  {'creation_date': '2024-07-14', 'file_name': '...  "
      ]
     },
     "execution_count": 3,
     "metadata": {},
     "output_type": "execute_result"
    }
   ],
   "source": [
    "df_cleaned.head()"
   ]
  },
  {
   "cell_type": "code",
   "execution_count": 4,
   "metadata": {},
   "outputs": [],
   "source": [
    "df_cleaned.to_parquet(path)"
   ]
  },
  {
   "cell_type": "code",
   "execution_count": 7,
   "metadata": {},
   "outputs": [
    {
     "data": {
      "text/html": [
       "<div>\n",
       "<style scoped>\n",
       "    .dataframe tbody tr th:only-of-type {\n",
       "        vertical-align: middle;\n",
       "    }\n",
       "\n",
       "    .dataframe tbody tr th {\n",
       "        vertical-align: top;\n",
       "    }\n",
       "\n",
       "    .dataframe thead th {\n",
       "        text-align: right;\n",
       "    }\n",
       "</style>\n",
       "<table border=\"1\" class=\"dataframe\">\n",
       "  <thead>\n",
       "    <tr style=\"text-align: right;\">\n",
       "      <th></th>\n",
       "      <th>qid</th>\n",
       "      <th>retrieval_gt</th>\n",
       "      <th>query</th>\n",
       "      <th>generation_gt</th>\n",
       "    </tr>\n",
       "  </thead>\n",
       "  <tbody>\n",
       "    <tr>\n",
       "      <th>0</th>\n",
       "      <td>dd68de24-ac59-47c2-880e-84b2dae6bec2</td>\n",
       "      <td>[[779abe03-708a-48c4-8185-a048d5fa9e3a]]</td>\n",
       "      <td>Flipkart는 언제 설립되었으며, 본사는 어디에 위치해 있나요?</td>\n",
       "      <td>[Flipkart는 2007년에 설립되었으며, 본사는 벵갈루루에 위치해 있습니다.]</td>\n",
       "    </tr>\n",
       "    <tr>\n",
       "      <th>1</th>\n",
       "      <td>8d4acea3-a4d6-4ef9-aa81-f17434159d79</td>\n",
       "      <td>[[ed3e04d8-5dd6-467c-8027-3a22ba0e6946]]</td>\n",
       "      <td>인도 재무부의 Notification No. 09/2020-Customs (N.T....</td>\n",
       "      <td>[2020년 2월 2일에 발표되었습니다.]</td>\n",
       "    </tr>\n",
       "    <tr>\n",
       "      <th>2</th>\n",
       "      <td>06b71e95-6538-4016-9de8-c2acc8d646d7</td>\n",
       "      <td>[[dee815f3-c1ad-4b94-80e5-890a20f41da0]]</td>\n",
       "      <td>카자흐스탄 내에서 한국 차량 브랜드의 시장 점유율은 얼마나 되나요?</td>\n",
       "      <td>[카자흐스탄 내 신차 판매에서 한국 차량 브랜드 비중이 약 40%로 1위를 기록하고...</td>\n",
       "    </tr>\n",
       "    <tr>\n",
       "      <th>3</th>\n",
       "      <td>f03cb48a-d830-478c-b26c-09d3028e4404</td>\n",
       "      <td>[[d9fe2b7e-9d85-4d65-9301-9651abd290c5]]</td>\n",
       "      <td>한전KPS가 파키스탄에서 운영 대금을 회수하지 못한 이유는 무엇인가요?</td>\n",
       "      <td>[한전KPS는 파키스탄 중앙은행(SBP)이 외화 부족 상황을 이유로 운영 대금 해외...</td>\n",
       "    </tr>\n",
       "    <tr>\n",
       "      <th>4</th>\n",
       "      <td>7c6e8e4d-af26-4c6d-ad5f-4702c34185bb</td>\n",
       "      <td>[[8d0ae51e-3555-4058-a20d-a6d30d89ccb6]]</td>\n",
       "      <td>최근 인도의 수입규제 급증 배경은 무엇인가요?</td>\n",
       "      <td>[최근 인도의 수입규제 급증은 인도의 국내 산업보호를 위한 정치적 요구와 당국의 통...</td>\n",
       "    </tr>\n",
       "  </tbody>\n",
       "</table>\n",
       "</div>"
      ],
      "text/plain": [
       "                                    qid  \\\n",
       "0  dd68de24-ac59-47c2-880e-84b2dae6bec2   \n",
       "1  8d4acea3-a4d6-4ef9-aa81-f17434159d79   \n",
       "2  06b71e95-6538-4016-9de8-c2acc8d646d7   \n",
       "3  f03cb48a-d830-478c-b26c-09d3028e4404   \n",
       "4  7c6e8e4d-af26-4c6d-ad5f-4702c34185bb   \n",
       "\n",
       "                               retrieval_gt  \\\n",
       "0  [[779abe03-708a-48c4-8185-a048d5fa9e3a]]   \n",
       "1  [[ed3e04d8-5dd6-467c-8027-3a22ba0e6946]]   \n",
       "2  [[dee815f3-c1ad-4b94-80e5-890a20f41da0]]   \n",
       "3  [[d9fe2b7e-9d85-4d65-9301-9651abd290c5]]   \n",
       "4  [[8d0ae51e-3555-4058-a20d-a6d30d89ccb6]]   \n",
       "\n",
       "                                               query  \\\n",
       "0              Flipkart는 언제 설립되었으며, 본사는 어디에 위치해 있나요?   \n",
       "1  인도 재무부의 Notification No. 09/2020-Customs (N.T....   \n",
       "2              카자흐스탄 내에서 한국 차량 브랜드의 시장 점유율은 얼마나 되나요?   \n",
       "3            한전KPS가 파키스탄에서 운영 대금을 회수하지 못한 이유는 무엇인가요?   \n",
       "4                          최근 인도의 수입규제 급증 배경은 무엇인가요?   \n",
       "\n",
       "                                       generation_gt  \n",
       "0     [Flipkart는 2007년에 설립되었으며, 본사는 벵갈루루에 위치해 있습니다.]  \n",
       "1                            [2020년 2월 2일에 발표되었습니다.]  \n",
       "2  [카자흐스탄 내 신차 판매에서 한국 차량 브랜드 비중이 약 40%로 1위를 기록하고...  \n",
       "3  [한전KPS는 파키스탄 중앙은행(SBP)이 외화 부족 상황을 이유로 운영 대금 해외...  \n",
       "4  [최근 인도의 수입규제 급증은 인도의 국내 산업보호를 위한 정치적 요구와 당국의 통...  "
      ]
     },
     "execution_count": 7,
     "metadata": {},
     "output_type": "execute_result"
    }
   ],
   "source": [
    "import pandas as pd \n",
    "\n",
    "path = './my_data/qa_india.parquet'\n",
    "\n",
    "# make_qa.py 파일로 만듬 : 질문과 응답 쌍을 만듬 , 어떤 문서가 관련이 있는지 \n",
    "df = pd.read_parquet(path)\n",
    "\n",
    "df.head()"
   ]
  },
  {
   "cell_type": "code",
   "execution_count": null,
   "metadata": {},
   "outputs": [],
   "source": []
  }
 ],
 "metadata": {
  "kernelspec": {
   "display_name": "autorag",
   "language": "python",
   "name": "python3"
  },
  "language_info": {
   "codemirror_mode": {
    "name": "ipython",
    "version": 3
   },
   "file_extension": ".py",
   "mimetype": "text/x-python",
   "name": "python",
   "nbconvert_exporter": "python",
   "pygments_lexer": "ipython3",
   "version": "3.12.4"
  }
 },
 "nbformat": 4,
 "nbformat_minor": 2
}
