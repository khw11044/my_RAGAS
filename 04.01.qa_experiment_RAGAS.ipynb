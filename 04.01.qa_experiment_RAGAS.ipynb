{
 "cells": [
  {
   "cell_type": "code",
   "execution_count": 19,
   "metadata": {},
   "outputs": [],
   "source": [
    "import pandas as pd "
   ]
  },
  {
   "cell_type": "code",
   "execution_count": 20,
   "metadata": {},
   "outputs": [
    {
     "data": {
      "text/html": [
       "<div>\n",
       "<style scoped>\n",
       "    .dataframe tbody tr th:only-of-type {\n",
       "        vertical-align: middle;\n",
       "    }\n",
       "\n",
       "    .dataframe tbody tr th {\n",
       "        vertical-align: top;\n",
       "    }\n",
       "\n",
       "    .dataframe thead th {\n",
       "        text-align: right;\n",
       "    }\n",
       "</style>\n",
       "<table border=\"1\" class=\"dataframe\">\n",
       "  <thead>\n",
       "    <tr style=\"text-align: right;\">\n",
       "      <th></th>\n",
       "      <th>question</th>\n",
       "      <th>ground_truth</th>\n",
       "      <th>answer</th>\n",
       "      <th>contexts</th>\n",
       "    </tr>\n",
       "  </thead>\n",
       "  <tbody>\n",
       "    <tr>\n",
       "      <th>0</th>\n",
       "      <td>인도에서 채식주의자의 인구 비율이 높은 이유는 무엇인가요?</td>\n",
       "      <td>인도는 종교적 특성으로 인해 자연제품을 선호하는 경향이 있으며, 이로 인해 채식주의...</td>\n",
       "      <td>인도에서 채식주의자의 인구 비율이 높은 이유는 종교적 특성과 문화적 영향이 큰 역할...</td>\n",
       "      <td>['이 높게 나타나며 종교적 특성으로 인해 자연제품을 선호하는 경향이 있다\\n 채식...</td>\n",
       "    </tr>\n",
       "    <tr>\n",
       "      <th>1</th>\n",
       "      <td>상표 등록이 완료된 후 기호 을을 사용할 수 있는 조건은 무엇인가요?</td>\n",
       "      <td>상표 등록이 완료된 후에도 인증서에 명시된 상품 및 서비스에 대해서만 기호 을을 사...</td>\n",
       "      <td>상표 등록이 완료된 후 기호 \"을\"을 사용할 수 있는 조건은 등록된 상표가 소유자의...</td>\n",
       "      <td>['원이 완료되면 기호 을 제품과 함께 사용할 수 있으며 상표 등록이 완료 후에 기...</td>\n",
       "    </tr>\n",
       "    <tr>\n",
       "      <th>2</th>\n",
       "      <td>인증서의 정지 및 취소는 어떤 절차에 따라 이루어지나요?</td>\n",
       "      <td>인증서의 정지 및 취소는 Schedule II에 명시된 적용 가능한 스킴에 따라 이...</td>\n",
       "      <td>인증서의 정지 및 취소는 일반적으로 다음과 같은 절차에 따라 이루어집니다:\\n\\n1...</td>\n",
       "      <td>['있다 wwwsafescryptcom wwwnicin wwwidrbtcaorgin...</td>\n",
       "    </tr>\n",
       "    <tr>\n",
       "      <th>3</th>\n",
       "      <td>제품의 불만 사항을 해결하는 데 걸리는 시간은 얼마인가요?</td>\n",
       "      <td>제품의 테스트 시간이 포함되지 않는 경우, 불만 사항을 해결하는 데 걸리는 시간은 ...</td>\n",
       "      <td>제품의 불만 사항을 해결하는 데 걸리는 시간은 제공된 자료에서 명확한 정보를 찾을 ...</td>\n",
       "      <td>['법인에게는 많은 이슈들이 발생할 수 있는 소지가 있다\\n 지적 재산권 보호 인도...</td>\n",
       "    </tr>\n",
       "    <tr>\n",
       "      <th>4</th>\n",
       "      <td>고메카닉(GoMechanic)의 서비스 방식은 무엇인가요?</td>\n",
       "      <td>고메카닉(GoMechanic)은 집에서 픽업 및 드롭 서비스를 통해 자동차 서비스를...</td>\n",
       "      <td>고메카닉(GoMechanic)은 집에서 픽업 및 드롭 서비스를 통해 자동차 서비스를...</td>\n",
       "      <td>['정비 및 시운전 서비스도 출장 방식으로 제공될 수 있다\\n고메카닉GoMechan...</td>\n",
       "    </tr>\n",
       "  </tbody>\n",
       "</table>\n",
       "</div>"
      ],
      "text/plain": [
       "                                 question  \\\n",
       "0        인도에서 채식주의자의 인구 비율이 높은 이유는 무엇인가요?   \n",
       "1  상표 등록이 완료된 후 기호 을을 사용할 수 있는 조건은 무엇인가요?   \n",
       "2         인증서의 정지 및 취소는 어떤 절차에 따라 이루어지나요?   \n",
       "3        제품의 불만 사항을 해결하는 데 걸리는 시간은 얼마인가요?   \n",
       "4        고메카닉(GoMechanic)의 서비스 방식은 무엇인가요?   \n",
       "\n",
       "                                        ground_truth  \\\n",
       "0  인도는 종교적 특성으로 인해 자연제품을 선호하는 경향이 있으며, 이로 인해 채식주의...   \n",
       "1  상표 등록이 완료된 후에도 인증서에 명시된 상품 및 서비스에 대해서만 기호 을을 사...   \n",
       "2  인증서의 정지 및 취소는 Schedule II에 명시된 적용 가능한 스킴에 따라 이...   \n",
       "3  제품의 테스트 시간이 포함되지 않는 경우, 불만 사항을 해결하는 데 걸리는 시간은 ...   \n",
       "4  고메카닉(GoMechanic)은 집에서 픽업 및 드롭 서비스를 통해 자동차 서비스를...   \n",
       "\n",
       "                                              answer  \\\n",
       "0  인도에서 채식주의자의 인구 비율이 높은 이유는 종교적 특성과 문화적 영향이 큰 역할...   \n",
       "1  상표 등록이 완료된 후 기호 \"을\"을 사용할 수 있는 조건은 등록된 상표가 소유자의...   \n",
       "2  인증서의 정지 및 취소는 일반적으로 다음과 같은 절차에 따라 이루어집니다:\\n\\n1...   \n",
       "3  제품의 불만 사항을 해결하는 데 걸리는 시간은 제공된 자료에서 명확한 정보를 찾을 ...   \n",
       "4  고메카닉(GoMechanic)은 집에서 픽업 및 드롭 서비스를 통해 자동차 서비스를...   \n",
       "\n",
       "                                            contexts  \n",
       "0  ['이 높게 나타나며 종교적 특성으로 인해 자연제품을 선호하는 경향이 있다\\n 채식...  \n",
       "1  ['원이 완료되면 기호 을 제품과 함께 사용할 수 있으며 상표 등록이 완료 후에 기...  \n",
       "2  ['있다 wwwsafescryptcom wwwnicin wwwidrbtcaorgin...  \n",
       "3  ['법인에게는 많은 이슈들이 발생할 수 있는 소지가 있다\\n 지적 재산권 보호 인도...  \n",
       "4  ['정비 및 시운전 서비스도 출장 방식으로 제공될 수 있다\\n고메카닉GoMechan...  "
      ]
     },
     "execution_count": 20,
     "metadata": {},
     "output_type": "execute_result"
    }
   ],
   "source": [
    "qa_data = pd.read_excel('./my_data/experiment_data.xlsx')\n",
    "\n",
    "qa_data.head()"
   ]
  },
  {
   "cell_type": "code",
   "execution_count": 21,
   "metadata": {},
   "outputs": [
    {
     "name": "stdout",
     "output_type": "stream",
     "text": [
      "8\n"
     ]
    }
   ],
   "source": [
    "print(len(qa_data))"
   ]
  },
  {
   "cell_type": "code",
   "execution_count": 22,
   "metadata": {},
   "outputs": [
    {
     "name": "stdout",
     "output_type": "stream",
     "text": [
      "<class 'pandas.core.frame.DataFrame'>\n",
      "RangeIndex: 8 entries, 0 to 7\n",
      "Data columns (total 4 columns):\n",
      " #   Column        Non-Null Count  Dtype \n",
      "---  ------        --------------  ----- \n",
      " 0   question      8 non-null      object\n",
      " 1   ground_truth  8 non-null      object\n",
      " 2   answer        8 non-null      object\n",
      " 3   contexts      8 non-null      object\n",
      "dtypes: object(4)\n",
      "memory usage: 388.0+ bytes\n"
     ]
    }
   ],
   "source": [
    "import ast\n",
    "for col in ['contexts']:\n",
    "    qa_data[col] = qa_data[col].apply(ast.literal_eval)\n",
    "\n",
    "qa_data.info()"
   ]
  },
  {
   "cell_type": "code",
   "execution_count": 23,
   "metadata": {},
   "outputs": [
    {
     "data": {
      "text/plain": [
       "{'question': '인도에서 채식주의자의 인구 비율이 높은 이유는 무엇인가요?',\n",
       " 'ground_truth': '인도는 종교적 특성으로 인해 자연제품을 선호하는 경향이 있으며, 이로 인해 채식주의자의 인구 비율이 높게 나타납니다.',\n",
       " 'answer': '인도에서 채식주의자의 인구 비율이 높은 이유는 종교적 특성과 문화적 영향이 큰 역할을 합니다. 인도는 다양한 종교가 공존하는 나라이며, 특히 힌두교와 자이나교에서는 채식이 실천되는 경우가 많습니다. 힌두교에서는 소를 신성한 동물로 여기기 때문에 소고기를 섭취하지 않는 등의 식이 규제가 있습니다. 또한, 종교적 신념과 영향으로 인해 채식주의가 보다 일반적으로 수용되고 존중받는 문화가 형성되어 있습니다.\\n\\n또한, 인도의 역사적인 배경과 전통적인 식습관도 채식주의를 지지하는 영향을 미쳤습니다. 채식주의는 건강에 이로운 것으로 인식되며, 신체적, 정신적으로 균형을 이루는 것으로 여겨지기도 합니다. 이러한 이유들로 인도에서는 채식주의자의 인구 비율이 높게 나타나는 것으로 보고되고 있습니다.',\n",
       " 'contexts': ['이 높게 나타나며 종교적 특성으로 인해 자연제품을 선호하는 경향이 있다\\n 채식주의\\n 인도정부2014에 따르면 인도 내 채식주의자의 비중은 2885이며 나머지는 비 채식주의자로 조사되었다 채식주의자 비중의 지\\n역별 편차가 있어 탈렝가나 주의 경우 비 채식주의자의 비중이 987에 이르며 웨스트벵갈 9855 오디샤 9735 케랄라 97\\n등 주요 동부와 남부 지역에 위치한 지역의 비 채식주의자 비중이 높게 나타났다',\n",
       "  '소비 성향\\n1 자연친화 제품 소비 경향\\n인도는 14억의 인구와 28개 주와 8개 연방 직할지로 구성된 거대 국가이며 공식 언어만 23개에 이르는 등 계층별 지역별 구분이 뚜렷하\\n기 때문에 몇 가지 특징으로 인도 전체 소비자의 성향을 재단하기는 매우 어렵다 다만 타 국가와 비교해 봤을 때 채식주의자의 인구비율\\n이 높게 나타나며 종교적 특성으로 인해 자연제품을 선호하는 경향이 있다\\n 채식주의',\n",
       "  '적 진입 장벽이 존재한다\\n인도의 종교는 힌두교 798 이슬람교 142 기독교개신교천주교 23 시크교\\n17 불교 07 자이나교 04 기타 09 비율로 구성되어 있다 각 종교마다 금기시\\n되는 사항들이 있는데 인도에서 프랜차이즈 사업을 할 경우 유념해두어야 한다 힌두교 시\\n크교 불교 자이나교는 육류 중 닭고기만을 섭취하며 다른 고기류는 먹지 않는다 특히\\n소는 힌두교의 신 중 시바신이 타고 다니는 신성한 가축으로 여겼기 때문에 많은 사람들',\n",
       "  '갖출 수 있는 지역으로의 진출도 고려할 만하다\\n이 까닭에 노동집약적 저임금을 기반으로 하는 업종으로 인도로 진출한다는 것은 그다지 바람직\\n하지 않다 인적 요소가 기업활동에서 차지하는 비중이 큰 분야일 수록 교육과 훈련 그리고 고용\\n유지에 대한 전략이 충분히 검토되어야 한다 그럼에도 불구하고 전반적 인도 인건비 수준은 한국과\\n비교하여서는 상대적으로 많이 낮은 편이다 다만 인구가 1억 명에도 미치지 못하는 베트남 등과\\n비교하여서 14억 인도의 인건비가 낮지 않은 수준이라는 것은 시사하는 바가 크다',\n",
       "  '반드시 필요하다 인구 많은 인도에서 공장 자동화에 많은 투자가 있는 것은 제품의 고품질\\n생산촉구에도 관계되겠지만 다른 이유로는 인력에 대한 의존도를 낮추려는 목적도 엄연하다\\n인력 수급과 인건비는 지역별로 편차가 크다 인건비 조사는 일반적인 조사 통계를 인용하기보다\\n는 진출하고자 하는 특정 지역을 중심으로 깊이 있게 행하여야 한다 산업 T1지역과 T2지역에서\\n의 인건비 편차가 적지 않기 때문이다 굳이 대도시에서 활동해야 할 업종이 아니라면 경쟁력을\\n갖출 수 있는 지역으로의 진출도 고려할 만하다']}"
      ]
     },
     "execution_count": 23,
     "metadata": {},
     "output_type": "execute_result"
    }
   ],
   "source": [
    "from datasets import Dataset \n",
    "\n",
    "dataset = Dataset.from_pandas(qa_data)\n",
    "\n",
    "dataset[0]"
   ]
  },
  {
   "cell_type": "code",
   "execution_count": 24,
   "metadata": {},
   "outputs": [],
   "source": [
    "from ragas.metrics import (\n",
    "    faithfulness,\n",
    "    answer_relevancy,\n",
    "    context_recall,\n",
    "    context_precision,\n",
    ")"
   ]
  },
  {
   "cell_type": "code",
   "execution_count": 25,
   "metadata": {},
   "outputs": [],
   "source": [
    "import nest_asyncio         # nest_asyncio는 파이썬의 비동기 코드 실행을 도와주는 패키지\n",
    "nest_asyncio.apply()        # Jupyter 노트북과 같이 이벤트 루프가 이미 실행 중인 환경에서 비동기 코드를 여러 번 실행할 수 있도록 설정하는 데 사용\n",
    "# 이거 안하면 무조건 에러남 "
   ]
  },
  {
   "cell_type": "code",
   "execution_count": 26,
   "metadata": {},
   "outputs": [],
   "source": [
    "metrics = [\n",
    "        faithfulness,\n",
    "        answer_relevancy,\n",
    "        context_recall,\n",
    "        context_precision,\n",
    "    ]"
   ]
  },
  {
   "cell_type": "code",
   "execution_count": 27,
   "metadata": {},
   "outputs": [
    {
     "data": {
      "application/vnd.jupyter.widget-view+json": {
       "model_id": "269ab336082943858c6df968507cad6a",
       "version_major": 2,
       "version_minor": 0
      },
      "text/plain": [
       "Evaluating:   0%|          | 0/32 [00:00<?, ?it/s]"
      ]
     },
     "metadata": {},
     "output_type": "display_data"
    },
    {
     "name": "stderr",
     "output_type": "stream",
     "text": [
      "Failed to parse output. Returning None.\n",
      "Failed to parse output. Returning None.\n",
      "Failed to parse output. Returning None.\n"
     ]
    }
   ],
   "source": [
    "from ragas import evaluate\n",
    "\n",
    "result = evaluate(\n",
    "    dataset,\n",
    "    metrics=metrics,\n",
    "    raise_exceptions=False  # Add this line\n",
    ")"
   ]
  },
  {
   "cell_type": "code",
   "execution_count": 11,
   "metadata": {},
   "outputs": [
    {
     "data": {
      "text/plain": [
       "{'faithfulness': 0.4654, 'answer_relevancy': 0.5997, 'context_recall': 0.5235, 'context_precision': 0.6868}"
      ]
     },
     "execution_count": 11,
     "metadata": {},
     "output_type": "execute_result"
    }
   ],
   "source": [
    "result"
   ]
  },
  {
   "cell_type": "code",
   "execution_count": 28,
   "metadata": {},
   "outputs": [
    {
     "data": {
      "text/html": [
       "<div>\n",
       "<style scoped>\n",
       "    .dataframe tbody tr th:only-of-type {\n",
       "        vertical-align: middle;\n",
       "    }\n",
       "\n",
       "    .dataframe tbody tr th {\n",
       "        vertical-align: top;\n",
       "    }\n",
       "\n",
       "    .dataframe thead th {\n",
       "        text-align: right;\n",
       "    }\n",
       "</style>\n",
       "<table border=\"1\" class=\"dataframe\">\n",
       "  <thead>\n",
       "    <tr style=\"text-align: right;\">\n",
       "      <th></th>\n",
       "      <th>Metric</th>\n",
       "      <th>setting1</th>\n",
       "    </tr>\n",
       "  </thead>\n",
       "  <tbody>\n",
       "    <tr>\n",
       "      <th>0</th>\n",
       "      <td>faithfulness</td>\n",
       "      <td>0.477778</td>\n",
       "    </tr>\n",
       "    <tr>\n",
       "      <th>1</th>\n",
       "      <td>answer_relevancy</td>\n",
       "      <td>0.728241</td>\n",
       "    </tr>\n",
       "    <tr>\n",
       "      <th>2</th>\n",
       "      <td>context_recall</td>\n",
       "      <td>0.625000</td>\n",
       "    </tr>\n",
       "    <tr>\n",
       "      <th>3</th>\n",
       "      <td>context_precision</td>\n",
       "      <td>0.615104</td>\n",
       "    </tr>\n",
       "  </tbody>\n",
       "</table>\n",
       "</div>"
      ],
      "text/plain": [
       "              Metric  setting1\n",
       "0       faithfulness  0.477778\n",
       "1   answer_relevancy  0.728241\n",
       "2     context_recall  0.625000\n",
       "3  context_precision  0.615104"
      ]
     },
     "execution_count": 28,
     "metadata": {},
     "output_type": "execute_result"
    }
   ],
   "source": [
    "df1 = pd.DataFrame(list(result.items()), columns=['Metric', 'setting1'])\n",
    "\n",
    "df1"
   ]
  },
  {
   "cell_type": "code",
   "execution_count": null,
   "metadata": {},
   "outputs": [],
   "source": []
  }
 ],
 "metadata": {
  "kernelspec": {
   "display_name": "AUTORAG",
   "language": "python",
   "name": "python3"
  },
  "language_info": {
   "codemirror_mode": {
    "name": "ipython",
    "version": 3
   },
   "file_extension": ".py",
   "mimetype": "text/x-python",
   "name": "python",
   "nbconvert_exporter": "python",
   "pygments_lexer": "ipython3",
   "version": "3.12.4"
  }
 },
 "nbformat": 4,
 "nbformat_minor": 2
}
