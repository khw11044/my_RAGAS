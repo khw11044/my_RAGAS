{
 "cells": [
  {
   "cell_type": "code",
   "execution_count": 20,
   "metadata": {},
   "outputs": [],
   "source": [
    "import pandas as pd "
   ]
  },
  {
   "cell_type": "markdown",
   "metadata": {},
   "source": [
    "## 만든 QA 질문-답변정답 데이터셋 불러오기"
   ]
  },
  {
   "cell_type": "code",
   "execution_count": 21,
   "metadata": {},
   "outputs": [
    {
     "data": {
      "text/html": [
       "<div>\n",
       "<style scoped>\n",
       "    .dataframe tbody tr th:only-of-type {\n",
       "        vertical-align: middle;\n",
       "    }\n",
       "\n",
       "    .dataframe tbody tr th {\n",
       "        vertical-align: top;\n",
       "    }\n",
       "\n",
       "    .dataframe thead th {\n",
       "        text-align: right;\n",
       "    }\n",
       "</style>\n",
       "<table border=\"1\" class=\"dataframe\">\n",
       "  <thead>\n",
       "    <tr style=\"text-align: right;\">\n",
       "      <th></th>\n",
       "      <th>question</th>\n",
       "      <th>ground_truth</th>\n",
       "    </tr>\n",
       "  </thead>\n",
       "  <tbody>\n",
       "    <tr>\n",
       "      <th>0</th>\n",
       "      <td>Flipkart는 언제 설립되었으며, 본사는 어디에 위치해 있나요?</td>\n",
       "      <td>Flipkart는 2007년에 설립되었으며, 본사는 벵갈루루에 위치해 있습니다.</td>\n",
       "    </tr>\n",
       "    <tr>\n",
       "      <th>1</th>\n",
       "      <td>인도 재무부의 Notification No. 09/2020-Customs (N.T....</td>\n",
       "      <td>2020년 2월 2일에 발표되었습니다.</td>\n",
       "    </tr>\n",
       "    <tr>\n",
       "      <th>2</th>\n",
       "      <td>카자흐스탄 내에서 한국 차량 브랜드의 시장 점유율은 얼마나 되나요?</td>\n",
       "      <td>카자흐스탄 내 신차 판매에서 한국 차량 브랜드 비중이 약 40%로 1위를 기록하고 ...</td>\n",
       "    </tr>\n",
       "    <tr>\n",
       "      <th>3</th>\n",
       "      <td>한전KPS가 파키스탄에서 운영 대금을 회수하지 못한 이유는 무엇인가요?</td>\n",
       "      <td>한전KPS는 파키스탄 중앙은행(SBP)이 외화 부족 상황을 이유로 운영 대금 해외송...</td>\n",
       "    </tr>\n",
       "    <tr>\n",
       "      <th>4</th>\n",
       "      <td>최근 인도의 수입규제 급증 배경은 무엇인가요?</td>\n",
       "      <td>최근 인도의 수입규제 급증은 인도의 국내 산업보호를 위한 정치적 요구와 당국의 통상...</td>\n",
       "    </tr>\n",
       "  </tbody>\n",
       "</table>\n",
       "</div>"
      ],
      "text/plain": [
       "                                            question  \\\n",
       "0              Flipkart는 언제 설립되었으며, 본사는 어디에 위치해 있나요?   \n",
       "1  인도 재무부의 Notification No. 09/2020-Customs (N.T....   \n",
       "2              카자흐스탄 내에서 한국 차량 브랜드의 시장 점유율은 얼마나 되나요?   \n",
       "3            한전KPS가 파키스탄에서 운영 대금을 회수하지 못한 이유는 무엇인가요?   \n",
       "4                          최근 인도의 수입규제 급증 배경은 무엇인가요?   \n",
       "\n",
       "                                        ground_truth  \n",
       "0       Flipkart는 2007년에 설립되었으며, 본사는 벵갈루루에 위치해 있습니다.  \n",
       "1                              2020년 2월 2일에 발표되었습니다.  \n",
       "2  카자흐스탄 내 신차 판매에서 한국 차량 브랜드 비중이 약 40%로 1위를 기록하고 ...  \n",
       "3  한전KPS는 파키스탄 중앙은행(SBP)이 외화 부족 상황을 이유로 운영 대금 해외송...  \n",
       "4  최근 인도의 수입규제 급증은 인도의 국내 산업보호를 위한 정치적 요구와 당국의 통상...  "
      ]
     },
     "execution_count": 21,
     "metadata": {},
     "output_type": "execute_result"
    }
   ],
   "source": [
    "qa_data = pd.read_excel('./experiment_dataset/qa_data_india.xlsx')\n",
    "\n",
    "qa_data.head()"
   ]
  },
  {
   "cell_type": "code",
   "execution_count": 22,
   "metadata": {},
   "outputs": [
    {
     "name": "stdout",
     "output_type": "stream",
     "text": [
      "10\n"
     ]
    }
   ],
   "source": [
    "print(len(qa_data))"
   ]
  },
  {
   "cell_type": "markdown",
   "metadata": {},
   "source": [
    "### 실험을 위한 RAG chain "
   ]
  },
  {
   "cell_type": "code",
   "execution_count": 23,
   "metadata": {},
   "outputs": [
    {
     "name": "stdout",
     "output_type": "stream",
     "text": [
      "[초기화] vector_store 초기화 완료\n",
      "[초기화] retriever 초기화 완료\n",
      "[초기화] RAG chain 초기화 완료\n",
      "[초기화] RAG title chain 초기화 완료\n",
      "[초기화] RAG post chain 초기화 완료\n",
      "[초기화] vector_store 초기화 완료\n"
     ]
    }
   ],
   "source": [
    "from utils.RAGPipeLine import Ragpipeline\n",
    "pipeline = Ragpipeline()\n",
    "VectorDB = pipeline.init_vectorDB()"
   ]
  },
  {
   "cell_type": "code",
   "execution_count": 24,
   "metadata": {},
   "outputs": [],
   "source": [
    "retriever1 = VectorDB.as_retriever(\n",
    "            search_kwargs = {\"k\": 3},\n",
    "            search_type   = \"similarity\"\n",
    "        )\n",
    "\n",
    "retriever2 = VectorDB.as_retriever(\n",
    "            search_kwargs = {\"k\": 3},\n",
    "            search_type   = \"mmr\"\n",
    "        )\n",
    "\n",
    "# basic_retriever = pipeline.init_retriever()\n",
    "basic_retriever = VectorDB.as_retriever(\n",
    "            search_kwargs = {\"score_threshold\": 0.5, \"k\": 3},\n",
    "            search_type   = \"similarity_score_threshold\"\n",
    "        )\n",
    "\n",
    "mq_retriever = pipeline.init_multi_query_retriever()\n",
    "sq_retriever = pipeline.init_self_query_retriever()\n",
    "pd_retriever  = pipeline.init_parent_document_retriever()\n",
    "web_retriever = pipeline.init_web_research_retriever()"
   ]
  },
  {
   "cell_type": "code",
   "execution_count": 25,
   "metadata": {},
   "outputs": [
    {
     "name": "stdout",
     "output_type": "stream",
     "text": [
      "```json\n",
      "{\n",
      "    \"query\": \"인도 통관 및 운송\",\n",
      "    \"filter\": \"NO_FILTER\"\n",
      "}\n",
      "```"
     ]
    },
    {
     "data": {
      "text/plain": [
       "[Document(page_content='제Ⅲ절\\n인도의 통관 절차\\n01\\n통관 조직 및 절차\\n', metadata={'category': '3. 정책 및 무역', 'datetimes': '2024-07-08 16:42:32', 'filename': 'data/PDF_with_contents/3. 정책 및 무역/[정책][관세청][2019.11.07]신남방국 통관·통상환경 및 FTA 활용방안.pdf', 'page_no': 9, 'subcategory': '1. 통관 조직 및 절차'}),\n",
       " Document(page_content='인도 전문 식품수입 벤더현황\\n다. 통관 및 검역 유의사항\\n(1) 인도 통관, 사전 준비가 관건\\n▪\\n인도의 통관은 수입 통관 및 검역을 위한 사전 준비 절차가 중요함\\n▪\\n통관에 필요한 서류를 제출하면 서류의 기재 오류나 서류 상호간 불일치를\\n수정하기가 매우 어려우며 이로 인해 통관 절차가 2~3주씩 지연되는 경우도\\n있어 철저한 서류 작성이 필수적임\\n▪\\n또한 인도로 수출하는 물품의 경우 포장명세서(P/L)와 상업송장(C/I)을\\n컨테이너별로 철저히 작성해야 함. 인도 세관은 한 컨테이너 안에서 박스별로\\n화물의 일치 여부를 조사하는 등 실물 검사가 철저하며 서류와 화물 불일치\\n시 통관이 불가능함\\n▪\\n특히 인도는 도로와 항만 등 인프라가 낙후되어 있고 운송수단도 노후하기\\n때문에 내륙운송 과정에서 사고가 자주 발생하므로 내륙운송보험에 가입해야\\n함\\n43\\n', metadata={'category': '3. 정책 및 무역', 'datetimes': '2024-07-08 16:41:51', 'filename': 'data/PDF_with_contents/3. 정책 및 무역/[정책][KATI 농식품수출정보][2019]인도 전문 식품수입.pdf', 'page_no': 21, 'subcategory': '다. 통관 및 검역 유의사항'}),\n",
       " Document(page_content='5 통관 및 운송\\n가 통관제도\\n통관 유형별 절차\\n1 정식통관\\n인도에서 일반적인 경우 통관에 소요되는 시간은 행정상 운송 수입의 경우 34 근무일 항공 운송은 약 12 근무일이 소요된다 일단 물\\n품이 입항하게 되면 보세구역장치에 적하되고 이후 전자데이터 교환EDI 신고 또는 수작업신고 통해 수입신고를 하게 된다 이후 인도\\n관세청의 수입요건 관세 평가 등을 검사하는 Appraiser Section과 관련 서류 및 관세율을 재점검하는 Audit Section 과정을 거치게 되', metadata={'chunk': 0, 'filename': 'data/PDF_without_contents\\\\3. 정책 및 무역\\\\[정책][제약산업정보포털][2019.04.08]인도 통관 및 운송.pdf', 'keyword': '키워드: 통관제도, 통관 유형별 절차, 인도, 통관 소요 시간, 행정상 운송, 항공 운송, 수입신고, 인도 관세청, Appraiser Section, Audit Section.'}),\n",
       " Document(page_content='제Ⅲ절\\n인도의 통관 절차\\n03\\n인도의\\n주요 인증 제도\\n', metadata={'category': '3. 정책 및 무역', 'datetimes': '2024-07-08 16:42:32', 'filename': 'data/PDF_with_contents/3. 정책 및 무역/[정책][관세청][2019.11.07]신남방국 통관·통상환경 및 FTA 활용방안.pdf', 'page_no': 11, 'subcategory': '3. 인도의 주요 인증 제도'})]"
      ]
     },
     "execution_count": 25,
     "metadata": {},
     "output_type": "execute_result"
    }
   ],
   "source": [
    "query = '인도 통관 및 운송'\n",
    "\n",
    "docs = sq_retriever.get_relevant_documents(query)\n",
    "\n",
    "docs"
   ]
  },
  {
   "cell_type": "code",
   "execution_count": 26,
   "metadata": {},
   "outputs": [],
   "source": [
    "from langchain_openai import ChatOpenAI, OpenAIEmbeddings\n",
    "\n",
    "from utils.config import config\n",
    "our_llm = ChatOpenAI(\n",
    "            model       = \"gpt-4o\", # config['llm_predictor']['model_name'],\n",
    "            temperature = config['llm_predictor']['temperature'],\n",
    "\n",
    "        )"
   ]
  },
  {
   "cell_type": "code",
   "execution_count": 27,
   "metadata": {},
   "outputs": [],
   "source": [
    "from langchain.chains.combine_documents import create_stuff_documents_chain\n",
    "from langchain.chains import create_retrieval_chain\n",
    "from utils.prompt import qa_prompt2    \n",
    "\n",
    "def set_chain(llm, retriever, prompt):\n",
    "    \n",
    "    question_answer_chain = create_stuff_documents_chain(llm, prompt)           # 문서 목록을 가져와서 모두 프롬프트로 포맷한 다음 해당 프롬프트를 LLM에 전달합니다.\n",
    "    \n",
    "    rag_chat_chain = create_retrieval_chain(retriever, question_answer_chain)  # 사용자 문의를 받아 리트리버로 전달하여 관련 문서를 가져옵니다. 그런 다음 해당 문서(및 원본 입력)는 LLM으로 전달되어 응답을 생성\n",
    "\n",
    "    return rag_chat_chain\n",
    "\n",
    "\n",
    "def start_experiment_and_save(qa_data, llm, retriever, prompt):\n",
    "    rag_chain = set_chain(llm, retriever, prompt)\n",
    "    \n",
    "    qa_data['answer'] = qa_data['question'].apply(lambda x: rag_chain.invoke({'input':x})['answer'])\n",
    "    qa_data['contexts'] = qa_data['question'].apply(lambda x: [d.page_content for d in retriever.get_relevant_documents(x)])\n",
    "    # 5분 걸림\n",
    "    return qa_data"
   ]
  },
  {
   "cell_type": "code",
   "execution_count": 28,
   "metadata": {},
   "outputs": [],
   "source": [
    "# setting1 \n",
    "retriever1 = VectorDB.as_retriever(\n",
    "            search_kwargs = {\"k\": 3},\n",
    "            search_type   = \"similarity\"\n",
    "        )\n",
    "\n",
    "results = start_experiment_and_save(qa_data, our_llm, retriever1, qa_prompt2)"
   ]
  },
  {
   "cell_type": "code",
   "execution_count": 29,
   "metadata": {},
   "outputs": [
    {
     "data": {
      "text/html": [
       "<div>\n",
       "<style scoped>\n",
       "    .dataframe tbody tr th:only-of-type {\n",
       "        vertical-align: middle;\n",
       "    }\n",
       "\n",
       "    .dataframe tbody tr th {\n",
       "        vertical-align: top;\n",
       "    }\n",
       "\n",
       "    .dataframe thead th {\n",
       "        text-align: right;\n",
       "    }\n",
       "</style>\n",
       "<table border=\"1\" class=\"dataframe\">\n",
       "  <thead>\n",
       "    <tr style=\"text-align: right;\">\n",
       "      <th></th>\n",
       "      <th>question</th>\n",
       "      <th>ground_truth</th>\n",
       "      <th>answer</th>\n",
       "      <th>contexts</th>\n",
       "    </tr>\n",
       "  </thead>\n",
       "  <tbody>\n",
       "    <tr>\n",
       "      <th>0</th>\n",
       "      <td>Flipkart는 언제 설립되었으며, 본사는 어디에 위치해 있나요?</td>\n",
       "      <td>Flipkart는 2007년에 설립되었으며, 본사는 벵갈루루에 위치해 있습니다.</td>\n",
       "      <td>Flipkart는 2007년 10월에 설립되었으며, 본사는 인도 벵갈루루에 위치해 ...</td>\n",
       "      <td>[Flipkart\\n사이트 주소 httpswwwflipkartcom\\n플립카트Fli...</td>\n",
       "    </tr>\n",
       "    <tr>\n",
       "      <th>1</th>\n",
       "      <td>인도 재무부의 Notification No. 09/2020-Customs (N.T....</td>\n",
       "      <td>2020년 2월 2일에 발표되었습니다.</td>\n",
       "      <td>인도 재무부의 Notification No. 09/2020-Customs (N.T....</td>\n",
       "      <td>[08\\n2 인도의 무역구제규정 개정\\n인도 재무부는 2020년 2월 2일자로 반덤...</td>\n",
       "    </tr>\n",
       "    <tr>\n",
       "      <th>2</th>\n",
       "      <td>카자흐스탄 내에서 한국 차량 브랜드의 시장 점유율은 얼마나 되나요?</td>\n",
       "      <td>카자흐스탄 내 신차 판매에서 한국 차량 브랜드 비중이 약 40%로 1위를 기록하고 ...</td>\n",
       "      <td>제공된 자료에는 카자흐스탄 내에서 한국 차량 브랜드의 시장 점유율에 대한 정보가 포...</td>\n",
       "      <td>[차이즈의 성공률을 높일 수 있을 것으로 예상되기 때문이다\\n2 빠른 시승 및 유지...</td>\n",
       "    </tr>\n",
       "    <tr>\n",
       "      <th>3</th>\n",
       "      <td>한전KPS가 파키스탄에서 운영 대금을 회수하지 못한 이유는 무엇인가요?</td>\n",
       "      <td>한전KPS는 파키스탄 중앙은행(SBP)이 외화 부족 상황을 이유로 운영 대금 해외송...</td>\n",
       "      <td>제공된 자료에는 한전KPS가 파키스탄에서 운영 대금을 회수하지 못한 구체적인 이유에...</td>\n",
       "      <td>[여기서 발생한 비용을 어디까지 포함시킬 수 있을 것이냐는 얼마든지 논의 가능한\\n...</td>\n",
       "    </tr>\n",
       "    <tr>\n",
       "      <th>4</th>\n",
       "      <td>최근 인도의 수입규제 급증 배경은 무엇인가요?</td>\n",
       "      <td>최근 인도의 수입규제 급증은 인도의 국내 산업보호를 위한 정치적 요구와 당국의 통상...</td>\n",
       "      <td>최근 인도의 수입규제 급증 배경은 여러 가지 요인에 기인합니다. 주요 배경은 다음과...</td>\n",
       "      <td>[상반기 수출은 2078억 달러로 전년 동기 대비 127 감소 수입은 3202억 달...</td>\n",
       "    </tr>\n",
       "  </tbody>\n",
       "</table>\n",
       "</div>"
      ],
      "text/plain": [
       "                                            question  \\\n",
       "0              Flipkart는 언제 설립되었으며, 본사는 어디에 위치해 있나요?   \n",
       "1  인도 재무부의 Notification No. 09/2020-Customs (N.T....   \n",
       "2              카자흐스탄 내에서 한국 차량 브랜드의 시장 점유율은 얼마나 되나요?   \n",
       "3            한전KPS가 파키스탄에서 운영 대금을 회수하지 못한 이유는 무엇인가요?   \n",
       "4                          최근 인도의 수입규제 급증 배경은 무엇인가요?   \n",
       "\n",
       "                                        ground_truth  \\\n",
       "0       Flipkart는 2007년에 설립되었으며, 본사는 벵갈루루에 위치해 있습니다.   \n",
       "1                              2020년 2월 2일에 발표되었습니다.   \n",
       "2  카자흐스탄 내 신차 판매에서 한국 차량 브랜드 비중이 약 40%로 1위를 기록하고 ...   \n",
       "3  한전KPS는 파키스탄 중앙은행(SBP)이 외화 부족 상황을 이유로 운영 대금 해외송...   \n",
       "4  최근 인도의 수입규제 급증은 인도의 국내 산업보호를 위한 정치적 요구와 당국의 통상...   \n",
       "\n",
       "                                              answer  \\\n",
       "0  Flipkart는 2007년 10월에 설립되었으며, 본사는 인도 벵갈루루에 위치해 ...   \n",
       "1  인도 재무부의 Notification No. 09/2020-Customs (N.T....   \n",
       "2  제공된 자료에는 카자흐스탄 내에서 한국 차량 브랜드의 시장 점유율에 대한 정보가 포...   \n",
       "3  제공된 자료에는 한전KPS가 파키스탄에서 운영 대금을 회수하지 못한 구체적인 이유에...   \n",
       "4  최근 인도의 수입규제 급증 배경은 여러 가지 요인에 기인합니다. 주요 배경은 다음과...   \n",
       "\n",
       "                                            contexts  \n",
       "0  [Flipkart\\n사이트 주소 httpswwwflipkartcom\\n플립카트Fli...  \n",
       "1  [08\\n2 인도의 무역구제규정 개정\\n인도 재무부는 2020년 2월 2일자로 반덤...  \n",
       "2  [차이즈의 성공률을 높일 수 있을 것으로 예상되기 때문이다\\n2 빠른 시승 및 유지...  \n",
       "3  [여기서 발생한 비용을 어디까지 포함시킬 수 있을 것이냐는 얼마든지 논의 가능한\\n...  \n",
       "4  [상반기 수출은 2078억 달러로 전년 동기 대비 127 감소 수입은 3202억 달...  "
      ]
     },
     "execution_count": 29,
     "metadata": {},
     "output_type": "execute_result"
    }
   ],
   "source": [
    "results.head()"
   ]
  },
  {
   "cell_type": "code",
   "execution_count": 31,
   "metadata": {},
   "outputs": [],
   "source": [
    "results.to_excel('./experiment_dataset/QA/setting1_retriever1_003.xlsx', index=False)"
   ]
  },
  {
   "cell_type": "markdown",
   "metadata": {},
   "source": [
    "### 반복"
   ]
  },
  {
   "cell_type": "code",
   "execution_count": 32,
   "metadata": {},
   "outputs": [
    {
     "name": "stdout",
     "output_type": "stream",
     "text": [
      "3\n",
      "5\n",
      "7\n",
      "10\n"
     ]
    }
   ],
   "source": [
    "for i in [3,5,7,10]:\n",
    "    # setting1 \n",
    "    retriever1 = VectorDB.as_retriever(\n",
    "                search_kwargs = {\"k\": i},\n",
    "                search_type   = \"similarity\"\n",
    "            )\n",
    "\n",
    "    results = start_experiment_and_save(qa_data, our_llm, retriever1, qa_prompt2)\n",
    "    results.to_excel('./experiment_dataset/QA/setting1_retriever1_{:03d}.xlsx'.format(i), index=False)\n",
    "    print(i)"
   ]
  },
  {
   "cell_type": "markdown",
   "metadata": {},
   "source": [
    "### 2.retriever2 실험"
   ]
  },
  {
   "cell_type": "code",
   "execution_count": 33,
   "metadata": {},
   "outputs": [
    {
     "name": "stdout",
     "output_type": "stream",
     "text": [
      "3\n",
      "5\n",
      "7\n",
      "10\n"
     ]
    }
   ],
   "source": [
    "for i in [3,5,7,10]:\n",
    "    # setting2\n",
    "    retriever2 = VectorDB.as_retriever(\n",
    "            search_kwargs = {\"k\": i},\n",
    "            search_type   = \"mmr\"\n",
    "        )\n",
    "\n",
    "    results = start_experiment_and_save(qa_data, our_llm, retriever2, qa_prompt2)\n",
    "    results.to_excel('./experiment_dataset/QA/setting2_retriever2_{:03d}.xlsx'.format(i), index=False)\n",
    "    print(i)"
   ]
  },
  {
   "cell_type": "markdown",
   "metadata": {},
   "source": [
    "### 3. mmr - lambda_mult"
   ]
  },
  {
   "cell_type": "code",
   "execution_count": 34,
   "metadata": {},
   "outputs": [
    {
     "name": "stdout",
     "output_type": "stream",
     "text": [
      "3 1\n",
      "3 2\n",
      "3 3\n",
      "3 4\n",
      "3 5\n",
      "3 6\n",
      "3 7\n",
      "5 1\n",
      "5 2\n",
      "5 3\n",
      "5 4\n",
      "5 5\n",
      "5 6\n",
      "5 7\n",
      "7 1\n",
      "7 2\n",
      "7 3\n",
      "7 4\n",
      "7 5\n",
      "7 6\n",
      "7 7\n",
      "10 1\n",
      "10 2\n",
      "10 3\n",
      "10 4\n",
      "10 5\n",
      "10 6\n",
      "10 7\n"
     ]
    }
   ],
   "source": [
    "# Retrieve more documents with higher diversity\n",
    "# Useful if your dataset has many similar documents\n",
    "\n",
    "for i in [3,5,7,10]:\n",
    "    for j in range(1,8,1):\n",
    "        # setting2\n",
    "        retriever = VectorDB.as_retriever(\n",
    "                search_kwargs = {'k': i, 'lambda_mult': j/10},\n",
    "                search_type   = \"mmr\"\n",
    "            )\n",
    "\n",
    "        results = start_experiment_and_save(qa_data, our_llm, retriever, qa_prompt2)\n",
    "        results.to_excel('./experiment_dataset/QA/setting3_retriever3_{:03d}_{:03d}.xlsx'.format(i,j), index=False)\n",
    "        print(i, j)"
   ]
  },
  {
   "cell_type": "markdown",
   "metadata": {},
   "source": [
    "### 4. our basic_retriever 실험"
   ]
  },
  {
   "cell_type": "code",
   "execution_count": 35,
   "metadata": {},
   "outputs": [
    {
     "name": "stdout",
     "output_type": "stream",
     "text": [
      "3 1\n",
      "3 2\n",
      "3 3\n",
      "3 4\n",
      "3 5\n",
      "3 6\n",
      "3 7\n",
      "5 1\n",
      "5 2\n",
      "5 3\n",
      "5 4\n",
      "5 5\n",
      "5 6\n",
      "5 7\n",
      "7 1\n",
      "7 2\n",
      "7 3\n",
      "7 4\n",
      "7 5\n",
      "7 6\n",
      "7 7\n",
      "10 1\n",
      "10 2\n",
      "10 3\n",
      "10 4\n",
      "10 5\n",
      "10 6\n",
      "10 7\n"
     ]
    }
   ],
   "source": [
    "# Only retrieve documents that have a relevance score\n",
    "# Above a certain threshold\n",
    "\n",
    "for i in [3,5,7,10]: \n",
    "    for j in range(1,8,1): \n",
    "        # setting3 \n",
    "        our_retriever = VectorDB.as_retriever(\n",
    "                search_kwargs = {\"score_threshold\": j/10, \"k\": i},\n",
    "                search_type   = \"similarity_score_threshold\"\n",
    "            )\n",
    "\n",
    "        results = start_experiment_and_save(qa_data, our_llm, our_retriever, qa_prompt2)\n",
    "        results.to_excel('./experiment_dataset/QA/setting4_our_retriever_{:03d}_{:03d}.xlsx'.format(i,j), index=False)\n",
    "        print(i, j)"
   ]
  },
  {
   "cell_type": "markdown",
   "metadata": {},
   "source": [
    "### 5. multi_query_retriever"
   ]
  },
  {
   "cell_type": "code",
   "execution_count": 36,
   "metadata": {},
   "outputs": [
    {
     "name": "stdout",
     "output_type": "stream",
     "text": [
      "1. 언제 Flipkart가 설립되었고, 본사는 어디에 위치하고 있나요?\n",
      "2. Flipkart 설립일은 언제이며, 본사는 어디에 위치하고 있습니까?\n",
      "3. Flipkart 설립 날짜와 본사 위치에 대해 알려주세요.1. 인도 재무부의 Notification No. 09/2020-Customs (N.T.)는 언제 공표되었습니까?\n",
      "2. 인도 재무부의 공고 번호 09/2020-Customs (N.T.)는 언제 발표되었나요?\n",
      "3. 인도 재무부의 공고 번호 09/2020-Customs (N.T.) 발표일은 언제인가요?1. 한국 자동차 브랜드가 카자흐스탄 시장에서 차지하는 점유율은 어느 정도인가요?\n",
      "2. 카자흐스탄 내에서 한국 자동차 브랜드의 시장 점유율은 어떻게 되나요?\n",
      "3. 한국 자동차 브랜드가 카자흐스탄에서 얼마나 시장을 점유하고 있나요?1. 한전KPS가 파키스탄에서 운영 대금을 회수하지 못한 원인은 무엇인가요?\n",
      "2. 파키스탄에서 한전KPS가 운영 대금을 회수하지 못한 이유는 무엇인가요?\n",
      "3. 한전KPS가 파키스탄에서 운영 대금을 회수하지 못한 이유에 대해 알고 계신가요?1. 인도의 수입규제 급증 배경은 무엇인가요?\n",
      "2. 최근 인도에서 수입규제가 왜 급증했나요?\n",
      "3. 인도의 수입규제가 급증한 이유는 무엇인가요?1. 리비아 당국이 주문하는 인프라 구축 사업에 대해 어떤 측면을 주의깊게 살펴봐야 할까요?\n",
      "2. 리비아 당국이 발주하는 인프라 구축 사업을 면밀히 검토할 때 고려해야 할 사항은 무엇인가요?\n",
      "3. 인프라 구축 사업에 대한 리비아 당국의 발주를 검토할 때 주목해야 할 중요한 측면은 무엇인가요?1. 어떤 위험이 원산지 검증 시 발생할 수 있는지 알려주세요.\n",
      "2. 원산지 검증 과정에서 발생할 수 있는 위험에는 무엇이 있을까요?\n",
      "3. 원산지를 확인하는 과정에서 발생할 수 있는 위험 사항에 대해 설명해주세요.What was the export amount of South Korea in 2018?\n",
      "How much did South Korea export in 2018?\n",
      "Can you tell me the total export value of South Korea in 2018?1. 한-인도 CEPA를 활용하여 제품을 수출하기 위해 필요한 문서는 무엇인가요?\n",
      "2. 한-인도 CEPA를 활용한 수출 프로세스에서 필요한 서류는 어떤 것이 있나요?\n",
      "3. 한-인도 CEPA를 적용하여 제품을 수출하기 위해 필요한 서류에는 무엇이 포함되어 있나요?1. 인도에서 수입업을 하는 업체들의 이름과 주소는 필수적으로 필요한 정보인가요?\n",
      "2. 수입업자들의 이름과 주소가 인도에서 중요한 요구사항인가요?\n",
      "3. 인도 내의 수입업자들에 대한 이름과 주소 정보는 필수적으로 필요한가요?1. 언제 Flipkart가 설립되었고, 본사는 어디에 위치하고 있나요?\n",
      "2. Flipkart 설립일은 언제이며, 본사는 어디에 위치하고 있습니까?\n",
      "3. Flipkart 설립 날짜와 본사 위치에 대해 알려주세요.1. 인도 재무부의 Notification No. 09/2020-Customs (N.T.)는 언제 공표되었습니까?\n",
      "2. 인도 재무부의 공고 번호 09/2020-Customs (N.T.)는 언제 발표되었나요?\n",
      "3. 인도 재무부의 공고 번호 09/2020-Customs (N.T.) 발표일은 언제인가요?1. 한국 자동차 브랜드가 카자흐스탄 시장에서 차지하는 점유율은 어떻게 되나요?\n",
      "2. 카자흐스탄에서 한국 자동차 브랜드의 시장 점유율은 얼마나 되는지 알려주세요.\n",
      "3. 카자흐스탄 내에서 한국 자동차 브랜드가 차지하는 시장 점유율은 얼마인가요?1. 한전KPS가 파키스탄에서 운영 대금을 회수하지 못한 이유에 대해 어떤 정보를 찾을 수 있나요?\n",
      "2. 파키스탄에서 한전KPS가 운영 대금을 회수하지 못한 이유에 대한 자세한 내용을 알려주세요.\n",
      "3. 한전KPS가 파키스탄에서 운영 대금 회수 실패의 배경에 대해 알고 싶습니다.1. 어떤 이유로 최근 인도에서 수입규제가 급증했나요?\n",
      "2. 인도의 수입규제 급증에는 어떤 배경 요인들이 작용하고 있나요?\n",
      "3. 인도의 수입규제 증가에 영향을 미치는 주요 요인은 무엇인가요?1. 리비아 당국이 주문한 인프라 구축 사업에 대해 어떤 측면을 자세히 조사해야 합니까?\n",
      "2. 리비아 당국이 인프라 구축 사업을 위해 주문한 사항을 면밀히 검토해야 하는 이유는 무엇입니까?\n",
      "3. 리비아 당국이 발주한 인프라 구축 사업에 대해 어떤 부분을 주의깊게 살펴보아야 할까요?1. 어떤 위험이 원산지 검증 시 발생할 수 있는지 알려주세요.\n",
      "2. 원산지 검증 과정에서 발생할 수 있는 위험에 대해 설명해주세요.\n",
      "3. 원산지 검증 시 주의해야 할 위험 요소는 무엇인가요?What was the export amount of South Korea in 2018?\n",
      "How much did South Korea export in 2018?\n",
      "Can you tell me the total export value of South Korea in 2018?1. 한-인도 CEPA를 활용하여 제품을 수출하기 위해 필요한 서류는 무엇인가요?\n",
      "2. 한-인도 CEPA를 활용한 수출 프로세스에서 필요한 서류는 어떤 것이 있을까요?\n",
      "3. 한-인도 CEPA를 활용한 수출 절차에 필요한 서류에는 어떤 것들이 포함되어 있나요?1. 인도에서 수입업을 하는 업체들의 이름과 주소를 알아내는 것이 중요한가요?\n",
      "2. 수입업자의 정보를 찾기 위해 인도 내에서는 이름과 주소가 필수적인가요?\n",
      "3. 인도 내의 수입업자들의 이름과 주소를 알아내는 것이 필수적인 요구사항인가요?"
     ]
    }
   ],
   "source": [
    "# multi_query_retriever는 딱히 인자가 없다.\n",
    "\n",
    "results = start_experiment_and_save(qa_data, our_llm, mq_retriever, qa_prompt2)\n",
    "results.to_excel('./experiment_dataset/QA/setting5_mq_retriever.xlsx', index=False)\n"
   ]
  },
  {
   "cell_type": "markdown",
   "metadata": {},
   "source": [
    "### 6. self_query_retriever"
   ]
  },
  {
   "cell_type": "code",
   "execution_count": 37,
   "metadata": {},
   "outputs": [
    {
     "name": "stdout",
     "output_type": "stream",
     "text": [
      "```json\n",
      "{\n",
      "    \"query\": \"Flipkart establishment headquarters location\",\n",
      "    \"filter\": \"NO_FILTER\"\n",
      "}\n",
      "``````json\n",
      "{\n",
      "    \"query\": \"Notification No. 09/2020-Customs (N.T.)\",\n",
      "    \"filter\": \"NO_FILTER\"\n",
      "}\n",
      "``````json\n",
      "{\n",
      "    \"query\": \"한국 차량 브랜드의 시장 점유율\",\n",
      "    \"filter\": \"NO_FILTER\"\n",
      "}\n",
      "``````json\n",
      "{\n",
      "    \"query\": \"한전KPS 파키스탄 운영 대금 회수 이유\",\n",
      "    \"filter\": \"NO_FILTER\"\n",
      "}\n",
      "``````json\n",
      "{\n",
      "    \"query\": \"인도의 수입규제\",\n",
      "    \"filter\": \"NO_FILTER\"\n",
      "}\n",
      "``````json\n",
      "{\n",
      "    \"query\": \"인프라 구축 사업\",\n",
      "    \"filter\": \"NO_FILTER\"\n",
      "}\n",
      "``````json\n",
      "{\n",
      "    \"query\": \"위험\",\n",
      "    \"filter\": \"NO_FILTER\"\n",
      "}\n",
      "``````json\n",
      "{\n",
      "    \"query\": \"2018년 한국의 수출액\",\n",
      "    \"filter\": \"NO_FILTER\"\n",
      "}\n",
      "``````json\n",
      "{\n",
      "    \"query\": \"한-인도 CEPA를 적용하여 수출하기 위해 필요한 서류\",\n",
      "    \"filter\": \"NO_FILTER\"\n",
      "}\n",
      "``````json\n",
      "{\n",
      "    \"query\": \"인도 내 수입업자의 이름 및 주소는 필수 요구사항인가요?\",\n",
      "    \"filter\": \"NO_FILTER\"\n",
      "}\n",
      "``````json\n",
      "{\n",
      "    \"query\": \"Flipkart establishment headquarters location\",\n",
      "    \"filter\": \"NO_FILTER\"\n",
      "}\n",
      "``````json\n",
      "{\n",
      "    \"query\": \"Notification No. 09/2020-Customs (N.T.)\",\n",
      "    \"filter\": \"NO_FILTER\"\n",
      "}\n",
      "``````json\n",
      "{\n",
      "    \"query\": \"한국 차량 브랜드의 시장 점유율\",\n",
      "    \"filter\": \"NO_FILTER\"\n",
      "}\n",
      "``````json\n",
      "{\n",
      "    \"query\": \"한전KPS 파키스탄 운영 대금 회수 이유\",\n",
      "    \"filter\": \"NO_FILTER\"\n",
      "}\n",
      "``````json\n",
      "{\n",
      "    \"query\": \"인도의 수입규제\",\n",
      "    \"filter\": \"NO_FILTER\"\n",
      "}\n",
      "``````json\n",
      "{\n",
      "    \"query\": \"인프라 구축 사업\",\n",
      "    \"filter\": \"NO_FILTER\"\n",
      "}\n",
      "``````json\n",
      "{\n",
      "    \"query\": \"위험\",\n",
      "    \"filter\": \"NO_FILTER\"\n",
      "}\n",
      "``````json\n",
      "{\n",
      "    \"query\": \"2018년 한국의 수출액\",\n",
      "    \"filter\": \"NO_FILTER\"\n",
      "}\n",
      "``````json\n",
      "{\n",
      "    \"query\": \"한-인도 CEPA를 적용하여 수출하기 위해 필요한 서류\",\n",
      "    \"filter\": \"NO_FILTER\"\n",
      "}\n",
      "``````json\n",
      "{\n",
      "    \"query\": \"인도 내 수입업자의 이름 및 주소는 필수 요구사항인가요?\",\n",
      "    \"filter\": \"NO_FILTER\"\n",
      "}\n",
      "```"
     ]
    }
   ],
   "source": [
    "# self_query_retriever는 딱히 인자가 없다.\n",
    "\n",
    "results = start_experiment_and_save(qa_data, our_llm, sq_retriever, qa_prompt2)\n",
    "results.to_excel('./experiment_dataset/QA/setting6_sq_retriever.xlsx', index=False)\n"
   ]
  },
  {
   "cell_type": "markdown",
   "metadata": {},
   "source": [
    "### 7. parent_document_retriever\n",
    "\n",
    "를 사용할 수 없다."
   ]
  },
  {
   "cell_type": "code",
   "execution_count": 38,
   "metadata": {},
   "outputs": [],
   "source": [
    "# # self_query_retriever는 딱히 인자가 없다.\n",
    "\n",
    "# results = start_experiment_and_save(qa_data, our_llm, pd_retriever, qa_prompt2)\n",
    "# results.to_excel('./experiment_dataset/QA/setting7_pd_retriever.xlsx', index=False)\n"
   ]
  },
  {
   "cell_type": "code",
   "execution_count": 39,
   "metadata": {},
   "outputs": [
    {
     "data": {
      "text/html": [
       "<div>\n",
       "<style scoped>\n",
       "    .dataframe tbody tr th:only-of-type {\n",
       "        vertical-align: middle;\n",
       "    }\n",
       "\n",
       "    .dataframe tbody tr th {\n",
       "        vertical-align: top;\n",
       "    }\n",
       "\n",
       "    .dataframe thead th {\n",
       "        text-align: right;\n",
       "    }\n",
       "</style>\n",
       "<table border=\"1\" class=\"dataframe\">\n",
       "  <thead>\n",
       "    <tr style=\"text-align: right;\">\n",
       "      <th></th>\n",
       "      <th>question</th>\n",
       "      <th>ground_truth</th>\n",
       "      <th>answer</th>\n",
       "      <th>contexts</th>\n",
       "    </tr>\n",
       "  </thead>\n",
       "  <tbody>\n",
       "    <tr>\n",
       "      <th>5</th>\n",
       "      <td>리비아 당국이 발주하는 인프라 구축 사업에 대해 어떤 점을 면밀히 검토해야 하나요?</td>\n",
       "      <td>리비아 당국이 발주하는 각종 인프라 구축 내지 복구 사업에 있어 실질적 이행 능력,...</td>\n",
       "      <td>리비아 당국이 발주하는 인프라 구축 사업에 참여하려면 다음과 같은 여러 가지 중요한...</td>\n",
       "      <td>[인프라 조성 비용의 25 지원 최대 1천만 루피\\n구축 지원\\n1326 안드라프라...</td>\n",
       "    </tr>\n",
       "    <tr>\n",
       "      <th>6</th>\n",
       "      <td>원산지 검증 시 어떤 위험이 있을 수 있나요?</td>\n",
       "      <td>상대국 HS코드로만 원산지결정기준이 충족되는 경우, 원산지 검증 시 불충족 위험이 ...</td>\n",
       "      <td>원산지 검증 시 여러 가지 위험이 있을 수 있습니다. 다음은 주요 위험 요소들입니다...</td>\n",
       "      <td>[시로 발생하여 뉴스 이슈화된 바 있다\\n 따라서 성범죄 예방을 위해 여성의 경우 ...</td>\n",
       "    </tr>\n",
       "    <tr>\n",
       "      <th>7</th>\n",
       "      <td>2018년 한국의 수출액은 얼마였나요?</td>\n",
       "      <td>2018년 한국의 수출액은 6천억 달러였습니다.</td>\n",
       "      <td>제공된 자료에는 2018년 한국의 수출액에 대한 정보가 포함되어 있지 않습니다. 한...</td>\n",
       "      <td>[국제관광 출발 횟수100만 2038 2187 2394 263 2692\\n국제관광 ...</td>\n",
       "    </tr>\n",
       "    <tr>\n",
       "      <th>8</th>\n",
       "      <td>한-인도 CEPA를 적용하여 수출하기 위해 필요한 서류는 무엇인가요?</td>\n",
       "      <td>한-인도 CEPA를 적용하여 수출하기 위해서는 원산지기준을 충족한다는 것을 증명하는...</td>\n",
       "      <td>한-인도 CEPA(Comprehensive Economic Partnership A...</td>\n",
       "      <td>[제Ⅱ절\\n한-인도 CEPA 활용방안\\n02\\n한-인도 CEPA\\n수출유망품목 및\\...</td>\n",
       "    </tr>\n",
       "    <tr>\n",
       "      <th>9</th>\n",
       "      <td>인도 내 수입업자의 이름 및 주소는 필수 요구사항인가요?</td>\n",
       "      <td>국내 제조된 제품의 경우 인도 내 수입업자의 이름 및 주소는 생략 가능합니다.</td>\n",
       "      <td>제공된 자료에는 인도 내 수입업자의 이름 및 주소가 필수 요구사항인지에 대한 정보가...</td>\n",
       "      <td>[PostPaid후불결제의 경우 상기 서류 외에도 거주증명서와 같은 별도의 증빙서류...</td>\n",
       "    </tr>\n",
       "  </tbody>\n",
       "</table>\n",
       "</div>"
      ],
      "text/plain": [
       "                                         question  \\\n",
       "5  리비아 당국이 발주하는 인프라 구축 사업에 대해 어떤 점을 면밀히 검토해야 하나요?   \n",
       "6                       원산지 검증 시 어떤 위험이 있을 수 있나요?   \n",
       "7                           2018년 한국의 수출액은 얼마였나요?   \n",
       "8          한-인도 CEPA를 적용하여 수출하기 위해 필요한 서류는 무엇인가요?   \n",
       "9                 인도 내 수입업자의 이름 및 주소는 필수 요구사항인가요?   \n",
       "\n",
       "                                        ground_truth  \\\n",
       "5  리비아 당국이 발주하는 각종 인프라 구축 내지 복구 사업에 있어 실질적 이행 능력,...   \n",
       "6  상대국 HS코드로만 원산지결정기준이 충족되는 경우, 원산지 검증 시 불충족 위험이 ...   \n",
       "7                         2018년 한국의 수출액은 6천억 달러였습니다.   \n",
       "8  한-인도 CEPA를 적용하여 수출하기 위해서는 원산지기준을 충족한다는 것을 증명하는...   \n",
       "9        국내 제조된 제품의 경우 인도 내 수입업자의 이름 및 주소는 생략 가능합니다.   \n",
       "\n",
       "                                              answer  \\\n",
       "5  리비아 당국이 발주하는 인프라 구축 사업에 참여하려면 다음과 같은 여러 가지 중요한...   \n",
       "6  원산지 검증 시 여러 가지 위험이 있을 수 있습니다. 다음은 주요 위험 요소들입니다...   \n",
       "7  제공된 자료에는 2018년 한국의 수출액에 대한 정보가 포함되어 있지 않습니다. 한...   \n",
       "8  한-인도 CEPA(Comprehensive Economic Partnership A...   \n",
       "9  제공된 자료에는 인도 내 수입업자의 이름 및 주소가 필수 요구사항인지에 대한 정보가...   \n",
       "\n",
       "                                            contexts  \n",
       "5  [인프라 조성 비용의 25 지원 최대 1천만 루피\\n구축 지원\\n1326 안드라프라...  \n",
       "6  [시로 발생하여 뉴스 이슈화된 바 있다\\n 따라서 성범죄 예방을 위해 여성의 경우 ...  \n",
       "7  [국제관광 출발 횟수100만 2038 2187 2394 263 2692\\n국제관광 ...  \n",
       "8  [제Ⅱ절\\n한-인도 CEPA 활용방안\\n02\\n한-인도 CEPA\\n수출유망품목 및\\...  \n",
       "9  [PostPaid후불결제의 경우 상기 서류 외에도 거주증명서와 같은 별도의 증빙서류...  "
      ]
     },
     "execution_count": 39,
     "metadata": {},
     "output_type": "execute_result"
    }
   ],
   "source": [
    "results.tail()"
   ]
  },
  {
   "cell_type": "code",
   "execution_count": null,
   "metadata": {},
   "outputs": [],
   "source": []
  }
 ],
 "metadata": {
  "kernelspec": {
   "display_name": "AUTORAG",
   "language": "python",
   "name": "python3"
  },
  "language_info": {
   "codemirror_mode": {
    "name": "ipython",
    "version": 3
   },
   "file_extension": ".py",
   "mimetype": "text/x-python",
   "name": "python",
   "nbconvert_exporter": "python",
   "pygments_lexer": "ipython3",
   "version": "3.12.4"
  }
 },
 "nbformat": 4,
 "nbformat_minor": 2
}
