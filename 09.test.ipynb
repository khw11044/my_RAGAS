{
 "cells": [
  {
   "cell_type": "code",
   "execution_count": 1,
   "metadata": {},
   "outputs": [
    {
     "name": "stderr",
     "output_type": "stream",
     "text": [
      "USER_AGENT environment variable not set, consider setting it to identify your requests.\n"
     ]
    }
   ],
   "source": [
    "# import os \n",
    "# from langchain_teddynote.messages import stream_response\n",
    "from langchain_core.output_parsers import StrOutputParser\n",
    "from langchain_core.runnables import RunnablePassthrough\n",
    "import pandas as pd\n",
    "from langchain.chains.combine_documents import create_stuff_documents_chain\n",
    "from langchain.chains import create_retrieval_chain\n",
    "\n",
    "\n",
    "from utils.RAGPipeLine import Ragpipeline\n"
   ]
  },
  {
   "cell_type": "code",
   "execution_count": 2,
   "metadata": {},
   "outputs": [
    {
     "name": "stdout",
     "output_type": "stream",
     "text": [
      "[초기화] vector_store 초기화 완료\n",
      "[초기화] retriever 초기화 완료\n",
      "[초기화] RAG chain 초기화 완료\n"
     ]
    },
    {
     "name": "stderr",
     "output_type": "stream",
     "text": [
      "c:\\Users\\kim_h\\anaconda3\\envs\\AUTORAG\\Lib\\site-packages\\langchain_core\\_api\\deprecation.py:139: LangChainDeprecationWarning: The class `GoogleSearchAPIWrapper` was deprecated in LangChain 0.0.33 and will be removed in 0.3.0. An updated version of the class exists in the langchain-google-community package and should be used instead. To use it run `pip install -U langchain-google-community` and import as `from langchain_google_community import GoogleSearchAPIWrapper`.\n",
      "  warn_deprecated(\n"
     ]
    },
    {
     "name": "stdout",
     "output_type": "stream",
     "text": [
      "[초기화] RAG title chain 초기화 완료\n",
      "[초기화] RAG post chain 초기화 완료\n"
     ]
    }
   ],
   "source": [
    "pipeline = Ragpipeline()"
   ]
  },
  {
   "cell_type": "code",
   "execution_count": 3,
   "metadata": {},
   "outputs": [
    {
     "name": "stdout",
     "output_type": "stream",
     "text": [
      "[초기화] retriever 초기화 완료\n"
     ]
    }
   ],
   "source": [
    "retriever = pipeline.init_retriever()\n",
    "mq_retriever = pipeline.init_multi_query_retriever()\n",
    "sq_retriever = pipeline.init_self_query_retriever()\n",
    "pd_retriever  = pipeline.init_parent_document_retriever()\n",
    "web_retriever = pipeline.init_web_research_retriever()"
   ]
  },
  {
   "cell_type": "code",
   "execution_count": 4,
   "metadata": {},
   "outputs": [
    {
     "name": "stderr",
     "output_type": "stream",
     "text": [
      "c:\\Users\\kim_h\\anaconda3\\envs\\AUTORAG\\Lib\\site-packages\\langchain_core\\_api\\deprecation.py:139: LangChainDeprecationWarning: The method `BaseRetriever.get_relevant_documents` was deprecated in langchain-core 0.1.46 and will be removed in 0.3.0. Use invoke instead.\n",
      "  warn_deprecated(\n"
     ]
    },
    {
     "data": {
      "text/plain": [
       "[Document(page_content='제Ⅲ절\\n인도의 통관 절차\\n01\\n통관 조직 및 절차\\n', metadata={'category': '3. 정책 및 무역', 'datetimes': '2024-07-08 16:42:32', 'filename': 'data/PDF_with_contents/3. 정책 및 무역/[정책][관세청][2019.11.07]신남방국 통관·통상환경 및 FTA 활용방안.pdf', 'page_no': 9, 'subcategory': '1. 통관 조직 및 절차'}),\n",
       " Document(page_content='인도 전문 식품수입 벤더현황\\n다. 통관 및 검역 유의사항\\n(1) 인도 통관, 사전 준비가 관건\\n▪\\n인도의 통관은 수입 통관 및 검역을 위한 사전 준비 절차가 중요함\\n▪\\n통관에 필요한 서류를 제출하면 서류의 기재 오류나 서류 상호간 불일치를\\n수정하기가 매우 어려우며 이로 인해 통관 절차가 2~3주씩 지연되는 경우도\\n있어 철저한 서류 작성이 필수적임\\n▪\\n또한 인도로 수출하는 물품의 경우 포장명세서(P/L)와 상업송장(C/I)을\\n컨테이너별로 철저히 작성해야 함. 인도 세관은 한 컨테이너 안에서 박스별로\\n화물의 일치 여부를 조사하는 등 실물 검사가 철저하며 서류와 화물 불일치\\n시 통관이 불가능함\\n▪\\n특히 인도는 도로와 항만 등 인프라가 낙후되어 있고 운송수단도 노후하기\\n때문에 내륙운송 과정에서 사고가 자주 발생하므로 내륙운송보험에 가입해야\\n함\\n43\\n', metadata={'category': '3. 정책 및 무역', 'datetimes': '2024-07-08 16:41:51', 'filename': 'data/PDF_with_contents/3. 정책 및 무역/[정책][KATI 농식품수출정보][2019]인도 전문 식품수입.pdf', 'page_no': 21, 'subcategory': '다. 통관 및 검역 유의사항'}),\n",
       " Document(page_content='5 통관 및 운송\\n가 통관제도\\n통관 유형별 절차\\n1 정식통관\\n인도에서 일반적인 경우 통관에 소요되는 시간은 행정상 운송 수입의 경우 34 근무일 항공 운송은 약 12 근무일이 소요된다 일단 물\\n품이 입항하게 되면 보세구역장치에 적하되고 이후 전자데이터 교환EDI 신고 또는 수작업신고 통해 수입신고를 하게 된다 이후 인도\\n관세청의 수입요건 관세 평가 등을 검사하는 Appraiser Section과 관련 서류 및 관세율을 재점검하는 Audit Section 과정을 거치게 되', metadata={'chunk': 0, 'filename': 'data/PDF_without_contents\\\\3. 정책 및 무역\\\\[정책][제약산업정보포털][2019.04.08]인도 통관 및 운송.pdf', 'keyword': '키워드: 통관제도, 통관 유형별 절차, 인도, 통관 소요 시간, 행정상 운송, 항공 운송, 수입신고, 인도 관세청, Appraiser Section, Audit Section.'}),\n",
       " Document(page_content='제Ⅲ절\\n인도의 통관 절차\\n03\\n인도의\\n주요 인증 제도\\n', metadata={'category': '3. 정책 및 무역', 'datetimes': '2024-07-08 16:42:32', 'filename': 'data/PDF_with_contents/3. 정책 및 무역/[정책][관세청][2019.11.07]신남방국 통관·통상환경 및 FTA 활용방안.pdf', 'page_no': 11, 'subcategory': '3. 인도의 주요 인증 제도'}),\n",
       " Document(page_content='외의 농촌 지역의 경우 카드 결제가 되지 않는 경우가 많다\\n나 교통\\n교통상황\\n인도의 도로는 포장상태가 대체로 열악하나 최근 대규모 고속도로 공사를 통해 현대화 되고 있다 특히 출퇴근 시간에는 교통혼잡이 심한\\n편이다 순환도로나 우회로가 충분히 갖추어져 있지 않기 때문에 중요한 일정의 경우 예정시간보다 30분에서 1시간 가량 미리 출발하는\\n것이 좋다 인도는 한국과 운전면허와 관련된 조약이 체결되어 있기 때문에 국제면허증을 가지고 자가운전을 할 수가 있다 하지만 자동차', metadata={'chunk': 554, 'filename': 'data/PDF_without_contents\\\\2. 경제 및 시장 분석\\\\[전체 정보][KOTRA 해외경제정보 Dream][2023]인도.pdf', 'keyword': '키워드: 인도, 교통, 도로, 열악, 고속도로 공사, 현대화, 교통혼잡, 출퇴근 시간, 순환도로, 우회로, 국제면허증, 자가운전, 자동차.'})]"
      ]
     },
     "execution_count": 4,
     "metadata": {},
     "output_type": "execute_result"
    }
   ],
   "source": [
    "query = '인도 통관 및 운송'\n",
    "\n",
    "docs = retriever.get_relevant_documents(query)\n",
    "\n",
    "docs"
   ]
  },
  {
   "cell_type": "code",
   "execution_count": 5,
   "metadata": {},
   "outputs": [],
   "source": [
    "from utils.prompt import contextualize_q_prompt   \n",
    "from utils.prompt import qa_prompt2                  # 게시물 생성 프롬프트 \n",
    "from utils.prompt import title_generator_prompt     # 제목 생성 프롬프트 \n",
    "from utils.prompt import text_generator_prompt      # 게시물 생성 프롬프트 "
   ]
  },
  {
   "cell_type": "markdown",
   "metadata": {},
   "source": [
    "### 만든 실험 데이터셋 불러오기"
   ]
  },
  {
   "cell_type": "code",
   "execution_count": 6,
   "metadata": {},
   "outputs": [
    {
     "data": {
      "text/html": [
       "<div>\n",
       "<style scoped>\n",
       "    .dataframe tbody tr th:only-of-type {\n",
       "        vertical-align: middle;\n",
       "    }\n",
       "\n",
       "    .dataframe tbody tr th {\n",
       "        vertical-align: top;\n",
       "    }\n",
       "\n",
       "    .dataframe thead th {\n",
       "        text-align: right;\n",
       "    }\n",
       "</style>\n",
       "<table border=\"1\" class=\"dataframe\">\n",
       "  <thead>\n",
       "    <tr style=\"text-align: right;\">\n",
       "      <th></th>\n",
       "      <th>qid</th>\n",
       "      <th>retrieval_gt</th>\n",
       "      <th>query</th>\n",
       "      <th>generation_gt</th>\n",
       "    </tr>\n",
       "  </thead>\n",
       "  <tbody>\n",
       "    <tr>\n",
       "      <th>0</th>\n",
       "      <td>fe24c993-1ea8-468b-97a5-16e3b0ecceff</td>\n",
       "      <td>[[PDF_without_contents\\2. 경제 및 시장 분석\\[전체 정보][K...</td>\n",
       "      <td>인도에서 채식주의자의 인구 비율이 높은 이유는 무엇인가요?</td>\n",
       "      <td>[인도는 종교적 특성으로 인해 채식주의자의 인구 비율이 높습니다.]</td>\n",
       "    </tr>\n",
       "    <tr>\n",
       "      <th>1</th>\n",
       "      <td>a86d92b1-425d-4927-bbef-1b788b277ccc</td>\n",
       "      <td>[[PDF_without_contents\\1. 법률 및 규제\\[법률_규범_특허][코...</td>\n",
       "      <td>상표 등록이 완료된 후 기호 을을 사용할 수 있는 조건은 무엇인가요?</td>\n",
       "      <td>[상표 등록이 완료된 후에는 인증서에 명시된 상품 및 서비스에 대해서만 기호 을을 ...</td>\n",
       "    </tr>\n",
       "    <tr>\n",
       "      <th>2</th>\n",
       "      <td>686973f5-ebcf-4f3a-9c0b-e54e36e4fe82</td>\n",
       "      <td>[[PDF_without_contents\\1. 법률 및 규제\\[법률_규범_특허][인...</td>\n",
       "      <td>인증서의 정지 및 취소는 어떤 절차에 따라 이루어지나요?</td>\n",
       "      <td>[인증서의 정지 및 취소는 Schedule II에 명시된 해당 Scheme에 따라 ...</td>\n",
       "    </tr>\n",
       "    <tr>\n",
       "      <th>3</th>\n",
       "      <td>2d4c8fd9-597c-4c62-bae0-2655cea70d1a</td>\n",
       "      <td>[[PDF_without_contents\\1. 법률 및 규제\\[법률_규범_특허][인...</td>\n",
       "      <td>불만 사항의 해결 조치는 몇 일 이내에 완료되어야 하나요?</td>\n",
       "      <td>[불만 사항의 해결 조치는 제품 테스트 시간이 포함되지 않은 경우 90일 이내에 완...</td>\n",
       "    </tr>\n",
       "    <tr>\n",
       "      <th>4</th>\n",
       "      <td>9f8d5ec3-56a8-4d33-83e9-75995afea577</td>\n",
       "      <td>[[PDF_without_contents\\1. 법률 및 규제\\[법률_규범_특허][코...</td>\n",
       "      <td>고메카닉(GoMechanic)은 어떤 방식으로 자동차 서비스를 제공하나요?</td>\n",
       "      <td>[고메카닉(GoMechanic)은 집에서 픽업 및 드롭 서비스를 통해 자동차 서비스...</td>\n",
       "    </tr>\n",
       "  </tbody>\n",
       "</table>\n",
       "</div>"
      ],
      "text/plain": [
       "                                    qid  \\\n",
       "0  fe24c993-1ea8-468b-97a5-16e3b0ecceff   \n",
       "1  a86d92b1-425d-4927-bbef-1b788b277ccc   \n",
       "2  686973f5-ebcf-4f3a-9c0b-e54e36e4fe82   \n",
       "3  2d4c8fd9-597c-4c62-bae0-2655cea70d1a   \n",
       "4  9f8d5ec3-56a8-4d33-83e9-75995afea577   \n",
       "\n",
       "                                        retrieval_gt  \\\n",
       "0  [[PDF_without_contents\\2. 경제 및 시장 분석\\[전체 정보][K...   \n",
       "1  [[PDF_without_contents\\1. 법률 및 규제\\[법률_규범_특허][코...   \n",
       "2  [[PDF_without_contents\\1. 법률 및 규제\\[법률_규범_특허][인...   \n",
       "3  [[PDF_without_contents\\1. 법률 및 규제\\[법률_규범_특허][인...   \n",
       "4  [[PDF_without_contents\\1. 법률 및 규제\\[법률_규범_특허][코...   \n",
       "\n",
       "                                       query  \\\n",
       "0           인도에서 채식주의자의 인구 비율이 높은 이유는 무엇인가요?   \n",
       "1     상표 등록이 완료된 후 기호 을을 사용할 수 있는 조건은 무엇인가요?   \n",
       "2            인증서의 정지 및 취소는 어떤 절차에 따라 이루어지나요?   \n",
       "3           불만 사항의 해결 조치는 몇 일 이내에 완료되어야 하나요?   \n",
       "4  고메카닉(GoMechanic)은 어떤 방식으로 자동차 서비스를 제공하나요?   \n",
       "\n",
       "                                       generation_gt  \n",
       "0              [인도는 종교적 특성으로 인해 채식주의자의 인구 비율이 높습니다.]  \n",
       "1  [상표 등록이 완료된 후에는 인증서에 명시된 상품 및 서비스에 대해서만 기호 을을 ...  \n",
       "2  [인증서의 정지 및 취소는 Schedule II에 명시된 해당 Scheme에 따라 ...  \n",
       "3  [불만 사항의 해결 조치는 제품 테스트 시간이 포함되지 않은 경우 90일 이내에 완...  \n",
       "4  [고메카닉(GoMechanic)은 집에서 픽업 및 드롭 서비스를 통해 자동차 서비스...  "
      ]
     },
     "execution_count": 6,
     "metadata": {},
     "output_type": "execute_result"
    }
   ],
   "source": [
    "path = './my_data/my_qa.parquet'\n",
    "\n",
    "# make_qa.py 파일로 만듬 : 질문과 응답 쌍을 만듬 , 어떤 문서가 관련이 있는지 \n",
    "df = pd.read_parquet(path)\n",
    "\n",
    "df.head()"
   ]
  },
  {
   "cell_type": "code",
   "execution_count": 7,
   "metadata": {},
   "outputs": [],
   "source": [
    "df['retrieval_gt'] = df['retrieval_gt'].apply(lambda x: x[0][0])\n",
    "df['generation_gt'] = df['generation_gt'].apply(lambda x: x[0])"
   ]
  },
  {
   "cell_type": "code",
   "execution_count": 8,
   "metadata": {},
   "outputs": [
    {
     "data": {
      "text/html": [
       "<div>\n",
       "<style scoped>\n",
       "    .dataframe tbody tr th:only-of-type {\n",
       "        vertical-align: middle;\n",
       "    }\n",
       "\n",
       "    .dataframe tbody tr th {\n",
       "        vertical-align: top;\n",
       "    }\n",
       "\n",
       "    .dataframe thead th {\n",
       "        text-align: right;\n",
       "    }\n",
       "</style>\n",
       "<table border=\"1\" class=\"dataframe\">\n",
       "  <thead>\n",
       "    <tr style=\"text-align: right;\">\n",
       "      <th></th>\n",
       "      <th>qid</th>\n",
       "      <th>retrieval_gt</th>\n",
       "      <th>query</th>\n",
       "      <th>generation_gt</th>\n",
       "    </tr>\n",
       "  </thead>\n",
       "  <tbody>\n",
       "    <tr>\n",
       "      <th>0</th>\n",
       "      <td>fe24c993-1ea8-468b-97a5-16e3b0ecceff</td>\n",
       "      <td>PDF_without_contents\\2. 경제 및 시장 분석\\[전체 정보][KOT...</td>\n",
       "      <td>인도에서 채식주의자의 인구 비율이 높은 이유는 무엇인가요?</td>\n",
       "      <td>인도는 종교적 특성으로 인해 채식주의자의 인구 비율이 높습니다.</td>\n",
       "    </tr>\n",
       "    <tr>\n",
       "      <th>1</th>\n",
       "      <td>a86d92b1-425d-4927-bbef-1b788b277ccc</td>\n",
       "      <td>PDF_without_contents\\1. 법률 및 규제\\[법률_규범_특허][코트라...</td>\n",
       "      <td>상표 등록이 완료된 후 기호 을을 사용할 수 있는 조건은 무엇인가요?</td>\n",
       "      <td>상표 등록이 완료된 후에는 인증서에 명시된 상품 및 서비스에 대해서만 기호 을을 사...</td>\n",
       "    </tr>\n",
       "    <tr>\n",
       "      <th>2</th>\n",
       "      <td>686973f5-ebcf-4f3a-9c0b-e54e36e4fe82</td>\n",
       "      <td>PDF_without_contents\\1. 법률 및 규제\\[법률_규범_특허][인도표...</td>\n",
       "      <td>인증서의 정지 및 취소는 어떤 절차에 따라 이루어지나요?</td>\n",
       "      <td>인증서의 정지 및 취소는 Schedule II에 명시된 해당 Scheme에 따라 이...</td>\n",
       "    </tr>\n",
       "    <tr>\n",
       "      <th>3</th>\n",
       "      <td>2d4c8fd9-597c-4c62-bae0-2655cea70d1a</td>\n",
       "      <td>PDF_without_contents\\1. 법률 및 규제\\[법률_규범_특허][인도표...</td>\n",
       "      <td>불만 사항의 해결 조치는 몇 일 이내에 완료되어야 하나요?</td>\n",
       "      <td>불만 사항의 해결 조치는 제품 테스트 시간이 포함되지 않은 경우 90일 이내에 완료...</td>\n",
       "    </tr>\n",
       "    <tr>\n",
       "      <th>4</th>\n",
       "      <td>9f8d5ec3-56a8-4d33-83e9-75995afea577</td>\n",
       "      <td>PDF_without_contents\\1. 법률 및 규제\\[법률_규범_특허][코트라...</td>\n",
       "      <td>고메카닉(GoMechanic)은 어떤 방식으로 자동차 서비스를 제공하나요?</td>\n",
       "      <td>고메카닉(GoMechanic)은 집에서 픽업 및 드롭 서비스를 통해 자동차 서비스를...</td>\n",
       "    </tr>\n",
       "  </tbody>\n",
       "</table>\n",
       "</div>"
      ],
      "text/plain": [
       "                                    qid  \\\n",
       "0  fe24c993-1ea8-468b-97a5-16e3b0ecceff   \n",
       "1  a86d92b1-425d-4927-bbef-1b788b277ccc   \n",
       "2  686973f5-ebcf-4f3a-9c0b-e54e36e4fe82   \n",
       "3  2d4c8fd9-597c-4c62-bae0-2655cea70d1a   \n",
       "4  9f8d5ec3-56a8-4d33-83e9-75995afea577   \n",
       "\n",
       "                                        retrieval_gt  \\\n",
       "0  PDF_without_contents\\2. 경제 및 시장 분석\\[전체 정보][KOT...   \n",
       "1  PDF_without_contents\\1. 법률 및 규제\\[법률_규범_특허][코트라...   \n",
       "2  PDF_without_contents\\1. 법률 및 규제\\[법률_규범_특허][인도표...   \n",
       "3  PDF_without_contents\\1. 법률 및 규제\\[법률_규범_특허][인도표...   \n",
       "4  PDF_without_contents\\1. 법률 및 규제\\[법률_규범_특허][코트라...   \n",
       "\n",
       "                                       query  \\\n",
       "0           인도에서 채식주의자의 인구 비율이 높은 이유는 무엇인가요?   \n",
       "1     상표 등록이 완료된 후 기호 을을 사용할 수 있는 조건은 무엇인가요?   \n",
       "2            인증서의 정지 및 취소는 어떤 절차에 따라 이루어지나요?   \n",
       "3           불만 사항의 해결 조치는 몇 일 이내에 완료되어야 하나요?   \n",
       "4  고메카닉(GoMechanic)은 어떤 방식으로 자동차 서비스를 제공하나요?   \n",
       "\n",
       "                                       generation_gt  \n",
       "0                인도는 종교적 특성으로 인해 채식주의자의 인구 비율이 높습니다.  \n",
       "1  상표 등록이 완료된 후에는 인증서에 명시된 상품 및 서비스에 대해서만 기호 을을 사...  \n",
       "2  인증서의 정지 및 취소는 Schedule II에 명시된 해당 Scheme에 따라 이...  \n",
       "3  불만 사항의 해결 조치는 제품 테스트 시간이 포함되지 않은 경우 90일 이내에 완료...  \n",
       "4  고메카닉(GoMechanic)은 집에서 픽업 및 드롭 서비스를 통해 자동차 서비스를...  "
      ]
     },
     "execution_count": 8,
     "metadata": {},
     "output_type": "execute_result"
    }
   ],
   "source": [
    "df.head()"
   ]
  },
  {
   "cell_type": "code",
   "execution_count": 9,
   "metadata": {},
   "outputs": [
    {
     "data": {
      "text/html": [
       "<div>\n",
       "<style scoped>\n",
       "    .dataframe tbody tr th:only-of-type {\n",
       "        vertical-align: middle;\n",
       "    }\n",
       "\n",
       "    .dataframe tbody tr th {\n",
       "        vertical-align: top;\n",
       "    }\n",
       "\n",
       "    .dataframe thead th {\n",
       "        text-align: right;\n",
       "    }\n",
       "</style>\n",
       "<table border=\"1\" class=\"dataframe\">\n",
       "  <thead>\n",
       "    <tr style=\"text-align: right;\">\n",
       "      <th></th>\n",
       "      <th>question</th>\n",
       "      <th>ground_truth</th>\n",
       "    </tr>\n",
       "  </thead>\n",
       "  <tbody>\n",
       "    <tr>\n",
       "      <th>0</th>\n",
       "      <td>인도에서 채식주의자의 인구 비율이 높은 이유는 무엇인가요?</td>\n",
       "      <td>인도는 종교적 특성으로 인해 채식주의자의 인구 비율이 높습니다.</td>\n",
       "    </tr>\n",
       "    <tr>\n",
       "      <th>1</th>\n",
       "      <td>상표 등록이 완료된 후 기호 을을 사용할 수 있는 조건은 무엇인가요?</td>\n",
       "      <td>상표 등록이 완료된 후에는 인증서에 명시된 상품 및 서비스에 대해서만 기호 을을 사...</td>\n",
       "    </tr>\n",
       "    <tr>\n",
       "      <th>2</th>\n",
       "      <td>인증서의 정지 및 취소는 어떤 절차에 따라 이루어지나요?</td>\n",
       "      <td>인증서의 정지 및 취소는 Schedule II에 명시된 해당 Scheme에 따라 이...</td>\n",
       "    </tr>\n",
       "    <tr>\n",
       "      <th>3</th>\n",
       "      <td>불만 사항의 해결 조치는 몇 일 이내에 완료되어야 하나요?</td>\n",
       "      <td>불만 사항의 해결 조치는 제품 테스트 시간이 포함되지 않은 경우 90일 이내에 완료...</td>\n",
       "    </tr>\n",
       "    <tr>\n",
       "      <th>4</th>\n",
       "      <td>고메카닉(GoMechanic)은 어떤 방식으로 자동차 서비스를 제공하나요?</td>\n",
       "      <td>고메카닉(GoMechanic)은 집에서 픽업 및 드롭 서비스를 통해 자동차 서비스를...</td>\n",
       "    </tr>\n",
       "  </tbody>\n",
       "</table>\n",
       "</div>"
      ],
      "text/plain": [
       "                                    question  \\\n",
       "0           인도에서 채식주의자의 인구 비율이 높은 이유는 무엇인가요?   \n",
       "1     상표 등록이 완료된 후 기호 을을 사용할 수 있는 조건은 무엇인가요?   \n",
       "2            인증서의 정지 및 취소는 어떤 절차에 따라 이루어지나요?   \n",
       "3           불만 사항의 해결 조치는 몇 일 이내에 완료되어야 하나요?   \n",
       "4  고메카닉(GoMechanic)은 어떤 방식으로 자동차 서비스를 제공하나요?   \n",
       "\n",
       "                                        ground_truth  \n",
       "0                인도는 종교적 특성으로 인해 채식주의자의 인구 비율이 높습니다.  \n",
       "1  상표 등록이 완료된 후에는 인증서에 명시된 상품 및 서비스에 대해서만 기호 을을 사...  \n",
       "2  인증서의 정지 및 취소는 Schedule II에 명시된 해당 Scheme에 따라 이...  \n",
       "3  불만 사항의 해결 조치는 제품 테스트 시간이 포함되지 않은 경우 90일 이내에 완료...  \n",
       "4  고메카닉(GoMechanic)은 집에서 픽업 및 드롭 서비스를 통해 자동차 서비스를...  "
      ]
     },
     "execution_count": 9,
     "metadata": {},
     "output_type": "execute_result"
    }
   ],
   "source": [
    "qa_data = df[['query', 'generation_gt']]\n",
    "qa_data.columns = ['question', 'ground_truth']\n",
    "\n",
    "qa_data.head()"
   ]
  },
  {
   "cell_type": "markdown",
   "metadata": {},
   "source": [
    "## 실험을 위한 모델 설정  "
   ]
  },
  {
   "cell_type": "code",
   "execution_count": 10,
   "metadata": {},
   "outputs": [],
   "source": [
    "from langchain_community.chat_models import ChatOllama\n",
    "from langchain_community.embeddings.ollama import OllamaEmbeddings\n",
    "\n",
    "from langchain_openai import ChatOpenAI, OpenAIEmbeddings\n",
    "from langchain_core.prompts import ChatPromptTemplate\n",
    "\n",
    "from utils.config import config\n",
    "\n",
    "gemma2_llm =  ChatOllama(model=\"gemma2\")\n",
    "qwen2_llm = ChatOllama(model=\"qwen2\")\n",
    "our_llm = ChatOpenAI(\n",
    "            model       = config['llm_predictor']['model_name'],\n",
    "            temperature = config['llm_predictor']['temperature'],\n",
    "            # streaming=True,\n",
    "            # callbacks=[StreamCallback()]\n",
    "        )"
   ]
  },
  {
   "cell_type": "code",
   "execution_count": 11,
   "metadata": {},
   "outputs": [],
   "source": [
    "def set_chain(llm, retriever, prompt):\n",
    "    \n",
    "    question_answer_chain = create_stuff_documents_chain(llm, prompt)           # 문서 목록을 가져와서 모두 프롬프트로 포맷한 다음 해당 프롬프트를 LLM에 전달합니다.\n",
    "    \n",
    "    rag_chat_chain = create_retrieval_chain(retriever, question_answer_chain)  # 사용자 문의를 받아 리트리버로 전달하여 관련 문서를 가져옵니다. 그런 다음 해당 문서(및 원본 입력)는 LLM으로 전달되어 응답을 생성\n",
    "\n",
    "    \n",
    "    return rag_chat_chain"
   ]
  },
  {
   "cell_type": "code",
   "execution_count": 12,
   "metadata": {},
   "outputs": [],
   "source": [
    "rag_chain = set_chain(our_llm, retriever, qa_prompt2)"
   ]
  },
  {
   "cell_type": "code",
   "execution_count": 13,
   "metadata": {},
   "outputs": [
    {
     "name": "stderr",
     "output_type": "stream",
     "text": [
      "C:\\Users\\kim_h\\AppData\\Local\\Temp\\ipykernel_33272\\597312838.py:1: SettingWithCopyWarning: \n",
      "A value is trying to be set on a copy of a slice from a DataFrame.\n",
      "Try using .loc[row_indexer,col_indexer] = value instead\n",
      "\n",
      "See the caveats in the documentation: https://pandas.pydata.org/pandas-docs/stable/user_guide/indexing.html#returning-a-view-versus-a-copy\n",
      "  qa_data['answer'] = qa_data['question'].apply(lambda x: rag_chain.invoke({'input':x})['answer'])\n"
     ]
    },
    {
     "data": {
      "text/html": [
       "<div>\n",
       "<style scoped>\n",
       "    .dataframe tbody tr th:only-of-type {\n",
       "        vertical-align: middle;\n",
       "    }\n",
       "\n",
       "    .dataframe tbody tr th {\n",
       "        vertical-align: top;\n",
       "    }\n",
       "\n",
       "    .dataframe thead th {\n",
       "        text-align: right;\n",
       "    }\n",
       "</style>\n",
       "<table border=\"1\" class=\"dataframe\">\n",
       "  <thead>\n",
       "    <tr style=\"text-align: right;\">\n",
       "      <th></th>\n",
       "      <th>question</th>\n",
       "      <th>ground_truth</th>\n",
       "      <th>answer</th>\n",
       "      <th>contexts</th>\n",
       "    </tr>\n",
       "  </thead>\n",
       "  <tbody>\n",
       "    <tr>\n",
       "      <th>0</th>\n",
       "      <td>인도에서 채식주의자의 인구 비율이 높은 이유는 무엇인가요?</td>\n",
       "      <td>인도는 종교적 특성으로 인해 채식주의자의 인구 비율이 높습니다.</td>\n",
       "      <td>인도에서 채식주의자의 인구 비율이 높은 이유는 종교적 특성과 문화적 영향이 큰 역할...</td>\n",
       "      <td>[이 높게 나타나며 종교적 특성으로 인해 자연제품을 선호하는 경향이 있다\\n 채식주...</td>\n",
       "    </tr>\n",
       "    <tr>\n",
       "      <th>1</th>\n",
       "      <td>상표 등록이 완료된 후 기호 을을 사용할 수 있는 조건은 무엇인가요?</td>\n",
       "      <td>상표 등록이 완료된 후에는 인증서에 명시된 상품 및 서비스에 대해서만 기호 을을 사...</td>\n",
       "      <td>상표 등록이 완료된 후 기호 \"을\"을 사용할 수 있는 조건은 등록된 상표가 소유자의...</td>\n",
       "      <td>[원이 완료되면 기호 을 제품과 함께 사용할 수 있으며 상표 등록이 완료 후에 기호...</td>\n",
       "    </tr>\n",
       "    <tr>\n",
       "      <th>2</th>\n",
       "      <td>인증서의 정지 및 취소는 어떤 절차에 따라 이루어지나요?</td>\n",
       "      <td>인증서의 정지 및 취소는 Schedule II에 명시된 해당 Scheme에 따라 이...</td>\n",
       "      <td>인증서의 정지 및 취소는 일반적으로 다음과 같은 절차에 따라 이루어집니다:\\n\\n1...</td>\n",
       "      <td>[있다 wwwsafescryptcom wwwnicin wwwidrbtcaorgin ...</td>\n",
       "    </tr>\n",
       "    <tr>\n",
       "      <th>3</th>\n",
       "      <td>불만 사항의 해결 조치는 몇 일 이내에 완료되어야 하나요?</td>\n",
       "      <td>불만 사항의 해결 조치는 제품 테스트 시간이 포함되지 않은 경우 90일 이내에 완료...</td>\n",
       "      <td>불만 사항의 해결 조치는 제공된 자료에 명시된 바에 따르면, \"성격에 맞게 정보를 ...</td>\n",
       "      <td>[채무변제 능력에 대한 이사의 결의에는 다음의 서류가 첨부되어야 한다\\ncid0 직...</td>\n",
       "    </tr>\n",
       "    <tr>\n",
       "      <th>4</th>\n",
       "      <td>고메카닉(GoMechanic)은 어떤 방식으로 자동차 서비스를 제공하나요?</td>\n",
       "      <td>고메카닉(GoMechanic)은 집에서 픽업 및 드롭 서비스를 통해 자동차 서비스를...</td>\n",
       "      <td>고메카닉(GoMechanic)은 집에서 픽업 및 드롭 서비스를 통해 자동차 서비스를...</td>\n",
       "      <td>[정비 및 시운전 서비스도 출장 방식으로 제공될 수 있다\\n고메카닉GoMechani...</td>\n",
       "    </tr>\n",
       "  </tbody>\n",
       "</table>\n",
       "</div>"
      ],
      "text/plain": [
       "                                    question  \\\n",
       "0           인도에서 채식주의자의 인구 비율이 높은 이유는 무엇인가요?   \n",
       "1     상표 등록이 완료된 후 기호 을을 사용할 수 있는 조건은 무엇인가요?   \n",
       "2            인증서의 정지 및 취소는 어떤 절차에 따라 이루어지나요?   \n",
       "3           불만 사항의 해결 조치는 몇 일 이내에 완료되어야 하나요?   \n",
       "4  고메카닉(GoMechanic)은 어떤 방식으로 자동차 서비스를 제공하나요?   \n",
       "\n",
       "                                        ground_truth  \\\n",
       "0                인도는 종교적 특성으로 인해 채식주의자의 인구 비율이 높습니다.   \n",
       "1  상표 등록이 완료된 후에는 인증서에 명시된 상품 및 서비스에 대해서만 기호 을을 사...   \n",
       "2  인증서의 정지 및 취소는 Schedule II에 명시된 해당 Scheme에 따라 이...   \n",
       "3  불만 사항의 해결 조치는 제품 테스트 시간이 포함되지 않은 경우 90일 이내에 완료...   \n",
       "4  고메카닉(GoMechanic)은 집에서 픽업 및 드롭 서비스를 통해 자동차 서비스를...   \n",
       "\n",
       "                                              answer  \\\n",
       "0  인도에서 채식주의자의 인구 비율이 높은 이유는 종교적 특성과 문화적 영향이 큰 역할...   \n",
       "1  상표 등록이 완료된 후 기호 \"을\"을 사용할 수 있는 조건은 등록된 상표가 소유자의...   \n",
       "2  인증서의 정지 및 취소는 일반적으로 다음과 같은 절차에 따라 이루어집니다:\\n\\n1...   \n",
       "3  불만 사항의 해결 조치는 제공된 자료에 명시된 바에 따르면, \"성격에 맞게 정보를 ...   \n",
       "4  고메카닉(GoMechanic)은 집에서 픽업 및 드롭 서비스를 통해 자동차 서비스를...   \n",
       "\n",
       "                                            contexts  \n",
       "0  [이 높게 나타나며 종교적 특성으로 인해 자연제품을 선호하는 경향이 있다\\n 채식주...  \n",
       "1  [원이 완료되면 기호 을 제품과 함께 사용할 수 있으며 상표 등록이 완료 후에 기호...  \n",
       "2  [있다 wwwsafescryptcom wwwnicin wwwidrbtcaorgin ...  \n",
       "3  [채무변제 능력에 대한 이사의 결의에는 다음의 서류가 첨부되어야 한다\\ncid0 직...  \n",
       "4  [정비 및 시운전 서비스도 출장 방식으로 제공될 수 있다\\n고메카닉GoMechani...  "
      ]
     },
     "execution_count": 13,
     "metadata": {},
     "output_type": "execute_result"
    }
   ],
   "source": [
    "\n",
    "qa_data['answer'] = qa_data['question'].apply(lambda x: rag_chain.invoke({'input':x})['answer'])\n",
    "qa_data['contexts'] = qa_data['question'].apply(lambda x: [d.page_content for d in retriever.get_relevant_documents(x)])\n",
    "# 5분 걸림\n",
    "qa_data.head()"
   ]
  },
  {
   "cell_type": "code",
   "execution_count": 14,
   "metadata": {},
   "outputs": [
    {
     "data": {
      "text/plain": [
       "{'question': '인도에서 채식주의자의 인구 비율이 높은 이유는 무엇인가요?',\n",
       " 'ground_truth': '인도는 종교적 특성으로 인해 채식주의자의 인구 비율이 높습니다.',\n",
       " 'answer': '인도에서 채식주의자의 인구 비율이 높은 이유는 종교적 특성과 문화적 영향이 큰 역할을 합니다. 인도는 다양한 종교가 공존하는 나라이며, 특히 힌두교와 종교적인 이슬람교, 기타 종교들의 영향이 큽니다. \\n\\n힌두교와 종교적인 이슬람교, 기타 종교들 중 일부는 육식을 금기시하는 경우가 있습니다. 힌두교에서는 소를 신성한 동물로 여기는 경우가 많아 소의 고기를 섭취하지 않는 경우가 많습니다. 이러한 종교적 신념으로 인해 많은 인도인이 채식주의를 따르게 되며, 이는 인도에서 채식주의자의 인구 비율이 높은 이유 중 하나입니다.\\n\\n또한, 인도의 문화적인 영향도 채식주의를 뒷받침합니다. 인도의 전통적인 음식 문화는 채소와 과일을 중심으로 한 식습관을 가지고 있으며, 이는 채식주의를 선호하는 경향을 높입니다.\\n\\n따라서, 종교적 신념과 문화적 영향으로 인해 인도에서 채식주의자의 인구 비율이 높게 나타나는 것으로 이해할 수 있습니다.',\n",
       " 'contexts': ['이 높게 나타나며 종교적 특성으로 인해 자연제품을 선호하는 경향이 있다\\n 채식주의\\n 인도정부2014에 따르면 인도 내 채식주의자의 비중은 2885이며 나머지는 비 채식주의자로 조사되었다 채식주의자 비중의 지\\n역별 편차가 있어 탈렝가나 주의 경우 비 채식주의자의 비중이 987에 이르며 웨스트벵갈 9855 오디샤 9735 케랄라 97\\n등 주요 동부와 남부 지역에 위치한 지역의 비 채식주의자 비중이 높게 나타났다',\n",
       "  '소비 성향\\n1 자연친화 제품 소비 경향\\n인도는 14억의 인구와 28개 주와 8개 연방 직할지로 구성된 거대 국가이며 공식 언어만 23개에 이르는 등 계층별 지역별 구분이 뚜렷하\\n기 때문에 몇 가지 특징으로 인도 전체 소비자의 성향을 재단하기는 매우 어렵다 다만 타 국가와 비교해 봤을 때 채식주의자의 인구비율\\n이 높게 나타나며 종교적 특성으로 인해 자연제품을 선호하는 경향이 있다\\n 채식주의',\n",
       "  '적 진입 장벽이 존재한다\\n인도의 종교는 힌두교 798 이슬람교 142 기독교개신교천주교 23 시크교\\n17 불교 07 자이나교 04 기타 09 비율로 구성되어 있다 각 종교마다 금기시\\n되는 사항들이 있는데 인도에서 프랜차이즈 사업을 할 경우 유념해두어야 한다 힌두교 시\\n크교 불교 자이나교는 육류 중 닭고기만을 섭취하며 다른 고기류는 먹지 않는다 특히\\n소는 힌두교의 신 중 시바신이 타고 다니는 신성한 가축으로 여겼기 때문에 많은 사람들',\n",
       "  '갖출 수 있는 지역으로의 진출도 고려할 만하다\\n이 까닭에 노동집약적 저임금을 기반으로 하는 업종으로 인도로 진출한다는 것은 그다지 바람직\\n하지 않다 인적 요소가 기업활동에서 차지하는 비중이 큰 분야일 수록 교육과 훈련 그리고 고용\\n유지에 대한 전략이 충분히 검토되어야 한다 그럼에도 불구하고 전반적 인도 인건비 수준은 한국과\\n비교하여서는 상대적으로 많이 낮은 편이다 다만 인구가 1억 명에도 미치지 못하는 베트남 등과\\n비교하여서 14억 인도의 인건비가 낮지 않은 수준이라는 것은 시사하는 바가 크다',\n",
       "  '반드시 필요하다 인구 많은 인도에서 공장 자동화에 많은 투자가 있는 것은 제품의 고품질\\n생산촉구에도 관계되겠지만 다른 이유로는 인력에 대한 의존도를 낮추려는 목적도 엄연하다\\n인력 수급과 인건비는 지역별로 편차가 크다 인건비 조사는 일반적인 조사 통계를 인용하기보다\\n는 진출하고자 하는 특정 지역을 중심으로 깊이 있게 행하여야 한다 산업 T1지역과 T2지역에서\\n의 인건비 편차가 적지 않기 때문이다 굳이 대도시에서 활동해야 할 업종이 아니라면 경쟁력을\\n갖출 수 있는 지역으로의 진출도 고려할 만하다']}"
      ]
     },
     "execution_count": 14,
     "metadata": {},
     "output_type": "execute_result"
    }
   ],
   "source": [
    "from datasets import Dataset \n",
    "\n",
    "dataset = Dataset.from_pandas(qa_data)\n",
    "\n",
    "dataset[0]"
   ]
  },
  {
   "cell_type": "code",
   "execution_count": 15,
   "metadata": {},
   "outputs": [
    {
     "data": {
      "text/plain": [
       "['이 높게 나타나며 종교적 특성으로 인해 자연제품을 선호하는 경향이 있다\\n 채식주의\\n 인도정부2014에 따르면 인도 내 채식주의자의 비중은 2885이며 나머지는 비 채식주의자로 조사되었다 채식주의자 비중의 지\\n역별 편차가 있어 탈렝가나 주의 경우 비 채식주의자의 비중이 987에 이르며 웨스트벵갈 9855 오디샤 9735 케랄라 97\\n등 주요 동부와 남부 지역에 위치한 지역의 비 채식주의자 비중이 높게 나타났다',\n",
       " '소비 성향\\n1 자연친화 제품 소비 경향\\n인도는 14억의 인구와 28개 주와 8개 연방 직할지로 구성된 거대 국가이며 공식 언어만 23개에 이르는 등 계층별 지역별 구분이 뚜렷하\\n기 때문에 몇 가지 특징으로 인도 전체 소비자의 성향을 재단하기는 매우 어렵다 다만 타 국가와 비교해 봤을 때 채식주의자의 인구비율\\n이 높게 나타나며 종교적 특성으로 인해 자연제품을 선호하는 경향이 있다\\n 채식주의',\n",
       " '적 진입 장벽이 존재한다\\n인도의 종교는 힌두교 798 이슬람교 142 기독교개신교천주교 23 시크교\\n17 불교 07 자이나교 04 기타 09 비율로 구성되어 있다 각 종교마다 금기시\\n되는 사항들이 있는데 인도에서 프랜차이즈 사업을 할 경우 유념해두어야 한다 힌두교 시\\n크교 불교 자이나교는 육류 중 닭고기만을 섭취하며 다른 고기류는 먹지 않는다 특히\\n소는 힌두교의 신 중 시바신이 타고 다니는 신성한 가축으로 여겼기 때문에 많은 사람들',\n",
       " '갖출 수 있는 지역으로의 진출도 고려할 만하다\\n이 까닭에 노동집약적 저임금을 기반으로 하는 업종으로 인도로 진출한다는 것은 그다지 바람직\\n하지 않다 인적 요소가 기업활동에서 차지하는 비중이 큰 분야일 수록 교육과 훈련 그리고 고용\\n유지에 대한 전략이 충분히 검토되어야 한다 그럼에도 불구하고 전반적 인도 인건비 수준은 한국과\\n비교하여서는 상대적으로 많이 낮은 편이다 다만 인구가 1억 명에도 미치지 못하는 베트남 등과\\n비교하여서 14억 인도의 인건비가 낮지 않은 수준이라는 것은 시사하는 바가 크다',\n",
       " '반드시 필요하다 인구 많은 인도에서 공장 자동화에 많은 투자가 있는 것은 제품의 고품질\\n생산촉구에도 관계되겠지만 다른 이유로는 인력에 대한 의존도를 낮추려는 목적도 엄연하다\\n인력 수급과 인건비는 지역별로 편차가 크다 인건비 조사는 일반적인 조사 통계를 인용하기보다\\n는 진출하고자 하는 특정 지역을 중심으로 깊이 있게 행하여야 한다 산업 T1지역과 T2지역에서\\n의 인건비 편차가 적지 않기 때문이다 굳이 대도시에서 활동해야 할 업종이 아니라면 경쟁력을\\n갖출 수 있는 지역으로의 진출도 고려할 만하다']"
      ]
     },
     "execution_count": 15,
     "metadata": {},
     "output_type": "execute_result"
    }
   ],
   "source": [
    "dataset[0]['contexts']"
   ]
  },
  {
   "cell_type": "code",
   "execution_count": 16,
   "metadata": {},
   "outputs": [],
   "source": [
    "from ragas.metrics import (\n",
    "    faithfulness,\n",
    "    answer_relevancy,\n",
    "    context_recall,\n",
    "    context_precision,\n",
    ")"
   ]
  },
  {
   "cell_type": "code",
   "execution_count": 17,
   "metadata": {},
   "outputs": [
    {
     "name": "stderr",
     "output_type": "stream",
     "text": [
      "Exception in thread Thread-7:\n",
      "Traceback (most recent call last):\n",
      "  File \"c:\\Users\\kim_h\\anaconda3\\envs\\AUTORAG\\Lib\\threading.py\", line 1073, in _bootstrap_inner\n",
      "    self.run()\n",
      "  File \"c:\\Users\\kim_h\\anaconda3\\envs\\AUTORAG\\Lib\\site-packages\\ragas\\executor.py\", line 87, in run\n",
      "    results = self.loop.run_until_complete(self._aresults())\n",
      "              ^^^^^^^^^^^^^^^^^^^^^^^^^^^^^^^^^^^^^^^^^^^^^^\n",
      "  File \"c:\\Users\\kim_h\\anaconda3\\envs\\AUTORAG\\Lib\\asyncio\\base_events.py\", line 663, in run_until_complete\n",
      "    self._check_running()\n",
      "  File \"c:\\Users\\kim_h\\anaconda3\\envs\\AUTORAG\\Lib\\asyncio\\base_events.py\", line 622, in _check_running\n",
      "    raise RuntimeError('This event loop is already running')\n",
      "RuntimeError: This event loop is already running\n",
      "c:\\Users\\kim_h\\anaconda3\\envs\\AUTORAG\\Lib\\threading.py:1075: RuntimeWarning: coroutine 'Runner._aresults' was never awaited\n",
      "  self._invoke_excepthook(self)\n",
      "RuntimeWarning: Enable tracemalloc to get the object allocation traceback\n"
     ]
    },
    {
     "ename": "ExceptionInRunner",
     "evalue": "The runner thread which was running the jobs raised an exeception. Read the traceback above to debug it. You can also pass `raise_exceptions=False` incase you want to show only a warning message instead.",
     "output_type": "error",
     "traceback": [
      "\u001b[1;31m---------------------------------------------------------------------------\u001b[0m",
      "\u001b[1;31mExceptionInRunner\u001b[0m                         Traceback (most recent call last)",
      "Cell \u001b[1;32mIn[17], line 8\u001b[0m\n\u001b[0;32m      5\u001b[0m langchain_llm \u001b[38;5;241m=\u001b[39m  ChatOllama(model\u001b[38;5;241m=\u001b[39m\u001b[38;5;124m\"\u001b[39m\u001b[38;5;124mgemma2\u001b[39m\u001b[38;5;124m\"\u001b[39m)\n\u001b[0;32m      6\u001b[0m langchain_embeddings \u001b[38;5;241m=\u001b[39m OllamaEmbeddings(model\u001b[38;5;241m=\u001b[39m\u001b[38;5;124m\"\u001b[39m\u001b[38;5;124mgemma2\u001b[39m\u001b[38;5;124m\"\u001b[39m)\n\u001b[1;32m----> 8\u001b[0m result \u001b[38;5;241m=\u001b[39m \u001b[43mevaluate\u001b[49m\u001b[43m(\u001b[49m\n\u001b[0;32m      9\u001b[0m \u001b[43m    \u001b[49m\u001b[43mdataset\u001b[49m\u001b[43m,\u001b[49m\n\u001b[0;32m     10\u001b[0m \u001b[43m    \u001b[49m\u001b[43mmetrics\u001b[49m\u001b[43m \u001b[49m\u001b[38;5;241;43m=\u001b[39;49m\u001b[43m \u001b[49m\u001b[43m[\u001b[49m\n\u001b[0;32m     11\u001b[0m \u001b[43m        \u001b[49m\u001b[43mfaithfulness\u001b[49m\u001b[43m,\u001b[49m\n\u001b[0;32m     12\u001b[0m \u001b[43m        \u001b[49m\u001b[43manswer_relevancy\u001b[49m\u001b[43m,\u001b[49m\n\u001b[0;32m     13\u001b[0m \u001b[43m        \u001b[49m\u001b[43mcontext_recall\u001b[49m\u001b[43m,\u001b[49m\n\u001b[0;32m     14\u001b[0m \u001b[43m        \u001b[49m\u001b[43mcontext_precision\u001b[49m\u001b[43m,\u001b[49m\n\u001b[0;32m     15\u001b[0m \u001b[43m    \u001b[49m\u001b[43m]\u001b[49m\u001b[43m,\u001b[49m\n\u001b[0;32m     16\u001b[0m \u001b[43m    \u001b[49m\u001b[43mllm\u001b[49m\u001b[38;5;241;43m=\u001b[39;49m\u001b[43mlangchain_llm\u001b[49m\u001b[43m,\u001b[49m\u001b[43m \u001b[49m\n\u001b[0;32m     17\u001b[0m \u001b[43m    \u001b[49m\u001b[43membeddings\u001b[49m\u001b[38;5;241;43m=\u001b[39;49m\u001b[43mlangchain_embeddings\u001b[49m\u001b[43m,\u001b[49m\n\u001b[0;32m     18\u001b[0m \u001b[43m    \u001b[49m\u001b[43mraise_exceptions\u001b[49m\u001b[38;5;241;43m=\u001b[39;49m\u001b[38;5;28;43;01mFalse\u001b[39;49;00m\u001b[43m,\u001b[49m\n\u001b[0;32m     19\u001b[0m \u001b[43m)\u001b[49m\n\u001b[0;32m     21\u001b[0m result\n",
      "File \u001b[1;32mc:\\Users\\kim_h\\anaconda3\\envs\\AUTORAG\\Lib\\site-packages\\ragas\\evaluation.py:255\u001b[0m, in \u001b[0;36mevaluate\u001b[1;34m(dataset, metrics, llm, embeddings, callbacks, in_ci, is_async, run_config, raise_exceptions, column_map)\u001b[0m\n\u001b[0;32m    252\u001b[0m     \u001b[38;5;28;01mif\u001b[39;00m \u001b[38;5;129;01mnot\u001b[39;00m evaluation_group_cm\u001b[38;5;241m.\u001b[39mended:\n\u001b[0;32m    253\u001b[0m         evaluation_rm\u001b[38;5;241m.\u001b[39mon_chain_error(e)\n\u001b[1;32m--> 255\u001b[0m     \u001b[38;5;28;01mraise\u001b[39;00m e\n\u001b[0;32m    256\u001b[0m \u001b[38;5;28;01melse\u001b[39;00m:\n\u001b[0;32m    257\u001b[0m     result \u001b[38;5;241m=\u001b[39m Result(\n\u001b[0;32m    258\u001b[0m         scores\u001b[38;5;241m=\u001b[39mDataset\u001b[38;5;241m.\u001b[39mfrom_list(scores),\n\u001b[0;32m    259\u001b[0m         dataset\u001b[38;5;241m=\u001b[39mdataset,\n\u001b[0;32m    260\u001b[0m         binary_columns\u001b[38;5;241m=\u001b[39mbinary_metrics,\n\u001b[0;32m    261\u001b[0m     )\n",
      "File \u001b[1;32mc:\\Users\\kim_h\\anaconda3\\envs\\AUTORAG\\Lib\\site-packages\\ragas\\evaluation.py:237\u001b[0m, in \u001b[0;36mevaluate\u001b[1;34m(dataset, metrics, llm, embeddings, callbacks, in_ci, is_async, run_config, raise_exceptions, column_map)\u001b[0m\n\u001b[0;32m    235\u001b[0m results \u001b[38;5;241m=\u001b[39m executor\u001b[38;5;241m.\u001b[39mresults()\n\u001b[0;32m    236\u001b[0m \u001b[38;5;28;01mif\u001b[39;00m results \u001b[38;5;241m==\u001b[39m []:\n\u001b[1;32m--> 237\u001b[0m     \u001b[38;5;28;01mraise\u001b[39;00m ExceptionInRunner()\n\u001b[0;32m    239\u001b[0m \u001b[38;5;66;03m# convert results to dataset_like\u001b[39;00m\n\u001b[0;32m    240\u001b[0m \u001b[38;5;28;01mfor\u001b[39;00m i, _ \u001b[38;5;129;01min\u001b[39;00m \u001b[38;5;28menumerate\u001b[39m(dataset):\n",
      "\u001b[1;31mExceptionInRunner\u001b[0m: The runner thread which was running the jobs raised an exeception. Read the traceback above to debug it. You can also pass `raise_exceptions=False` incase you want to show only a warning message instead."
     ]
    },
    {
     "name": "stderr",
     "output_type": "stream",
     "text": [
      "c:\\Users\\kim_h\\anaconda3\\envs\\AUTORAG\\Lib\\site-packages\\ipykernel\\iostream.py:123: RuntimeWarning: coroutine 'as_completed.<locals>.sema_coro' was never awaited\n",
      "  await self._event_pipe_gc()\n",
      "RuntimeWarning: Enable tracemalloc to get the object allocation traceback\n"
     ]
    }
   ],
   "source": [
    "from ragas import evaluate\n",
    "from langchain_community.chat_models import ChatOllama\n",
    "from langchain_community.embeddings.ollama import OllamaEmbeddings\n",
    "\n",
    "langchain_llm =  ChatOllama(model=\"gemma2\")\n",
    "langchain_embeddings = OllamaEmbeddings(model=\"gemma2\")\n",
    "\n",
    "result = evaluate(\n",
    "    dataset,\n",
    "    metrics = [\n",
    "        faithfulness,\n",
    "        answer_relevancy,\n",
    "        context_recall,\n",
    "        context_precision,\n",
    "    ],\n",
    "    llm=langchain_llm, \n",
    "    embeddings=langchain_embeddings,\n",
    "    raise_exceptions=False,\n",
    ")\n",
    "\n",
    "result"
   ]
  },
  {
   "cell_type": "code",
   "execution_count": null,
   "metadata": {},
   "outputs": [],
   "source": []
  }
 ],
 "metadata": {
  "kernelspec": {
   "display_name": "AUTORAG",
   "language": "python",
   "name": "python3"
  },
  "language_info": {
   "codemirror_mode": {
    "name": "ipython",
    "version": 3
   },
   "file_extension": ".py",
   "mimetype": "text/x-python",
   "name": "python",
   "nbconvert_exporter": "python",
   "pygments_lexer": "ipython3",
   "version": "3.12.4"
  }
 },
 "nbformat": 4,
 "nbformat_minor": 2
}
